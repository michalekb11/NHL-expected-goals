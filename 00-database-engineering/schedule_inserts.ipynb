{
 "cells": [
  {
   "cell_type": "markdown",
   "metadata": {},
   "source": [
    "### Insert game ID and schedule information into my SQL database\n",
    "Use the information located in the CSV files. For these inserts, we want the CSV files located in '../data/season_scores/'. When the insert has been completed and validated, it is okay to empty the CSV file. \n",
    "\n",
    "However, in the early stages of using MySQL, we should simply move the CSV files elsewhere (store on a hardrive, etc.) until we are sure that using MySQL is the correct path."
   ]
  },
  {
   "cell_type": "code",
   "execution_count": 1,
   "metadata": {},
   "outputs": [],
   "source": [
    "# Packages\n",
    "import pandas as pd\n",
    "import sqlalchemy"
   ]
  },
  {
   "cell_type": "code",
   "execution_count": 22,
   "metadata": {},
   "outputs": [],
   "source": [
    "# User input\n",
    "# Season\n",
    "season = '2023'\n",
    "\n",
    "# MySQL connection password\n",
    "pword = ''"
   ]
  },
  {
   "cell_type": "code",
   "execution_count": 23,
   "metadata": {},
   "outputs": [],
   "source": [
    "# Create the engine to connect to the MySQL database\n",
    "engine = sqlalchemy.create_engine('mysql+mysqlconnector://root:' + pword + '@localhost/nhl')"
   ]
  },
  {
   "cell_type": "code",
   "execution_count": 24,
   "metadata": {},
   "outputs": [
    {
     "data": {
      "text/html": [
       "<div>\n",
       "<style scoped>\n",
       "    .dataframe tbody tr th:only-of-type {\n",
       "        vertical-align: middle;\n",
       "    }\n",
       "\n",
       "    .dataframe tbody tr th {\n",
       "        vertical-align: top;\n",
       "    }\n",
       "\n",
       "    .dataframe thead th {\n",
       "        text-align: right;\n",
       "    }\n",
       "</style>\n",
       "<table border=\"1\" class=\"dataframe\">\n",
       "  <thead>\n",
       "    <tr style=\"text-align: right;\">\n",
       "      <th></th>\n",
       "      <th>team</th>\n",
       "      <th>game_id</th>\n",
       "      <th>date</th>\n",
       "      <th>season</th>\n",
       "      <th>location</th>\n",
       "      <th>G</th>\n",
       "      <th>OT_status</th>\n",
       "      <th>win_flag</th>\n",
       "    </tr>\n",
       "  </thead>\n",
       "  <tbody>\n",
       "    <tr>\n",
       "      <th>0</th>\n",
       "      <td>NSH</td>\n",
       "      <td>221007_NSHSJS</td>\n",
       "      <td>2022-10-07</td>\n",
       "      <td>2023</td>\n",
       "      <td>H</td>\n",
       "      <td>4</td>\n",
       "      <td>NaN</td>\n",
       "      <td>1</td>\n",
       "    </tr>\n",
       "    <tr>\n",
       "      <th>1</th>\n",
       "      <td>SJS</td>\n",
       "      <td>221008_SJSNSH</td>\n",
       "      <td>2022-10-08</td>\n",
       "      <td>2023</td>\n",
       "      <td>H</td>\n",
       "      <td>2</td>\n",
       "      <td>NaN</td>\n",
       "      <td>0</td>\n",
       "    </tr>\n",
       "    <tr>\n",
       "      <th>2</th>\n",
       "      <td>LAK</td>\n",
       "      <td>221011_LAKVGK</td>\n",
       "      <td>2022-10-11</td>\n",
       "      <td>2023</td>\n",
       "      <td>H</td>\n",
       "      <td>3</td>\n",
       "      <td>NaN</td>\n",
       "      <td>0</td>\n",
       "    </tr>\n",
       "    <tr>\n",
       "      <th>3</th>\n",
       "      <td>NYR</td>\n",
       "      <td>221011_NYRTBL</td>\n",
       "      <td>2022-10-11</td>\n",
       "      <td>2023</td>\n",
       "      <td>H</td>\n",
       "      <td>3</td>\n",
       "      <td>NaN</td>\n",
       "      <td>1</td>\n",
       "    </tr>\n",
       "    <tr>\n",
       "      <th>4</th>\n",
       "      <td>ANA</td>\n",
       "      <td>221012_ANASEA</td>\n",
       "      <td>2022-10-12</td>\n",
       "      <td>2023</td>\n",
       "      <td>H</td>\n",
       "      <td>5</td>\n",
       "      <td>OT</td>\n",
       "      <td>1</td>\n",
       "    </tr>\n",
       "  </tbody>\n",
       "</table>\n",
       "</div>"
      ],
      "text/plain": [
       "  team        game_id        date  season location  G OT_status  win_flag\n",
       "0  NSH  221007_NSHSJS  2022-10-07    2023        H  4       NaN         1\n",
       "1  SJS  221008_SJSNSH  2022-10-08    2023        H  2       NaN         0\n",
       "2  LAK  221011_LAKVGK  2022-10-11    2023        H  3       NaN         0\n",
       "3  NYR  221011_NYRTBL  2022-10-11    2023        H  3       NaN         1\n",
       "4  ANA  221012_ANASEA  2022-10-12    2023        H  5        OT         1"
      ]
     },
     "metadata": {},
     "output_type": "display_data"
    }
   ],
   "source": [
    "# Read in the CSV file with the cleaned and scraped schedule information\n",
    "sched = pd.read_csv('../data/season_scores/scores_' + season + '.csv')\n",
    "display(sched.head())"
   ]
  },
  {
   "cell_type": "code",
   "execution_count": 25,
   "metadata": {},
   "outputs": [],
   "source": [
    "# Separate the table into data frames for the game ID and schedule MySQL tables\n",
    "game_ids = sched[['team', 'date', 'game_id']]\n",
    "sched.drop(columns='game_id', inplace=True)"
   ]
  },
  {
   "cell_type": "code",
   "execution_count": 26,
   "metadata": {},
   "outputs": [
    {
     "data": {
      "text/html": [
       "<div>\n",
       "<style scoped>\n",
       "    .dataframe tbody tr th:only-of-type {\n",
       "        vertical-align: middle;\n",
       "    }\n",
       "\n",
       "    .dataframe tbody tr th {\n",
       "        vertical-align: top;\n",
       "    }\n",
       "\n",
       "    .dataframe thead th {\n",
       "        text-align: right;\n",
       "    }\n",
       "</style>\n",
       "<table border=\"1\" class=\"dataframe\">\n",
       "  <thead>\n",
       "    <tr style=\"text-align: right;\">\n",
       "      <th></th>\n",
       "      <th>team</th>\n",
       "      <th>date</th>\n",
       "      <th>game_id</th>\n",
       "    </tr>\n",
       "  </thead>\n",
       "  <tbody>\n",
       "    <tr>\n",
       "      <th>0</th>\n",
       "      <td>NSH</td>\n",
       "      <td>2022-10-07</td>\n",
       "      <td>221007_NSHSJS</td>\n",
       "    </tr>\n",
       "    <tr>\n",
       "      <th>1</th>\n",
       "      <td>SJS</td>\n",
       "      <td>2022-10-08</td>\n",
       "      <td>221008_SJSNSH</td>\n",
       "    </tr>\n",
       "    <tr>\n",
       "      <th>2</th>\n",
       "      <td>LAK</td>\n",
       "      <td>2022-10-11</td>\n",
       "      <td>221011_LAKVGK</td>\n",
       "    </tr>\n",
       "    <tr>\n",
       "      <th>3</th>\n",
       "      <td>NYR</td>\n",
       "      <td>2022-10-11</td>\n",
       "      <td>221011_NYRTBL</td>\n",
       "    </tr>\n",
       "    <tr>\n",
       "      <th>4</th>\n",
       "      <td>ANA</td>\n",
       "      <td>2022-10-12</td>\n",
       "      <td>221012_ANASEA</td>\n",
       "    </tr>\n",
       "  </tbody>\n",
       "</table>\n",
       "</div>"
      ],
      "text/plain": [
       "  team        date        game_id\n",
       "0  NSH  2022-10-07  221007_NSHSJS\n",
       "1  SJS  2022-10-08  221008_SJSNSH\n",
       "2  LAK  2022-10-11  221011_LAKVGK\n",
       "3  NYR  2022-10-11  221011_NYRTBL\n",
       "4  ANA  2022-10-12  221012_ANASEA"
      ]
     },
     "metadata": {},
     "output_type": "display_data"
    },
    {
     "data": {
      "text/html": [
       "<div>\n",
       "<style scoped>\n",
       "    .dataframe tbody tr th:only-of-type {\n",
       "        vertical-align: middle;\n",
       "    }\n",
       "\n",
       "    .dataframe tbody tr th {\n",
       "        vertical-align: top;\n",
       "    }\n",
       "\n",
       "    .dataframe thead th {\n",
       "        text-align: right;\n",
       "    }\n",
       "</style>\n",
       "<table border=\"1\" class=\"dataframe\">\n",
       "  <thead>\n",
       "    <tr style=\"text-align: right;\">\n",
       "      <th></th>\n",
       "      <th>team</th>\n",
       "      <th>date</th>\n",
       "      <th>season</th>\n",
       "      <th>location</th>\n",
       "      <th>G</th>\n",
       "      <th>OT_status</th>\n",
       "      <th>win_flag</th>\n",
       "    </tr>\n",
       "  </thead>\n",
       "  <tbody>\n",
       "    <tr>\n",
       "      <th>0</th>\n",
       "      <td>NSH</td>\n",
       "      <td>2022-10-07</td>\n",
       "      <td>2023</td>\n",
       "      <td>H</td>\n",
       "      <td>4</td>\n",
       "      <td>NaN</td>\n",
       "      <td>1</td>\n",
       "    </tr>\n",
       "    <tr>\n",
       "      <th>1</th>\n",
       "      <td>SJS</td>\n",
       "      <td>2022-10-08</td>\n",
       "      <td>2023</td>\n",
       "      <td>H</td>\n",
       "      <td>2</td>\n",
       "      <td>NaN</td>\n",
       "      <td>0</td>\n",
       "    </tr>\n",
       "    <tr>\n",
       "      <th>2</th>\n",
       "      <td>LAK</td>\n",
       "      <td>2022-10-11</td>\n",
       "      <td>2023</td>\n",
       "      <td>H</td>\n",
       "      <td>3</td>\n",
       "      <td>NaN</td>\n",
       "      <td>0</td>\n",
       "    </tr>\n",
       "    <tr>\n",
       "      <th>3</th>\n",
       "      <td>NYR</td>\n",
       "      <td>2022-10-11</td>\n",
       "      <td>2023</td>\n",
       "      <td>H</td>\n",
       "      <td>3</td>\n",
       "      <td>NaN</td>\n",
       "      <td>1</td>\n",
       "    </tr>\n",
       "    <tr>\n",
       "      <th>4</th>\n",
       "      <td>ANA</td>\n",
       "      <td>2022-10-12</td>\n",
       "      <td>2023</td>\n",
       "      <td>H</td>\n",
       "      <td>5</td>\n",
       "      <td>OT</td>\n",
       "      <td>1</td>\n",
       "    </tr>\n",
       "  </tbody>\n",
       "</table>\n",
       "</div>"
      ],
      "text/plain": [
       "  team        date  season location  G OT_status  win_flag\n",
       "0  NSH  2022-10-07    2023        H  4       NaN         1\n",
       "1  SJS  2022-10-08    2023        H  2       NaN         0\n",
       "2  LAK  2022-10-11    2023        H  3       NaN         0\n",
       "3  NYR  2022-10-11    2023        H  3       NaN         1\n",
       "4  ANA  2022-10-12    2023        H  5        OT         1"
      ]
     },
     "metadata": {},
     "output_type": "display_data"
    }
   ],
   "source": [
    "# View the tables before inserting\n",
    "display(game_ids.head())\n",
    "display(sched.head())"
   ]
  },
  {
   "cell_type": "code",
   "execution_count": 27,
   "metadata": {},
   "outputs": [
    {
     "data": {
      "text/plain": [
       "2624"
      ]
     },
     "execution_count": 27,
     "metadata": {},
     "output_type": "execute_result"
    }
   ],
   "source": [
    "# Insert into game ID table\n",
    "game_ids.to_sql(name = 'game_ids', con=engine, schema='nhl', if_exists='append', index=False)"
   ]
  },
  {
   "cell_type": "code",
   "execution_count": 28,
   "metadata": {},
   "outputs": [],
   "source": [
    "# Insert into schedule table\n",
    "# This requires a slightly different method since I have a trigger set up to auto insert into scheudle table when a new record is recorded in the game ID table.\n",
    "sched.to_sql(name='temp', con=engine, schema='nhl', if_exists='replace', index=False)\n",
    "\n",
    "update_query = sqlalchemy.text(\"\"\"\n",
    "    UPDATE schedule\n",
    "    INNER JOIN temp\n",
    "        ON schedule.team = temp.team\n",
    "        AND schedule.date = temp.date                      \n",
    "    SET schedule.location = temp.location,\n",
    "        schedule.G = temp.G,\n",
    "        schedule.OT_status = temp.OT_status,\n",
    "        schedule.win_flag = temp.win_flag;\n",
    "\"\"\")\n",
    "\n",
    "# Perform update\n",
    "with engine.begin() as conn: \n",
    "    conn.execute(update_query)"
   ]
  },
  {
   "cell_type": "markdown",
   "metadata": {},
   "source": [
    "#### Will currently need to go into MySQL to delete the temp table..."
   ]
  }
 ],
 "metadata": {
  "kernelspec": {
   "display_name": ".venv",
   "language": "python",
   "name": "python3"
  },
  "language_info": {
   "codemirror_mode": {
    "name": "ipython",
    "version": 3
   },
   "file_extension": ".py",
   "mimetype": "text/x-python",
   "name": "python",
   "nbconvert_exporter": "python",
   "pygments_lexer": "ipython3",
   "version": "3.9.6"
  },
  "orig_nbformat": 4
 },
 "nbformat": 4,
 "nbformat_minor": 2
}
