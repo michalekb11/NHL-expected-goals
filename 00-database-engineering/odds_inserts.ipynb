{
 "cells": [
  {
   "cell_type": "markdown",
   "metadata": {},
   "source": [
    "### Insert DK odds data into MySQL"
   ]
  },
  {
   "cell_type": "code",
   "execution_count": 24,
   "metadata": {},
   "outputs": [],
   "source": [
    "# Packages\n",
    "import pandas as pd\n",
    "import sqlalchemy"
   ]
  },
  {
   "cell_type": "code",
   "execution_count": 35,
   "metadata": {},
   "outputs": [],
   "source": [
    "# User input\n",
    "path_to_ml_odds = '../data/odds/dk_ml_odds.csv'\n",
    "path_to_pl_odds = '../data/odds/dk_pl_odds.csv'\n",
    "path_to_total_odds = '../data/odds/dk_total_odds.csv'\n",
    "pword = ''"
   ]
  },
  {
   "cell_type": "code",
   "execution_count": 3,
   "metadata": {},
   "outputs": [],
   "source": [
    "# Create the engine to connect to the MySQL database\n",
    "engine = sqlalchemy.create_engine('mysql+mysqlconnector://root:' + pword + '@localhost/nhl')"
   ]
  },
  {
   "cell_type": "code",
   "execution_count": 36,
   "metadata": {},
   "outputs": [],
   "source": [
    "# Read in the odds CSVs\n",
    "ml = pd.read_csv(path_to_ml_odds).rename(columns={'ml_odds':'odds'})\n",
    "pl = pd.read_csv(path_to_pl_odds).rename(columns={'pl_line':'line', 'pl_odds':'odds'})\n",
    "total = pd.read_csv(path_to_total_odds).rename(columns={'total_line':'line', 'total_odds':'odds'})"
   ]
  },
  {
   "cell_type": "code",
   "execution_count": 37,
   "metadata": {},
   "outputs": [
    {
     "data": {
      "text/html": [
       "<div>\n",
       "<style scoped>\n",
       "    .dataframe tbody tr th:only-of-type {\n",
       "        vertical-align: middle;\n",
       "    }\n",
       "\n",
       "    .dataframe tbody tr th {\n",
       "        vertical-align: top;\n",
       "    }\n",
       "\n",
       "    .dataframe thead th {\n",
       "        text-align: right;\n",
       "    }\n",
       "</style>\n",
       "<table border=\"1\" class=\"dataframe\">\n",
       "  <thead>\n",
       "    <tr style=\"text-align: right;\">\n",
       "      <th></th>\n",
       "      <th>date_recorded</th>\n",
       "      <th>time_recorded</th>\n",
       "      <th>game_id</th>\n",
       "      <th>date_game</th>\n",
       "      <th>time_game</th>\n",
       "      <th>home</th>\n",
       "      <th>away</th>\n",
       "      <th>bet_type</th>\n",
       "      <th>line</th>\n",
       "      <th>odds</th>\n",
       "    </tr>\n",
       "  </thead>\n",
       "  <tbody>\n",
       "    <tr>\n",
       "      <th>0</th>\n",
       "      <td>2023-02-13</td>\n",
       "      <td>14:00:00</td>\n",
       "      <td>1</td>\n",
       "      <td>2023-02-13</td>\n",
       "      <td>NaN</td>\n",
       "      <td>OTT</td>\n",
       "      <td>CGY</td>\n",
       "      <td>O</td>\n",
       "      <td>6.5</td>\n",
       "      <td>-115</td>\n",
       "    </tr>\n",
       "    <tr>\n",
       "      <th>1</th>\n",
       "      <td>2023-02-13</td>\n",
       "      <td>14:00:00</td>\n",
       "      <td>1</td>\n",
       "      <td>2023-02-13</td>\n",
       "      <td>NaN</td>\n",
       "      <td>OTT</td>\n",
       "      <td>CGY</td>\n",
       "      <td>U</td>\n",
       "      <td>6.5</td>\n",
       "      <td>-105</td>\n",
       "    </tr>\n",
       "    <tr>\n",
       "      <th>2</th>\n",
       "      <td>2023-02-13</td>\n",
       "      <td>14:00:00</td>\n",
       "      <td>2</td>\n",
       "      <td>2023-02-13</td>\n",
       "      <td>NaN</td>\n",
       "      <td>NSH</td>\n",
       "      <td>ARI</td>\n",
       "      <td>O</td>\n",
       "      <td>6.0</td>\n",
       "      <td>-105</td>\n",
       "    </tr>\n",
       "    <tr>\n",
       "      <th>3</th>\n",
       "      <td>2023-02-13</td>\n",
       "      <td>14:00:00</td>\n",
       "      <td>2</td>\n",
       "      <td>2023-02-13</td>\n",
       "      <td>NaN</td>\n",
       "      <td>NSH</td>\n",
       "      <td>ARI</td>\n",
       "      <td>U</td>\n",
       "      <td>6.0</td>\n",
       "      <td>-115</td>\n",
       "    </tr>\n",
       "    <tr>\n",
       "      <th>4</th>\n",
       "      <td>2023-02-13</td>\n",
       "      <td>14:00:00</td>\n",
       "      <td>3</td>\n",
       "      <td>2023-02-13</td>\n",
       "      <td>NaN</td>\n",
       "      <td>MIN</td>\n",
       "      <td>FLA</td>\n",
       "      <td>O</td>\n",
       "      <td>6.5</td>\n",
       "      <td>-120</td>\n",
       "    </tr>\n",
       "  </tbody>\n",
       "</table>\n",
       "</div>"
      ],
      "text/plain": [
       "  date_recorded time_recorded  game_id   date_game time_game home away   \n",
       "0    2023-02-13      14:00:00        1  2023-02-13       NaN  OTT  CGY  \\\n",
       "1    2023-02-13      14:00:00        1  2023-02-13       NaN  OTT  CGY   \n",
       "2    2023-02-13      14:00:00        2  2023-02-13       NaN  NSH  ARI   \n",
       "3    2023-02-13      14:00:00        2  2023-02-13       NaN  NSH  ARI   \n",
       "4    2023-02-13      14:00:00        3  2023-02-13       NaN  MIN  FLA   \n",
       "\n",
       "  bet_type  line  odds  \n",
       "0        O   6.5  -115  \n",
       "1        U   6.5  -105  \n",
       "2        O   6.0  -105  \n",
       "3        U   6.0  -115  \n",
       "4        O   6.5  -120  "
      ]
     },
     "metadata": {},
     "output_type": "display_data"
    }
   ],
   "source": [
    "display(total.head())"
   ]
  },
  {
   "cell_type": "code",
   "execution_count": 38,
   "metadata": {},
   "outputs": [],
   "source": [
    "# Put columns in correct order (and remove game id if that column is still in there)\n",
    "ml = ml[['team', 'date_recorded', 'time_recorded', 'date_game', 'time_game', 'odds']]\n",
    "pl = pl[['team', 'date_recorded', 'time_recorded', 'date_game', 'time_game',  'line','odds']]\n",
    "total = total[['home', 'away', 'date_recorded', 'time_recorded', 'date_game', 'time_game', 'bet_type', 'line', 'odds']]"
   ]
  },
  {
   "cell_type": "code",
   "execution_count": 39,
   "metadata": {},
   "outputs": [
    {
     "data": {
      "text/plain": [
       "932"
      ]
     },
     "execution_count": 39,
     "metadata": {},
     "output_type": "execute_result"
    }
   ],
   "source": [
    "# Insert into ML odds table\n",
    "ml.to_sql(name = 'ml_odds', con=engine, schema='nhl', if_exists='append', index=False)"
   ]
  },
  {
   "cell_type": "code",
   "execution_count": 40,
   "metadata": {},
   "outputs": [
    {
     "data": {
      "text/plain": [
       "932"
      ]
     },
     "execution_count": 40,
     "metadata": {},
     "output_type": "execute_result"
    }
   ],
   "source": [
    "# Insert into PL odds table\n",
    "pl.to_sql(name = 'pl_odds', con=engine, schema='nhl', if_exists='append', index=False)"
   ]
  },
  {
   "cell_type": "code",
   "execution_count": 41,
   "metadata": {},
   "outputs": [
    {
     "data": {
      "text/plain": [
       "932"
      ]
     },
     "execution_count": 41,
     "metadata": {},
     "output_type": "execute_result"
    }
   ],
   "source": [
    "# Insert into total odds table\n",
    "total.to_sql(name = 'total_odds', con=engine, schema='nhl', if_exists='append', index=False)"
   ]
  },
  {
   "cell_type": "code",
   "execution_count": 23,
   "metadata": {},
   "outputs": [
    {
     "data": {
      "text/html": [
       "<div>\n",
       "<style scoped>\n",
       "    .dataframe tbody tr th:only-of-type {\n",
       "        vertical-align: middle;\n",
       "    }\n",
       "\n",
       "    .dataframe tbody tr th {\n",
       "        vertical-align: top;\n",
       "    }\n",
       "\n",
       "    .dataframe thead th {\n",
       "        text-align: right;\n",
       "    }\n",
       "</style>\n",
       "<table border=\"1\" class=\"dataframe\">\n",
       "  <thead>\n",
       "    <tr style=\"text-align: right;\">\n",
       "      <th></th>\n",
       "      <th>team</th>\n",
       "      <th>date_recorded</th>\n",
       "      <th>time_recorded</th>\n",
       "      <th>date_game</th>\n",
       "      <th>time_game</th>\n",
       "      <th>odds</th>\n",
       "    </tr>\n",
       "  </thead>\n",
       "  <tbody>\n",
       "  </tbody>\n",
       "</table>\n",
       "</div>"
      ],
      "text/plain": [
       "Empty DataFrame\n",
       "Columns: [team, date_recorded, time_recorded, date_game, time_game, odds]\n",
       "Index: []"
      ]
     },
     "execution_count": 23,
     "metadata": {},
     "output_type": "execute_result"
    }
   ],
   "source": [
    "# Empty the CSV files\n",
    "ml = ml.iloc[0:0]\n",
    "pl = pl.iloc[0:0]\n",
    "total = total.iloc[0:0]\n",
    "\n",
    "#ml.to_csv(path_to_ml_odds, header=True, index=False)\n",
    "#pl.to_csv(path_to_pl_odds, header=True, index=False)\n",
    "#total.to_csv(path_to_total_odds, header=True, index=False)"
   ]
  },
  {
   "cell_type": "markdown",
   "metadata": {},
   "source": [
    "#### When this gets automated or put into production, the above should be at the very least a 'try'/'except' the same way a SQL transaction would execute."
   ]
  }
 ],
 "metadata": {
  "kernelspec": {
   "display_name": ".venv",
   "language": "python",
   "name": "python3"
  },
  "language_info": {
   "codemirror_mode": {
    "name": "ipython",
    "version": 3
   },
   "file_extension": ".py",
   "mimetype": "text/x-python",
   "name": "python",
   "nbconvert_exporter": "python",
   "pygments_lexer": "ipython3",
   "version": "3.9.6"
  },
  "orig_nbformat": 4
 },
 "nbformat": 4,
 "nbformat_minor": 2
}
