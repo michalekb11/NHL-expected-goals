{
 "cells": [
  {
   "attachments": {},
   "cell_type": "markdown",
   "metadata": {},
   "source": [
    "## Goal: Get to know the data on odds from both DK and archived odds from BetUS"
   ]
  },
  {
   "cell_type": "code",
   "execution_count": 43,
   "metadata": {},
   "outputs": [],
   "source": [
    "import pandas as pd\n",
    "import numpy as np\n",
    "import seaborn as sns\n",
    "import matplotlib.pyplot as plt"
   ]
  },
  {
   "cell_type": "code",
   "execution_count": 22,
   "metadata": {},
   "outputs": [],
   "source": [
    "# Gather odds\n",
    "dk_ml = pd.read_csv('../data/odds/dk_ml_odds.csv')\n",
    "dk_pl = pd.read_csv('../data/odds/dk_pl_odds.csv')\n",
    "dk_total = pd.read_csv('../data/odds/dk_total_odds.csv')\n",
    "betus_ml = pd.read_csv('../data/odds/archived_betus_ml_odds.csv', dtype={'ml_odds':'Int64'})\n",
    "\n",
    "ml_comb = pd.concat([betus_ml, dk_ml[['date_game', 'team', 'ml_odds']]], axis = 0)"
   ]
  },
  {
   "attachments": {},
   "cell_type": "markdown",
   "metadata": {},
   "source": [
    "### Q1: Get an idea of the distribution of odds for NHL games\n",
    "#### Q1.1 - Count of games +100 or longer vs count of games -101 or shorter"
   ]
  },
  {
   "cell_type": "code",
   "execution_count": 28,
   "metadata": {},
   "outputs": [
    {
     "data": {
      "text/plain": [
       "ml_odds\n",
       "-1    2949\n",
       "1     2341\n",
       "Name: count, dtype: Int64"
      ]
     },
     "metadata": {},
     "output_type": "display_data"
    },
    {
     "data": {
      "text/plain": [
       "ml_odds\n",
       "-1    0.557467\n",
       "1     0.442533\n",
       "Name: count, dtype: Float64"
      ]
     },
     "metadata": {},
     "output_type": "display_data"
    },
    {
     "data": {
      "text/plain": [
       "pl_odds\n",
       "-1    498\n",
       " 1    434\n",
       "Name: count, dtype: int64"
      ]
     },
     "metadata": {},
     "output_type": "display_data"
    },
    {
     "data": {
      "text/plain": [
       "pl_odds\n",
       "-1    0.534335\n",
       " 1    0.465665\n",
       "Name: count, dtype: float64"
      ]
     },
     "metadata": {},
     "output_type": "display_data"
    },
    {
     "data": {
      "text/plain": [
       "total_odds\n",
       "-1    678\n",
       " 1    254\n",
       "Name: count, dtype: int64"
      ]
     },
     "metadata": {},
     "output_type": "display_data"
    },
    {
     "data": {
      "text/plain": [
       "total_odds\n",
       "-1    0.727468\n",
       " 1    0.272532\n",
       "Name: count, dtype: float64"
      ]
     },
     "metadata": {},
     "output_type": "display_data"
    }
   ],
   "source": [
    "# Column for whether odds are positive (1) or negative (-1)\n",
    "# ML\n",
    "value_counts = ml_comb['ml_odds'].apply(np.sign).value_counts()\n",
    "display(value_counts)\n",
    "display(value_counts.div(value_counts.sum()))\n",
    "\n",
    "# PL\n",
    "value_counts = dk_pl['pl_odds'].apply(np.sign).value_counts()\n",
    "display(value_counts)\n",
    "display(value_counts.div(value_counts.sum()))\n",
    "\n",
    "# Total\n",
    "value_counts = dk_total['total_odds'].apply(np.sign).value_counts()\n",
    "display(value_counts)\n",
    "display(value_counts.div(value_counts.sum()))\n"
   ]
  },
  {
   "attachments": {},
   "cell_type": "markdown",
   "metadata": {},
   "source": [
    "ML and PL: Sportsbooks want to ensure that they make money. In any close game, both teams will have negative odds. Still roughly even though since the majority of games have a clear underdog.\n",
    "\n",
    "Total: This is much more skewed. The line is almost always set at a 50/50 chance that leaving the odds to be almost always negative."
   ]
  },
  {
   "attachments": {},
   "cell_type": "markdown",
   "metadata": {},
   "source": [
    "#### Q1.2 - What is the range of NHL ml/pl/total odds?"
   ]
  },
  {
   "cell_type": "code",
   "execution_count": 39,
   "metadata": {},
   "outputs": [
    {
     "data": {
      "text/html": [
       "<div>\n",
       "<style scoped>\n",
       "    .dataframe tbody tr th:only-of-type {\n",
       "        vertical-align: middle;\n",
       "    }\n",
       "\n",
       "    .dataframe tbody tr th {\n",
       "        vertical-align: top;\n",
       "    }\n",
       "\n",
       "    .dataframe thead th {\n",
       "        text-align: right;\n",
       "    }\n",
       "</style>\n",
       "<table border=\"1\" class=\"dataframe\">\n",
       "  <thead>\n",
       "    <tr style=\"text-align: right;\">\n",
       "      <th></th>\n",
       "      <th>date_game</th>\n",
       "      <th>team</th>\n",
       "      <th>ml_odds</th>\n",
       "    </tr>\n",
       "  </thead>\n",
       "  <tbody>\n",
       "    <tr>\n",
       "      <th>285</th>\n",
       "      <td>2021-02-02</td>\n",
       "      <td>WPG</td>\n",
       "      <td>760</td>\n",
       "    </tr>\n",
       "  </tbody>\n",
       "</table>\n",
       "</div>"
      ],
      "text/plain": [
       "      date_game team  ml_odds\n",
       "285  2021-02-02  WPG      760"
      ]
     },
     "metadata": {},
     "output_type": "display_data"
    },
    {
     "data": {
      "text/html": [
       "<div>\n",
       "<style scoped>\n",
       "    .dataframe tbody tr th:only-of-type {\n",
       "        vertical-align: middle;\n",
       "    }\n",
       "\n",
       "    .dataframe tbody tr th {\n",
       "        vertical-align: top;\n",
       "    }\n",
       "\n",
       "    .dataframe thead th {\n",
       "        text-align: right;\n",
       "    }\n",
       "</style>\n",
       "<table border=\"1\" class=\"dataframe\">\n",
       "  <thead>\n",
       "    <tr style=\"text-align: right;\">\n",
       "      <th></th>\n",
       "      <th>date_recorded</th>\n",
       "      <th>time_recorded</th>\n",
       "      <th>game_id</th>\n",
       "      <th>date_game</th>\n",
       "      <th>time_game</th>\n",
       "      <th>team</th>\n",
       "      <th>ml_odds</th>\n",
       "    </tr>\n",
       "  </thead>\n",
       "  <tbody>\n",
       "    <tr>\n",
       "      <th>28</th>\n",
       "      <td>2023-02-15</td>\n",
       "      <td>16:51:02</td>\n",
       "      <td>15</td>\n",
       "      <td>2023-02-15</td>\n",
       "      <td>NaN</td>\n",
       "      <td>CHI</td>\n",
       "      <td>450</td>\n",
       "    </tr>\n",
       "  </tbody>\n",
       "</table>\n",
       "</div>"
      ],
      "text/plain": [
       "   date_recorded time_recorded  game_id   date_game time_game team  ml_odds\n",
       "28    2023-02-15      16:51:02       15  2023-02-15       NaN  CHI      450"
      ]
     },
     "metadata": {},
     "output_type": "display_data"
    },
    {
     "data": {
      "text/html": [
       "<div>\n",
       "<style scoped>\n",
       "    .dataframe tbody tr th:only-of-type {\n",
       "        vertical-align: middle;\n",
       "    }\n",
       "\n",
       "    .dataframe tbody tr th {\n",
       "        vertical-align: top;\n",
       "    }\n",
       "\n",
       "    .dataframe thead th {\n",
       "        text-align: right;\n",
       "    }\n",
       "</style>\n",
       "<table border=\"1\" class=\"dataframe\">\n",
       "  <thead>\n",
       "    <tr style=\"text-align: right;\">\n",
       "      <th></th>\n",
       "      <th>date_recorded</th>\n",
       "      <th>time_recorded</th>\n",
       "      <th>game_id</th>\n",
       "      <th>date_game</th>\n",
       "      <th>time_game</th>\n",
       "      <th>team</th>\n",
       "      <th>pl_line</th>\n",
       "      <th>pl_odds</th>\n",
       "    </tr>\n",
       "  </thead>\n",
       "  <tbody>\n",
       "    <tr>\n",
       "      <th>748</th>\n",
       "      <td>2023-04-02</td>\n",
       "      <td>09:49:24</td>\n",
       "      <td>375</td>\n",
       "      <td>2023-04-02</td>\n",
       "      <td>18:00:00</td>\n",
       "      <td>NJD</td>\n",
       "      <td>-1.5</td>\n",
       "      <td>240</td>\n",
       "    </tr>\n",
       "  </tbody>\n",
       "</table>\n",
       "</div>"
      ],
      "text/plain": [
       "    date_recorded time_recorded  game_id   date_game time_game team  pl_line   \n",
       "748    2023-04-02      09:49:24      375  2023-04-02  18:00:00  NJD     -1.5  \\\n",
       "\n",
       "     pl_odds  \n",
       "748      240  "
      ]
     },
     "metadata": {},
     "output_type": "display_data"
    },
    {
     "data": {
      "text/html": [
       "<div>\n",
       "<style scoped>\n",
       "    .dataframe tbody tr th:only-of-type {\n",
       "        vertical-align: middle;\n",
       "    }\n",
       "\n",
       "    .dataframe tbody tr th {\n",
       "        vertical-align: top;\n",
       "    }\n",
       "\n",
       "    .dataframe thead th {\n",
       "        text-align: right;\n",
       "    }\n",
       "</style>\n",
       "<table border=\"1\" class=\"dataframe\">\n",
       "  <thead>\n",
       "    <tr style=\"text-align: right;\">\n",
       "      <th></th>\n",
       "      <th>date_recorded</th>\n",
       "      <th>time_recorded</th>\n",
       "      <th>game_id</th>\n",
       "      <th>date_game</th>\n",
       "      <th>time_game</th>\n",
       "      <th>home</th>\n",
       "      <th>away</th>\n",
       "      <th>bet_type</th>\n",
       "      <th>total_line</th>\n",
       "      <th>total_odds</th>\n",
       "    </tr>\n",
       "  </thead>\n",
       "  <tbody>\n",
       "    <tr>\n",
       "      <th>228</th>\n",
       "      <td>2023-02-28</td>\n",
       "      <td>09:03:23</td>\n",
       "      <td>115</td>\n",
       "      <td>2023-02-28</td>\n",
       "      <td>19:08:00</td>\n",
       "      <td>MIN</td>\n",
       "      <td>NYI</td>\n",
       "      <td>O</td>\n",
       "      <td>5.5</td>\n",
       "      <td>115</td>\n",
       "    </tr>\n",
       "    <tr>\n",
       "      <th>297</th>\n",
       "      <td>2023-03-04</td>\n",
       "      <td>10:54:31</td>\n",
       "      <td>149</td>\n",
       "      <td>2023-03-04</td>\n",
       "      <td>18:08:00</td>\n",
       "      <td>WPG</td>\n",
       "      <td>EDM</td>\n",
       "      <td>U</td>\n",
       "      <td>6.5</td>\n",
       "      <td>115</td>\n",
       "    </tr>\n",
       "    <tr>\n",
       "      <th>457</th>\n",
       "      <td>2023-03-15</td>\n",
       "      <td>10:18:55</td>\n",
       "      <td>229</td>\n",
       "      <td>2023-03-15</td>\n",
       "      <td>18:00:00</td>\n",
       "      <td>WSH</td>\n",
       "      <td>BUF</td>\n",
       "      <td>U</td>\n",
       "      <td>6.5</td>\n",
       "      <td>115</td>\n",
       "    </tr>\n",
       "    <tr>\n",
       "      <th>475</th>\n",
       "      <td>2023-03-16</td>\n",
       "      <td>10:42:19</td>\n",
       "      <td>238</td>\n",
       "      <td>2023-03-16</td>\n",
       "      <td>20:00:00</td>\n",
       "      <td>EDM</td>\n",
       "      <td>DAL</td>\n",
       "      <td>U</td>\n",
       "      <td>6.5</td>\n",
       "      <td>115</td>\n",
       "    </tr>\n",
       "    <tr>\n",
       "      <th>498</th>\n",
       "      <td>2023-03-18</td>\n",
       "      <td>11:30:00</td>\n",
       "      <td>250</td>\n",
       "      <td>2023-03-18</td>\n",
       "      <td>15:00:00</td>\n",
       "      <td>SEA</td>\n",
       "      <td>EDM</td>\n",
       "      <td>O</td>\n",
       "      <td>7.0</td>\n",
       "      <td>115</td>\n",
       "    </tr>\n",
       "    <tr>\n",
       "      <th>594</th>\n",
       "      <td>2023-03-23</td>\n",
       "      <td>10:57:26</td>\n",
       "      <td>298</td>\n",
       "      <td>2023-03-23</td>\n",
       "      <td>21:00:00</td>\n",
       "      <td>VAN</td>\n",
       "      <td>SJS</td>\n",
       "      <td>O</td>\n",
       "      <td>7.0</td>\n",
       "      <td>115</td>\n",
       "    </tr>\n",
       "    <tr>\n",
       "      <th>596</th>\n",
       "      <td>2023-03-24</td>\n",
       "      <td>10:07:38</td>\n",
       "      <td>299</td>\n",
       "      <td>2023-03-24</td>\n",
       "      <td>18:00:00</td>\n",
       "      <td>BUF</td>\n",
       "      <td>NJD</td>\n",
       "      <td>O</td>\n",
       "      <td>7.0</td>\n",
       "      <td>115</td>\n",
       "    </tr>\n",
       "    <tr>\n",
       "      <th>629</th>\n",
       "      <td>2023-03-25</td>\n",
       "      <td>10:50:51</td>\n",
       "      <td>315</td>\n",
       "      <td>2023-03-25</td>\n",
       "      <td>21:08:00</td>\n",
       "      <td>EDM</td>\n",
       "      <td>VGK</td>\n",
       "      <td>U</td>\n",
       "      <td>6.5</td>\n",
       "      <td>115</td>\n",
       "    </tr>\n",
       "    <tr>\n",
       "      <th>714</th>\n",
       "      <td>2023-04-01</td>\n",
       "      <td>10:27:36</td>\n",
       "      <td>358</td>\n",
       "      <td>2023-04-01</td>\n",
       "      <td>18:00:00</td>\n",
       "      <td>CBJ</td>\n",
       "      <td>FLA</td>\n",
       "      <td>O</td>\n",
       "      <td>7.0</td>\n",
       "      <td>115</td>\n",
       "    </tr>\n",
       "    <tr>\n",
       "      <th>762</th>\n",
       "      <td>2023-04-04</td>\n",
       "      <td>08:10:30</td>\n",
       "      <td>382</td>\n",
       "      <td>2023-04-04</td>\n",
       "      <td>18:08:00</td>\n",
       "      <td>TOR</td>\n",
       "      <td>CBJ</td>\n",
       "      <td>O</td>\n",
       "      <td>7.0</td>\n",
       "      <td>115</td>\n",
       "    </tr>\n",
       "  </tbody>\n",
       "</table>\n",
       "</div>"
      ],
      "text/plain": [
       "    date_recorded time_recorded  game_id   date_game time_game home away   \n",
       "228    2023-02-28      09:03:23      115  2023-02-28  19:08:00  MIN  NYI  \\\n",
       "297    2023-03-04      10:54:31      149  2023-03-04  18:08:00  WPG  EDM   \n",
       "457    2023-03-15      10:18:55      229  2023-03-15  18:00:00  WSH  BUF   \n",
       "475    2023-03-16      10:42:19      238  2023-03-16  20:00:00  EDM  DAL   \n",
       "498    2023-03-18      11:30:00      250  2023-03-18  15:00:00  SEA  EDM   \n",
       "594    2023-03-23      10:57:26      298  2023-03-23  21:00:00  VAN  SJS   \n",
       "596    2023-03-24      10:07:38      299  2023-03-24  18:00:00  BUF  NJD   \n",
       "629    2023-03-25      10:50:51      315  2023-03-25  21:08:00  EDM  VGK   \n",
       "714    2023-04-01      10:27:36      358  2023-04-01  18:00:00  CBJ  FLA   \n",
       "762    2023-04-04      08:10:30      382  2023-04-04  18:08:00  TOR  CBJ   \n",
       "\n",
       "    bet_type  total_line  total_odds  \n",
       "228        O         5.5         115  \n",
       "297        U         6.5         115  \n",
       "457        U         6.5         115  \n",
       "475        U         6.5         115  \n",
       "498        O         7.0         115  \n",
       "594        O         7.0         115  \n",
       "596        O         7.0         115  \n",
       "629        U         6.5         115  \n",
       "714        O         7.0         115  \n",
       "762        O         7.0         115  "
      ]
     },
     "metadata": {},
     "output_type": "display_data"
    }
   ],
   "source": [
    "# Maximum odds\n",
    "display(ml_comb[ml_comb['ml_odds'] == ml_comb['ml_odds'].max()])\n",
    "display(dk_ml[dk_ml['ml_odds'] == dk_ml['ml_odds'].max()])\n",
    "display(dk_pl[dk_pl['pl_odds'] == dk_pl['pl_odds'].max()])\n",
    "display(dk_total[dk_total['total_odds'] == dk_total['total_odds'].max()])"
   ]
  },
  {
   "cell_type": "code",
   "execution_count": 40,
   "metadata": {},
   "outputs": [
    {
     "data": {
      "text/html": [
       "<div>\n",
       "<style scoped>\n",
       "    .dataframe tbody tr th:only-of-type {\n",
       "        vertical-align: middle;\n",
       "    }\n",
       "\n",
       "    .dataframe tbody tr th {\n",
       "        vertical-align: top;\n",
       "    }\n",
       "\n",
       "    .dataframe thead th {\n",
       "        text-align: right;\n",
       "    }\n",
       "</style>\n",
       "<table border=\"1\" class=\"dataframe\">\n",
       "  <thead>\n",
       "    <tr style=\"text-align: right;\">\n",
       "      <th></th>\n",
       "      <th>date_game</th>\n",
       "      <th>team</th>\n",
       "      <th>ml_odds</th>\n",
       "    </tr>\n",
       "  </thead>\n",
       "  <tbody>\n",
       "    <tr>\n",
       "      <th>284</th>\n",
       "      <td>2021-02-02</td>\n",
       "      <td>CGY</td>\n",
       "      <td>-1210</td>\n",
       "    </tr>\n",
       "  </tbody>\n",
       "</table>\n",
       "</div>"
      ],
      "text/plain": [
       "      date_game team  ml_odds\n",
       "284  2021-02-02  CGY    -1210"
      ]
     },
     "metadata": {},
     "output_type": "display_data"
    },
    {
     "data": {
      "text/html": [
       "<div>\n",
       "<style scoped>\n",
       "    .dataframe tbody tr th:only-of-type {\n",
       "        vertical-align: middle;\n",
       "    }\n",
       "\n",
       "    .dataframe tbody tr th {\n",
       "        vertical-align: top;\n",
       "    }\n",
       "\n",
       "    .dataframe thead th {\n",
       "        text-align: right;\n",
       "    }\n",
       "</style>\n",
       "<table border=\"1\" class=\"dataframe\">\n",
       "  <thead>\n",
       "    <tr style=\"text-align: right;\">\n",
       "      <th></th>\n",
       "      <th>date_recorded</th>\n",
       "      <th>time_recorded</th>\n",
       "      <th>game_id</th>\n",
       "      <th>date_game</th>\n",
       "      <th>time_game</th>\n",
       "      <th>team</th>\n",
       "      <th>ml_odds</th>\n",
       "    </tr>\n",
       "  </thead>\n",
       "  <tbody>\n",
       "    <tr>\n",
       "      <th>29</th>\n",
       "      <td>2023-02-15</td>\n",
       "      <td>16:51:02</td>\n",
       "      <td>15</td>\n",
       "      <td>2023-02-15</td>\n",
       "      <td>NaN</td>\n",
       "      <td>TOR</td>\n",
       "      <td>-600</td>\n",
       "    </tr>\n",
       "  </tbody>\n",
       "</table>\n",
       "</div>"
      ],
      "text/plain": [
       "   date_recorded time_recorded  game_id   date_game time_game team  ml_odds\n",
       "29    2023-02-15      16:51:02       15  2023-02-15       NaN  TOR     -600"
      ]
     },
     "metadata": {},
     "output_type": "display_data"
    },
    {
     "data": {
      "text/html": [
       "<div>\n",
       "<style scoped>\n",
       "    .dataframe tbody tr th:only-of-type {\n",
       "        vertical-align: middle;\n",
       "    }\n",
       "\n",
       "    .dataframe tbody tr th {\n",
       "        vertical-align: top;\n",
       "    }\n",
       "\n",
       "    .dataframe thead th {\n",
       "        text-align: right;\n",
       "    }\n",
       "</style>\n",
       "<table border=\"1\" class=\"dataframe\">\n",
       "  <thead>\n",
       "    <tr style=\"text-align: right;\">\n",
       "      <th></th>\n",
       "      <th>date_recorded</th>\n",
       "      <th>time_recorded</th>\n",
       "      <th>game_id</th>\n",
       "      <th>date_game</th>\n",
       "      <th>time_game</th>\n",
       "      <th>team</th>\n",
       "      <th>pl_line</th>\n",
       "      <th>pl_odds</th>\n",
       "    </tr>\n",
       "  </thead>\n",
       "  <tbody>\n",
       "    <tr>\n",
       "      <th>60</th>\n",
       "      <td>2023-02-17</td>\n",
       "      <td>10:05:42</td>\n",
       "      <td>31</td>\n",
       "      <td>2023-02-17</td>\n",
       "      <td>19:08:00</td>\n",
       "      <td>DAL</td>\n",
       "      <td>1.5</td>\n",
       "      <td>-315</td>\n",
       "    </tr>\n",
       "  </tbody>\n",
       "</table>\n",
       "</div>"
      ],
      "text/plain": [
       "   date_recorded time_recorded  game_id   date_game time_game team  pl_line   \n",
       "60    2023-02-17      10:05:42       31  2023-02-17  19:08:00  DAL      1.5  \\\n",
       "\n",
       "    pl_odds  \n",
       "60     -315  "
      ]
     },
     "metadata": {},
     "output_type": "display_data"
    },
    {
     "data": {
      "text/html": [
       "<div>\n",
       "<style scoped>\n",
       "    .dataframe tbody tr th:only-of-type {\n",
       "        vertical-align: middle;\n",
       "    }\n",
       "\n",
       "    .dataframe tbody tr th {\n",
       "        vertical-align: top;\n",
       "    }\n",
       "\n",
       "    .dataframe thead th {\n",
       "        text-align: right;\n",
       "    }\n",
       "</style>\n",
       "<table border=\"1\" class=\"dataframe\">\n",
       "  <thead>\n",
       "    <tr style=\"text-align: right;\">\n",
       "      <th></th>\n",
       "      <th>date_recorded</th>\n",
       "      <th>time_recorded</th>\n",
       "      <th>game_id</th>\n",
       "      <th>date_game</th>\n",
       "      <th>time_game</th>\n",
       "      <th>home</th>\n",
       "      <th>away</th>\n",
       "      <th>bet_type</th>\n",
       "      <th>total_line</th>\n",
       "      <th>total_odds</th>\n",
       "    </tr>\n",
       "  </thead>\n",
       "  <tbody>\n",
       "    <tr>\n",
       "      <th>229</th>\n",
       "      <td>2023-02-28</td>\n",
       "      <td>09:03:23</td>\n",
       "      <td>115</td>\n",
       "      <td>2023-02-28</td>\n",
       "      <td>19:08:00</td>\n",
       "      <td>MIN</td>\n",
       "      <td>NYI</td>\n",
       "      <td>U</td>\n",
       "      <td>5.5</td>\n",
       "      <td>-145</td>\n",
       "    </tr>\n",
       "    <tr>\n",
       "      <th>296</th>\n",
       "      <td>2023-03-04</td>\n",
       "      <td>10:54:31</td>\n",
       "      <td>149</td>\n",
       "      <td>2023-03-04</td>\n",
       "      <td>18:08:00</td>\n",
       "      <td>WPG</td>\n",
       "      <td>EDM</td>\n",
       "      <td>O</td>\n",
       "      <td>6.5</td>\n",
       "      <td>-145</td>\n",
       "    </tr>\n",
       "  </tbody>\n",
       "</table>\n",
       "</div>"
      ],
      "text/plain": [
       "    date_recorded time_recorded  game_id   date_game time_game home away   \n",
       "229    2023-02-28      09:03:23      115  2023-02-28  19:08:00  MIN  NYI  \\\n",
       "296    2023-03-04      10:54:31      149  2023-03-04  18:08:00  WPG  EDM   \n",
       "\n",
       "    bet_type  total_line  total_odds  \n",
       "229        U         5.5        -145  \n",
       "296        O         6.5        -145  "
      ]
     },
     "metadata": {},
     "output_type": "display_data"
    }
   ],
   "source": [
    "# Minimum odds\n",
    "display(ml_comb[ml_comb['ml_odds'] == ml_comb['ml_odds'].min()])\n",
    "display(dk_ml[dk_ml['ml_odds'] == dk_ml['ml_odds'].min()])\n",
    "display(dk_pl[dk_pl['pl_odds'] == dk_pl['pl_odds'].min()])\n",
    "display(dk_total[dk_total['total_odds'] == dk_total['total_odds'].min()])"
   ]
  },
  {
   "attachments": {},
   "cell_type": "markdown",
   "metadata": {},
   "source": [
    "The extremes seem to check out logically except for the following special note..."
   ]
  },
  {
   "attachments": {},
   "cell_type": "markdown",
   "metadata": {},
   "source": [
    "#### Special Note"
   ]
  },
  {
   "cell_type": "code",
   "execution_count": 34,
   "metadata": {},
   "outputs": [
    {
     "data": {
      "text/html": [
       "<div>\n",
       "<style scoped>\n",
       "    .dataframe tbody tr th:only-of-type {\n",
       "        vertical-align: middle;\n",
       "    }\n",
       "\n",
       "    .dataframe tbody tr th {\n",
       "        vertical-align: top;\n",
       "    }\n",
       "\n",
       "    .dataframe thead th {\n",
       "        text-align: right;\n",
       "    }\n",
       "</style>\n",
       "<table border=\"1\" class=\"dataframe\">\n",
       "  <thead>\n",
       "    <tr style=\"text-align: right;\">\n",
       "      <th></th>\n",
       "      <th>date_game</th>\n",
       "      <th>team</th>\n",
       "      <th>ml_odds</th>\n",
       "    </tr>\n",
       "  </thead>\n",
       "  <tbody>\n",
       "    <tr>\n",
       "      <th>285</th>\n",
       "      <td>2021-02-02</td>\n",
       "      <td>WPG</td>\n",
       "      <td>760</td>\n",
       "    </tr>\n",
       "  </tbody>\n",
       "</table>\n",
       "</div>"
      ],
      "text/plain": [
       "      date_game team  ml_odds\n",
       "285  2021-02-02  WPG      760"
      ]
     },
     "execution_count": 34,
     "metadata": {},
     "output_type": "execute_result"
    }
   ],
   "source": [
    "ml_comb[ml_comb['ml_odds'] == ml_comb['ml_odds'].max()]"
   ]
  },
  {
   "cell_type": "code",
   "execution_count": 35,
   "metadata": {},
   "outputs": [
    {
     "data": {
      "text/html": [
       "<div>\n",
       "<style scoped>\n",
       "    .dataframe tbody tr th:only-of-type {\n",
       "        vertical-align: middle;\n",
       "    }\n",
       "\n",
       "    .dataframe tbody tr th {\n",
       "        vertical-align: top;\n",
       "    }\n",
       "\n",
       "    .dataframe thead th {\n",
       "        text-align: right;\n",
       "    }\n",
       "</style>\n",
       "<table border=\"1\" class=\"dataframe\">\n",
       "  <thead>\n",
       "    <tr style=\"text-align: right;\">\n",
       "      <th></th>\n",
       "      <th>date_game</th>\n",
       "      <th>team</th>\n",
       "      <th>ml_odds</th>\n",
       "    </tr>\n",
       "  </thead>\n",
       "  <tbody>\n",
       "    <tr>\n",
       "      <th>278</th>\n",
       "      <td>2021-02-02</td>\n",
       "      <td>DAL</td>\n",
       "      <td>-115</td>\n",
       "    </tr>\n",
       "    <tr>\n",
       "      <th>279</th>\n",
       "      <td>2021-02-02</td>\n",
       "      <td>CBJ</td>\n",
       "      <td>-105</td>\n",
       "    </tr>\n",
       "    <tr>\n",
       "      <th>280</th>\n",
       "      <td>2021-02-02</td>\n",
       "      <td>VAN</td>\n",
       "      <td>135</td>\n",
       "    </tr>\n",
       "    <tr>\n",
       "      <th>281</th>\n",
       "      <td>2021-02-02</td>\n",
       "      <td>MTL</td>\n",
       "      <td>-155</td>\n",
       "    </tr>\n",
       "    <tr>\n",
       "      <th>282</th>\n",
       "      <td>2021-02-02</td>\n",
       "      <td>ARI</td>\n",
       "      <td>144</td>\n",
       "    </tr>\n",
       "    <tr>\n",
       "      <th>283</th>\n",
       "      <td>2021-02-02</td>\n",
       "      <td>STL</td>\n",
       "      <td>-165</td>\n",
       "    </tr>\n",
       "    <tr>\n",
       "      <th>284</th>\n",
       "      <td>2021-02-02</td>\n",
       "      <td>CGY</td>\n",
       "      <td>-1210</td>\n",
       "    </tr>\n",
       "    <tr>\n",
       "      <th>285</th>\n",
       "      <td>2021-02-02</td>\n",
       "      <td>WPG</td>\n",
       "      <td>760</td>\n",
       "    </tr>\n",
       "    <tr>\n",
       "      <th>286</th>\n",
       "      <td>2021-02-02</td>\n",
       "      <td>CAR</td>\n",
       "      <td>-185</td>\n",
       "    </tr>\n",
       "    <tr>\n",
       "      <th>287</th>\n",
       "      <td>2021-02-02</td>\n",
       "      <td>CHI</td>\n",
       "      <td>160</td>\n",
       "    </tr>\n",
       "    <tr>\n",
       "      <th>288</th>\n",
       "      <td>2021-02-02</td>\n",
       "      <td>MIN</td>\n",
       "      <td>152</td>\n",
       "    </tr>\n",
       "    <tr>\n",
       "      <th>289</th>\n",
       "      <td>2021-02-02</td>\n",
       "      <td>COL</td>\n",
       "      <td>-177</td>\n",
       "    </tr>\n",
       "    <tr>\n",
       "      <th>290</th>\n",
       "      <td>2021-02-02</td>\n",
       "      <td>OTT</td>\n",
       "      <td>184</td>\n",
       "    </tr>\n",
       "    <tr>\n",
       "      <th>291</th>\n",
       "      <td>2021-02-02</td>\n",
       "      <td>EDM</td>\n",
       "      <td>-220</td>\n",
       "    </tr>\n",
       "    <tr>\n",
       "      <th>292</th>\n",
       "      <td>2021-02-02</td>\n",
       "      <td>ANA</td>\n",
       "      <td>-101</td>\n",
       "    </tr>\n",
       "    <tr>\n",
       "      <th>293</th>\n",
       "      <td>2021-02-02</td>\n",
       "      <td>LAK</td>\n",
       "      <td>-118</td>\n",
       "    </tr>\n",
       "  </tbody>\n",
       "</table>\n",
       "</div>"
      ],
      "text/plain": [
       "      date_game team  ml_odds\n",
       "278  2021-02-02  DAL     -115\n",
       "279  2021-02-02  CBJ     -105\n",
       "280  2021-02-02  VAN      135\n",
       "281  2021-02-02  MTL     -155\n",
       "282  2021-02-02  ARI      144\n",
       "283  2021-02-02  STL     -165\n",
       "284  2021-02-02  CGY    -1210\n",
       "285  2021-02-02  WPG      760\n",
       "286  2021-02-02  CAR     -185\n",
       "287  2021-02-02  CHI      160\n",
       "288  2021-02-02  MIN      152\n",
       "289  2021-02-02  COL     -177\n",
       "290  2021-02-02  OTT      184\n",
       "291  2021-02-02  EDM     -220\n",
       "292  2021-02-02  ANA     -101\n",
       "293  2021-02-02  LAK     -118"
      ]
     },
     "execution_count": 35,
     "metadata": {},
     "output_type": "execute_result"
    }
   ],
   "source": [
    "ml_comb[ml_comb['date_game'] == '2021-02-02']"
   ]
  },
  {
   "attachments": {},
   "cell_type": "markdown",
   "metadata": {},
   "source": [
    "Notice the clear outlier and wrong value here. Calgary was not -1210 pregame and winnipeg was not +760 pregame. We will want to look into this further and make the necessary changes to clean up the BetUS data."
   ]
  },
  {
   "attachments": {},
   "cell_type": "markdown",
   "metadata": {},
   "source": [
    "#### Q1.3 - Visualize the distribution of odds above 0 and less than 0"
   ]
  },
  {
   "cell_type": "code",
   "execution_count": 106,
   "metadata": {},
   "outputs": [],
   "source": [
    "# Function to show 2 histograms for each set of odds\n",
    "def odds_histogram(odds_list):\n",
    "    # Separate long and short odds\n",
    "    long = odds_list[odds_list > 0].astype(int)\n",
    "    short = odds_list[odds_list <= 0].astype(int)\n",
    "\n",
    "    long = long.dropna()\n",
    "    short = short.dropna()\n",
    "\n",
    "    # Plot both side by side\n",
    "    fig, (ax1, ax2) = plt.subplots(1, 2, figsize=(10, 4))\n",
    "    sns.histplot(short, ax=ax1)\n",
    "    sns.histplot(long, ax=ax2)\n",
    "    plt.tight_layout()"
   ]
  },
  {
   "cell_type": "code",
   "execution_count": 108,
   "metadata": {},
   "outputs": [
    {
     "data": {
      "image/png": "[encoded data removed]",
      "text/plain": [
       "<Figure size 1000x400 with 2 Axes>"
      ]
     },
     "metadata": {},
     "output_type": "display_data"
    },
    {
     "data": {
      "image/png": "[encoded data removed]",
      "text/plain": [
       "<Figure size 1000x400 with 2 Axes>"
      ]
     },
     "metadata": {},
     "output_type": "display_data"
    },
    {
     "data": {
      "image/png": "[encoded data removed]",
      "text/plain": [
       "<Figure size 1000x400 with 2 Axes>"
      ]
     },
     "metadata": {},
     "output_type": "display_data"
    },
    {
     "data": {
      "image/png": "[encoded data removed]",
      "text/plain": [
       "<Figure size 1000x400 with 2 Axes>"
      ]
     },
     "metadata": {},
     "output_type": "display_data"
    }
   ],
   "source": [
    "odds_histogram(ml_comb['ml_odds'])\n",
    "odds_histogram(dk_ml['ml_odds'])\n",
    "odds_histogram(dk_pl['pl_odds'])\n",
    "odds_histogram(dk_total['total_odds'])"
   ]
  },
  {
   "cell_type": "code",
   "execution_count": 58,
   "metadata": {},
   "outputs": [
    {
     "data": {
      "text/plain": [
       "total_odds\n",
       "-110    166\n",
       "-120    162\n",
       " 100    162\n",
       "-115    129\n",
       "-105    129\n",
       " 105     55\n",
       "-130     53\n",
       " 110     27\n",
       "-140     15\n",
       "-125     14\n",
       " 115     10\n",
       "-135      8\n",
       "-145      2\n",
       "Name: count, dtype: int64"
      ]
     },
     "execution_count": 58,
     "metadata": {},
     "output_type": "execute_result"
    }
   ],
   "source": [
    "# Notice that very specific values are chosen for total\n",
    "dk_total['total_odds'].value_counts()"
   ]
  },
  {
   "attachments": {},
   "cell_type": "markdown",
   "metadata": {},
   "source": [
    "We will need to investigate why some odds are shorter than -600 and longer than +450 in the BetUS data. These are likely errors."
   ]
  },
  {
   "attachments": {},
   "cell_type": "markdown",
   "metadata": {},
   "source": [
    "#### Q1.4: Which games have strange odds in BetUS data. Should we trust this as a data source?"
   ]
  },
  {
   "cell_type": "code",
   "execution_count": 109,
   "metadata": {},
   "outputs": [
    {
     "data": {
      "text/html": [
       "<div>\n",
       "<style scoped>\n",
       "    .dataframe tbody tr th:only-of-type {\n",
       "        vertical-align: middle;\n",
       "    }\n",
       "\n",
       "    .dataframe tbody tr th {\n",
       "        vertical-align: top;\n",
       "    }\n",
       "\n",
       "    .dataframe thead th {\n",
       "        text-align: right;\n",
       "    }\n",
       "</style>\n",
       "<table border=\"1\" class=\"dataframe\">\n",
       "  <thead>\n",
       "    <tr style=\"text-align: right;\">\n",
       "      <th></th>\n",
       "      <th>date_game</th>\n",
       "      <th>team</th>\n",
       "      <th>ml_odds</th>\n",
       "    </tr>\n",
       "  </thead>\n",
       "  <tbody>\n",
       "    <tr>\n",
       "      <th>284</th>\n",
       "      <td>2021-02-02</td>\n",
       "      <td>CGY</td>\n",
       "      <td>-1210</td>\n",
       "    </tr>\n",
       "    <tr>\n",
       "      <th>2939</th>\n",
       "      <td>2022-01-18</td>\n",
       "      <td>PHI</td>\n",
       "      <td>-850</td>\n",
       "    </tr>\n",
       "    <tr>\n",
       "      <th>3323</th>\n",
       "      <td>2022-02-20</td>\n",
       "      <td>EDM</td>\n",
       "      <td>-1010</td>\n",
       "    </tr>\n",
       "    <tr>\n",
       "      <th>4175</th>\n",
       "      <td>2022-04-19</td>\n",
       "      <td>TBL</td>\n",
       "      <td>-510</td>\n",
       "    </tr>\n",
       "    <tr>\n",
       "      <th>4197</th>\n",
       "      <td>2022-04-21</td>\n",
       "      <td>FLA</td>\n",
       "      <td>-610</td>\n",
       "    </tr>\n",
       "    <tr>\n",
       "      <th>4291</th>\n",
       "      <td>2022-04-26</td>\n",
       "      <td>MIN</td>\n",
       "      <td>-565</td>\n",
       "    </tr>\n",
       "    <tr>\n",
       "      <th>29</th>\n",
       "      <td>2023-02-15</td>\n",
       "      <td>TOR</td>\n",
       "      <td>-600</td>\n",
       "    </tr>\n",
       "    <tr>\n",
       "      <th>117</th>\n",
       "      <td>2023-02-21</td>\n",
       "      <td>TBL</td>\n",
       "      <td>-560</td>\n",
       "    </tr>\n",
       "    <tr>\n",
       "      <th>751</th>\n",
       "      <td>2023-04-02</td>\n",
       "      <td>CGY</td>\n",
       "      <td>-520</td>\n",
       "    </tr>\n",
       "  </tbody>\n",
       "</table>\n",
       "</div>"
      ],
      "text/plain": [
       "       date_game team  ml_odds\n",
       "284   2021-02-02  CGY    -1210\n",
       "2939  2022-01-18  PHI     -850\n",
       "3323  2022-02-20  EDM    -1010\n",
       "4175  2022-04-19  TBL     -510\n",
       "4197  2022-04-21  FLA     -610\n",
       "4291  2022-04-26  MIN     -565\n",
       "29    2023-02-15  TOR     -600\n",
       "117   2023-02-21  TBL     -560\n",
       "751   2023-04-02  CGY     -520"
      ]
     },
     "execution_count": 109,
     "metadata": {},
     "output_type": "execute_result"
    }
   ],
   "source": [
    "ml_comb[ml_comb['ml_odds'] < -500]"
   ]
  },
  {
   "cell_type": "code",
   "execution_count": 110,
   "metadata": {},
   "outputs": [
    {
     "data": {
      "text/html": [
       "<div>\n",
       "<style scoped>\n",
       "    .dataframe tbody tr th:only-of-type {\n",
       "        vertical-align: middle;\n",
       "    }\n",
       "\n",
       "    .dataframe tbody tr th {\n",
       "        vertical-align: top;\n",
       "    }\n",
       "\n",
       "    .dataframe thead th {\n",
       "        text-align: right;\n",
       "    }\n",
       "</style>\n",
       "<table border=\"1\" class=\"dataframe\">\n",
       "  <thead>\n",
       "    <tr style=\"text-align: right;\">\n",
       "      <th></th>\n",
       "      <th>date_game</th>\n",
       "      <th>team</th>\n",
       "      <th>ml_odds</th>\n",
       "    </tr>\n",
       "  </thead>\n",
       "  <tbody>\n",
       "    <tr>\n",
       "      <th>285</th>\n",
       "      <td>2021-02-02</td>\n",
       "      <td>WPG</td>\n",
       "      <td>760</td>\n",
       "    </tr>\n",
       "    <tr>\n",
       "      <th>1802</th>\n",
       "      <td>2021-10-17</td>\n",
       "      <td>DAL</td>\n",
       "      <td>557</td>\n",
       "    </tr>\n",
       "    <tr>\n",
       "      <th>2938</th>\n",
       "      <td>2022-01-18</td>\n",
       "      <td>NYI</td>\n",
       "      <td>600</td>\n",
       "    </tr>\n",
       "    <tr>\n",
       "      <th>3322</th>\n",
       "      <td>2022-02-20</td>\n",
       "      <td>MIN</td>\n",
       "      <td>705</td>\n",
       "    </tr>\n",
       "    <tr>\n",
       "      <th>3532</th>\n",
       "      <td>2022-03-08</td>\n",
       "      <td>FLA</td>\n",
       "      <td>480</td>\n",
       "    </tr>\n",
       "    <tr>\n",
       "      <th>4196</th>\n",
       "      <td>2022-04-21</td>\n",
       "      <td>DET</td>\n",
       "      <td>455</td>\n",
       "    </tr>\n",
       "    <tr>\n",
       "      <th>4290</th>\n",
       "      <td>2022-04-26</td>\n",
       "      <td>ARI</td>\n",
       "      <td>415</td>\n",
       "    </tr>\n",
       "    <tr>\n",
       "      <th>28</th>\n",
       "      <td>2023-02-15</td>\n",
       "      <td>CHI</td>\n",
       "      <td>450</td>\n",
       "    </tr>\n",
       "    <tr>\n",
       "      <th>116</th>\n",
       "      <td>2023-02-21</td>\n",
       "      <td>ANA</td>\n",
       "      <td>430</td>\n",
       "    </tr>\n",
       "    <tr>\n",
       "      <th>750</th>\n",
       "      <td>2023-04-02</td>\n",
       "      <td>ANA</td>\n",
       "      <td>410</td>\n",
       "    </tr>\n",
       "  </tbody>\n",
       "</table>\n",
       "</div>"
      ],
      "text/plain": [
       "       date_game team  ml_odds\n",
       "285   2021-02-02  WPG      760\n",
       "1802  2021-10-17  DAL      557\n",
       "2938  2022-01-18  NYI      600\n",
       "3322  2022-02-20  MIN      705\n",
       "3532  2022-03-08  FLA      480\n",
       "4196  2022-04-21  DET      455\n",
       "4290  2022-04-26  ARI      415\n",
       "28    2023-02-15  CHI      450\n",
       "116   2023-02-21  ANA      430\n",
       "750   2023-04-02  ANA      410"
      ]
     },
     "execution_count": 110,
     "metadata": {},
     "output_type": "execute_result"
    }
   ],
   "source": [
    "ml_comb[ml_comb['ml_odds'] > 400]"
   ]
  },
  {
   "attachments": {},
   "cell_type": "markdown",
   "metadata": {},
   "source": [
    "Some of these are clearly wrong. Others are somewhat reasonable. But this also makes me question whether other games from BetUS have innacurate odds despite the values still being in a reasonable range."
   ]
  },
  {
   "attachments": {},
   "cell_type": "markdown",
   "metadata": {},
   "source": []
  }
 ],
 "metadata": {
  "kernelspec": {
   "display_name": ".venv",
   "language": "python",
   "name": "python3"
  },
  "language_info": {
   "codemirror_mode": {
    "name": "ipython",
    "version": 3
   },
   "file_extension": ".py",
   "mimetype": "text/x-python",
   "name": "python",
   "nbconvert_exporter": "python",
   "pygments_lexer": "ipython3",
   "version": "3.9.6"
  },
  "orig_nbformat": 4
 },
 "nbformat": 4,
 "nbformat_minor": 2
}
