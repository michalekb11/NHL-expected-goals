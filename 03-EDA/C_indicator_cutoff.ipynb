{
 "cells": [
  {
   "attachments": {},
   "cell_type": "markdown",
   "metadata": {},
   "source": [
    "## Determine what an optimal FO_60 cutoff is for being considered a Center"
   ]
  },
  {
   "cell_type": "code",
   "execution_count": null,
   "metadata": {},
   "outputs": [],
   "source": [
    "skater_2021 = pd.read_csv('../data/stats/past_seasons/skaters_2021.csv')\n",
    "skater_2022 = pd.read_csv('../data/stats/past_seasons/skaters_2022.csv')"
   ]
  },
  {
   "cell_type": "code",
   "execution_count": null,
   "metadata": {},
   "outputs": [],
   "source": [
    "skater_2021.columns"
   ]
  },
  {
   "cell_type": "code",
   "execution_count": null,
   "metadata": {},
   "outputs": [],
   "source": [
    "skater_2021 = skater_2021.loc[:, ['player_id', 'player_name', 'season', 'FOW', 'FOL', 'TOI']]\n",
    "skater_2021['FO'] = skater_2021['FOW'] + skater_2021['FOL']\n",
    "skater_agg_2021 = skater_2021.groupby(['player_name', 'season'])[['FO', 'TOI']].sum().reset_index()\n",
    "\n",
    "skater_2022 = skater_2022.loc[:, ['player_id', 'player_name', 'season', 'FOW', 'FOL', 'TOI']]\n",
    "skater_2022['FO'] = skater_2022['FOW'] + skater_2022['FOL']\n",
    "skater_agg_2022 = skater_2022.groupby(['player_name', 'season'])[['FO', 'TOI']].sum().reset_index()\n",
    "\n",
    "skater_agg = pd.concat([skater_agg_2021, skater_agg_2022], axis = 0)\n",
    "\n",
    "skater_agg['FO_60'] = 60 * skater_agg['FO'] / skater_agg['TOI']"
   ]
  },
  {
   "cell_type": "code",
   "execution_count": null,
   "metadata": {},
   "outputs": [],
   "source": [
    "skater_agg.sort_values('FO_60', ascending = False)"
   ]
  },
  {
   "cell_type": "code",
   "execution_count": null,
   "metadata": {},
   "outputs": [],
   "source": [
    "sns.histplot(data = skater_agg, x = 'FO_60', bins = 30)"
   ]
  },
  {
   "cell_type": "code",
   "execution_count": null,
   "metadata": {},
   "outputs": [],
   "source": [
    "skater_agg_more  = skater_agg[skater_agg['FO_60'] > 1.0]\n",
    "sns.histplot(data = skater_agg_more, x = 'FO_60', bins = 30)"
   ]
  },
  {
   "cell_type": "code",
   "execution_count": null,
   "metadata": {},
   "outputs": [],
   "source": [
    "pd.set_option('display.max_rows', None)\n",
    "display(skater_agg_more.loc[(skater_agg_more['FO_60'] >= 15.0) & (skater_agg_more['FO_60'] <= 30.0), ['player_name', 'FO_60']].sort_values('FO_60', ascending=False))\n",
    "pd.set_option('display.max_rows', 10)"
   ]
  },
  {
   "attachments": {},
   "cell_type": "markdown",
   "metadata": {},
   "source": [
    "It looks like the threshold should perhaps be even higher than 10. I'd also rather be more confident that someone is a center before I label them a C."
   ]
  },
  {
   "cell_type": "markdown",
   "metadata": {},
   "source": [
    "I think 20.0 could be a good cutoff for the moment. We can change this later if need be."
   ]
  }
 ],
 "metadata": {
  "kernelspec": {
   "display_name": ".venv",
   "language": "python",
   "name": "python3"
  },
  "language_info": {
   "name": "python",
   "version": "3.9.6 (default, Oct 18 2022, 12:41:40) \n[Clang 14.0.0 (clang-1400.0.29.202)]"
  },
  "orig_nbformat": 4,
  "vscode": {
   "interpreter": {
    "hash": "391b8c8d2d0705169608203ddc59d651a11cac649a7fd2dc02268105b6f9cfe6"
   }
  }
 },
 "nbformat": 4,
 "nbformat_minor": 2
}
