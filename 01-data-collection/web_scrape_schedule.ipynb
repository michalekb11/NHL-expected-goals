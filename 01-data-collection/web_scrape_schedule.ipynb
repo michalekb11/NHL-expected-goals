{
 "cells": [
  {
   "attachments": {},
   "cell_type": "markdown",
   "metadata": {},
   "source": [
    "## Get the schedule and results of each NHL game in a particular season"
   ]
  },
  {
   "cell_type": "code",
   "execution_count": 38,
   "metadata": {},
   "outputs": [],
   "source": [
    "import pandas as pd\n",
    "import numpy as np\n",
    "import json"
   ]
  },
  {
   "cell_type": "code",
   "execution_count": 39,
   "metadata": {},
   "outputs": [],
   "source": [
    "# Read in team name dictionary for cleaning\n",
    "with open('../data/team_name_dictionary.txt', 'r') as f:\n",
    "    # Load the dictionary from the file\n",
    "    team_name_dict = json.load(f)"
   ]
  },
  {
   "cell_type": "code",
   "execution_count": 40,
   "metadata": {},
   "outputs": [],
   "source": [
    "# User input\n",
    "season = 2023\n",
    "url = 'https://www.hockey-reference.com/leagues/NHL_' + str(season) + '_games.html'"
   ]
  },
  {
   "cell_type": "code",
   "execution_count": 41,
   "metadata": {},
   "outputs": [],
   "source": [
    "# Get the schedule from hockey reference for the given season\n",
    "season_results = pd.read_html(url, attrs={'class':'stats_table', 'id':'games'})[0]"
   ]
  },
  {
   "cell_type": "code",
   "execution_count": 42,
   "metadata": {},
   "outputs": [],
   "source": [
    "# Clean up the schedule\n",
    "season_results.drop(columns=['Att.', 'LOG', 'Notes'], inplace = True)\n",
    "season_results.columns = ['date', 'away', 'away_G',  'home', 'home_G', 'OT_flag']\n",
    "season_results['away'] = season_results['away'].str.lower().replace(team_name_dict)\n",
    "season_results['home'] = season_results['home'].str.lower().replace(team_name_dict)"
   ]
  },
  {
   "cell_type": "code",
   "execution_count": 43,
   "metadata": {},
   "outputs": [
    {
     "data": {
      "text/html": [
       "<div>\n",
       "<style scoped>\n",
       "    .dataframe tbody tr th:only-of-type {\n",
       "        vertical-align: middle;\n",
       "    }\n",
       "\n",
       "    .dataframe tbody tr th {\n",
       "        vertical-align: top;\n",
       "    }\n",
       "\n",
       "    .dataframe thead th {\n",
       "        text-align: right;\n",
       "    }\n",
       "</style>\n",
       "<table border=\"1\" class=\"dataframe\">\n",
       "  <thead>\n",
       "    <tr style=\"text-align: right;\">\n",
       "      <th></th>\n",
       "      <th>date</th>\n",
       "      <th>away</th>\n",
       "      <th>away_G</th>\n",
       "      <th>home</th>\n",
       "      <th>home_G</th>\n",
       "      <th>OT_flag</th>\n",
       "    </tr>\n",
       "  </thead>\n",
       "  <tbody>\n",
       "    <tr>\n",
       "      <th>0</th>\n",
       "      <td>2022-10-07</td>\n",
       "      <td>SJS</td>\n",
       "      <td>1</td>\n",
       "      <td>NSH</td>\n",
       "      <td>4</td>\n",
       "      <td>NaN</td>\n",
       "    </tr>\n",
       "    <tr>\n",
       "      <th>1</th>\n",
       "      <td>2022-10-08</td>\n",
       "      <td>NSH</td>\n",
       "      <td>3</td>\n",
       "      <td>SJS</td>\n",
       "      <td>2</td>\n",
       "      <td>NaN</td>\n",
       "    </tr>\n",
       "    <tr>\n",
       "      <th>2</th>\n",
       "      <td>2022-10-11</td>\n",
       "      <td>VGK</td>\n",
       "      <td>4</td>\n",
       "      <td>LAK</td>\n",
       "      <td>3</td>\n",
       "      <td>NaN</td>\n",
       "    </tr>\n",
       "    <tr>\n",
       "      <th>3</th>\n",
       "      <td>2022-10-11</td>\n",
       "      <td>TBL</td>\n",
       "      <td>1</td>\n",
       "      <td>NYR</td>\n",
       "      <td>3</td>\n",
       "      <td>NaN</td>\n",
       "    </tr>\n",
       "    <tr>\n",
       "      <th>4</th>\n",
       "      <td>2022-10-12</td>\n",
       "      <td>SEA</td>\n",
       "      <td>4</td>\n",
       "      <td>ANA</td>\n",
       "      <td>5</td>\n",
       "      <td>OT</td>\n",
       "    </tr>\n",
       "    <tr>\n",
       "      <th>...</th>\n",
       "      <td>...</td>\n",
       "      <td>...</td>\n",
       "      <td>...</td>\n",
       "      <td>...</td>\n",
       "      <td>...</td>\n",
       "      <td>...</td>\n",
       "    </tr>\n",
       "    <tr>\n",
       "      <th>1307</th>\n",
       "      <td>2023-04-13</td>\n",
       "      <td>VGK</td>\n",
       "      <td>3</td>\n",
       "      <td>SEA</td>\n",
       "      <td>1</td>\n",
       "      <td>NaN</td>\n",
       "    </tr>\n",
       "    <tr>\n",
       "      <th>1308</th>\n",
       "      <td>2023-04-13</td>\n",
       "      <td>DET</td>\n",
       "      <td>0</td>\n",
       "      <td>TBL</td>\n",
       "      <td>5</td>\n",
       "      <td>NaN</td>\n",
       "    </tr>\n",
       "    <tr>\n",
       "      <th>1309</th>\n",
       "      <td>2023-04-13</td>\n",
       "      <td>NJD</td>\n",
       "      <td>5</td>\n",
       "      <td>WSH</td>\n",
       "      <td>4</td>\n",
       "      <td>OT</td>\n",
       "    </tr>\n",
       "    <tr>\n",
       "      <th>1310</th>\n",
       "      <td>2023-04-14</td>\n",
       "      <td>BUF</td>\n",
       "      <td>5</td>\n",
       "      <td>CBJ</td>\n",
       "      <td>2</td>\n",
       "      <td>NaN</td>\n",
       "    </tr>\n",
       "    <tr>\n",
       "      <th>1311</th>\n",
       "      <td>2023-04-14</td>\n",
       "      <td>COL</td>\n",
       "      <td>4</td>\n",
       "      <td>NSH</td>\n",
       "      <td>3</td>\n",
       "      <td>NaN</td>\n",
       "    </tr>\n",
       "  </tbody>\n",
       "</table>\n",
       "<p>1312 rows × 6 columns</p>\n",
       "</div>"
      ],
      "text/plain": [
       "            date away  away_G home  home_G OT_flag\n",
       "0     2022-10-07  SJS       1  NSH       4     NaN\n",
       "1     2022-10-08  NSH       3  SJS       2     NaN\n",
       "2     2022-10-11  VGK       4  LAK       3     NaN\n",
       "3     2022-10-11  TBL       1  NYR       3     NaN\n",
       "4     2022-10-12  SEA       4  ANA       5      OT\n",
       "...          ...  ...     ...  ...     ...     ...\n",
       "1307  2023-04-13  VGK       3  SEA       1     NaN\n",
       "1308  2023-04-13  DET       0  TBL       5     NaN\n",
       "1309  2023-04-13  NJD       5  WSH       4      OT\n",
       "1310  2023-04-14  BUF       5  CBJ       2     NaN\n",
       "1311  2023-04-14  COL       4  NSH       3     NaN\n",
       "\n",
       "[1312 rows x 6 columns]"
      ]
     },
     "execution_count": 43,
     "metadata": {},
     "output_type": "execute_result"
    }
   ],
   "source": [
    "season_results"
   ]
  },
  {
   "cell_type": "code",
   "execution_count": 44,
   "metadata": {},
   "outputs": [],
   "source": [
    "# Assign a game ID column to each row of the data frame\n",
    "# Game ID = season + game number so ensure it is always unique for every game\n",
    "# Ex: 231 = season 23, game 1... 231310 = season 23, game 1310\n",
    "season_results['game_id'] = [int(str(season % 100) + str(i)) for i in range(1, len(season_results) + 1)]"
   ]
  },
  {
   "cell_type": "code",
   "execution_count": 45,
   "metadata": {},
   "outputs": [
    {
     "data": {
      "text/html": [
       "<div>\n",
       "<style scoped>\n",
       "    .dataframe tbody tr th:only-of-type {\n",
       "        vertical-align: middle;\n",
       "    }\n",
       "\n",
       "    .dataframe tbody tr th {\n",
       "        vertical-align: top;\n",
       "    }\n",
       "\n",
       "    .dataframe thead th {\n",
       "        text-align: right;\n",
       "    }\n",
       "</style>\n",
       "<table border=\"1\" class=\"dataframe\">\n",
       "  <thead>\n",
       "    <tr style=\"text-align: right;\">\n",
       "      <th></th>\n",
       "      <th>date</th>\n",
       "      <th>away</th>\n",
       "      <th>away_G</th>\n",
       "      <th>home</th>\n",
       "      <th>home_G</th>\n",
       "      <th>OT_flag</th>\n",
       "      <th>game_id</th>\n",
       "    </tr>\n",
       "  </thead>\n",
       "  <tbody>\n",
       "  </tbody>\n",
       "</table>\n",
       "</div>"
      ],
      "text/plain": [
       "Empty DataFrame\n",
       "Columns: [date, away, away_G, home, home_G, OT_flag, game_id]\n",
       "Index: []"
      ]
     },
     "execution_count": 45,
     "metadata": {},
     "output_type": "execute_result"
    }
   ],
   "source": [
    "# Every game should have a winner (one team with more goals)\n",
    "season_results.loc[season_results['away_G'] == season_results['home_G'],:]"
   ]
  },
  {
   "cell_type": "code",
   "execution_count": 46,
   "metadata": {},
   "outputs": [],
   "source": [
    "# Melt df so that there is 1 row per team/game\n",
    "home_melt = pd.melt(season_results, id_vars=['date', 'game_id',  'home', 'OT_flag'], value_vars=['home_G'], value_name='G').drop(columns='variable').rename(columns={'home':'team'})\n",
    "away_melt = pd.melt(season_results, id_vars=['date', 'game_id', 'away', 'OT_flag'], value_vars=['away_G'], value_name='G').drop(columns='variable').rename(columns={'away':'team'})\n",
    "\n",
    "combined_melt = pd.concat([home_melt, away_melt], axis=0)[['date', 'game_id', 'team', 'G', 'OT_flag']]\n",
    "#combined_melt[combined_melt['game_id'] == 23401]"
   ]
  },
  {
   "cell_type": "code",
   "execution_count": 47,
   "metadata": {},
   "outputs": [
    {
     "data": {
      "text/html": [
       "<div>\n",
       "<style scoped>\n",
       "    .dataframe tbody tr th:only-of-type {\n",
       "        vertical-align: middle;\n",
       "    }\n",
       "\n",
       "    .dataframe tbody tr th {\n",
       "        vertical-align: top;\n",
       "    }\n",
       "\n",
       "    .dataframe thead th {\n",
       "        text-align: right;\n",
       "    }\n",
       "</style>\n",
       "<table border=\"1\" class=\"dataframe\">\n",
       "  <thead>\n",
       "    <tr style=\"text-align: right;\">\n",
       "      <th></th>\n",
       "      <th>date</th>\n",
       "      <th>game_id</th>\n",
       "      <th>team</th>\n",
       "      <th>G</th>\n",
       "      <th>OT_flag</th>\n",
       "      <th>win_flag</th>\n",
       "    </tr>\n",
       "  </thead>\n",
       "  <tbody>\n",
       "    <tr>\n",
       "      <th>0</th>\n",
       "      <td>2022-10-07</td>\n",
       "      <td>231</td>\n",
       "      <td>NSH</td>\n",
       "      <td>4</td>\n",
       "      <td>NaN</td>\n",
       "      <td>1</td>\n",
       "    </tr>\n",
       "    <tr>\n",
       "      <th>1</th>\n",
       "      <td>2022-10-08</td>\n",
       "      <td>232</td>\n",
       "      <td>SJS</td>\n",
       "      <td>2</td>\n",
       "      <td>NaN</td>\n",
       "      <td>0</td>\n",
       "    </tr>\n",
       "    <tr>\n",
       "      <th>2</th>\n",
       "      <td>2022-10-11</td>\n",
       "      <td>233</td>\n",
       "      <td>LAK</td>\n",
       "      <td>3</td>\n",
       "      <td>NaN</td>\n",
       "      <td>0</td>\n",
       "    </tr>\n",
       "    <tr>\n",
       "      <th>3</th>\n",
       "      <td>2022-10-11</td>\n",
       "      <td>234</td>\n",
       "      <td>NYR</td>\n",
       "      <td>3</td>\n",
       "      <td>NaN</td>\n",
       "      <td>1</td>\n",
       "    </tr>\n",
       "    <tr>\n",
       "      <th>4</th>\n",
       "      <td>2022-10-12</td>\n",
       "      <td>235</td>\n",
       "      <td>ANA</td>\n",
       "      <td>5</td>\n",
       "      <td>OT</td>\n",
       "      <td>1</td>\n",
       "    </tr>\n",
       "  </tbody>\n",
       "</table>\n",
       "</div>"
      ],
      "text/plain": [
       "         date  game_id team  G OT_flag  win_flag\n",
       "0  2022-10-07      231  NSH  4     NaN         1\n",
       "1  2022-10-08      232  SJS  2     NaN         0\n",
       "2  2022-10-11      233  LAK  3     NaN         0\n",
       "3  2022-10-11      234  NYR  3     NaN         1\n",
       "4  2022-10-12      235  ANA  5      OT         1"
      ]
     },
     "execution_count": 47,
     "metadata": {},
     "output_type": "execute_result"
    }
   ],
   "source": [
    "# Add a column for the winner of each game\n",
    "combined_melt['win_flag'] = combined_melt['G'].eq(combined_melt.groupby('game_id')['G'].transform('max')).astype(int)\n",
    "combined_melt.head()"
   ]
  },
  {
   "cell_type": "code",
   "execution_count": 48,
   "metadata": {},
   "outputs": [],
   "source": [
    "# Write schedule to csv\n",
    "combined_melt.to_csv('../data/season_scores/scores_' + str(season), header=True, index=False)"
   ]
  }
 ],
 "metadata": {
  "kernelspec": {
   "display_name": ".venv",
   "language": "python",
   "name": "python3"
  },
  "language_info": {
   "codemirror_mode": {
    "name": "ipython",
    "version": 3
   },
   "file_extension": ".py",
   "mimetype": "text/x-python",
   "name": "python",
   "nbconvert_exporter": "python",
   "pygments_lexer": "ipython3",
   "version": "3.9.6"
  },
  "orig_nbformat": 4,
  "vscode": {
   "interpreter": {
    "hash": "391b8c8d2d0705169608203ddc59d651a11cac649a7fd2dc02268105b6f9cfe6"
   }
  }
 },
 "nbformat": 4,
 "nbformat_minor": 2
}
