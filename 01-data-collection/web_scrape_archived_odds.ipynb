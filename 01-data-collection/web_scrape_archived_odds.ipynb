{
 "cells": [
  {
   "attachments": {},
   "cell_type": "markdown",
   "metadata": {},
   "source": [
    "## These odds are taken from BetUS sportsbook archive for the 21 & 22 season\n",
    "Note that this will not be as precise as being able to use DK's odds for all of these games. Hopefully, it is close enough to be effective in improving model training and validation."
   ]
  },
  {
   "cell_type": "code",
   "execution_count": 136,
   "metadata": {},
   "outputs": [],
   "source": [
    "# Libraries\n",
    "import numpy as np\n",
    "import pandas as pd\n",
    "import datetime as dt\n",
    "import requests\n",
    "from bs4 import BeautifulSoup\n",
    "import json"
   ]
  },
  {
   "cell_type": "code",
   "execution_count": 137,
   "metadata": {},
   "outputs": [],
   "source": [
    "# Two seasons of odds\n",
    "betus_21 = 'https://www.sportsbookreviewsonline.com/scoresoddsarchives/nhl-odds-2021/'\n",
    "betus_22  ='https://www.sportsbookreviewsonline.com/scoresoddsarchives/nhl-odds-2021-22/'\n",
    "# Header is needed since normally the website forbids web scraping?\n",
    "headers = {'User-Agent': 'Mozilla/5.0 (Windows NT 10.0; Win64; x64) AppleWebKit/537.36 (KHTML, like Gecko) Chrome/58.0.3029.110 Safari/537.3'}"
   ]
  },
  {
   "cell_type": "code",
   "execution_count": 138,
   "metadata": {},
   "outputs": [],
   "source": [
    "# Read in team name to 3 letter code dictionary\n",
    "# Read in team name dictionary for cleaning\n",
    "with open('../data/team_name_dictionary.txt', 'r') as f:\n",
    "    # Load the dictionary from the file\n",
    "    team_name_dict = json.load(f)"
   ]
  },
  {
   "attachments": {},
   "cell_type": "markdown",
   "metadata": {},
   "source": [
    "### 2021 Season"
   ]
  },
  {
   "cell_type": "code",
   "execution_count": 139,
   "metadata": {},
   "outputs": [],
   "source": [
    "# Read in table from web\n",
    "response_21 = requests.get(betus_21, headers=headers)"
   ]
  },
  {
   "cell_type": "code",
   "execution_count": 140,
   "metadata": {},
   "outputs": [],
   "source": [
    "# Get table from response\n",
    "archived_odds_21 = pd.read_html(response_21.text)[0]"
   ]
  },
  {
   "cell_type": "code",
   "execution_count": 141,
   "metadata": {},
   "outputs": [],
   "source": [
    "# Only keep required columns (for now we are only keeping moneyline, but we could also keep puckline and OU)\n",
    "archived_ml_odds_21 = archived_odds_21.iloc[:,[0, 3, 8]].rename(columns={0:'date_game', 3:'team', 8:'ml_odds'}).drop(0)"
   ]
  },
  {
   "cell_type": "code",
   "execution_count": 142,
   "metadata": {},
   "outputs": [],
   "source": [
    "# Convert team name to 3 letter code\n",
    "archived_ml_odds_21['team'] = archived_ml_odds_21['team'].str.lower().replace(team_name_dict)"
   ]
  },
  {
   "cell_type": "code",
   "execution_count": 143,
   "metadata": {},
   "outputs": [],
   "source": [
    "# Change date to standard format\n",
    "archived_ml_odds_21['date_game'] = pd.to_datetime('0' + archived_ml_odds_21['date_game'].astype(str) + '21', format = '%m%d%y')"
   ]
  },
  {
   "cell_type": "code",
   "execution_count": 144,
   "metadata": {},
   "outputs": [],
   "source": [
    "# Filter for only the regular season\n",
    "# First, only games on or before the date 2021-05-19 should be included\n",
    "archived_ml_odds_21 = archived_ml_odds_21[archived_ml_odds_21['date_game'] <= '2021-05-19']\n",
    "\n",
    "# Then, the following playoff games must be excluded:\n",
    "    # 2021-05-15: BOS v WAS\n",
    "    # 2021-05-16: TBL v FLA, MIN v VGK, NYI v PIT\n",
    "    # 2021-05-17: NSH v CAR, BOS v WAS, STL v COL\n",
    "    # 2021-05-18: TBL v FLA, MIN v VGK, NYI v PIT\n",
    "    # 2021-05-19: BOS v WAS, NSH v CAR, STL v COL, WPG v EDM\n",
    "\n",
    "archived_ml_odds_21 = archived_ml_odds_21[~((archived_ml_odds_21['date_game'] == '2021-05-15') & (archived_ml_odds_21['team'].isin(['BOS', 'WSH'])))]\n",
    "archived_ml_odds_21 = archived_ml_odds_21[~((archived_ml_odds_21['date_game'] == '2021-05-16') & (archived_ml_odds_21['team'].isin(['TBL', 'FLA', 'MIN', 'VGK', 'NYI', 'PIT'])))]\n",
    "archived_ml_odds_21 = archived_ml_odds_21[~((archived_ml_odds_21['date_game'] == '2021-05-17') & (archived_ml_odds_21['team'].isin(['NSH', 'CAR', 'BOS', 'WSH', 'STL', 'COL'])))]\n",
    "archived_ml_odds_21 = archived_ml_odds_21[~((archived_ml_odds_21['date_game'] == '2021-05-18') & (archived_ml_odds_21['team'].isin(['TBL', 'FLA', 'MIN', 'VGK', 'NYI', 'PIT'])))]\n",
    "archived_ml_odds_21 = archived_ml_odds_21[~((archived_ml_odds_21['date_game'] == '2021-05-19') & (archived_ml_odds_21['team'].isin(['BOS', 'WSH', 'NSH', 'CAR', 'STL', 'COL', 'WPG', 'EDM'])))]"
   ]
  },
  {
   "cell_type": "code",
   "execution_count": 145,
   "metadata": {},
   "outputs": [
    {
     "data": {
      "text/html": [
       "<div>\n",
       "<style scoped>\n",
       "    .dataframe tbody tr th:only-of-type {\n",
       "        vertical-align: middle;\n",
       "    }\n",
       "\n",
       "    .dataframe tbody tr th {\n",
       "        vertical-align: top;\n",
       "    }\n",
       "\n",
       "    .dataframe thead th {\n",
       "        text-align: right;\n",
       "    }\n",
       "</style>\n",
       "<table border=\"1\" class=\"dataframe\">\n",
       "  <thead>\n",
       "    <tr style=\"text-align: right;\">\n",
       "      <th></th>\n",
       "      <th>date_game</th>\n",
       "      <th>team</th>\n",
       "      <th>ml_odds</th>\n",
       "    </tr>\n",
       "  </thead>\n",
       "  <tbody>\n",
       "    <tr>\n",
       "      <th>1</th>\n",
       "      <td>2021-01-13</td>\n",
       "      <td>PIT</td>\n",
       "      <td>-110</td>\n",
       "    </tr>\n",
       "    <tr>\n",
       "      <th>2</th>\n",
       "      <td>2021-01-13</td>\n",
       "      <td>PHI</td>\n",
       "      <td>100</td>\n",
       "    </tr>\n",
       "    <tr>\n",
       "      <th>3</th>\n",
       "      <td>2021-01-13</td>\n",
       "      <td>MTL</td>\n",
       "      <td>132</td>\n",
       "    </tr>\n",
       "    <tr>\n",
       "      <th>4</th>\n",
       "      <td>2021-01-13</td>\n",
       "      <td>TOR</td>\n",
       "      <td>-145</td>\n",
       "    </tr>\n",
       "    <tr>\n",
       "      <th>5</th>\n",
       "      <td>2021-01-13</td>\n",
       "      <td>CHI</td>\n",
       "      <td>230</td>\n",
       "    </tr>\n",
       "    <tr>\n",
       "      <th>...</th>\n",
       "      <td>...</td>\n",
       "      <td>...</td>\n",
       "      <td>...</td>\n",
       "    </tr>\n",
       "    <tr>\n",
       "      <th>1734</th>\n",
       "      <td>2021-05-16</td>\n",
       "      <td>VAN</td>\n",
       "      <td>110</td>\n",
       "    </tr>\n",
       "    <tr>\n",
       "      <th>1747</th>\n",
       "      <td>2021-05-18</td>\n",
       "      <td>CGY</td>\n",
       "      <td>-135</td>\n",
       "    </tr>\n",
       "    <tr>\n",
       "      <th>1748</th>\n",
       "      <td>2021-05-18</td>\n",
       "      <td>VAN</td>\n",
       "      <td>115</td>\n",
       "    </tr>\n",
       "    <tr>\n",
       "      <th>1755</th>\n",
       "      <td>2021-05-19</td>\n",
       "      <td>VAN</td>\n",
       "      <td>145</td>\n",
       "    </tr>\n",
       "    <tr>\n",
       "      <th>1756</th>\n",
       "      <td>2021-05-19</td>\n",
       "      <td>CGY</td>\n",
       "      <td>-170</td>\n",
       "    </tr>\n",
       "  </tbody>\n",
       "</table>\n",
       "<p>1736 rows × 3 columns</p>\n",
       "</div>"
      ],
      "text/plain": [
       "      date_game team ml_odds\n",
       "1    2021-01-13  PIT    -110\n",
       "2    2021-01-13  PHI     100\n",
       "3    2021-01-13  MTL     132\n",
       "4    2021-01-13  TOR    -145\n",
       "5    2021-01-13  CHI     230\n",
       "...         ...  ...     ...\n",
       "1734 2021-05-16  VAN     110\n",
       "1747 2021-05-18  CGY    -135\n",
       "1748 2021-05-18  VAN     115\n",
       "1755 2021-05-19  VAN     145\n",
       "1756 2021-05-19  CGY    -170\n",
       "\n",
       "[1736 rows x 3 columns]"
      ]
     },
     "execution_count": 145,
     "metadata": {},
     "output_type": "execute_result"
    }
   ],
   "source": [
    "# Will combine and write to file later\n",
    "archived_ml_odds_21"
   ]
  },
  {
   "attachments": {},
   "cell_type": "markdown",
   "metadata": {},
   "source": [
    "### 2022 Season"
   ]
  },
  {
   "cell_type": "code",
   "execution_count": 146,
   "metadata": {},
   "outputs": [],
   "source": [
    "# Read in table from web\n",
    "response_22 = requests.get(betus_22, headers=headers)"
   ]
  },
  {
   "cell_type": "code",
   "execution_count": 147,
   "metadata": {},
   "outputs": [],
   "source": [
    "# Get table from response\n",
    "archived_odds_22 = pd.read_html(response_22.text)[0]"
   ]
  },
  {
   "cell_type": "code",
   "execution_count": 148,
   "metadata": {},
   "outputs": [],
   "source": [
    "# Only keep required columns (for now we are only keeping moneyline, but we could also keep puckline and OU)\n",
    "archived_ml_odds_22 = archived_odds_22.iloc[:,[0, 3, 8]].rename(columns={0:'date_game', 3:'team', 8:'ml_odds'}).drop(0)"
   ]
  },
  {
   "cell_type": "code",
   "execution_count": 149,
   "metadata": {},
   "outputs": [],
   "source": [
    "# Convert team name to 3 letter code\n",
    "archived_ml_odds_22['team'] = archived_ml_odds_22['team'].str.lower().replace(team_name_dict)"
   ]
  },
  {
   "cell_type": "code",
   "execution_count": 150,
   "metadata": {},
   "outputs": [],
   "source": [
    "# Change date to standard format\n",
    "# Function to correct the format of dates so they can easily be converted to date time type\n",
    "def correct_dt_format_season_22(date):\n",
    "    if len(date) == 3:\n",
    "        return '0' + date + '22'\n",
    "    elif len(date) == 4:\n",
    "        return date + '21'\n",
    "    else:\n",
    "        return 'error'\n",
    "    \n",
    "# Use function\n",
    "archived_ml_odds_22['date_game'] = archived_ml_odds_22['date_game'].apply(correct_dt_format_season_22)\n",
    "\n",
    "# Convert to date time object type\n",
    "archived_ml_odds_22['date_game'] = pd.to_datetime(archived_ml_odds_22['date_game'], format = '%m%d%y')"
   ]
  },
  {
   "cell_type": "code",
   "execution_count": 152,
   "metadata": {},
   "outputs": [],
   "source": [
    "# Filter for only the regular season\n",
    "archived_ml_odds_22 = archived_ml_odds_22[archived_ml_odds_22['date_game'] <= '2022-05-01']"
   ]
  },
  {
   "cell_type": "code",
   "execution_count": 153,
   "metadata": {},
   "outputs": [
    {
     "data": {
      "text/html": [
       "<div>\n",
       "<style scoped>\n",
       "    .dataframe tbody tr th:only-of-type {\n",
       "        vertical-align: middle;\n",
       "    }\n",
       "\n",
       "    .dataframe tbody tr th {\n",
       "        vertical-align: top;\n",
       "    }\n",
       "\n",
       "    .dataframe thead th {\n",
       "        text-align: right;\n",
       "    }\n",
       "</style>\n",
       "<table border=\"1\" class=\"dataframe\">\n",
       "  <thead>\n",
       "    <tr style=\"text-align: right;\">\n",
       "      <th></th>\n",
       "      <th>date_game</th>\n",
       "      <th>team</th>\n",
       "      <th>ml_odds</th>\n",
       "    </tr>\n",
       "  </thead>\n",
       "  <tbody>\n",
       "    <tr>\n",
       "      <th>1</th>\n",
       "      <td>2021-10-12</td>\n",
       "      <td>PIT</td>\n",
       "      <td>120</td>\n",
       "    </tr>\n",
       "    <tr>\n",
       "      <th>2</th>\n",
       "      <td>2021-10-12</td>\n",
       "      <td>TBL</td>\n",
       "      <td>-140</td>\n",
       "    </tr>\n",
       "    <tr>\n",
       "      <th>3</th>\n",
       "      <td>2021-10-12</td>\n",
       "      <td>SEA</td>\n",
       "      <td>235</td>\n",
       "    </tr>\n",
       "    <tr>\n",
       "      <th>4</th>\n",
       "      <td>2021-10-12</td>\n",
       "      <td>VGK</td>\n",
       "      <td>-290</td>\n",
       "    </tr>\n",
       "    <tr>\n",
       "      <th>5</th>\n",
       "      <td>2021-10-13</td>\n",
       "      <td>NYR</td>\n",
       "      <td>115</td>\n",
       "    </tr>\n",
       "    <tr>\n",
       "      <th>...</th>\n",
       "      <td>...</td>\n",
       "      <td>...</td>\n",
       "      <td>...</td>\n",
       "    </tr>\n",
       "    <tr>\n",
       "      <th>2620</th>\n",
       "      <td>2022-04-29</td>\n",
       "      <td>SEA</td>\n",
       "      <td>-120</td>\n",
       "    </tr>\n",
       "    <tr>\n",
       "      <th>2621</th>\n",
       "      <td>2022-04-29</td>\n",
       "      <td>NSH</td>\n",
       "      <td>-280</td>\n",
       "    </tr>\n",
       "    <tr>\n",
       "      <th>2622</th>\n",
       "      <td>2022-04-29</td>\n",
       "      <td>ARI</td>\n",
       "      <td>230</td>\n",
       "    </tr>\n",
       "    <tr>\n",
       "      <th>2623</th>\n",
       "      <td>2022-05-01</td>\n",
       "      <td>SEA</td>\n",
       "      <td>155</td>\n",
       "    </tr>\n",
       "    <tr>\n",
       "      <th>2624</th>\n",
       "      <td>2022-05-01</td>\n",
       "      <td>WPG</td>\n",
       "      <td>-185</td>\n",
       "    </tr>\n",
       "  </tbody>\n",
       "</table>\n",
       "<p>2624 rows × 3 columns</p>\n",
       "</div>"
      ],
      "text/plain": [
       "      date_game team ml_odds\n",
       "1    2021-10-12  PIT     120\n",
       "2    2021-10-12  TBL    -140\n",
       "3    2021-10-12  SEA     235\n",
       "4    2021-10-12  VGK    -290\n",
       "5    2021-10-13  NYR     115\n",
       "...         ...  ...     ...\n",
       "2620 2022-04-29  SEA    -120\n",
       "2621 2022-04-29  NSH    -280\n",
       "2622 2022-04-29  ARI     230\n",
       "2623 2022-05-01  SEA     155\n",
       "2624 2022-05-01  WPG    -185\n",
       "\n",
       "[2624 rows x 3 columns]"
      ]
     },
     "execution_count": 153,
     "metadata": {},
     "output_type": "execute_result"
    }
   ],
   "source": [
    "archived_ml_odds_22"
   ]
  },
  {
   "attachments": {},
   "cell_type": "markdown",
   "metadata": {},
   "source": [
    "### Combine and write"
   ]
  },
  {
   "cell_type": "code",
   "execution_count": 155,
   "metadata": {},
   "outputs": [],
   "source": [
    "# Combine\n",
    "archived_ml_odds_comb = pd.concat([archived_ml_odds_21, archived_ml_odds_22], axis = 0)"
   ]
  },
  {
   "cell_type": "code",
   "execution_count": null,
   "metadata": {},
   "outputs": [],
   "source": [
    "# Ensure that odds column is an integer (there are 2 missing values for odds)\n",
    "archived_ml_odds_comb['ml_odds'] = pd.to_numeric(archived_ml_odds_comb['ml_odds'], errors='coerce').astype('Int64')"
   ]
  },
  {
   "cell_type": "code",
   "execution_count": 156,
   "metadata": {},
   "outputs": [],
   "source": [
    "# Save to file\n",
    "archived_ml_odds_comb.to_csv('../data/odds/archived_betus_ml_odds.csv', header=True, index=False)"
   ]
  }
 ],
 "metadata": {
  "kernelspec": {
   "display_name": ".venv",
   "language": "python",
   "name": "python3"
  },
  "language_info": {
   "codemirror_mode": {
    "name": "ipython",
    "version": 3
   },
   "file_extension": ".py",
   "mimetype": "text/x-python",
   "name": "python",
   "nbconvert_exporter": "python",
   "pygments_lexer": "ipython3",
   "version": "3.9.6"
  },
  "orig_nbformat": 4
 },
 "nbformat": 4,
 "nbformat_minor": 2
}
