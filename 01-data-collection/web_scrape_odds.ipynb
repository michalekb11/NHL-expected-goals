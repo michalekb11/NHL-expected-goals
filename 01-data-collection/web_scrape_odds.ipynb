{
 "cells": [
  {
   "attachments": {},
   "cell_type": "markdown",
   "metadata": {},
   "source": [
    "## Scrape odds continuously from DK"
   ]
  },
  {
   "cell_type": "code",
   "execution_count": null,
   "metadata": {},
   "outputs": [],
   "source": [
    "# Libraries\n",
    "import numpy as np\n",
    "import pandas as pd\n",
    "import datetime as dt\n",
    "import requests\n",
    "from bs4 import BeautifulSoup"
   ]
  },
  {
   "cell_type": "code",
   "execution_count": null,
   "metadata": {},
   "outputs": [],
   "source": [
    "# Variables to use in the rest of notebook\n",
    "path_to_ml_odds = '../data/odds/ml_odds.csv'\n",
    "path_to_pl_odds = '../data/odds/pl_odds.csv'\n",
    "path_to_total_odds = '../data/odds/total_odds.csv'\n",
    "dk_hockey_main_url = 'https://sportsbook.draftkings.com/leagues/hockey/nhl?category=game-lines&subcategory=game'"
   ]
  },
  {
   "cell_type": "code",
   "execution_count": null,
   "metadata": {},
   "outputs": [],
   "source": [
    "# Function to return data frames from DK containing the cleaned odds information for 1) Moneyline/Puckline and 2) O/U's\n",
    "def retrieve_today_odds(url, get_ml_odds = True, get_pl_odds = True, get_total_odds = True):\n",
    "    if not (get_ml_odds or get_pl_odds or get_total_odds):\n",
    "        print('No odds were specified.')\n",
    "        return\n",
    "\n",
    "    # Record the current date and time\n",
    "    dt_now = dt.datetime.now()\n",
    "\n",
    "    # Record the HTML code from url\n",
    "    response = requests.get(url)\n",
    "    soup = BeautifulSoup(response.text, 'html.parser')\n",
    "\n",
    "    # Each sportsbook table on the page separated in a list\n",
    "    sportsbook_tables = soup.find_all(class_ = 'sportsbook-table')\n",
    "\n",
    "    # Isolate table for today's games\n",
    "    # Note: If games for the day have NOT started yet, the word 'tomorrow' still implies 'today' on DK's website\n",
    "    # Once games begin, the word 'today' actually correspond to 'today' on DK's website\n",
    "    for ind, table in enumerate(sportsbook_tables):\n",
    "        if 'tomorrow' in [tbl.text.strip().lower() for tbl in table.find_all(class_ = 'sportsbook-table-header__title')]:\n",
    "            today_table = sportsbook_tables[ind]\n",
    "\n",
    "    # Provide the list of teams playing today given the HTML code\n",
    "    today_teams = [team.text.strip() for team in today_table.find_all(class_ = 'event-cell__name-text')]\n",
    "\n",
    "    # Number of teams that play today\n",
    "    #n_teams = len(set(today_teams))\n",
    "\n",
    "    # Gathers puck line and O/U lines (ex: -1.5, 6.5, +1.5, 6.5, etc...)\n",
    "    today_lines = [line.text for line in today_table.find_all(class_ = 'sportsbook-outcome-cell__line')]\n",
    "\n",
    "    # List of odds for today\n",
    "    today_odds = [odds.text for odds in today_table.find_all(class_ = 'sportsbook-outcome-cell__elements')]\n",
    "\n",
    "    # If user specifies to get moneyline odds\n",
    "    if get_ml_odds:\n",
    "        # List of moneyline odds for today's games\n",
    "        today_ml_odds = today_odds[2::3]\n",
    "\n",
    "        # Create the data frame for today's odds for moneyline\n",
    "        df_today_ml = pd.DataFrame({\n",
    "            'date_recorded':dt_now.date(),\n",
    "            'time_recorded':dt_now.strftime('%H:%M:%S'),\n",
    "            'date_game':dt_now.date(),\n",
    "            'team':today_teams,\n",
    "            'ml_odds':today_ml_odds\n",
    "            })\n",
    "        \n",
    "    # If user specifies to get puckline odds\n",
    "    if get_pl_odds:\n",
    "        # List of pucklines for today\n",
    "        today_pl_lines = today_lines[::2]\n",
    "\n",
    "        # List of odds for today's pucklines\n",
    "        today_pl_odds = today_odds[::3]\n",
    "\n",
    "        # Create the data frame for today's odds for puckline\n",
    "        df_today_pl = pd.DataFrame({\n",
    "            'date_recorded':dt_now.date(),\n",
    "            'time_recorded':dt_now.strftime('%H:%M:%S'),\n",
    "            'date_game':dt_now.date(),\n",
    "            'team':today_teams,\n",
    "            'pl_line':today_pl_lines,\n",
    "            'pl_odds':today_pl_odds\n",
    "            })\n",
    "        \n",
    "    # If user specifies to get O/U odds\n",
    "    if get_total_odds:\n",
    "        # List of home teams\n",
    "        today_home_teams = today_teams[1::2]\n",
    "        today_home_teams = np.repeat(today_home_teams, 2)\n",
    "\n",
    "        # List of away teams\n",
    "        today_away_teams = today_teams[::2]\n",
    "        today_away_teams = np.repeat(today_away_teams, 2)\n",
    "\n",
    "        # List of O/U lines (ex: 6.5, 6.5, 5.5, 5.5, 6, 6, etc...)\n",
    "        today_ou_lines = today_lines[1::2]\n",
    "\n",
    "        # List of O/U bet types (O then U repeated)\n",
    "        today_ou_bet_type = ['O', 'U'] * int(len(today_ou_lines) / 2)\n",
    "\n",
    "        # List of today's O/U odds\n",
    "        today_ou_odds = today_odds[1::3]\n",
    "            \n",
    "        df_today_total = pd.DataFrame({\n",
    "            'date_recorded':dt_now.date(),\n",
    "            'time_recorded':dt_now.strftime('%H:%M:%S'),\n",
    "            'date_game':dt_now.date(),\n",
    "            'home':today_home_teams,\n",
    "            'away':today_away_teams,\n",
    "            'bet_type':today_ou_bet_type,\n",
    "            'total_line':today_ou_lines,\n",
    "            'total_odds':today_ou_odds\n",
    "        })\n",
    "\n",
    "    # Return the scraped odds data frames\n",
    "    if (get_ml_odds and get_pl_odds and get_total_odds):\n",
    "        return df_today_ml, df_today_pl, df_today_total\n",
    "    elif (get_ml_odds and get_pl_odds):\n",
    "        return df_today_ml, df_today_pl\n",
    "    elif (get_ml_odds and get_total_odds):\n",
    "        return df_today_ml, df_today_total\n",
    "    elif (get_pl_odds and get_total_odds):\n",
    "        return df_today_pl, df_today_total\n",
    "    elif get_ml_odds:\n",
    "        return df_today_ml\n",
    "    elif get_pl_odds:\n",
    "        return df_today_pl\n",
    "    else:\n",
    "        return df_today_total\n"
   ]
  },
  {
   "cell_type": "code",
   "execution_count": null,
   "metadata": {},
   "outputs": [],
   "source": [
    "# Use function to collect odds into 2 data frames\n",
    "df_today_ml_odds, df_today_pl_odds, df_today_total_odds = retrieve_today_odds(url = dk_hockey_main_url, get_ml_odds=True, get_pl_odds=True, get_total_odds=True)"
   ]
  },
  {
   "attachments": {},
   "cell_type": "markdown",
   "metadata": {},
   "source": [
    "### Write data frames to files or update an existing ones"
   ]
  },
  {
   "cell_type": "code",
   "execution_count": null,
   "metadata": {},
   "outputs": [],
   "source": [
    "try:\n",
    "    current_ml_odds = pd.read_csv(path_to_ml_odds)\n",
    "    updated_ml_odds = pd.concat([current_ml_odds, df_today_ml_odds], axis=0).reset_index(drop=True)\n",
    "    #display(updated_ml_odds)\n",
    "    updated_ml_odds.to_csv(path_to_ml_odds, header=True, index=False)\n",
    "except:\n",
    "    raise Exception('This is where I will add other validations when trying to update the old CSV.')"
   ]
  },
  {
   "cell_type": "code",
   "execution_count": null,
   "metadata": {},
   "outputs": [],
   "source": [
    "try:\n",
    "    current_pl_odds = pd.read_csv(path_to_pl_odds)\n",
    "    updated_pl_odds = pd.concat([current_pl_odds, df_today_pl_odds], axis=0).reset_index(drop=True)\n",
    "    #display(updated_pl_odds)\n",
    "    updated_pl_odds.to_csv(path_to_pl_odds, header=True, index=False)\n",
    "except:\n",
    "    raise Exception('This is where I will add other validations when trying to update the old CSV.')"
   ]
  },
  {
   "cell_type": "code",
   "execution_count": null,
   "metadata": {},
   "outputs": [],
   "source": [
    "try:\n",
    "    current_total_odds = pd.read_csv(path_to_total_odds)\n",
    "    updated_total_odds = pd.concat([current_total_odds, df_today_total_odds], axis=0).reset_index(drop=True)\n",
    "    #display(updated_total_odds)\n",
    "    updated_total_odds.to_csv(path_to_total_odds, header=True, index=False)\n",
    "except:\n",
    "    raise Exception('This is where I will add other validations when trying to update the old CSV.')"
   ]
  }
 ],
 "metadata": {
  "kernelspec": {
   "display_name": "Python 3",
   "language": "python",
   "name": "python3"
  },
  "language_info": {
   "codemirror_mode": {
    "name": "ipython",
    "version": 3
   },
   "file_extension": ".py",
   "mimetype": "text/x-python",
   "name": "python",
   "nbconvert_exporter": "python",
   "pygments_lexer": "ipython3",
   "version": "3.9.6"
  },
  "orig_nbformat": 4,
  "vscode": {
   "interpreter": {
    "hash": "31f2aee4e71d21fbe5cf8b01ff0e069b9275f58929596ceb00d14d90e3e16cd6"
   }
  }
 },
 "nbformat": 4,
 "nbformat_minor": 2
}
