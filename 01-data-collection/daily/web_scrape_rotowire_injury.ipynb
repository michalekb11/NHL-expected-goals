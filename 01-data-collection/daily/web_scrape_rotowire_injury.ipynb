{
 "cells": [
  {
   "cell_type": "markdown",
   "metadata": {},
   "source": [
    "### Rotowire injuries\n",
    "Use the selenium package to initiate a web driver that goes to rotowire and clicks on the button to download the CSV file of injuries. Then, read in the CSV, do some manipulations, store the results, and delete the original CSV from the original download location for cleanliness."
   ]
  },
  {
   "cell_type": "code",
   "execution_count": 16,
   "metadata": {},
   "outputs": [],
   "source": [
    "# Packages\n",
    "import pandas as pd\n",
    "from selenium import webdriver\n",
    "from selenium.webdriver.common.by import By\n",
    "import json\n",
    "import datetime as dt\n",
    "import time"
   ]
  },
  {
   "cell_type": "code",
   "execution_count": null,
   "metadata": {},
   "outputs": [],
   "source": [
    "# Specifiy the URL where injury information is located\n",
    "roto_url = 'https://www.rotowire.com/hockey/injury-report.php'"
   ]
  },
  {
   "cell_type": "code",
   "execution_count": null,
   "metadata": {},
   "outputs": [],
   "source": [
    "# Read in team name to 3 letter code dictionary\n",
    "with open('../../data/team_name_dictionary.txt', 'r') as f:\n",
    "    team_name_dict = json.load(f)"
   ]
  },
  {
   "cell_type": "code",
   "execution_count": 28,
   "metadata": {},
   "outputs": [],
   "source": [
    "# Function for entire process\n",
    "def get_rw_injuries(url):\n",
    "    # Read in team name to 3 letter code dictionary\n",
    "    with open('../../data/team_name_dictionary.txt', 'r') as f:\n",
    "        team_name_dict = json.load(f)\n",
    "\n",
    "    # Record current date and time\n",
    "    dt_now = dt.datetime.now()\n",
    "    date_recorded = dt_now.date()\n",
    "    time_recorded = dt_now.time().strftime(format = '%H:%M:%S')\n",
    "\n",
    "    # Create a new instance of the Chrome driver\n",
    "    options = webdriver.ChromeOptions()\n",
    "    options.add_argument('headless=new')\n",
    "    driver = webdriver.Chrome(options=options)\n",
    "\n",
    "    # Navigate to the url\n",
    "    driver.get(roto_url)\n",
    "    time.sleep(3)\n",
    "    \n",
    "    # Locate the \"CSV\" button by its HTML class and click on it\n",
    "    driver.find_element(By.CLASS_NAME, 'export-button.is-csv').click()\n",
    "    time.sleep(3)\n",
    "    \n",
    "    # Close the driver\n",
    "    driver.quit()\n",
    "\n",
    "    # Read in the CSV file from the default download location\n",
    "    injuries_current = pd.read_csv('~/Downloads/nhl-injury-report.csv')\n",
    "\n",
    "    # Drop columns we don't need\n",
    "    injuries_current.drop(columns = ['Pos', 'Est. Return', 'Next Game (EST)'], inplace=True)\n",
    "\n",
    "    # Rename remaining columns\n",
    "    injuries_current.rename(columns={'Player':'name', 'Team':'team', 'Injury':'type', 'Status':'status'}, inplace=True)\n",
    "\n",
    "    # Convert team to 3-letter code\n",
    "    injuries_current['team'] = injuries_current['team'].str.lower().replace(team_name_dict)\n",
    "\n",
    "    # Make type lowercase\n",
    "    injuries_current['type'] = injuries_current['type'].str.strip().str.lower()\n",
    "\n",
    "    # Convert injury status to code\n",
    "    injuries_current.loc[injuries_current['status'] == 'Out', 'status'] = 'O'\n",
    "    injuries_current.loc[injuries_current['status'] == 'Day-To-Day', 'status'] = 'DTD'\n",
    "\n",
    "    # Add columns for date and time of recording\n",
    "    injuries_current['date_recorded'] = date_recorded\n",
    "    injuries_current['time_recorded'] = time_recorded\n",
    "\n",
    "    # Set correct column order\n",
    "    injuries_current = injuries_current[['name', 'team', 'date_recorded', 'time_recorded', 'type', 'status']]\n",
    "\n",
    "    # Delete the original download file from rotowire\n",
    "    !rm ~/Downloads/nhl-injury-report.csv\n",
    "\n",
    "    return injuries_current"
   ]
  },
  {
   "cell_type": "code",
   "execution_count": null,
   "metadata": {},
   "outputs": [],
   "source": [
    "# Record current date and time\n",
    "dt_now = dt.datetime.now()\n",
    "date_recorded = dt_now.date()\n",
    "time_recorded = dt_now.time().strftime(format = '%H:%M:%S')"
   ]
  },
  {
   "cell_type": "code",
   "execution_count": null,
   "metadata": {},
   "outputs": [],
   "source": [
    "# Create a new instance of the Chrome driver\n",
    "options = webdriver.ChromeOptions()\n",
    "options.add_argument('headless=new')\n",
    "driver = webdriver.Chrome(options=options)\n",
    "\n",
    "# Navigate to the url\n",
    "driver.get(roto_url)"
   ]
  },
  {
   "cell_type": "code",
   "execution_count": null,
   "metadata": {},
   "outputs": [],
   "source": [
    "# Code would not work if I put them in the same code chunk. No idea why. Needed separate code chunks.\n",
    "# Locate the \"CSV\" button by its HTML class and click on it\n",
    "driver.find_element(By.CLASS_NAME, 'export-button.is-csv').click()"
   ]
  },
  {
   "cell_type": "code",
   "execution_count": null,
   "metadata": {},
   "outputs": [],
   "source": [
    "# Close the driver\n",
    "driver.quit()"
   ]
  },
  {
   "cell_type": "code",
   "execution_count": null,
   "metadata": {},
   "outputs": [],
   "source": [
    "# Read in the CSV file from the default download location\n",
    "injuries_current = pd.read_csv('~/Downloads/nhl-injury-report.csv')"
   ]
  },
  {
   "cell_type": "code",
   "execution_count": null,
   "metadata": {},
   "outputs": [],
   "source": [
    "# Drop columns we don't need\n",
    "injuries_current.drop(columns = ['Pos', 'Est. Return', 'Next Game (EST)'], inplace=True)\n",
    "\n",
    "# Rename remaining columns\n",
    "injuries_current.rename(columns={'Player':'name', 'Team':'team', 'Injury':'type', 'Status':'status'}, inplace=True)\n",
    "\n",
    "# Convert team to 3-letter code\n",
    "injuries_current['team'] = injuries_current['team'].str.lower().replace(team_name_dict)\n",
    "\n",
    "# Make type lowercase\n",
    "injuries_current['type'] = injuries_current['type'].str.strip().str.lower()\n",
    "\n",
    "# Convert injury status to code\n",
    "injuries_current.loc[injuries_current['status'] == 'Out', 'status'] = 'O'\n",
    "injuries_current.loc[injuries_current['status'] == 'Day-To-Day', 'status'] = 'DTD'\n",
    "\n",
    "# Add columns for date and time of recording\n",
    "injuries_current['date_recorded'] = date_recorded\n",
    "injuries_current['time_recorded'] = time_recorded\n",
    "\n",
    "# Set correct column order\n",
    "injuries_current = injuries_current[['name', 'team', 'date_recorded', 'time_recorded', 'type', 'status']]"
   ]
  },
  {
   "cell_type": "code",
   "execution_count": null,
   "metadata": {},
   "outputs": [],
   "source": [
    "# See table\n",
    "display(injuries_current)"
   ]
  },
  {
   "cell_type": "code",
   "execution_count": null,
   "metadata": {},
   "outputs": [],
   "source": [
    "# See unique values\n",
    "print(injuries_current['team'].unique())\n",
    "print()\n",
    "print(injuries_current['type'].unique())\n",
    "print()\n",
    "print(injuries_current['status'].unique())"
   ]
  },
  {
   "cell_type": "code",
   "execution_count": null,
   "metadata": {},
   "outputs": [],
   "source": [
    "# Update\n",
    "injuries_old = pd.read_csv('../../data/daily/injuries.csv')\n",
    "injuries_updated = pd.concat([injuries_old, injuries_current], axis=0)\n",
    "injuries_updated.to_csv('../../data/daily/injuries.csv')"
   ]
  },
  {
   "cell_type": "code",
   "execution_count": 22,
   "metadata": {},
   "outputs": [],
   "source": [
    "# Delete the original download file from rotowire\n",
    "!rm ~/Downloads/nhl-injury-report.csv"
   ]
  },
  {
   "cell_type": "code",
   "execution_count": null,
   "metadata": {},
   "outputs": [],
   "source": []
  }
 ],
 "metadata": {
  "kernelspec": {
   "display_name": ".venv",
   "language": "python",
   "name": "python3"
  },
  "language_info": {
   "codemirror_mode": {
    "name": "ipython",
    "version": 3
   },
   "file_extension": ".py",
   "mimetype": "text/x-python",
   "name": "python",
   "nbconvert_exporter": "python",
   "pygments_lexer": "ipython3",
   "version": "3.9.6"
  },
  "orig_nbformat": 4
 },
 "nbformat": 4,
 "nbformat_minor": 2
}
