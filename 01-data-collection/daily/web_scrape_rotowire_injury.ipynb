{
 "cells": [
  {
   "cell_type": "markdown",
   "metadata": {},
   "source": [
    "### Rotowire injuries\n",
    "Use the selenium package to initiate a web driver that goes to rotowire and clicks on the button to download the CSV file of injuries. Then, read in the CSV, do some manipulations, store the results, and delete the original CSV from the original download location for cleanliness."
   ]
  },
  {
   "cell_type": "code",
   "execution_count": 29,
   "metadata": {},
   "outputs": [],
   "source": [
    "# Packages\n",
    "import pandas as pd\n",
    "from selenium import webdriver\n",
    "from selenium.webdriver.common.by import By\n",
    "import json\n",
    "import datetime as dt"
   ]
  },
  {
   "cell_type": "code",
   "execution_count": 7,
   "metadata": {},
   "outputs": [],
   "source": [
    "# Specifiy the URL where injury information is located\n",
    "roto_url = 'https://www.rotowire.com/hockey/injury-report.php'"
   ]
  },
  {
   "cell_type": "code",
   "execution_count": 24,
   "metadata": {},
   "outputs": [],
   "source": [
    "# Read in team name to 3 letter code dictionary\n",
    "with open('../../data/team_name_dictionary.txt', 'r') as f:\n",
    "    team_name_dict = json.load(f)"
   ]
  },
  {
   "cell_type": "code",
   "execution_count": 30,
   "metadata": {},
   "outputs": [],
   "source": [
    "# Record current date and time\n",
    "dt_now = dt.datetime.now()\n",
    "date_recorded = dt_now.date()\n",
    "time_recorded = dt_now.time().strftime(format = '%H:%M:%S')"
   ]
  },
  {
   "cell_type": "code",
   "execution_count": 8,
   "metadata": {},
   "outputs": [],
   "source": [
    "# Create a new instance of the Chrome driver\n",
    "options = webdriver.ChromeOptions()\n",
    "options.add_argument('headless=new')\n",
    "driver = webdriver.Chrome(options=options)\n",
    "\n",
    "# Navigate to the url\n",
    "driver.get(roto_url)"
   ]
  },
  {
   "cell_type": "code",
   "execution_count": 9,
   "metadata": {},
   "outputs": [],
   "source": [
    "# Code would not work if I put them in the same code chunk. No idea why. Needed separate code chunks.\n",
    "# Locate the \"CSV\" button by its HTML class and click on it\n",
    "driver.find_element(By.CLASS_NAME, 'export-button.is-csv').click()\n",
    "\n",
    "# Close the driver\n",
    "driver.quit()"
   ]
  },
  {
   "cell_type": "code",
   "execution_count": 44,
   "metadata": {},
   "outputs": [],
   "source": [
    "# Read in the CSV file from the default download location\n",
    "injuries = pd.read_csv('~/Downloads/nhl-injury-report.csv')"
   ]
  },
  {
   "cell_type": "code",
   "execution_count": 45,
   "metadata": {},
   "outputs": [],
   "source": [
    "# Drop columns we don't need\n",
    "injuries.drop(columns = ['Pos', 'Est. Return', 'Next Game (EST)'], inplace=True)\n",
    "\n",
    "# Rename remaining columns\n",
    "injuries.rename(columns={'Player':'name', 'Team':'team', 'Injury':'type', 'Status':'status'}, inplace=True)\n",
    "\n",
    "# Convert team to 3-letter code\n",
    "injuries['team'] = injuries['team'].str.lower().replace(team_name_dict)\n",
    "\n",
    "# Convert injury status to code\n",
    "injuries.loc[injuries['status'] == 'Out', 'status'] = 'O'\n",
    "injuries.loc[injuries['status'] == 'Day-To-Day', 'status'] = 'DTD'\n",
    "\n",
    "# Add columns for date and time of recording\n",
    "injuries['date_recorded'] = date_recorded\n",
    "injuries['time_recorded'] = time_recorded\n",
    "\n",
    "# Set correct column order\n",
    "injuries = injuries[['name', 'team', 'date_recorded', 'time_recorded', 'type', 'status']]"
   ]
  },
  {
   "cell_type": "code",
   "execution_count": 48,
   "metadata": {},
   "outputs": [
    {
     "name": "stdout",
     "output_type": "stream",
     "text": [
      "['ARI' 'LAK' 'STL' 'CBJ' 'PIT' 'BUF' 'OTT' 'TOR' 'WSH' 'COL' 'MIN' 'NYR'\n",
      " 'DAL' 'EDM' 'WPG' 'ANA' 'CGY' 'VGK' 'SJS' 'VAN' 'FLA' 'NSH' 'MTL' 'NJD'\n",
      " 'PHI' 'SEA' 'CAR' 'DET' 'NYI' 'TBL' 'CHI']\n",
      "\n",
      "['Concussion' 'Undisclosed' 'Ankle' 'Shoulder' 'Lower Body' 'Upper Body'\n",
      " 'Back' 'Triceps' 'Lower Leg' 'Hand' 'Wrist' 'Hamstring' 'Kneecap' 'Neck'\n",
      " 'Achilles' 'Abdomen' 'Leg' 'Toe' 'Groin' 'Knee' 'Hip' 'Personal' 'Arm'\n",
      " 'Head' 'Chest']\n",
      "\n",
      "['O' 'IR-LT' 'IR' 'DTD' 'IR-NR']\n"
     ]
    }
   ],
   "source": [
    "print(injuries['team'].unique())\n",
    "print()\n",
    "print(injuries['type'].unique())\n",
    "print()\n",
    "print(injuries['status'].unique())"
   ]
  },
  {
   "cell_type": "code",
   "execution_count": 49,
   "metadata": {},
   "outputs": [
    {
     "data": {
      "text/html": [
       "<div>\n",
       "<style scoped>\n",
       "    .dataframe tbody tr th:only-of-type {\n",
       "        vertical-align: middle;\n",
       "    }\n",
       "\n",
       "    .dataframe tbody tr th {\n",
       "        vertical-align: top;\n",
       "    }\n",
       "\n",
       "    .dataframe thead th {\n",
       "        text-align: right;\n",
       "    }\n",
       "</style>\n",
       "<table border=\"1\" class=\"dataframe\">\n",
       "  <thead>\n",
       "    <tr style=\"text-align: right;\">\n",
       "      <th></th>\n",
       "      <th>name</th>\n",
       "      <th>team</th>\n",
       "      <th>date_recorded</th>\n",
       "      <th>time_recorded</th>\n",
       "      <th>type</th>\n",
       "      <th>status</th>\n",
       "    </tr>\n",
       "  </thead>\n",
       "  <tbody>\n",
       "    <tr>\n",
       "      <th>0</th>\n",
       "      <td>Matt Dumba</td>\n",
       "      <td>ARI</td>\n",
       "      <td>2023-08-31</td>\n",
       "      <td>15:59:06</td>\n",
       "      <td>Concussion</td>\n",
       "      <td>O</td>\n",
       "    </tr>\n",
       "    <tr>\n",
       "      <th>1</th>\n",
       "      <td>Travis Dermott</td>\n",
       "      <td>ARI</td>\n",
       "      <td>2023-08-31</td>\n",
       "      <td>15:59:06</td>\n",
       "      <td>Undisclosed</td>\n",
       "      <td>O</td>\n",
       "    </tr>\n",
       "    <tr>\n",
       "      <th>2</th>\n",
       "      <td>Shea Weber</td>\n",
       "      <td>ARI</td>\n",
       "      <td>2023-08-31</td>\n",
       "      <td>15:59:06</td>\n",
       "      <td>Ankle</td>\n",
       "      <td>IR-LT</td>\n",
       "    </tr>\n",
       "    <tr>\n",
       "      <th>3</th>\n",
       "      <td>David Rittich</td>\n",
       "      <td>LAK</td>\n",
       "      <td>2023-08-31</td>\n",
       "      <td>15:59:06</td>\n",
       "      <td>Ankle</td>\n",
       "      <td>O</td>\n",
       "    </tr>\n",
       "    <tr>\n",
       "      <th>4</th>\n",
       "      <td>Akil Thomas</td>\n",
       "      <td>LAK</td>\n",
       "      <td>2023-08-31</td>\n",
       "      <td>15:59:06</td>\n",
       "      <td>Shoulder</td>\n",
       "      <td>O</td>\n",
       "    </tr>\n",
       "    <tr>\n",
       "      <th>...</th>\n",
       "      <td>...</td>\n",
       "      <td>...</td>\n",
       "      <td>...</td>\n",
       "      <td>...</td>\n",
       "      <td>...</td>\n",
       "      <td>...</td>\n",
       "    </tr>\n",
       "    <tr>\n",
       "      <th>132</th>\n",
       "      <td>Bryan Little</td>\n",
       "      <td>ARI</td>\n",
       "      <td>2023-08-31</td>\n",
       "      <td>15:59:06</td>\n",
       "      <td>Head</td>\n",
       "      <td>IR-LT</td>\n",
       "    </tr>\n",
       "    <tr>\n",
       "      <th>133</th>\n",
       "      <td>Jakub Voracek</td>\n",
       "      <td>ARI</td>\n",
       "      <td>2023-08-31</td>\n",
       "      <td>15:59:06</td>\n",
       "      <td>Concussion</td>\n",
       "      <td>IR</td>\n",
       "    </tr>\n",
       "    <tr>\n",
       "      <th>134</th>\n",
       "      <td>Carey Price</td>\n",
       "      <td>MTL</td>\n",
       "      <td>2023-08-31</td>\n",
       "      <td>15:59:06</td>\n",
       "      <td>Knee</td>\n",
       "      <td>IR-LT</td>\n",
       "    </tr>\n",
       "    <tr>\n",
       "      <th>135</th>\n",
       "      <td>Ryan Ellis</td>\n",
       "      <td>PHI</td>\n",
       "      <td>2023-08-31</td>\n",
       "      <td>15:59:06</td>\n",
       "      <td>Back</td>\n",
       "      <td>IR-LT</td>\n",
       "    </tr>\n",
       "    <tr>\n",
       "      <th>136</th>\n",
       "      <td>Gabriel Landeskog</td>\n",
       "      <td>COL</td>\n",
       "      <td>2023-08-31</td>\n",
       "      <td>15:59:06</td>\n",
       "      <td>Knee</td>\n",
       "      <td>IR-LT</td>\n",
       "    </tr>\n",
       "  </tbody>\n",
       "</table>\n",
       "<p>137 rows × 6 columns</p>\n",
       "</div>"
      ],
      "text/plain": [
       "                  name team date_recorded time_recorded         type status\n",
       "0           Matt Dumba  ARI    2023-08-31      15:59:06   Concussion      O\n",
       "1       Travis Dermott  ARI    2023-08-31      15:59:06  Undisclosed      O\n",
       "2           Shea Weber  ARI    2023-08-31      15:59:06        Ankle  IR-LT\n",
       "3        David Rittich  LAK    2023-08-31      15:59:06        Ankle      O\n",
       "4          Akil Thomas  LAK    2023-08-31      15:59:06     Shoulder      O\n",
       "..                 ...  ...           ...           ...          ...    ...\n",
       "132       Bryan Little  ARI    2023-08-31      15:59:06         Head  IR-LT\n",
       "133      Jakub Voracek  ARI    2023-08-31      15:59:06   Concussion     IR\n",
       "134        Carey Price  MTL    2023-08-31      15:59:06         Knee  IR-LT\n",
       "135         Ryan Ellis  PHI    2023-08-31      15:59:06         Back  IR-LT\n",
       "136  Gabriel Landeskog  COL    2023-08-31      15:59:06         Knee  IR-LT\n",
       "\n",
       "[137 rows x 6 columns]"
      ]
     },
     "metadata": {},
     "output_type": "display_data"
    }
   ],
   "source": [
    "display(injuries)"
   ]
  },
  {
   "cell_type": "code",
   "execution_count": 50,
   "metadata": {},
   "outputs": [],
   "source": [
    "# Write/update CSV\n",
    "\n",
    "# Delete the original download file from rotowire\n",
    "!rm ~/Downloads/nhl-injury-report.csv"
   ]
  },
  {
   "cell_type": "code",
   "execution_count": null,
   "metadata": {},
   "outputs": [],
   "source": []
  }
 ],
 "metadata": {
  "kernelspec": {
   "display_name": ".venv",
   "language": "python",
   "name": "python3"
  },
  "language_info": {
   "codemirror_mode": {
    "name": "ipython",
    "version": 3
   },
   "file_extension": ".py",
   "mimetype": "text/x-python",
   "name": "python",
   "nbconvert_exporter": "python",
   "pygments_lexer": "ipython3",
   "version": "3.9.6"
  },
  "orig_nbformat": 4
 },
 "nbformat": 4,
 "nbformat_minor": 2
}
