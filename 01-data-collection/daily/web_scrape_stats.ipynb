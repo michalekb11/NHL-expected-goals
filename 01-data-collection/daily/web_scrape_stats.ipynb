{
 "cells": [
  {
   "cell_type": "markdown",
   "metadata": {},
   "source": [
    "### Daily scrape of player statistics\n",
    "To get a game log of someone who played in the past (yesterday)\n",
    "1. Scan the skater statistics table and gather all unique player ID's.... and team??? Idk how to make team work...\n",
    "2. Go to their game log URLs and see whether they played yesterday\n",
    "3. If so, log that game?\n",
    "4. ???????\n",
    "\n",
    "There is an issue that arises when we can't find everyone that played yesterday... if we guess on the players (say we look at the teams active roster) but we only find 17/20 players that actually played yesterday, then we are missing data. We don't have data on the full game. This would need to be corrected at a later point in time. The only way to do this is to do an \"exhaustive search\" and look at every game log for every player. However, this is extremely expensive in terms of time, and cannot be done daily.\n",
    "\n",
    "As a result, for the time being, I will do this exhaustive search once now (~Jan 18th), and I could do it again at a later point in time close to the end of the season if need be.\n",
    "\n",
    "The daily scrape when a model is up and running will be an issue that needs to be solved at a later point in time."
   ]
  }
 ],
 "metadata": {
  "kernelspec": {
   "display_name": ".venv",
   "language": "python",
   "name": "python3"
  },
  "language_info": {
   "codemirror_mode": {
    "name": "ipython",
    "version": 3
   },
   "file_extension": ".py",
   "mimetype": "text/x-python",
   "name": "python",
   "nbconvert_exporter": "python",
   "pygments_lexer": "ipython3",
   "version": "3.9.6"
  }
 },
 "nbformat": 4,
 "nbformat_minor": 2
}
