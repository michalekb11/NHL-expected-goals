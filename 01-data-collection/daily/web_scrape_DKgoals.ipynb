{
 "cells": [
  {
   "cell_type": "code",
   "execution_count": 94,
   "metadata": {},
   "outputs": [],
   "source": [
    "# Libraries\n",
    "import pandas as pd\n",
    "import datetime as dt\n",
    "import json\n",
    "from selenium import webdriver\n",
    "from selenium.webdriver.common.by import By\n",
    "from selenium.webdriver.support.ui import WebDriverWait\n",
    "from selenium.webdriver.support import expected_conditions as EC"
   ]
  },
  {
   "cell_type": "code",
   "execution_count": 96,
   "metadata": {},
   "outputs": [],
   "source": [
    "# Read in team name to 3 letter code dictionary\n",
    "with open('../../data/team_name_dictionary.txt', 'r') as f:\n",
    "    team_name_dict = json.load(f)"
   ]
  },
  {
   "cell_type": "code",
   "execution_count": 93,
   "metadata": {},
   "outputs": [
    {
     "name": "stdout",
     "output_type": "stream",
     "text": [
      "['NSH Predators', 'Draw', 'TB Lightning', 'CHI Blackhawks', 'Draw', 'PIT Penguins', 'SEA Kraken', 'Draw', 'VGK Golden Knights']\n",
      "[225, 340, -115, 275, 370, -140, 210, 330, -105]\n"
     ]
    }
   ],
   "source": [
    "\n",
    "# Configure Chrome options\n",
    "options = webdriver.ChromeOptions()\n",
    "options.add_argument('--headless')  # Run in headless mode\n",
    "\n",
    "# Create a WebDriver instance\n",
    "driver = webdriver.Chrome(options=options)\n",
    "\n",
    "# URL to scrape\n",
    "url = 'https://sportsbook.draftkings.com/leagues/hockey/nhl?category=game-lines&subcategory=60-min-line'\n",
    "\n",
    "# Open the URL\n",
    "driver.get(url)\n",
    "\n",
    "# Explicitly wait for the elements with the specified class to appear\n",
    "wait = WebDriverWait(driver, 15)  # Wait for up to 30 seconds\n",
    "\n",
    "# Get each game card\n",
    "game_cards = wait.until(EC.presence_of_all_elements_located((By.CLASS_NAME, 'sportsbook-event-accordion__wrapper.expanded')))\n",
    "\n",
    "# Only keep the game cards that are on today's date\n",
    "month_mapping = {\n",
    "    'JAN': 1, 'FEB': 2, 'MAR': 3, 'APR': 4, 'MAY': 5, 'JUN': 6,\n",
    "    'JUL': 7, 'AUG': 8, 'SEP': 9, 'OCT': 10, 'NOV': 11, 'DEC': 12\n",
    "}\n",
    "\n",
    "bet_options = []\n",
    "odds = []\n",
    "\n",
    "for card in game_cards:\n",
    "    date = card.find_element(By.CLASS_NAME, 'sportsbook-event-accordion__date').text\n",
    "    split_date = date.split()\n",
    "    parts_to_keep = []\n",
    "    for part in split_date:\n",
    "        if part.endswith('AM') or part.endswith('PM') or part in ['MON', 'TUE', 'WED', 'THU', 'FRI', 'SAT', 'SUN']:\n",
    "            continue\n",
    "        elif part.endswith('TH'):\n",
    "            part = part[:-2]\n",
    "            parts_to_keep.append(part)\n",
    "        else:\n",
    "            parts_to_keep.append(month_mapping[part])\n",
    "    date = dt.date(dt.datetime.now().year, int(parts_to_keep[0]), int(parts_to_keep[1]))\n",
    "    if date == dt.date(2023, 10, 10):\n",
    "        bet_options_single_game = card.find_elements(By.CLASS_NAME, 'sportsbook-outcome-cell__label')\n",
    "        bet_options_single_game = [opt.text for opt in bet_options_single_game]\n",
    "        bet_options.extend(bet_options_single_game)\n",
    "\n",
    "        odds_single_game = card.find_elements(By.CLASS_NAME, 'sportsbook-odds.american.default-color')\n",
    "        odds_single_game = [int(odd.text.replace(\"−\", \"-\")) for odd in odds_single_game]\n",
    "        odds.extend(odds_single_game)\n",
    "\n",
    "\n",
    "print(bet_options)\n",
    "print(odds)\n",
    "\n",
    "# Quit the WebDriver\n",
    "driver.quit()\n"
   ]
  }
 ],
 "metadata": {
  "kernelspec": {
   "display_name": ".venv",
   "language": "python",
   "name": "python3"
  },
  "language_info": {
   "codemirror_mode": {
    "name": "ipython",
    "version": 3
   },
   "file_extension": ".py",
   "mimetype": "text/x-python",
   "name": "python",
   "nbconvert_exporter": "python",
   "pygments_lexer": "ipython3",
   "version": "3.9.6"
  },
  "orig_nbformat": 4
 },
 "nbformat": 4,
 "nbformat_minor": 2
}
