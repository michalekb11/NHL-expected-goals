{
 "cells": [
  {
   "attachments": {},
   "cell_type": "markdown",
   "metadata": {},
   "source": [
    "## Get the schedule and results of each NHL game in a particular season\n",
    "If you run this file a few times during the middle of the season and once at the end of a season, it will update and fill all the games that have not happened yet. As a result, no reason to store daily results in a CSV. In the production file, I will try to set up a scrape that directly inserts into the MySQL database. If for whatever reason that has trouble, can use this file to save to CSV instead."
   ]
  },
  {
   "cell_type": "code",
   "execution_count": 1,
   "metadata": {},
   "outputs": [],
   "source": [
    "import pandas as pd\n",
    "import numpy as np\n",
    "import json"
   ]
  },
  {
   "cell_type": "code",
   "execution_count": 3,
   "metadata": {},
   "outputs": [],
   "source": [
    "# Read in team name dictionary for cleaning\n",
    "with open('../../data/team_name_dictionary.txt', 'r') as f:\n",
    "    # Load the dictionary from the file\n",
    "    team_name_dict = json.load(f)"
   ]
  },
  {
   "cell_type": "code",
   "execution_count": 4,
   "metadata": {},
   "outputs": [],
   "source": [
    "# User input\n",
    "season = 2024\n",
    "url = 'https://www.hockey-reference.com/leagues/NHL_' + str(season) + '_games.html'"
   ]
  },
  {
   "cell_type": "code",
   "execution_count": 5,
   "metadata": {},
   "outputs": [],
   "source": [
    "# Get the schedule from hockey reference for the given season\n",
    "season_results = pd.read_html(url, attrs={'class':'stats_table', 'id':'games'})[0]"
   ]
  },
  {
   "cell_type": "code",
   "execution_count": 6,
   "metadata": {},
   "outputs": [],
   "source": [
    "# Clean up the schedule\n",
    "season_results.drop(columns=['Att.', 'LOG', 'Notes'], inplace = True)\n",
    "season_results.columns = ['date', 'away', 'away_G',  'home', 'home_G', 'OT_status']\n",
    "season_results['away'] = season_results['away'].str.lower().replace(team_name_dict)\n",
    "season_results['home'] = season_results['home'].str.lower().replace(team_name_dict)"
   ]
  },
  {
   "cell_type": "code",
   "execution_count": 7,
   "metadata": {},
   "outputs": [
    {
     "data": {
      "text/html": [
       "<div>\n",
       "<style scoped>\n",
       "    .dataframe tbody tr th:only-of-type {\n",
       "        vertical-align: middle;\n",
       "    }\n",
       "\n",
       "    .dataframe tbody tr th {\n",
       "        vertical-align: top;\n",
       "    }\n",
       "\n",
       "    .dataframe thead th {\n",
       "        text-align: right;\n",
       "    }\n",
       "</style>\n",
       "<table border=\"1\" class=\"dataframe\">\n",
       "  <thead>\n",
       "    <tr style=\"text-align: right;\">\n",
       "      <th></th>\n",
       "      <th>date</th>\n",
       "      <th>away</th>\n",
       "      <th>away_G</th>\n",
       "      <th>home</th>\n",
       "      <th>home_G</th>\n",
       "      <th>OT_status</th>\n",
       "    </tr>\n",
       "  </thead>\n",
       "  <tbody>\n",
       "    <tr>\n",
       "      <th>0</th>\n",
       "      <td>2023-10-10</td>\n",
       "      <td>CHI</td>\n",
       "      <td>4.0</td>\n",
       "      <td>PIT</td>\n",
       "      <td>2.0</td>\n",
       "      <td>NaN</td>\n",
       "    </tr>\n",
       "    <tr>\n",
       "      <th>1</th>\n",
       "      <td>2023-10-10</td>\n",
       "      <td>NSH</td>\n",
       "      <td>3.0</td>\n",
       "      <td>TBL</td>\n",
       "      <td>5.0</td>\n",
       "      <td>NaN</td>\n",
       "    </tr>\n",
       "    <tr>\n",
       "      <th>2</th>\n",
       "      <td>2023-10-10</td>\n",
       "      <td>SEA</td>\n",
       "      <td>1.0</td>\n",
       "      <td>VGK</td>\n",
       "      <td>4.0</td>\n",
       "      <td>NaN</td>\n",
       "    </tr>\n",
       "    <tr>\n",
       "      <th>3</th>\n",
       "      <td>2023-10-11</td>\n",
       "      <td>CHI</td>\n",
       "      <td>1.0</td>\n",
       "      <td>BOS</td>\n",
       "      <td>3.0</td>\n",
       "      <td>NaN</td>\n",
       "    </tr>\n",
       "    <tr>\n",
       "      <th>4</th>\n",
       "      <td>2023-10-11</td>\n",
       "      <td>OTT</td>\n",
       "      <td>3.0</td>\n",
       "      <td>CAR</td>\n",
       "      <td>5.0</td>\n",
       "      <td>NaN</td>\n",
       "    </tr>\n",
       "    <tr>\n",
       "      <th>...</th>\n",
       "      <td>...</td>\n",
       "      <td>...</td>\n",
       "      <td>...</td>\n",
       "      <td>...</td>\n",
       "      <td>...</td>\n",
       "      <td>...</td>\n",
       "    </tr>\n",
       "    <tr>\n",
       "      <th>1307</th>\n",
       "      <td>2024-04-18</td>\n",
       "      <td>EDM</td>\n",
       "      <td>NaN</td>\n",
       "      <td>COL</td>\n",
       "      <td>NaN</td>\n",
       "      <td>NaN</td>\n",
       "    </tr>\n",
       "    <tr>\n",
       "      <th>1308</th>\n",
       "      <td>2024-04-18</td>\n",
       "      <td>CHI</td>\n",
       "      <td>NaN</td>\n",
       "      <td>LAK</td>\n",
       "      <td>NaN</td>\n",
       "      <td>NaN</td>\n",
       "    </tr>\n",
       "    <tr>\n",
       "      <th>1309</th>\n",
       "      <td>2024-04-18</td>\n",
       "      <td>SEA</td>\n",
       "      <td>NaN</td>\n",
       "      <td>MIN</td>\n",
       "      <td>NaN</td>\n",
       "      <td>NaN</td>\n",
       "    </tr>\n",
       "    <tr>\n",
       "      <th>1310</th>\n",
       "      <td>2024-04-18</td>\n",
       "      <td>ANA</td>\n",
       "      <td>NaN</td>\n",
       "      <td>VGK</td>\n",
       "      <td>NaN</td>\n",
       "      <td>NaN</td>\n",
       "    </tr>\n",
       "    <tr>\n",
       "      <th>1311</th>\n",
       "      <td>2024-04-18</td>\n",
       "      <td>VAN</td>\n",
       "      <td>NaN</td>\n",
       "      <td>WPG</td>\n",
       "      <td>NaN</td>\n",
       "      <td>NaN</td>\n",
       "    </tr>\n",
       "  </tbody>\n",
       "</table>\n",
       "<p>1312 rows × 6 columns</p>\n",
       "</div>"
      ],
      "text/plain": [
       "            date away  away_G home  home_G OT_status\n",
       "0     2023-10-10  CHI     4.0  PIT     2.0       NaN\n",
       "1     2023-10-10  NSH     3.0  TBL     5.0       NaN\n",
       "2     2023-10-10  SEA     1.0  VGK     4.0       NaN\n",
       "3     2023-10-11  CHI     1.0  BOS     3.0       NaN\n",
       "4     2023-10-11  OTT     3.0  CAR     5.0       NaN\n",
       "...          ...  ...     ...  ...     ...       ...\n",
       "1307  2024-04-18  EDM     NaN  COL     NaN       NaN\n",
       "1308  2024-04-18  CHI     NaN  LAK     NaN       NaN\n",
       "1309  2024-04-18  SEA     NaN  MIN     NaN       NaN\n",
       "1310  2024-04-18  ANA     NaN  VGK     NaN       NaN\n",
       "1311  2024-04-18  VAN     NaN  WPG     NaN       NaN\n",
       "\n",
       "[1312 rows x 6 columns]"
      ]
     },
     "execution_count": 7,
     "metadata": {},
     "output_type": "execute_result"
    }
   ],
   "source": [
    "season_results"
   ]
  },
  {
   "cell_type": "code",
   "execution_count": 8,
   "metadata": {},
   "outputs": [],
   "source": [
    "# Assign a game ID column to each row of the data frame\n",
    "# Game ID = yymmdd_homeaway\n",
    "season_results['date'] = pd.to_datetime(season_results['date'])\n",
    "season_results['game_id'] = season_results.apply(lambda row: f\"{row['date'].strftime('%y%m%d')}_{row['home']}{row['away']}\", axis=1)"
   ]
  },
  {
   "cell_type": "code",
   "execution_count": 9,
   "metadata": {},
   "outputs": [
    {
     "data": {
      "text/html": [
       "<div>\n",
       "<style scoped>\n",
       "    .dataframe tbody tr th:only-of-type {\n",
       "        vertical-align: middle;\n",
       "    }\n",
       "\n",
       "    .dataframe tbody tr th {\n",
       "        vertical-align: top;\n",
       "    }\n",
       "\n",
       "    .dataframe thead th {\n",
       "        text-align: right;\n",
       "    }\n",
       "</style>\n",
       "<table border=\"1\" class=\"dataframe\">\n",
       "  <thead>\n",
       "    <tr style=\"text-align: right;\">\n",
       "      <th></th>\n",
       "      <th>date</th>\n",
       "      <th>away</th>\n",
       "      <th>away_G</th>\n",
       "      <th>home</th>\n",
       "      <th>home_G</th>\n",
       "      <th>OT_status</th>\n",
       "      <th>game_id</th>\n",
       "    </tr>\n",
       "  </thead>\n",
       "  <tbody>\n",
       "  </tbody>\n",
       "</table>\n",
       "</div>"
      ],
      "text/plain": [
       "Empty DataFrame\n",
       "Columns: [date, away, away_G, home, home_G, OT_status, game_id]\n",
       "Index: []"
      ]
     },
     "execution_count": 9,
     "metadata": {},
     "output_type": "execute_result"
    }
   ],
   "source": [
    "# Every game should have a winner (one team with more goals)\n",
    "season_results.loc[season_results['away_G'] == season_results['home_G'],:]"
   ]
  },
  {
   "cell_type": "code",
   "execution_count": 40,
   "metadata": {},
   "outputs": [],
   "source": [
    "# Melt df so that there is 1 row per team/game\n",
    "home_melt = pd.melt(season_results, id_vars=['date', 'game_id',  'home', 'OT_status'], value_vars=['home_G'], value_name='G').drop(columns='variable').rename(columns={'home':'team'})\n",
    "away_melt = pd.melt(season_results, id_vars=['date', 'game_id', 'away', 'OT_status'], value_vars=['away_G'], value_name='G').drop(columns='variable').rename(columns={'away':'team'})\n",
    "\n",
    "# Add the column location to each\n",
    "home_melt['location'] = 'H'\n",
    "away_melt['location'] = 'A'\n",
    "\n",
    "# Combine the melted df's\n",
    "combined_melt = pd.concat([home_melt, away_melt], axis=0)"
   ]
  },
  {
   "cell_type": "code",
   "execution_count": 52,
   "metadata": {},
   "outputs": [
    {
     "data": {
      "text/html": [
       "<div>\n",
       "<style scoped>\n",
       "    .dataframe tbody tr th:only-of-type {\n",
       "        vertical-align: middle;\n",
       "    }\n",
       "\n",
       "    .dataframe tbody tr th {\n",
       "        vertical-align: top;\n",
       "    }\n",
       "\n",
       "    .dataframe thead th {\n",
       "        text-align: right;\n",
       "    }\n",
       "</style>\n",
       "<table border=\"1\" class=\"dataframe\">\n",
       "  <thead>\n",
       "    <tr style=\"text-align: right;\">\n",
       "      <th></th>\n",
       "      <th>team</th>\n",
       "      <th>game_id</th>\n",
       "      <th>date</th>\n",
       "      <th>season</th>\n",
       "      <th>location</th>\n",
       "      <th>G</th>\n",
       "      <th>OT_status</th>\n",
       "      <th>win_flag</th>\n",
       "    </tr>\n",
       "  </thead>\n",
       "  <tbody>\n",
       "    <tr>\n",
       "      <th>0</th>\n",
       "      <td>PIT</td>\n",
       "      <td>231010_PITCHI</td>\n",
       "      <td>2023-10-10</td>\n",
       "      <td>2024</td>\n",
       "      <td>H</td>\n",
       "      <td>2</td>\n",
       "      <td>NaN</td>\n",
       "      <td>0</td>\n",
       "    </tr>\n",
       "    <tr>\n",
       "      <th>1</th>\n",
       "      <td>TBL</td>\n",
       "      <td>231010_TBLNSH</td>\n",
       "      <td>2023-10-10</td>\n",
       "      <td>2024</td>\n",
       "      <td>H</td>\n",
       "      <td>5</td>\n",
       "      <td>NaN</td>\n",
       "      <td>1</td>\n",
       "    </tr>\n",
       "    <tr>\n",
       "      <th>2</th>\n",
       "      <td>VGK</td>\n",
       "      <td>231010_VGKSEA</td>\n",
       "      <td>2023-10-10</td>\n",
       "      <td>2024</td>\n",
       "      <td>H</td>\n",
       "      <td>4</td>\n",
       "      <td>NaN</td>\n",
       "      <td>1</td>\n",
       "    </tr>\n",
       "    <tr>\n",
       "      <th>3</th>\n",
       "      <td>BOS</td>\n",
       "      <td>231011_BOSCHI</td>\n",
       "      <td>2023-10-11</td>\n",
       "      <td>2024</td>\n",
       "      <td>H</td>\n",
       "      <td>3</td>\n",
       "      <td>NaN</td>\n",
       "      <td>1</td>\n",
       "    </tr>\n",
       "    <tr>\n",
       "      <th>4</th>\n",
       "      <td>CAR</td>\n",
       "      <td>231011_CAROTT</td>\n",
       "      <td>2023-10-11</td>\n",
       "      <td>2024</td>\n",
       "      <td>H</td>\n",
       "      <td>5</td>\n",
       "      <td>NaN</td>\n",
       "      <td>1</td>\n",
       "    </tr>\n",
       "  </tbody>\n",
       "</table>\n",
       "</div>"
      ],
      "text/plain": [
       "  team        game_id       date  season location  G OT_status  win_flag\n",
       "0  PIT  231010_PITCHI 2023-10-10    2024        H  2       NaN         0\n",
       "1  TBL  231010_TBLNSH 2023-10-10    2024        H  5       NaN         1\n",
       "2  VGK  231010_VGKSEA 2023-10-10    2024        H  4       NaN         1\n",
       "3  BOS  231011_BOSCHI 2023-10-11    2024        H  3       NaN         1\n",
       "4  CAR  231011_CAROTT 2023-10-11    2024        H  5       NaN         1"
      ]
     },
     "execution_count": 52,
     "metadata": {},
     "output_type": "execute_result"
    }
   ],
   "source": [
    "# Add a column for the winner of each game\n",
    "combined_melt['win_flag'] = combined_melt['G'].eq(combined_melt.groupby('game_id')['G'].transform('max')) #.astype(int)\n",
    "# Reset some values to null is G is missing (game has not been played yet)\n",
    "combined_melt.loc[combined_melt['G'].isna(), 'win_flag'] = pd.NA\n",
    "# Convert columns to int\n",
    "combined_melt[['G', 'win_flag']] = combined_melt[['G', 'win_flag']].astype(pd.Int64Dtype())\n",
    "\n",
    "# Add season column\n",
    "combined_melt['season'] = season\n",
    "\n",
    "# Get correct column order\n",
    "combined_melt = combined_melt[['team', 'game_id', 'date', 'season', 'location', 'G', 'OT_status', 'win_flag']]\n",
    "\n",
    "# See results\n",
    "combined_melt.head(5)"
   ]
  },
  {
   "cell_type": "code",
   "execution_count": 53,
   "metadata": {},
   "outputs": [
    {
     "data": {
      "text/html": [
       "<div>\n",
       "<style scoped>\n",
       "    .dataframe tbody tr th:only-of-type {\n",
       "        vertical-align: middle;\n",
       "    }\n",
       "\n",
       "    .dataframe tbody tr th {\n",
       "        vertical-align: top;\n",
       "    }\n",
       "\n",
       "    .dataframe thead th {\n",
       "        text-align: right;\n",
       "    }\n",
       "</style>\n",
       "<table border=\"1\" class=\"dataframe\">\n",
       "  <thead>\n",
       "    <tr style=\"text-align: right;\">\n",
       "      <th></th>\n",
       "      <th>team</th>\n",
       "      <th>game_id</th>\n",
       "      <th>date</th>\n",
       "      <th>season</th>\n",
       "      <th>location</th>\n",
       "      <th>G</th>\n",
       "      <th>OT_status</th>\n",
       "      <th>win_flag</th>\n",
       "    </tr>\n",
       "  </thead>\n",
       "  <tbody>\n",
       "    <tr>\n",
       "      <th>343</th>\n",
       "      <td>CGY</td>\n",
       "      <td>231130_CGYDAL</td>\n",
       "      <td>2023-11-30</td>\n",
       "      <td>2024</td>\n",
       "      <td>H</td>\n",
       "      <td>4</td>\n",
       "      <td>OT</td>\n",
       "      <td>1</td>\n",
       "    </tr>\n",
       "    <tr>\n",
       "      <th>343</th>\n",
       "      <td>DAL</td>\n",
       "      <td>231130_CGYDAL</td>\n",
       "      <td>2023-11-30</td>\n",
       "      <td>2024</td>\n",
       "      <td>A</td>\n",
       "      <td>3</td>\n",
       "      <td>OT</td>\n",
       "      <td>0</td>\n",
       "    </tr>\n",
       "  </tbody>\n",
       "</table>\n",
       "</div>"
      ],
      "text/plain": [
       "    team        game_id       date  season location  G OT_status  win_flag\n",
       "343  CGY  231130_CGYDAL 2023-11-30    2024        H  4        OT         1\n",
       "343  DAL  231130_CGYDAL 2023-11-30    2024        A  3        OT         0"
      ]
     },
     "execution_count": 53,
     "metadata": {},
     "output_type": "execute_result"
    }
   ],
   "source": [
    "# Test of game ID\n",
    "combined_melt.loc[combined_melt['game_id'] == '231130_CGYDAL']"
   ]
  },
  {
   "cell_type": "code",
   "execution_count": 47,
   "metadata": {},
   "outputs": [
    {
     "data": {
      "text/html": [
       "<div>\n",
       "<style scoped>\n",
       "    .dataframe tbody tr th:only-of-type {\n",
       "        vertical-align: middle;\n",
       "    }\n",
       "\n",
       "    .dataframe tbody tr th {\n",
       "        vertical-align: top;\n",
       "    }\n",
       "\n",
       "    .dataframe thead th {\n",
       "        text-align: right;\n",
       "    }\n",
       "</style>\n",
       "<table border=\"1\" class=\"dataframe\">\n",
       "  <thead>\n",
       "    <tr style=\"text-align: right;\">\n",
       "      <th></th>\n",
       "      <th>team</th>\n",
       "      <th>game_id</th>\n",
       "      <th>date</th>\n",
       "      <th>season</th>\n",
       "      <th>location</th>\n",
       "      <th>G</th>\n",
       "      <th>OT_status</th>\n",
       "      <th>win_flag</th>\n",
       "    </tr>\n",
       "  </thead>\n",
       "  <tbody>\n",
       "    <tr>\n",
       "      <th>1005</th>\n",
       "      <td>ARI</td>\n",
       "      <td>240308_ARIDET</td>\n",
       "      <td>2024-03-08</td>\n",
       "      <td>2024</td>\n",
       "      <td>H</td>\n",
       "      <td>&lt;NA&gt;</td>\n",
       "      <td>NaN</td>\n",
       "      <td>&lt;NA&gt;</td>\n",
       "    </tr>\n",
       "    <tr>\n",
       "      <th>1005</th>\n",
       "      <td>DET</td>\n",
       "      <td>240308_ARIDET</td>\n",
       "      <td>2024-03-08</td>\n",
       "      <td>2024</td>\n",
       "      <td>A</td>\n",
       "      <td>&lt;NA&gt;</td>\n",
       "      <td>NaN</td>\n",
       "      <td>&lt;NA&gt;</td>\n",
       "    </tr>\n",
       "  </tbody>\n",
       "</table>\n",
       "</div>"
      ],
      "text/plain": [
       "     team        game_id       date  season location     G OT_status  win_flag\n",
       "1005  ARI  240308_ARIDET 2024-03-08    2024        H  <NA>       NaN      <NA>\n",
       "1005  DET  240308_ARIDET 2024-03-08    2024        A  <NA>       NaN      <NA>"
      ]
     },
     "execution_count": 47,
     "metadata": {},
     "output_type": "execute_result"
    }
   ],
   "source": [
    "# Test of game ID\n",
    "combined_melt.loc[combined_melt['game_id'] == '240308_ARIDET']"
   ]
  },
  {
   "cell_type": "code",
   "execution_count": 54,
   "metadata": {},
   "outputs": [
    {
     "data": {
      "text/plain": [
       "(2624, 8)"
      ]
     },
     "execution_count": 54,
     "metadata": {},
     "output_type": "execute_result"
    }
   ],
   "source": [
    "# Check row count\n",
    "combined_melt.shape"
   ]
  },
  {
   "cell_type": "code",
   "execution_count": 55,
   "metadata": {},
   "outputs": [],
   "source": [
    "# Write schedule to csv\n",
    "combined_melt.to_csv('../../data/historic_batch/season_schedules/schedule_' + str(season) + '.csv', header=True, index=False)"
   ]
  }
 ],
 "metadata": {
  "kernelspec": {
   "display_name": ".venv",
   "language": "python",
   "name": "python3"
  },
  "language_info": {
   "codemirror_mode": {
    "name": "ipython",
    "version": 3
   },
   "file_extension": ".py",
   "mimetype": "text/x-python",
   "name": "python",
   "nbconvert_exporter": "python",
   "pygments_lexer": "ipython3",
   "version": "3.9.6"
  },
  "orig_nbformat": 4,
  "vscode": {
   "interpreter": {
    "hash": "391b8c8d2d0705169608203ddc59d651a11cac649a7fd2dc02268105b6f9cfe6"
   }
  }
 },
 "nbformat": 4,
 "nbformat_minor": 2
}
