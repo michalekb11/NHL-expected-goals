{
 "cells": [
  {
   "cell_type": "markdown",
   "metadata": {},
   "source": [
    "# Scraping stats from hockeyreference.com\n"
   ]
  },
  {
   "cell_type": "code",
   "execution_count": 1,
   "metadata": {},
   "outputs": [],
   "source": [
    "import pandas as pd\n",
    "import requests\n",
    "from bs4 import BeautifulSoup\n",
    "import re\n",
    "import time\n",
    "import numpy as np\n",
    "import json\n",
    "import time"
   ]
  },
  {
   "cell_type": "markdown",
   "metadata": {},
   "source": [
    "## User input"
   ]
  },
  {
   "cell_type": "code",
   "execution_count": 2,
   "metadata": {},
   "outputs": [],
   "source": [
    "# Set the season. Use the 2nd year involved in the season. \n",
    "# For example, if the 2021-2022 season is desired, set season = '2022'\n",
    "season = '2024'\n",
    "path_to_skaters = '/Volumes/LUNANI/sports_betting_csv_backup/game_stats/skater_games.csv'\n",
    "path_to_goalies = '/Volumes/LUNANI/sports_betting_csv_backup/game_stats/goalie_games.csv'"
   ]
  },
  {
   "attachments": {},
   "cell_type": "markdown",
   "metadata": {},
   "source": [
    "## Read in dict to convert team name to 3 letter code"
   ]
  },
  {
   "cell_type": "code",
   "execution_count": 4,
   "metadata": {},
   "outputs": [],
   "source": [
    "# Read in team name dictionary for cleaning\n",
    "with open('../../data/team_name_dictionary.txt', 'r') as f:\n",
    "    # Load the dictionary from the file\n",
    "    team_name_dict = json.load(f)"
   ]
  },
  {
   "cell_type": "markdown",
   "metadata": {},
   "source": [
    "## Define function to clean player names"
   ]
  },
  {
   "cell_type": "code",
   "execution_count": 7,
   "metadata": {},
   "outputs": [],
   "source": [
    "def clean_name(name):\n",
    "    \"\"\"Clean player names with special characters and punctuation to standardize across data sources\"\"\"\n",
    "    # Set up replace dictionary\n",
    "    replace_dict = {\n",
    "        # Special characters\n",
    "        #'Å':'A',\n",
    "        'å':'a',\n",
    "        'ä':'a',\n",
    "        'á':'a',\n",
    "        #'Č':'C',\n",
    "        'č':'c',\n",
    "        #'É':'E',\n",
    "        'é':'e',\n",
    "        'ë':'e',\n",
    "        'è':'e',\n",
    "        'ě':'e',\n",
    "        'í':'i',\n",
    "        'ļ':'l',\n",
    "        'ň':'n',\n",
    "        'ö':'o',\n",
    "        'ø':'o',\n",
    "        'ř':'r',\n",
    "        #'Š':'S',\n",
    "        'š':'s',\n",
    "        'ü':'u',\n",
    "        'ž':'z',\n",
    "\n",
    "        # Other punctuation\n",
    "        '.':'',\n",
    "        '-':' ',\n",
    "        \"'\":''\n",
    "    }\n",
    "    # Strip white space\n",
    "    name = name.strip()\n",
    "    # Lowercase\n",
    "    name = name.lower()\n",
    "    # Replace characters, punctuation, phrases\n",
    "    for k, v in replace_dict.items():\n",
    "        name = name.replace(k, v)\n",
    "\n",
    "    # Return cleaned name\n",
    "    return name"
   ]
  },
  {
   "attachments": {},
   "cell_type": "markdown",
   "metadata": {},
   "source": [
    "## Define function to web scrape season game logs given player_id"
   ]
  },
  {
   "cell_type": "code",
   "execution_count": 8,
   "metadata": {},
   "outputs": [],
   "source": [
    "def get_game_log(player_id, season):\n",
    "    try:\n",
    "        # Convert Ex: allenja01 to a/allenja01 for the URL\n",
    "        url_player_id = f'{str(player_id)[0]}/{str(player_id)}'\n",
    "\n",
    "        # Create template URL. We will fill in the 2 blanks (___ and ...) with the correct information for each player\n",
    "        url = f\"https://www.hockey-reference.com/players/{url_player_id}/gamelog/{str(season)}\"\n",
    "\n",
    "        # Get table from hockey reference using pandas\n",
    "        game_log = pd.read_html(url, attrs = {'class': 'row_summable'})[0]\n",
    "\n",
    "        # Add the player_id column\n",
    "        game_log['player_id'] = player_id\n",
    "        \n",
    "        # Add the season column\n",
    "        game_log['season'] = season\n",
    "\n",
    "        return game_log\n",
    "    \n",
    "    except:\n",
    "        # If we cant find games for a particular player, alert us and save the player_id off to the side. \n",
    "        # Then continue on wih the rest.\n",
    "        print(player_id, \"was not found among season\", season, \"players on HockeyReference.com\")\n",
    "        return "
   ]
  },
  {
   "attachments": {},
   "cell_type": "markdown",
   "metadata": {},
   "source": [
    "## Function to get a list of all the player IDs for the season\n",
    "### This should also create a link between player ID and player name\n",
    "Now, we want to do this for all players from the user specified season that have played at least 1 game during that season.\n",
    "It would probably be most accurate to get this list from HockeyReference since that is where we are scraping the player stats.\n",
    "\n",
    "The url containing these players has the following form and can be modified based on what season the user is interested in. \n",
    "* https://www.hockey-reference.com/leagues/NHL_2022_skaters.html\n",
    "* https://www.hockey-reference.com/leagues/NHL_2022_goalies.html\n",
    "\n",
    "We will grab the player_id using the href. The names can be retrieved from the same tag (using the text instead of href). The names will be left joined later to the final data frame."
   ]
  },
  {
   "cell_type": "code",
   "execution_count": 10,
   "metadata": {},
   "outputs": [],
   "source": [
    "def create_name_to_id_link(season, player_type):\n",
    "    # Scrape the list of players.\n",
    "    # Create the url\n",
    "    season = str(season)\n",
    "    if player_type == 's':\n",
    "        names_url = 'https://www.hockey-reference.com/leagues/NHL_' + season + '_skaters.html'\n",
    "    elif player_type == 'g':\n",
    "        names_url = 'https://www.hockey-reference.com/leagues/NHL_' + season + '_goalies.html'\n",
    "    else:\n",
    "        raise ValueError('Invalid player type. Use \"s\" or \"g\".')\n",
    "    \n",
    "    # Grab the html code \n",
    "    response = requests.get(names_url)\n",
    "    soup = BeautifulSoup(response.text, 'html.parser')\n",
    "    names_html_list = soup.find_all('td', attrs = {'data-stat':'player'})\n",
    "\n",
    "    # Here is the list of player names. We can use this to create a dictionary of {'player_id':'player_names'}.\n",
    "    names = [player_name.text for player_name in names_html_list]\n",
    "    names = [clean_name(name) for name in names]\n",
    "    print('Number of names scraped:', len(names))\n",
    "\n",
    "    # Grab player ID using the href in <a> tag. Then we don't have to construct them ourselves.\n",
    "    href_strings = [str(names_html_list[index].a) for index in range(len(names_html_list))]\n",
    "    ids = [re.search('players/\\w/(\\S+[0-9]+).html', href).group(1) for href in href_strings] # This can also handle names like 'J.T. Compher'\n",
    "\n",
    "    # This works for getting all of the player IDs in the list\n",
    "    print('Number of player IDs scraped:', len(ids))\n",
    "\n",
    "    # Here is the set of unique ones we will use later to iterate through\n",
    "    unique_ids = list(set(ids))\n",
    "    unique_ids.sort()\n",
    "    print('Number of unique player IDs', len(unique_ids), '\\n')\n",
    "\n",
    "    # Create a data frame of player ids and player names. We will use this to join to the final data frame to \n",
    "    # add the player names as another column.\n",
    "    ids_names = pd.DataFrame({'player_id' : ids, 'player_name' : names})\n",
    "    ids_names = ids_names.drop_duplicates()\n",
    "\n",
    "    # Return the df/dictionary that links player ID to player name\n",
    "    return ids_names\n",
    "        "
   ]
  },
  {
   "attachments": {},
   "cell_type": "markdown",
   "metadata": {},
   "source": [
    "## Get the game log for each player ID"
   ]
  },
  {
   "cell_type": "code",
   "execution_count": 11,
   "metadata": {},
   "outputs": [
    {
     "name": "stdout",
     "output_type": "stream",
     "text": [
      "Number of names scraped: 855\n",
      "Number of player IDs scraped: 855\n",
      "Number of unique player IDs 827 \n",
      "\n"
     ]
    },
    {
     "data": {
      "text/html": [
       "<div>\n",
       "<style scoped>\n",
       "    .dataframe tbody tr th:only-of-type {\n",
       "        vertical-align: middle;\n",
       "    }\n",
       "\n",
       "    .dataframe tbody tr th {\n",
       "        vertical-align: top;\n",
       "    }\n",
       "\n",
       "    .dataframe thead th {\n",
       "        text-align: right;\n",
       "    }\n",
       "</style>\n",
       "<table border=\"1\" class=\"dataframe\">\n",
       "  <thead>\n",
       "    <tr style=\"text-align: right;\">\n",
       "      <th></th>\n",
       "      <th>player_id</th>\n",
       "      <th>player_name</th>\n",
       "    </tr>\n",
       "  </thead>\n",
       "  <tbody>\n",
       "    <tr>\n",
       "      <th>0</th>\n",
       "      <td>acciano01</td>\n",
       "      <td>noel acciari</td>\n",
       "    </tr>\n",
       "    <tr>\n",
       "      <th>1</th>\n",
       "      <td>addisca01</td>\n",
       "      <td>calen addison</td>\n",
       "    </tr>\n",
       "    <tr>\n",
       "      <th>4</th>\n",
       "      <td>ahose01</td>\n",
       "      <td>sebastian aho</td>\n",
       "    </tr>\n",
       "    <tr>\n",
       "      <th>5</th>\n",
       "      <td>ahose02</td>\n",
       "      <td>sebastian aho</td>\n",
       "    </tr>\n",
       "    <tr>\n",
       "      <th>6</th>\n",
       "      <td>alexani01</td>\n",
       "      <td>nikita alexandrov</td>\n",
       "    </tr>\n",
       "  </tbody>\n",
       "</table>\n",
       "</div>"
      ],
      "text/plain": [
       "   player_id        player_name\n",
       "0  acciano01       noel acciari\n",
       "1  addisca01      calen addison\n",
       "4    ahose01      sebastian aho\n",
       "5    ahose02      sebastian aho\n",
       "6  alexani01  nikita alexandrov"
      ]
     },
     "metadata": {},
     "output_type": "display_data"
    }
   ],
   "source": [
    "# Get the names and player ID's of all skaters that played during the season\n",
    "skater_ids_names = create_name_to_id_link(season = season, player_type = 's')\n",
    "display(skater_ids_names.head())"
   ]
  },
  {
   "cell_type": "code",
   "execution_count": 13,
   "metadata": {},
   "outputs": [
    {
     "name": "stdout",
     "output_type": "stream",
     "text": [
      "Num players: 26 - Num rows in df: 730\n",
      "Num players: 51 - Num rows in df: 1574\n",
      "Num players: 101 - Num rows in df: 2931\n",
      "Num players: 201 - Num rows in df: 6268\n",
      "Num players: 301 - Num rows in df: 9419\n",
      "Num players: 401 - Num rows in df: 12350\n",
      "Num players: 501 - Num rows in df: 15491\n",
      "Num players: 601 - Num rows in df: 18552\n",
      "Num players: 701 - Num rows in df: 21637\n",
      "Num players: 801 - Num rows in df: 24945\n",
      "Elapsed time: 4406.392871141434\n"
     ]
    }
   ],
   "source": [
    "# Initalize empty df to store all player game logs combined\n",
    "skater_games = pd.DataFrame()\n",
    "unique_skater_ids = skater_ids_names['player_id'].unique()\n",
    "\n",
    "start_time = time.time()\n",
    "\n",
    "for i, id in enumerate(unique_skater_ids):\n",
    "    # Wait some time between each request\n",
    "    time.sleep(4)\n",
    "    \n",
    "    # Get game log for the id\n",
    "    skater_games = pd.concat([skater_games, get_game_log(id, season = season)], axis = 0)\n",
    "\n",
    "    # Print our progress as we iterate through all the players\n",
    "    if i in [25, 50, 100, 200, 300, 400, 500, 600, 700, 800, 900, 1000]:\n",
    "        print('Num players:', len(skater_games['player_id'].unique()), '- Num rows in df:', len(skater_games.index))\n",
    "\n",
    "end_time = time.time()\n",
    "print(f\"Elapsed time: {end_time - start_time}\")"
   ]
  },
  {
   "attachments": {},
   "cell_type": "markdown",
   "metadata": {},
   "source": [
    "## Get the game log for each goalie ID"
   ]
  },
  {
   "cell_type": "code",
   "execution_count": 14,
   "metadata": {},
   "outputs": [
    {
     "name": "stdout",
     "output_type": "stream",
     "text": [
      "Number of names scraped: 91\n",
      "Number of player IDs scraped: 91\n",
      "Number of unique player IDs 91 \n",
      "\n"
     ]
    },
    {
     "data": {
      "text/html": [
       "<div>\n",
       "<style scoped>\n",
       "    .dataframe tbody tr th:only-of-type {\n",
       "        vertical-align: middle;\n",
       "    }\n",
       "\n",
       "    .dataframe tbody tr th {\n",
       "        vertical-align: top;\n",
       "    }\n",
       "\n",
       "    .dataframe thead th {\n",
       "        text-align: right;\n",
       "    }\n",
       "</style>\n",
       "<table border=\"1\" class=\"dataframe\">\n",
       "  <thead>\n",
       "    <tr style=\"text-align: right;\">\n",
       "      <th></th>\n",
       "      <th>player_id</th>\n",
       "      <th>player_name</th>\n",
       "    </tr>\n",
       "  </thead>\n",
       "  <tbody>\n",
       "    <tr>\n",
       "      <th>0</th>\n",
       "      <td>allenja01</td>\n",
       "      <td>jake allen</td>\n",
       "    </tr>\n",
       "    <tr>\n",
       "      <th>1</th>\n",
       "      <td>anderfr01</td>\n",
       "      <td>frederik andersen</td>\n",
       "    </tr>\n",
       "    <tr>\n",
       "      <th>2</th>\n",
       "      <td>annunju01</td>\n",
       "      <td>justus annunen</td>\n",
       "    </tr>\n",
       "    <tr>\n",
       "      <th>3</th>\n",
       "      <td>appleke01</td>\n",
       "      <td>kenneth appleby</td>\n",
       "    </tr>\n",
       "    <tr>\n",
       "      <th>4</th>\n",
       "      <td>askarya01</td>\n",
       "      <td>yaroslav askarov</td>\n",
       "    </tr>\n",
       "  </tbody>\n",
       "</table>\n",
       "</div>"
      ],
      "text/plain": [
       "   player_id        player_name\n",
       "0  allenja01         jake allen\n",
       "1  anderfr01  frederik andersen\n",
       "2  annunju01     justus annunen\n",
       "3  appleke01    kenneth appleby\n",
       "4  askarya01   yaroslav askarov"
      ]
     },
     "metadata": {},
     "output_type": "display_data"
    }
   ],
   "source": [
    "# Get the names and player ID's of all goalies that played during the season\n",
    "goalie_ids_names = create_name_to_id_link(season = season, player_type = 'g')\n",
    "display(goalie_ids_names.head())"
   ]
  },
  {
   "cell_type": "code",
   "execution_count": 15,
   "metadata": {},
   "outputs": [
    {
     "name": "stdout",
     "output_type": "stream",
     "text": [
      "Num players: 11 - Num rows in df: 138\n",
      "Num players: 26 - Num rows in df: 383\n",
      "Num players: 51 - Num rows in df: 880\n",
      "Num players: 76 - Num rows in df: 1278\n",
      "Elapsed time: 466.8848178386688\n"
     ]
    }
   ],
   "source": [
    "# Initalize empty df to store all player game logs combined\n",
    "goalie_games = pd.DataFrame()\n",
    "unique_goalie_ids = goalie_ids_names['player_id'].unique()\n",
    "\n",
    "start_time = time.time()\n",
    "\n",
    "for i, id in enumerate(unique_goalie_ids):\n",
    "    # Wait some time between each request\n",
    "    time.sleep(4)\n",
    "    \n",
    "    # Get game log for the id\n",
    "    goalie_games = pd.concat([goalie_games, get_game_log(id, season = season)], axis = 0)\n",
    "\n",
    "    # Print our progress as we iterate through all the players\n",
    "    if i in [10, 25, 50, 75, 100, 125]:\n",
    "        print('Num players:', len(goalie_games['player_id'].unique()), '- Num rows in df:', len(goalie_games.index))\n",
    "\n",
    "end_time = time.time()\n",
    "print(f\"Elapsed time: {end_time - start_time}\")"
   ]
  },
  {
   "cell_type": "markdown",
   "metadata": {},
   "source": [
    "## Clean the data frame of skater statistics"
   ]
  },
  {
   "cell_type": "code",
   "execution_count": null,
   "metadata": {},
   "outputs": [],
   "source": [
    "# Rename columns\n",
    "skater_games.columns = ['rank', 'date', 'game_num', 'age', 'team', 'home_away_status', 'opponent', 'result', \n",
    "                        'G', 'A', 'P', 'rating', 'PIM', 'EVG', 'PPG', 'SHG', 'GWG', 'EVA', 'PPA', 'SHA', 'S', 'S_perc',\n",
    "                        'shifts', 'TOI', 'HIT', 'BLK', 'FOW', 'FOL', 'FOW_perc', 'player_id', 'season']\n",
    "\n",
    "# Remove these weird rows... They are not actual data (just repeated column names)\n",
    "skater_games = skater_games.loc[skater_games[('rank')] != 'Rk']\n",
    "\n",
    "# Left join the player_name column to the data frame\n",
    "skater_games = skater_games.merge(skater_ids_names, on = 'player_id', how = 'left')\n",
    "\n",
    "# Reorder the columns \n",
    "skater_games = skater_games[['rank', 'player_id', 'player_name', 'age', 'season', 'game_num', 'date', 'team', \n",
    "                            'opponent', 'home_away_status', 'result', 'G', 'A', 'P', 'rating', 'PIM', 'EVG', \n",
    "                             'PPG', 'SHG', 'GWG', 'EVA', 'PPA', 'SHA', 'S', 'S_perc', 'shifts', 'TOI', 'HIT', \n",
    "                             'BLK', 'FOW', 'FOL', 'FOW_perc']]\n",
    "\n",
    "# Clean home_away_status column. 1 means the player played a home game. 0 means the game was on the road.\n",
    "skater_games = skater_games.replace({'home_away_status': {'@':0, np.nan:1}})\n",
    "\n",
    "# Fix age strings to just reflect age in years. We probably don't care about days since last birthday.\n",
    "skater_games['age'] = skater_games.age.str.extract(pat = '(\\d+)')\n",
    "\n",
    "# Convert time on ice (TOI) to minutes using decimal. For example 22:40 should become 22.666667.\n",
    "skater_games[['min', 'sec']] = skater_games.TOI.str.split(':', expand = True)\n",
    "skater_games['TOI'] = skater_games['min'].astype('float') + skater_games['sec'].astype('float') / 60\n",
    "\n",
    "# Now drop columns we don't need.\n",
    "skater_games = skater_games.drop(columns = ['rank', 'min', 'sec'])\n",
    "\n",
    "# Convert team to 3 letter code\n",
    "skater_games['team'] = skater_games['team'].str.lower().replace(team_name_dict)\n",
    "skater_games['opponent'] = skater_games['opponent'].str.lower().replace(team_name_dict)\n",
    "\n",
    "# Clean player names (technically this should already be done by cleaning the names in the dictionary mapping ID to name)\n",
    "#skater_games.loc[:, 'player_name'] = [clean_name(name) for name in skater_games.loc[:, 'player_name']]\n",
    "\n",
    "# Convert columns to correct types. The proper types are listed below.\n",
    "    # Date --> [date]\n",
    "    # Integer --> [game_num, age, home_away_status, G, A, P, rating, PIM, EVG, PPG, SHG, GWG, EVA, PPA, \n",
    "                # SHA, S, shifts, HIT, BLK, FOW, FOL, season]\n",
    "    # Float --> [S_per, TOI, FOW_perc]\n",
    "    # String --> [player_id, team, opponent, result]\n",
    "skater_games = skater_games.astype({'date':'datetime64[ns]','game_num':'int', 'age':'int',\n",
    "                                              'team':'str', 'home_away_status':'int', 'opponent':'str', \n",
    "                                              'result':'str', 'G':'int', 'A':'int', 'P':'int', 'rating':'int', \n",
    "                                              'PIM':'int', 'EVG':'int', 'PPG':'int', 'SHG':'int', 'GWG':'int', \n",
    "                                              'EVA':'int', 'PPA':'int', 'SHA':'int', 'S':'int', 'S_perc':'float',\n",
    "                                              'shifts':'int', 'TOI':'float', 'HIT':'int', 'BLK':'int', 'FOW':'int', \n",
    "                                              'FOL':'int', 'FOW_perc':'float', 'player_id':'str', 'season':'int', \n",
    "                                              'player_name':'str'})\n",
    "\n",
    "# Keep only date part\n",
    "skater_games['date'] = skater_games['dates'].dt.date\n"
   ]
  },
  {
   "cell_type": "markdown",
   "metadata": {},
   "source": [
    "## Clean data frame for goalies"
   ]
  },
  {
   "cell_type": "code",
   "execution_count": 36,
   "metadata": {},
   "outputs": [],
   "source": [
    "# Rename columns\n",
    "goalie_games.columns = ['rank', 'date', 'game_num', 'age', 'team', 'home_away_status', 'opponent', 'result', \n",
    "                        'decision', 'GA', 'SA', 'SV', 'SV_perc', 'shutout', 'PIM', 'TOI', 'player_id', 'season']\n",
    "\n",
    "# Remove these weird rows... They are not actual data (just repeated column names)\n",
    "goalie_games = goalie_games.loc[goalie_games[('rank')] != 'Rk']\n",
    "\n",
    "# Left join the player_name column to the data frame\n",
    "goalie_games = goalie_games.merge(goalie_ids_names, on = 'player_id', how = 'left')\n",
    "\n",
    "# Reorder the columns \n",
    "goalie_games = goalie_games[['rank', 'player_id', 'player_name', 'age', 'season', 'game_num', 'date', 'team', \n",
    "                            'opponent', 'home_away_status', 'result', 'decision', 'GA', 'SA', 'SV', 'SV_perc', \n",
    "                             'shutout', 'PIM', 'TOI']]\n",
    "\n",
    "# Clean home_away_status column. 1 means the player played a home game. 0 means the game was on the road.\n",
    "goalie_games = goalie_games.replace({'home_away_status': {'@':0, np.nan:1}})\n",
    "\n",
    "# Fix age strings to just reflect age in years. We probably don't care about days since last birthday.\n",
    "goalie_games['age'] = goalie_games.age.str.extract(pat = '(\\d+)')\n",
    "\n",
    "# Convert time on ice (TOI) to minutes using decimal. For example 22:40 should become 22.666667.\n",
    "goalie_games[['min', 'sec']] = goalie_games.TOI.str.split(':', expand = True)\n",
    "goalie_games['TOI'] = goalie_games['min'].astype('float') + goalie_games['sec'].astype('float') / 60\n",
    "\n",
    "# Now drop columns we don't need.\n",
    "goalie_games = goalie_games.drop(columns = ['rank', 'min', 'sec'])\n",
    "\n",
    "# Convert team to 3 letter code\n",
    "goalie_games['team'] = goalie_games['team'].str.lower().replace(team_name_dict)\n",
    "goalie_games['opponent'] = goalie_games['opponent'].str.lower().replace(team_name_dict)\n",
    "\n",
    "# Clean player names (technically this should already be done by cleaning the names in the dictionary mapping ID to name)\n",
    "#goalie_games.loc[:, 'player_name'] = [clean_name(name) for name in goalie_games.loc[:, 'player_name']]\n",
    "\n",
    "# Convert columns to correct types. The proper types are listed below.\n",
    "    # Date --> [date]\n",
    "    # Integer --> [age, season, game_num, home_away_status, GA, SA, SV, shutout, PIM]\n",
    "    # Float --> [SV_perc, TOI]\n",
    "    # String --> [player_id, player_name, team, opponent, result, decision]\n",
    "goalie_games = goalie_games.astype({'date':'datetime64[ns]', 'age':'int', 'season':'int', 'game_num':'int', \n",
    "                                    'home_away_status':'int', 'GA':'int', 'SA':'int', 'SV':'int', \n",
    "                                    'shutout':'int', 'PIM':'int', 'SV_perc':'float', 'TOI':'float', \n",
    "                                    'player_id':'str', 'player_name':'str', 'team':'str', 'opponent':'str', \n",
    "                                    'result':'str', 'decision':'str'})\n",
    "\n",
    "# Keep only date part\n",
    "goalie_games['date'] = goalie_games['dates'].dt.date"
   ]
  },
  {
   "cell_type": "code",
   "execution_count": null,
   "metadata": {},
   "outputs": [],
   "source": []
  },
  {
   "cell_type": "markdown",
   "metadata": {},
   "source": [
    "## Sanity checks for skaters"
   ]
  },
  {
   "cell_type": "code",
   "execution_count": 37,
   "metadata": {},
   "outputs": [
    {
     "name": "stdout",
     "output_type": "stream",
     "text": [
      "827\n",
      "0\n",
      "0\n"
     ]
    }
   ],
   "source": [
    "# Number of unique goalies\n",
    "print(len(skater_games.player_id.unique()))\n",
    "\n",
    "# All players should have between 1 and 82 games played (UNLESS THEY WERE TRADED AND NEVER MISSED A GAME)\n",
    "print(sum(skater_games.groupby(['player_id'])['player_id'].count() <= 0))\n",
    "print(sum(skater_games.groupby(['player_id'])['player_id'].count() > 82))"
   ]
  },
  {
   "cell_type": "markdown",
   "metadata": {},
   "source": [
    "## Sanity checks for goalies"
   ]
  },
  {
   "cell_type": "code",
   "execution_count": 38,
   "metadata": {},
   "outputs": [
    {
     "name": "stdout",
     "output_type": "stream",
     "text": [
      "91\n",
      "0\n",
      "0\n"
     ]
    }
   ],
   "source": [
    "# Number of unique goalies\n",
    "print(len(goalie_games.player_id.unique()))\n",
    "\n",
    "# All goalies should have between 1 and 82 games played \n",
    "print(sum(goalie_games.groupby(['player_id'])['player_id'].count() <= 0))\n",
    "print(sum(goalie_games.groupby(['player_id'])['player_id'].count() > 82))"
   ]
  },
  {
   "cell_type": "code",
   "execution_count": 39,
   "metadata": {},
   "outputs": [
    {
     "name": "stdout",
     "output_type": "stream",
     "text": [
      "0\n"
     ]
    }
   ],
   "source": [
    "# Goals against should equal shots against minus saves\n",
    "print(sum(goalie_games.GA != goalie_games.SA - goalie_games.SV))"
   ]
  },
  {
   "cell_type": "markdown",
   "metadata": {},
   "source": [
    "## Update the csv file"
   ]
  },
  {
   "cell_type": "code",
   "execution_count": 42,
   "metadata": {},
   "outputs": [
    {
     "name": "stdout",
     "output_type": "stream",
     "text": [
      "Skater game CSV successfully updated.\n",
      "Number of rows added: 24834\n",
      "New total rows: 150471\n",
      "\n"
     ]
    }
   ],
   "source": [
    "try:\n",
    "    old_skater = pd.read_csv(path_to_skaters)\n",
    "    new_skater = pd.concat([old_skater, skater_games], axis=0).reset_index(drop=True)\n",
    "    new_skater.to_csv(path_to_skaters, header=True, index=False)\n",
    "    print(f'Skater game CSV successfully updated.\\nNumber of rows added: {len(skater_games)}\\nNew total rows: {len(new_skater)}\\n')\n",
    "except:\n",
    "    print('Skater game CSV was not updated.\\n')\n",
    "    raise"
   ]
  },
  {
   "cell_type": "code",
   "execution_count": 43,
   "metadata": {},
   "outputs": [
    {
     "name": "stdout",
     "output_type": "stream",
     "text": [
      "Goalie game CSV successfully updated.\n",
      "Number of rows added: 1473\n",
      "New total rows: 8928\n",
      "\n"
     ]
    }
   ],
   "source": [
    "try:\n",
    "    old_goalie = pd.read_csv(path_to_goalies)\n",
    "    new_goalie = pd.concat([old_goalie, goalie_games], axis=0).reset_index(drop=True)\n",
    "    new_goalie.to_csv(path_to_goalies, header=True, index=False)\n",
    "    print(f'Goalie game CSV successfully updated.\\nNumber of rows added: {len(goalie_games)}\\nNew total rows: {len(new_goalie)}\\n')\n",
    "except:\n",
    "    print('Goalie game CSV was not updated.\\n')\n",
    "    raise"
   ]
  }
 ],
 "metadata": {
  "kernelspec": {
   "display_name": ".venv",
   "language": "python",
   "name": "python3"
  },
  "language_info": {
   "codemirror_mode": {
    "name": "ipython",
    "version": 3
   },
   "file_extension": ".py",
   "mimetype": "text/x-python",
   "name": "python",
   "nbconvert_exporter": "python",
   "pygments_lexer": "ipython3",
   "version": "3.9.16"
  },
  "vscode": {
   "interpreter": {
    "hash": "391b8c8d2d0705169608203ddc59d651a11cac649a7fd2dc02268105b6f9cfe6"
   }
  }
 },
 "nbformat": 4,
 "nbformat_minor": 4
}
