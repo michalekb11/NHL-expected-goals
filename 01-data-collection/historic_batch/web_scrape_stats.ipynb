{
 "cells": [
  {
   "cell_type": "markdown",
   "metadata": {},
   "source": [
    "# Scraping stats from hockeyreference.com\n"
   ]
  },
  {
   "cell_type": "code",
   "execution_count": 1,
   "metadata": {},
   "outputs": [],
   "source": [
    "import pandas as pd\n",
    "import requests\n",
    "from bs4 import BeautifulSoup\n",
    "import regex as re\n",
    "import time\n",
    "import numpy as np\n",
    "import json"
   ]
  },
  {
   "cell_type": "markdown",
   "metadata": {},
   "source": [
    "## User input"
   ]
  },
  {
   "cell_type": "code",
   "execution_count": 2,
   "metadata": {},
   "outputs": [],
   "source": [
    "# Set the season. Use the 2nd year involved in the season. \n",
    "# For example, if the 2021-2022 season is desired, set season = '2022'\n",
    "season = '2023'"
   ]
  },
  {
   "attachments": {},
   "cell_type": "markdown",
   "metadata": {},
   "source": [
    "## Read in dict to convert team name to 3 letter code"
   ]
  },
  {
   "cell_type": "code",
   "execution_count": 4,
   "metadata": {},
   "outputs": [],
   "source": [
    "# Read in team name dictionary for cleaning\n",
    "with open('../data/team_name_dictionary.txt', 'r') as f:\n",
    "    # Load the dictionary from the file\n",
    "    team_name_dict = json.load(f)"
   ]
  },
  {
   "attachments": {},
   "cell_type": "markdown",
   "metadata": {},
   "source": [
    "## Define function to web scrape season game logs given player_id"
   ]
  },
  {
   "cell_type": "code",
   "execution_count": 3,
   "metadata": {},
   "outputs": [],
   "source": [
    "def get_game_log(player_id, season):\n",
    "    try:\n",
    "        # Create template URL. We will fill in the 2 blanks (___ and ...) with the correct information for each player\n",
    "        template_url = 'https://www.hockey-reference.com/players.../gamelog/___'\n",
    "\n",
    "        # Fill in blanks\n",
    "        url = template_url.replace('...', str(player_id))\n",
    "        url = url.replace('___', str(season))\n",
    "\n",
    "        # Get table from hockey reference using pandas\n",
    "        game_log = pd.read_html(url, attrs = {'class': 'row_summable'})[0]\n",
    "\n",
    "        # Add the player_id column\n",
    "        game_log['player_id'] = player_id\n",
    "        \n",
    "        # Add the season column\n",
    "        game_log['season'] = season\n",
    "\n",
    "        return game_log\n",
    "    \n",
    "    except:\n",
    "        # If we cant find games for a particular player, alert us and save the player_id off to the side. \n",
    "        # Then continue on wih the rest.\n",
    "        return print(player_id, \"was not found among season\", season, \"players on HockeyReference.com\")"
   ]
  },
  {
   "attachments": {},
   "cell_type": "markdown",
   "metadata": {},
   "source": [
    "## Function to get a list of all the player IDs for the season\n",
    "### This should also create a link between player ID and player name\n",
    "Now, we want to do this for all players from the user specified season that have played at least 1 game during that season.\n",
    "It would probably be most accurate to get this list from HockeyReference since that is where we are scraping the player stats.\n",
    "\n",
    "The url containing these players has the following form and can be modified based on what season the user is interested in. \n",
    "* https://www.hockey-reference.com/leagues/NHL_2022_skaters.html\n",
    "* https://www.hockey-reference.com/leagues/NHL_2022_goalies.html\n",
    "\n",
    "We will grab the player_id using the href. The names can be retrieved from the same tag (using the text instead of href). The names will be left joined later to the final data frame."
   ]
  },
  {
   "cell_type": "code",
   "execution_count": 4,
   "metadata": {},
   "outputs": [],
   "source": [
    "def create_name_to_id_link(season, player_type):\n",
    "    # Scrape the list of players.\n",
    "    # Create the url\n",
    "    season = str(season)\n",
    "    if player_type == 's':\n",
    "        names_url = 'https://www.hockey-reference.com/leagues/NHL_' + season + '_skaters.html'\n",
    "    elif player_type == 'g':\n",
    "        names_url = 'https://www.hockey-reference.com/leagues/NHL_' + season + '_goalies.html'\n",
    "    else:\n",
    "        return 'Invalid player type. Use \"s\" or \"g\".'\n",
    "    \n",
    "    # Grab the html code \n",
    "    response = requests.get(names_url)\n",
    "    soup = BeautifulSoup(response.text, 'html.parser')\n",
    "    names_html_list = soup.find_all('td', attrs = {'data-stat':'player'})\n",
    "\n",
    "    # Here is the list of player names. We can use this to create a dictionary of {'player_id':'player_names'}.\n",
    "    names = [player_name.text for player_name in names_html_list]\n",
    "    print('Number of names scraped:', len(names))\n",
    "\n",
    "    # Grab player ID using the href in <a> tag. Then we don't have to construct them ourselves.\n",
    "    href_strings = [str(names_html_list[index].a) for index in range(len(names_html_list))]\n",
    "    ids = [re.search('/\\w/\\S+[0-9]+', href).group(0) for href in href_strings] # This can also handle names like 'J.T. Compher'\n",
    "\n",
    "    # This works for getting all of the player IDs in the list\n",
    "    print('Number of player IDs scraped:', len(ids))\n",
    "\n",
    "    # Here is the set of unique ones we will use later to iterate through\n",
    "    unique_ids = list(set(ids))\n",
    "    unique_ids.sort()\n",
    "    print('Number of unique player IDs', len(unique_ids), '\\n')\n",
    "\n",
    "    # Create a data frame of player ids and player names. We will use this to join to the final data frame to \n",
    "    # add the player names as another column.\n",
    "    ids_names = pd.DataFrame({'player_id' : ids, 'player_name' : names})\n",
    "    ids_names = ids_names.drop_duplicates()\n",
    "\n",
    "    # Return the df/dictionary that links player ID to player name\n",
    "    return ids_names\n",
    "        "
   ]
  },
  {
   "attachments": {},
   "cell_type": "markdown",
   "metadata": {},
   "source": [
    "## Get the game log for each player ID"
   ]
  },
  {
   "cell_type": "code",
   "execution_count": 5,
   "metadata": {},
   "outputs": [
    {
     "name": "stdout",
     "output_type": "stream",
     "text": [
      "Number of names scraped: 1142\n",
      "Number of player IDs scraped: 1142\n",
      "Number of unique player IDs 950 \n",
      "\n"
     ]
    },
    {
     "data": {
      "text/html": [
       "<div>\n",
       "<style scoped>\n",
       "    .dataframe tbody tr th:only-of-type {\n",
       "        vertical-align: middle;\n",
       "    }\n",
       "\n",
       "    .dataframe tbody tr th {\n",
       "        vertical-align: top;\n",
       "    }\n",
       "\n",
       "    .dataframe thead th {\n",
       "        text-align: right;\n",
       "    }\n",
       "</style>\n",
       "<table border=\"1\" class=\"dataframe\">\n",
       "  <thead>\n",
       "    <tr style=\"text-align: right;\">\n",
       "      <th></th>\n",
       "      <th>player_id</th>\n",
       "      <th>player_name</th>\n",
       "    </tr>\n",
       "  </thead>\n",
       "  <tbody>\n",
       "    <tr>\n",
       "      <th>0</th>\n",
       "      <td>/a/abruzni01</td>\n",
       "      <td>Nicholas Abruzzese</td>\n",
       "    </tr>\n",
       "    <tr>\n",
       "      <th>1</th>\n",
       "      <td>/a/acciano01</td>\n",
       "      <td>Noel Acciari</td>\n",
       "    </tr>\n",
       "    <tr>\n",
       "      <th>4</th>\n",
       "      <td>/a/addisca01</td>\n",
       "      <td>Calen Addison</td>\n",
       "    </tr>\n",
       "    <tr>\n",
       "      <th>5</th>\n",
       "      <td>/a/afanaeg01</td>\n",
       "      <td>Egor Afanasyev</td>\n",
       "    </tr>\n",
       "    <tr>\n",
       "      <th>6</th>\n",
       "      <td>/a/agozzan01</td>\n",
       "      <td>Andrew Agozzino</td>\n",
       "    </tr>\n",
       "  </tbody>\n",
       "</table>\n",
       "</div>"
      ],
      "text/plain": [
       "      player_id         player_name\n",
       "0  /a/abruzni01  Nicholas Abruzzese\n",
       "1  /a/acciano01        Noel Acciari\n",
       "4  /a/addisca01       Calen Addison\n",
       "5  /a/afanaeg01      Egor Afanasyev\n",
       "6  /a/agozzan01     Andrew Agozzino"
      ]
     },
     "metadata": {},
     "output_type": "display_data"
    }
   ],
   "source": [
    "# Get the names and player ID's of all skaters that played during the season\n",
    "skater_ids_names = create_name_to_id_link(season = season, player_type = 's')\n",
    "display(skater_ids_names.head())"
   ]
  },
  {
   "cell_type": "code",
   "execution_count": 11,
   "metadata": {},
   "outputs": [
    {
     "name": "stdout",
     "output_type": "stream",
     "text": [
      "Num players: 26 - Num rows in df: 1196\n",
      "Num players: 51 - Num rows in df: 2566\n",
      "Num players: 101 - Num rows in df: 4971\n",
      "Num players: 201 - Num rows in df: 9750\n",
      "Num players: 301 - Num rows in df: 14971\n",
      "Num players: 401 - Num rows in df: 19863\n",
      "Num players: 501 - Num rows in df: 25244\n",
      "Num players: 601 - Num rows in df: 30763\n",
      "Num players: 701 - Num rows in df: 36387\n",
      "Num players: 801 - Num rows in df: 41362\n",
      "Num players: 901 - Num rows in df: 46675\n"
     ]
    }
   ],
   "source": [
    "# Initalize empty df to store all player game logs combined\n",
    "skater_games = pd.DataFrame()\n",
    "unique_skater_ids = skater_ids_names['player_id'].unique()\n",
    "\n",
    "for i, id in enumerate(unique_skater_ids):\n",
    "    # Wait some time between each request\n",
    "    time.sleep(4)\n",
    "    \n",
    "    # Get game log for the id\n",
    "    skater_games = pd.concat([skater_games, get_game_log(id, season = season)], axis = 0)\n",
    "\n",
    "    # Print our progress as we iterate through all the players\n",
    "    if i in [25, 50, 100, 200, 300, 400, 500, 600, 700, 800, 900, 1000]:\n",
    "        print('Num players:', len(skater_games['player_id'].unique()), '- Num rows in df:', len(skater_games.index))"
   ]
  },
  {
   "attachments": {},
   "cell_type": "markdown",
   "metadata": {},
   "source": [
    "## Get the game log for each goalie ID"
   ]
  },
  {
   "cell_type": "code",
   "execution_count": 60,
   "metadata": {},
   "outputs": [
    {
     "name": "stdout",
     "output_type": "stream",
     "text": [
      "Number of names scraped: 115\n",
      "Number of player IDs scraped: 115\n",
      "Number of unique player IDs 107 \n",
      "\n"
     ]
    },
    {
     "data": {
      "text/html": [
       "<div>\n",
       "<style scoped>\n",
       "    .dataframe tbody tr th:only-of-type {\n",
       "        vertical-align: middle;\n",
       "    }\n",
       "\n",
       "    .dataframe tbody tr th {\n",
       "        vertical-align: top;\n",
       "    }\n",
       "\n",
       "    .dataframe thead th {\n",
       "        text-align: right;\n",
       "    }\n",
       "</style>\n",
       "<table border=\"1\" class=\"dataframe\">\n",
       "  <thead>\n",
       "    <tr style=\"text-align: right;\">\n",
       "      <th></th>\n",
       "      <th>player_id</th>\n",
       "      <th>player_name</th>\n",
       "    </tr>\n",
       "  </thead>\n",
       "  <tbody>\n",
       "    <tr>\n",
       "      <th>0</th>\n",
       "      <td>/a/alexaje01</td>\n",
       "      <td>Jett Alexander</td>\n",
       "    </tr>\n",
       "    <tr>\n",
       "      <th>1</th>\n",
       "      <td>/a/allenja01</td>\n",
       "      <td>Jake Allen</td>\n",
       "    </tr>\n",
       "    <tr>\n",
       "      <th>2</th>\n",
       "      <td>/a/anderfr01</td>\n",
       "      <td>Frederik Andersen</td>\n",
       "    </tr>\n",
       "    <tr>\n",
       "      <th>3</th>\n",
       "      <td>/a/andercr01</td>\n",
       "      <td>Craig Anderson</td>\n",
       "    </tr>\n",
       "    <tr>\n",
       "      <th>4</th>\n",
       "      <td>/a/annunju01</td>\n",
       "      <td>Justus Annunen</td>\n",
       "    </tr>\n",
       "  </tbody>\n",
       "</table>\n",
       "</div>"
      ],
      "text/plain": [
       "      player_id        player_name\n",
       "0  /a/alexaje01     Jett Alexander\n",
       "1  /a/allenja01         Jake Allen\n",
       "2  /a/anderfr01  Frederik Andersen\n",
       "3  /a/andercr01     Craig Anderson\n",
       "4  /a/annunju01     Justus Annunen"
      ]
     },
     "metadata": {},
     "output_type": "display_data"
    }
   ],
   "source": [
    "# Get the names and player ID's of all goalies that played during the season\n",
    "goalie_ids_names = create_name_to_id_link(season = season, player_type = 'g')\n",
    "display(goalie_ids_names.head())"
   ]
  },
  {
   "cell_type": "code",
   "execution_count": 61,
   "metadata": {},
   "outputs": [
    {
     "name": "stdout",
     "output_type": "stream",
     "text": [
      "Num players: 11 - Num rows in df: 261\n",
      "Num players: 26 - Num rows in df: 590\n",
      "Num players: 51 - Num rows in df: 1311\n",
      "Num players: 76 - Num rows in df: 1927\n",
      "Num players: 101 - Num rows in df: 2765\n"
     ]
    }
   ],
   "source": [
    "# Initalize empty df to store all player game logs combined\n",
    "goalie_games = pd.DataFrame()\n",
    "unique_goalie_ids = goalie_ids_names['player_id'].unique()\n",
    "\n",
    "for i, id in enumerate(unique_goalie_ids):\n",
    "    # Wait some time between each request\n",
    "    time.sleep(4)\n",
    "    \n",
    "    # Get game log for the id\n",
    "    goalie_games = pd.concat([goalie_games, get_game_log(id, season = season)], axis = 0)\n",
    "\n",
    "    # Print our progress as we iterate through all the players\n",
    "    if i in [10, 25, 50, 75, 100, 125]:\n",
    "        print('Num players:', len(goalie_games['player_id'].unique()), '- Num rows in df:', len(goalie_games.index))"
   ]
  },
  {
   "cell_type": "markdown",
   "metadata": {},
   "source": [
    "## Clean the data frame of skater statistics"
   ]
  },
  {
   "cell_type": "code",
   "execution_count": 14,
   "metadata": {},
   "outputs": [
    {
     "ename": "ValueError",
     "evalue": "cannot convert float NaN to integer: Error while type casting for column 'age'",
     "output_type": "error",
     "traceback": [
      "\u001b[0;31m---------------------------------------------------------------------------\u001b[0m",
      "\u001b[0;31mValueError\u001b[0m                                Traceback (most recent call last)",
      "Cell \u001b[0;32mIn[14], line 37\u001b[0m\n\u001b[1;32m     29\u001b[0m skater_games \u001b[39m=\u001b[39m skater_games\u001b[39m.\u001b[39mdrop(columns \u001b[39m=\u001b[39m [\u001b[39m'\u001b[39m\u001b[39mrank\u001b[39m\u001b[39m'\u001b[39m, \u001b[39m'\u001b[39m\u001b[39mmin\u001b[39m\u001b[39m'\u001b[39m, \u001b[39m'\u001b[39m\u001b[39msec\u001b[39m\u001b[39m'\u001b[39m])\n\u001b[1;32m     31\u001b[0m \u001b[39m# Convert columns to correct types. The proper types are listed below.\u001b[39;00m\n\u001b[1;32m     32\u001b[0m     \u001b[39m# Date --> [date]\u001b[39;00m\n\u001b[1;32m     33\u001b[0m     \u001b[39m# Integer --> [game_num, age, home_away_status, G, A, P, rating, PIM, EVG, PPG, SHG, GWG, EVA, PPA, \u001b[39;00m\n\u001b[1;32m     34\u001b[0m                 \u001b[39m# SHA, S, shifts, HIT, BLK, FOW, FOL, season]\u001b[39;00m\n\u001b[1;32m     35\u001b[0m     \u001b[39m# Float --> [S_per, TOI, FOW_perc]\u001b[39;00m\n\u001b[1;32m     36\u001b[0m     \u001b[39m# String --> [player_id, team, opponent, result]\u001b[39;00m\n\u001b[0;32m---> 37\u001b[0m skater_games \u001b[39m=\u001b[39m skater_games\u001b[39m.\u001b[39;49mastype({\u001b[39m'\u001b[39;49m\u001b[39mdate\u001b[39;49m\u001b[39m'\u001b[39;49m:\u001b[39m'\u001b[39;49m\u001b[39mdatetime64[ns]\u001b[39;49m\u001b[39m'\u001b[39;49m,\u001b[39m'\u001b[39;49m\u001b[39mgame_num\u001b[39;49m\u001b[39m'\u001b[39;49m:\u001b[39m'\u001b[39;49m\u001b[39mint\u001b[39;49m\u001b[39m'\u001b[39;49m, \u001b[39m'\u001b[39;49m\u001b[39mage\u001b[39;49m\u001b[39m'\u001b[39;49m:\u001b[39m'\u001b[39;49m\u001b[39mint\u001b[39;49m\u001b[39m'\u001b[39;49m,\n\u001b[1;32m     38\u001b[0m                                               \u001b[39m'\u001b[39;49m\u001b[39mteam\u001b[39;49m\u001b[39m'\u001b[39;49m:\u001b[39m'\u001b[39;49m\u001b[39mstr\u001b[39;49m\u001b[39m'\u001b[39;49m, \u001b[39m'\u001b[39;49m\u001b[39mhome_away_status\u001b[39;49m\u001b[39m'\u001b[39;49m:\u001b[39m'\u001b[39;49m\u001b[39mint\u001b[39;49m\u001b[39m'\u001b[39;49m, \u001b[39m'\u001b[39;49m\u001b[39mopponent\u001b[39;49m\u001b[39m'\u001b[39;49m:\u001b[39m'\u001b[39;49m\u001b[39mstr\u001b[39;49m\u001b[39m'\u001b[39;49m, \n\u001b[1;32m     39\u001b[0m                                               \u001b[39m'\u001b[39;49m\u001b[39mresult\u001b[39;49m\u001b[39m'\u001b[39;49m:\u001b[39m'\u001b[39;49m\u001b[39mstr\u001b[39;49m\u001b[39m'\u001b[39;49m, \u001b[39m'\u001b[39;49m\u001b[39mG\u001b[39;49m\u001b[39m'\u001b[39;49m:\u001b[39m'\u001b[39;49m\u001b[39mint\u001b[39;49m\u001b[39m'\u001b[39;49m, \u001b[39m'\u001b[39;49m\u001b[39mA\u001b[39;49m\u001b[39m'\u001b[39;49m:\u001b[39m'\u001b[39;49m\u001b[39mint\u001b[39;49m\u001b[39m'\u001b[39;49m, \u001b[39m'\u001b[39;49m\u001b[39mP\u001b[39;49m\u001b[39m'\u001b[39;49m:\u001b[39m'\u001b[39;49m\u001b[39mint\u001b[39;49m\u001b[39m'\u001b[39;49m, \u001b[39m'\u001b[39;49m\u001b[39mrating\u001b[39;49m\u001b[39m'\u001b[39;49m:\u001b[39m'\u001b[39;49m\u001b[39mint\u001b[39;49m\u001b[39m'\u001b[39;49m, \n\u001b[1;32m     40\u001b[0m                                               \u001b[39m'\u001b[39;49m\u001b[39mPIM\u001b[39;49m\u001b[39m'\u001b[39;49m:\u001b[39m'\u001b[39;49m\u001b[39mint\u001b[39;49m\u001b[39m'\u001b[39;49m, \u001b[39m'\u001b[39;49m\u001b[39mEVG\u001b[39;49m\u001b[39m'\u001b[39;49m:\u001b[39m'\u001b[39;49m\u001b[39mint\u001b[39;49m\u001b[39m'\u001b[39;49m, \u001b[39m'\u001b[39;49m\u001b[39mPPG\u001b[39;49m\u001b[39m'\u001b[39;49m:\u001b[39m'\u001b[39;49m\u001b[39mint\u001b[39;49m\u001b[39m'\u001b[39;49m, \u001b[39m'\u001b[39;49m\u001b[39mSHG\u001b[39;49m\u001b[39m'\u001b[39;49m:\u001b[39m'\u001b[39;49m\u001b[39mint\u001b[39;49m\u001b[39m'\u001b[39;49m, \u001b[39m'\u001b[39;49m\u001b[39mGWG\u001b[39;49m\u001b[39m'\u001b[39;49m:\u001b[39m'\u001b[39;49m\u001b[39mint\u001b[39;49m\u001b[39m'\u001b[39;49m, \n\u001b[1;32m     41\u001b[0m                                               \u001b[39m'\u001b[39;49m\u001b[39mEVA\u001b[39;49m\u001b[39m'\u001b[39;49m:\u001b[39m'\u001b[39;49m\u001b[39mint\u001b[39;49m\u001b[39m'\u001b[39;49m, \u001b[39m'\u001b[39;49m\u001b[39mPPA\u001b[39;49m\u001b[39m'\u001b[39;49m:\u001b[39m'\u001b[39;49m\u001b[39mint\u001b[39;49m\u001b[39m'\u001b[39;49m, \u001b[39m'\u001b[39;49m\u001b[39mSHA\u001b[39;49m\u001b[39m'\u001b[39;49m:\u001b[39m'\u001b[39;49m\u001b[39mint\u001b[39;49m\u001b[39m'\u001b[39;49m, \u001b[39m'\u001b[39;49m\u001b[39mS\u001b[39;49m\u001b[39m'\u001b[39;49m:\u001b[39m'\u001b[39;49m\u001b[39mint\u001b[39;49m\u001b[39m'\u001b[39;49m, \u001b[39m'\u001b[39;49m\u001b[39mS_perc\u001b[39;49m\u001b[39m'\u001b[39;49m:\u001b[39m'\u001b[39;49m\u001b[39mfloat\u001b[39;49m\u001b[39m'\u001b[39;49m,\n\u001b[1;32m     42\u001b[0m                                               \u001b[39m'\u001b[39;49m\u001b[39mshifts\u001b[39;49m\u001b[39m'\u001b[39;49m:\u001b[39m'\u001b[39;49m\u001b[39mint\u001b[39;49m\u001b[39m'\u001b[39;49m, \u001b[39m'\u001b[39;49m\u001b[39mTOI\u001b[39;49m\u001b[39m'\u001b[39;49m:\u001b[39m'\u001b[39;49m\u001b[39mfloat\u001b[39;49m\u001b[39m'\u001b[39;49m, \u001b[39m'\u001b[39;49m\u001b[39mHIT\u001b[39;49m\u001b[39m'\u001b[39;49m:\u001b[39m'\u001b[39;49m\u001b[39mint\u001b[39;49m\u001b[39m'\u001b[39;49m, \u001b[39m'\u001b[39;49m\u001b[39mBLK\u001b[39;49m\u001b[39m'\u001b[39;49m:\u001b[39m'\u001b[39;49m\u001b[39mint\u001b[39;49m\u001b[39m'\u001b[39;49m, \u001b[39m'\u001b[39;49m\u001b[39mFOW\u001b[39;49m\u001b[39m'\u001b[39;49m:\u001b[39m'\u001b[39;49m\u001b[39mint\u001b[39;49m\u001b[39m'\u001b[39;49m, \n\u001b[1;32m     43\u001b[0m                                               \u001b[39m'\u001b[39;49m\u001b[39mFOL\u001b[39;49m\u001b[39m'\u001b[39;49m:\u001b[39m'\u001b[39;49m\u001b[39mint\u001b[39;49m\u001b[39m'\u001b[39;49m, \u001b[39m'\u001b[39;49m\u001b[39mFOW_perc\u001b[39;49m\u001b[39m'\u001b[39;49m:\u001b[39m'\u001b[39;49m\u001b[39mfloat\u001b[39;49m\u001b[39m'\u001b[39;49m, \u001b[39m'\u001b[39;49m\u001b[39mplayer_id\u001b[39;49m\u001b[39m'\u001b[39;49m:\u001b[39m'\u001b[39;49m\u001b[39mstr\u001b[39;49m\u001b[39m'\u001b[39;49m, \u001b[39m'\u001b[39;49m\u001b[39mseason\u001b[39;49m\u001b[39m'\u001b[39;49m:\u001b[39m'\u001b[39;49m\u001b[39mint\u001b[39;49m\u001b[39m'\u001b[39;49m, \n\u001b[1;32m     44\u001b[0m                                               \u001b[39m'\u001b[39;49m\u001b[39mplayer_name\u001b[39;49m\u001b[39m'\u001b[39;49m:\u001b[39m'\u001b[39;49m\u001b[39mstr\u001b[39;49m\u001b[39m'\u001b[39;49m})\n",
      "File \u001b[0;32m~/Documents/GitHub_Personal/sports_betting_repo/.venv/lib/python3.9/site-packages/pandas/core/generic.py:6305\u001b[0m, in \u001b[0;36mNDFrame.astype\u001b[0;34m(self, dtype, copy, errors)\u001b[0m\n\u001b[1;32m   6303\u001b[0m \u001b[39melse\u001b[39;00m:\n\u001b[1;32m   6304\u001b[0m     \u001b[39mtry\u001b[39;00m:\n\u001b[0;32m-> 6305\u001b[0m         res_col \u001b[39m=\u001b[39m col\u001b[39m.\u001b[39;49mastype(dtype\u001b[39m=\u001b[39;49mcdt, copy\u001b[39m=\u001b[39;49mcopy, errors\u001b[39m=\u001b[39;49merrors)\n\u001b[1;32m   6306\u001b[0m     \u001b[39mexcept\u001b[39;00m \u001b[39mValueError\u001b[39;00m \u001b[39mas\u001b[39;00m ex:\n\u001b[1;32m   6307\u001b[0m         ex\u001b[39m.\u001b[39margs \u001b[39m=\u001b[39m (\n\u001b[1;32m   6308\u001b[0m             \u001b[39mf\u001b[39m\u001b[39m\"\u001b[39m\u001b[39m{\u001b[39;00mex\u001b[39m}\u001b[39;00m\u001b[39m: Error while type casting for column \u001b[39m\u001b[39m'\u001b[39m\u001b[39m{\u001b[39;00mcol_name\u001b[39m}\u001b[39;00m\u001b[39m'\u001b[39m\u001b[39m\"\u001b[39m,\n\u001b[1;32m   6309\u001b[0m         )\n",
      "File \u001b[0;32m~/Documents/GitHub_Personal/sports_betting_repo/.venv/lib/python3.9/site-packages/pandas/core/generic.py:6324\u001b[0m, in \u001b[0;36mNDFrame.astype\u001b[0;34m(self, dtype, copy, errors)\u001b[0m\n\u001b[1;32m   6317\u001b[0m     results \u001b[39m=\u001b[39m [\n\u001b[1;32m   6318\u001b[0m         \u001b[39mself\u001b[39m\u001b[39m.\u001b[39miloc[:, i]\u001b[39m.\u001b[39mastype(dtype, copy\u001b[39m=\u001b[39mcopy)\n\u001b[1;32m   6319\u001b[0m         \u001b[39mfor\u001b[39;00m i \u001b[39min\u001b[39;00m \u001b[39mrange\u001b[39m(\u001b[39mlen\u001b[39m(\u001b[39mself\u001b[39m\u001b[39m.\u001b[39mcolumns))\n\u001b[1;32m   6320\u001b[0m     ]\n\u001b[1;32m   6322\u001b[0m \u001b[39melse\u001b[39;00m:\n\u001b[1;32m   6323\u001b[0m     \u001b[39m# else, only a single dtype is given\u001b[39;00m\n\u001b[0;32m-> 6324\u001b[0m     new_data \u001b[39m=\u001b[39m \u001b[39mself\u001b[39;49m\u001b[39m.\u001b[39;49m_mgr\u001b[39m.\u001b[39;49mastype(dtype\u001b[39m=\u001b[39;49mdtype, copy\u001b[39m=\u001b[39;49mcopy, errors\u001b[39m=\u001b[39;49merrors)\n\u001b[1;32m   6325\u001b[0m     \u001b[39mreturn\u001b[39;00m \u001b[39mself\u001b[39m\u001b[39m.\u001b[39m_constructor(new_data)\u001b[39m.\u001b[39m__finalize__(\u001b[39mself\u001b[39m, method\u001b[39m=\u001b[39m\u001b[39m\"\u001b[39m\u001b[39mastype\u001b[39m\u001b[39m\"\u001b[39m)\n\u001b[1;32m   6327\u001b[0m \u001b[39m# GH 33113: handle empty frame or series\u001b[39;00m\n",
      "File \u001b[0;32m~/Documents/GitHub_Personal/sports_betting_repo/.venv/lib/python3.9/site-packages/pandas/core/internals/managers.py:451\u001b[0m, in \u001b[0;36mBaseBlockManager.astype\u001b[0;34m(self, dtype, copy, errors)\u001b[0m\n\u001b[1;32m    448\u001b[0m \u001b[39melif\u001b[39;00m using_copy_on_write():\n\u001b[1;32m    449\u001b[0m     copy \u001b[39m=\u001b[39m \u001b[39mFalse\u001b[39;00m\n\u001b[0;32m--> 451\u001b[0m \u001b[39mreturn\u001b[39;00m \u001b[39mself\u001b[39;49m\u001b[39m.\u001b[39;49mapply(\n\u001b[1;32m    452\u001b[0m     \u001b[39m\"\u001b[39;49m\u001b[39mastype\u001b[39;49m\u001b[39m\"\u001b[39;49m,\n\u001b[1;32m    453\u001b[0m     dtype\u001b[39m=\u001b[39;49mdtype,\n\u001b[1;32m    454\u001b[0m     copy\u001b[39m=\u001b[39;49mcopy,\n\u001b[1;32m    455\u001b[0m     errors\u001b[39m=\u001b[39;49merrors,\n\u001b[1;32m    456\u001b[0m     using_cow\u001b[39m=\u001b[39;49musing_copy_on_write(),\n\u001b[1;32m    457\u001b[0m )\n",
      "File \u001b[0;32m~/Documents/GitHub_Personal/sports_betting_repo/.venv/lib/python3.9/site-packages/pandas/core/internals/managers.py:352\u001b[0m, in \u001b[0;36mBaseBlockManager.apply\u001b[0;34m(self, f, align_keys, **kwargs)\u001b[0m\n\u001b[1;32m    350\u001b[0m         applied \u001b[39m=\u001b[39m b\u001b[39m.\u001b[39mapply(f, \u001b[39m*\u001b[39m\u001b[39m*\u001b[39mkwargs)\n\u001b[1;32m    351\u001b[0m     \u001b[39melse\u001b[39;00m:\n\u001b[0;32m--> 352\u001b[0m         applied \u001b[39m=\u001b[39m \u001b[39mgetattr\u001b[39;49m(b, f)(\u001b[39m*\u001b[39;49m\u001b[39m*\u001b[39;49mkwargs)\n\u001b[1;32m    353\u001b[0m     result_blocks \u001b[39m=\u001b[39m extend_blocks(applied, result_blocks)\n\u001b[1;32m    355\u001b[0m out \u001b[39m=\u001b[39m \u001b[39mtype\u001b[39m(\u001b[39mself\u001b[39m)\u001b[39m.\u001b[39mfrom_blocks(result_blocks, \u001b[39mself\u001b[39m\u001b[39m.\u001b[39maxes)\n",
      "File \u001b[0;32m~/Documents/GitHub_Personal/sports_betting_repo/.venv/lib/python3.9/site-packages/pandas/core/internals/blocks.py:511\u001b[0m, in \u001b[0;36mBlock.astype\u001b[0;34m(self, dtype, copy, errors, using_cow)\u001b[0m\n\u001b[1;32m    491\u001b[0m \u001b[39m\u001b[39m\u001b[39m\"\"\"\u001b[39;00m\n\u001b[1;32m    492\u001b[0m \u001b[39mCoerce to the new dtype.\u001b[39;00m\n\u001b[1;32m    493\u001b[0m \n\u001b[0;32m   (...)\u001b[0m\n\u001b[1;32m    507\u001b[0m \u001b[39mBlock\u001b[39;00m\n\u001b[1;32m    508\u001b[0m \u001b[39m\"\"\"\u001b[39;00m\n\u001b[1;32m    509\u001b[0m values \u001b[39m=\u001b[39m \u001b[39mself\u001b[39m\u001b[39m.\u001b[39mvalues\n\u001b[0;32m--> 511\u001b[0m new_values \u001b[39m=\u001b[39m astype_array_safe(values, dtype, copy\u001b[39m=\u001b[39;49mcopy, errors\u001b[39m=\u001b[39;49merrors)\n\u001b[1;32m    513\u001b[0m new_values \u001b[39m=\u001b[39m maybe_coerce_values(new_values)\n\u001b[1;32m    515\u001b[0m refs \u001b[39m=\u001b[39m \u001b[39mNone\u001b[39;00m\n",
      "File \u001b[0;32m~/Documents/GitHub_Personal/sports_betting_repo/.venv/lib/python3.9/site-packages/pandas/core/dtypes/astype.py:242\u001b[0m, in \u001b[0;36mastype_array_safe\u001b[0;34m(values, dtype, copy, errors)\u001b[0m\n\u001b[1;32m    239\u001b[0m     dtype \u001b[39m=\u001b[39m dtype\u001b[39m.\u001b[39mnumpy_dtype\n\u001b[1;32m    241\u001b[0m \u001b[39mtry\u001b[39;00m:\n\u001b[0;32m--> 242\u001b[0m     new_values \u001b[39m=\u001b[39m astype_array(values, dtype, copy\u001b[39m=\u001b[39;49mcopy)\n\u001b[1;32m    243\u001b[0m \u001b[39mexcept\u001b[39;00m (\u001b[39mValueError\u001b[39;00m, \u001b[39mTypeError\u001b[39;00m):\n\u001b[1;32m    244\u001b[0m     \u001b[39m# e.g. _astype_nansafe can fail on object-dtype of strings\u001b[39;00m\n\u001b[1;32m    245\u001b[0m     \u001b[39m#  trying to convert to float\u001b[39;00m\n\u001b[1;32m    246\u001b[0m     \u001b[39mif\u001b[39;00m errors \u001b[39m==\u001b[39m \u001b[39m\"\u001b[39m\u001b[39mignore\u001b[39m\u001b[39m\"\u001b[39m:\n",
      "File \u001b[0;32m~/Documents/GitHub_Personal/sports_betting_repo/.venv/lib/python3.9/site-packages/pandas/core/dtypes/astype.py:187\u001b[0m, in \u001b[0;36mastype_array\u001b[0;34m(values, dtype, copy)\u001b[0m\n\u001b[1;32m    184\u001b[0m     values \u001b[39m=\u001b[39m values\u001b[39m.\u001b[39mastype(dtype, copy\u001b[39m=\u001b[39mcopy)\n\u001b[1;32m    186\u001b[0m \u001b[39melse\u001b[39;00m:\n\u001b[0;32m--> 187\u001b[0m     values \u001b[39m=\u001b[39m _astype_nansafe(values, dtype, copy\u001b[39m=\u001b[39;49mcopy)\n\u001b[1;32m    189\u001b[0m \u001b[39m# in pandas we don't store numpy str dtypes, so convert to object\u001b[39;00m\n\u001b[1;32m    190\u001b[0m \u001b[39mif\u001b[39;00m \u001b[39misinstance\u001b[39m(dtype, np\u001b[39m.\u001b[39mdtype) \u001b[39mand\u001b[39;00m \u001b[39missubclass\u001b[39m(values\u001b[39m.\u001b[39mdtype\u001b[39m.\u001b[39mtype, \u001b[39mstr\u001b[39m):\n",
      "File \u001b[0;32m~/Documents/GitHub_Personal/sports_betting_repo/.venv/lib/python3.9/site-packages/pandas/core/dtypes/astype.py:138\u001b[0m, in \u001b[0;36m_astype_nansafe\u001b[0;34m(arr, dtype, copy, skipna)\u001b[0m\n\u001b[1;32m    134\u001b[0m     \u001b[39mraise\u001b[39;00m \u001b[39mValueError\u001b[39;00m(msg)\n\u001b[1;32m    136\u001b[0m \u001b[39mif\u001b[39;00m copy \u001b[39mor\u001b[39;00m is_object_dtype(arr\u001b[39m.\u001b[39mdtype) \u001b[39mor\u001b[39;00m is_object_dtype(dtype):\n\u001b[1;32m    137\u001b[0m     \u001b[39m# Explicit copy, or required since NumPy can't view from / to object.\u001b[39;00m\n\u001b[0;32m--> 138\u001b[0m     \u001b[39mreturn\u001b[39;00m arr\u001b[39m.\u001b[39;49mastype(dtype, copy\u001b[39m=\u001b[39;49m\u001b[39mTrue\u001b[39;49;00m)\n\u001b[1;32m    140\u001b[0m \u001b[39mreturn\u001b[39;00m arr\u001b[39m.\u001b[39mastype(dtype, copy\u001b[39m=\u001b[39mcopy)\n",
      "\u001b[0;31mValueError\u001b[0m: cannot convert float NaN to integer: Error while type casting for column 'age'"
     ]
    }
   ],
   "source": [
    "# Rename columns\n",
    "skater_games.columns = ['rank', 'date', 'game_num', 'age', 'team', 'home_away_status', 'opponent', 'result', \n",
    "                        'G', 'A', 'P', 'rating', 'PIM', 'EVG', 'PPG', 'SHG', 'GWG', 'EVA', 'PPA', 'SHA', 'S', 'S_perc',\n",
    "                        'shifts', 'TOI', 'HIT', 'BLK', 'FOW', 'FOL', 'FOW_perc', 'player_id', 'season']\n",
    "\n",
    "# Remove these weird rows... They are not actual data (just repeated column names)\n",
    "skater_games = skater_games.loc[skater_games[('rank')] != 'Rk']\n",
    "\n",
    "# Left join the player_name column to the data frame\n",
    "skater_games = skater_games.merge(skater_ids_names, on = 'player_id', how = 'left')\n",
    "\n",
    "# Reorder the columns \n",
    "skater_games = skater_games[['rank', 'player_id', 'player_name', 'age', 'season', 'game_num', 'date', 'team', \n",
    "                            'opponent', 'home_away_status', 'result', 'G', 'A', 'P', 'rating', 'PIM', 'EVG', \n",
    "                             'PPG', 'SHG', 'GWG', 'EVA', 'PPA', 'SHA', 'S', 'S_perc', 'shifts', 'TOI', 'HIT', \n",
    "                             'BLK', 'FOW', 'FOL', 'FOW_perc']]\n",
    "\n",
    "# Clean home_away_status column. 1 means the player played a home game. 0 means the game was on the road.\n",
    "skater_games = skater_games.replace({'home_away_status': {'@':0, np.nan:1}})\n",
    "\n",
    "# Fix age strings to just reflect age in years. We probably don't care about days since last birthday.\n",
    "skater_games['age'] = skater_games.age.str.extract(pat = '(\\d+)')\n",
    "\n",
    "# Convert time on ice (TOI) to minutes using decimal. For example 22:40 should become 22.666667.\n",
    "skater_games[['min', 'sec']] = skater_games.TOI.str.split(':', expand = True)\n",
    "skater_games['TOI'] = skater_games['min'].astype('float') + skater_games['sec'].astype('float') / 60\n",
    "\n",
    "# Now drop columns we don't need.\n",
    "skater_games = skater_games.drop(columns = ['rank', 'min', 'sec'])\n",
    "\n",
    "# Convert team to 3 letter code\n",
    "skater_games['team'] = skater_games['team'].str.lower().replace(team_name_dict)\n",
    "skater_games['opponent'] = skater_games['opponent'].str.lower().replace(team_name_dict)\n",
    "\n",
    "# Convert columns to correct types. The proper types are listed below.\n",
    "    # Date --> [date]\n",
    "    # Integer --> [game_num, age, home_away_status, G, A, P, rating, PIM, EVG, PPG, SHG, GWG, EVA, PPA, \n",
    "                # SHA, S, shifts, HIT, BLK, FOW, FOL, season]\n",
    "    # Float --> [S_per, TOI, FOW_perc]\n",
    "    # String --> [player_id, team, opponent, result]\n",
    "skater_games = skater_games.astype({'date':'datetime64[ns]','game_num':'int', 'age':'int',\n",
    "                                              'team':'str', 'home_away_status':'int', 'opponent':'str', \n",
    "                                              'result':'str', 'G':'int', 'A':'int', 'P':'int', 'rating':'int', \n",
    "                                              'PIM':'int', 'EVG':'int', 'PPG':'int', 'SHG':'int', 'GWG':'int', \n",
    "                                              'EVA':'int', 'PPA':'int', 'SHA':'int', 'S':'int', 'S_perc':'float',\n",
    "                                              'shifts':'int', 'TOI':'float', 'HIT':'int', 'BLK':'int', 'FOW':'int', \n",
    "                                              'FOL':'int', 'FOW_perc':'float', 'player_id':'str', 'season':'int', \n",
    "                                              'player_name':'str'})\n",
    "\n"
   ]
  },
  {
   "cell_type": "markdown",
   "metadata": {},
   "source": [
    "## Clean data frame for goalies"
   ]
  },
  {
   "cell_type": "code",
   "execution_count": 64,
   "metadata": {},
   "outputs": [
    {
     "ename": "ValueError",
     "evalue": "cannot convert float NaN to integer: Error while type casting for column 'age'",
     "output_type": "error",
     "traceback": [
      "\u001b[0;31m---------------------------------------------------------------------------\u001b[0m",
      "\u001b[0;31mValueError\u001b[0m                                Traceback (most recent call last)",
      "Cell \u001b[0;32mIn[64], line 34\u001b[0m\n\u001b[1;32m     27\u001b[0m goalie_games \u001b[39m=\u001b[39m goalie_games\u001b[39m.\u001b[39mdrop(columns \u001b[39m=\u001b[39m [\u001b[39m'\u001b[39m\u001b[39mrank\u001b[39m\u001b[39m'\u001b[39m, \u001b[39m'\u001b[39m\u001b[39mmin\u001b[39m\u001b[39m'\u001b[39m, \u001b[39m'\u001b[39m\u001b[39msec\u001b[39m\u001b[39m'\u001b[39m])\n\u001b[1;32m     29\u001b[0m \u001b[39m# Convert columns to correct types. The proper types are listed below.\u001b[39;00m\n\u001b[1;32m     30\u001b[0m     \u001b[39m# Date --> [date]\u001b[39;00m\n\u001b[1;32m     31\u001b[0m     \u001b[39m# Integer --> [age, season, game_num, home_away_status, GA, SA, SV, shutout, PIM]\u001b[39;00m\n\u001b[1;32m     32\u001b[0m     \u001b[39m# Float --> [SV_perc, TOI]\u001b[39;00m\n\u001b[1;32m     33\u001b[0m     \u001b[39m# String --> [player_id, player_name, team, opponent, result, decision]\u001b[39;00m\n\u001b[0;32m---> 34\u001b[0m goalie_games \u001b[39m=\u001b[39m goalie_games\u001b[39m.\u001b[39;49mastype({\u001b[39m'\u001b[39;49m\u001b[39mdate\u001b[39;49m\u001b[39m'\u001b[39;49m:\u001b[39m'\u001b[39;49m\u001b[39mdatetime64[ns]\u001b[39;49m\u001b[39m'\u001b[39;49m, \u001b[39m'\u001b[39;49m\u001b[39mage\u001b[39;49m\u001b[39m'\u001b[39;49m:\u001b[39m'\u001b[39;49m\u001b[39mint\u001b[39;49m\u001b[39m'\u001b[39;49m, \u001b[39m'\u001b[39;49m\u001b[39mseason\u001b[39;49m\u001b[39m'\u001b[39;49m:\u001b[39m'\u001b[39;49m\u001b[39mint\u001b[39;49m\u001b[39m'\u001b[39;49m, \u001b[39m'\u001b[39;49m\u001b[39mgame_num\u001b[39;49m\u001b[39m'\u001b[39;49m:\u001b[39m'\u001b[39;49m\u001b[39mint\u001b[39;49m\u001b[39m'\u001b[39;49m, \n\u001b[1;32m     35\u001b[0m                                     \u001b[39m'\u001b[39;49m\u001b[39mhome_away_status\u001b[39;49m\u001b[39m'\u001b[39;49m:\u001b[39m'\u001b[39;49m\u001b[39mint\u001b[39;49m\u001b[39m'\u001b[39;49m, \u001b[39m'\u001b[39;49m\u001b[39mGA\u001b[39;49m\u001b[39m'\u001b[39;49m:\u001b[39m'\u001b[39;49m\u001b[39mint\u001b[39;49m\u001b[39m'\u001b[39;49m, \u001b[39m'\u001b[39;49m\u001b[39mSA\u001b[39;49m\u001b[39m'\u001b[39;49m:\u001b[39m'\u001b[39;49m\u001b[39mint\u001b[39;49m\u001b[39m'\u001b[39;49m, \u001b[39m'\u001b[39;49m\u001b[39mSV\u001b[39;49m\u001b[39m'\u001b[39;49m:\u001b[39m'\u001b[39;49m\u001b[39mint\u001b[39;49m\u001b[39m'\u001b[39;49m, \n\u001b[1;32m     36\u001b[0m                                     \u001b[39m'\u001b[39;49m\u001b[39mshutout\u001b[39;49m\u001b[39m'\u001b[39;49m:\u001b[39m'\u001b[39;49m\u001b[39mint\u001b[39;49m\u001b[39m'\u001b[39;49m, \u001b[39m'\u001b[39;49m\u001b[39mPIM\u001b[39;49m\u001b[39m'\u001b[39;49m:\u001b[39m'\u001b[39;49m\u001b[39mint\u001b[39;49m\u001b[39m'\u001b[39;49m, \u001b[39m'\u001b[39;49m\u001b[39mSV_perc\u001b[39;49m\u001b[39m'\u001b[39;49m:\u001b[39m'\u001b[39;49m\u001b[39mfloat\u001b[39;49m\u001b[39m'\u001b[39;49m, \u001b[39m'\u001b[39;49m\u001b[39mTOI\u001b[39;49m\u001b[39m'\u001b[39;49m:\u001b[39m'\u001b[39;49m\u001b[39mfloat\u001b[39;49m\u001b[39m'\u001b[39;49m, \n\u001b[1;32m     37\u001b[0m                                     \u001b[39m'\u001b[39;49m\u001b[39mplayer_id\u001b[39;49m\u001b[39m'\u001b[39;49m:\u001b[39m'\u001b[39;49m\u001b[39mstr\u001b[39;49m\u001b[39m'\u001b[39;49m, \u001b[39m'\u001b[39;49m\u001b[39mplayer_name\u001b[39;49m\u001b[39m'\u001b[39;49m:\u001b[39m'\u001b[39;49m\u001b[39mstr\u001b[39;49m\u001b[39m'\u001b[39;49m, \u001b[39m'\u001b[39;49m\u001b[39mteam\u001b[39;49m\u001b[39m'\u001b[39;49m:\u001b[39m'\u001b[39;49m\u001b[39mstr\u001b[39;49m\u001b[39m'\u001b[39;49m, \u001b[39m'\u001b[39;49m\u001b[39mopponent\u001b[39;49m\u001b[39m'\u001b[39;49m:\u001b[39m'\u001b[39;49m\u001b[39mstr\u001b[39;49m\u001b[39m'\u001b[39;49m, \n\u001b[1;32m     38\u001b[0m                                     \u001b[39m'\u001b[39;49m\u001b[39mresult\u001b[39;49m\u001b[39m'\u001b[39;49m:\u001b[39m'\u001b[39;49m\u001b[39mstr\u001b[39;49m\u001b[39m'\u001b[39;49m, \u001b[39m'\u001b[39;49m\u001b[39mdecision\u001b[39;49m\u001b[39m'\u001b[39;49m:\u001b[39m'\u001b[39;49m\u001b[39mstr\u001b[39;49m\u001b[39m'\u001b[39;49m})\n",
      "File \u001b[0;32m~/Documents/GitHub_Personal/sports_betting_repo/.venv/lib/python3.9/site-packages/pandas/core/generic.py:6305\u001b[0m, in \u001b[0;36mNDFrame.astype\u001b[0;34m(self, dtype, copy, errors)\u001b[0m\n\u001b[1;32m   6303\u001b[0m \u001b[39melse\u001b[39;00m:\n\u001b[1;32m   6304\u001b[0m     \u001b[39mtry\u001b[39;00m:\n\u001b[0;32m-> 6305\u001b[0m         res_col \u001b[39m=\u001b[39m col\u001b[39m.\u001b[39;49mastype(dtype\u001b[39m=\u001b[39;49mcdt, copy\u001b[39m=\u001b[39;49mcopy, errors\u001b[39m=\u001b[39;49merrors)\n\u001b[1;32m   6306\u001b[0m     \u001b[39mexcept\u001b[39;00m \u001b[39mValueError\u001b[39;00m \u001b[39mas\u001b[39;00m ex:\n\u001b[1;32m   6307\u001b[0m         ex\u001b[39m.\u001b[39margs \u001b[39m=\u001b[39m (\n\u001b[1;32m   6308\u001b[0m             \u001b[39mf\u001b[39m\u001b[39m\"\u001b[39m\u001b[39m{\u001b[39;00mex\u001b[39m}\u001b[39;00m\u001b[39m: Error while type casting for column \u001b[39m\u001b[39m'\u001b[39m\u001b[39m{\u001b[39;00mcol_name\u001b[39m}\u001b[39;00m\u001b[39m'\u001b[39m\u001b[39m\"\u001b[39m,\n\u001b[1;32m   6309\u001b[0m         )\n",
      "File \u001b[0;32m~/Documents/GitHub_Personal/sports_betting_repo/.venv/lib/python3.9/site-packages/pandas/core/generic.py:6324\u001b[0m, in \u001b[0;36mNDFrame.astype\u001b[0;34m(self, dtype, copy, errors)\u001b[0m\n\u001b[1;32m   6317\u001b[0m     results \u001b[39m=\u001b[39m [\n\u001b[1;32m   6318\u001b[0m         \u001b[39mself\u001b[39m\u001b[39m.\u001b[39miloc[:, i]\u001b[39m.\u001b[39mastype(dtype, copy\u001b[39m=\u001b[39mcopy)\n\u001b[1;32m   6319\u001b[0m         \u001b[39mfor\u001b[39;00m i \u001b[39min\u001b[39;00m \u001b[39mrange\u001b[39m(\u001b[39mlen\u001b[39m(\u001b[39mself\u001b[39m\u001b[39m.\u001b[39mcolumns))\n\u001b[1;32m   6320\u001b[0m     ]\n\u001b[1;32m   6322\u001b[0m \u001b[39melse\u001b[39;00m:\n\u001b[1;32m   6323\u001b[0m     \u001b[39m# else, only a single dtype is given\u001b[39;00m\n\u001b[0;32m-> 6324\u001b[0m     new_data \u001b[39m=\u001b[39m \u001b[39mself\u001b[39;49m\u001b[39m.\u001b[39;49m_mgr\u001b[39m.\u001b[39;49mastype(dtype\u001b[39m=\u001b[39;49mdtype, copy\u001b[39m=\u001b[39;49mcopy, errors\u001b[39m=\u001b[39;49merrors)\n\u001b[1;32m   6325\u001b[0m     \u001b[39mreturn\u001b[39;00m \u001b[39mself\u001b[39m\u001b[39m.\u001b[39m_constructor(new_data)\u001b[39m.\u001b[39m__finalize__(\u001b[39mself\u001b[39m, method\u001b[39m=\u001b[39m\u001b[39m\"\u001b[39m\u001b[39mastype\u001b[39m\u001b[39m\"\u001b[39m)\n\u001b[1;32m   6327\u001b[0m \u001b[39m# GH 33113: handle empty frame or series\u001b[39;00m\n",
      "File \u001b[0;32m~/Documents/GitHub_Personal/sports_betting_repo/.venv/lib/python3.9/site-packages/pandas/core/internals/managers.py:451\u001b[0m, in \u001b[0;36mBaseBlockManager.astype\u001b[0;34m(self, dtype, copy, errors)\u001b[0m\n\u001b[1;32m    448\u001b[0m \u001b[39melif\u001b[39;00m using_copy_on_write():\n\u001b[1;32m    449\u001b[0m     copy \u001b[39m=\u001b[39m \u001b[39mFalse\u001b[39;00m\n\u001b[0;32m--> 451\u001b[0m \u001b[39mreturn\u001b[39;00m \u001b[39mself\u001b[39;49m\u001b[39m.\u001b[39;49mapply(\n\u001b[1;32m    452\u001b[0m     \u001b[39m\"\u001b[39;49m\u001b[39mastype\u001b[39;49m\u001b[39m\"\u001b[39;49m,\n\u001b[1;32m    453\u001b[0m     dtype\u001b[39m=\u001b[39;49mdtype,\n\u001b[1;32m    454\u001b[0m     copy\u001b[39m=\u001b[39;49mcopy,\n\u001b[1;32m    455\u001b[0m     errors\u001b[39m=\u001b[39;49merrors,\n\u001b[1;32m    456\u001b[0m     using_cow\u001b[39m=\u001b[39;49musing_copy_on_write(),\n\u001b[1;32m    457\u001b[0m )\n",
      "File \u001b[0;32m~/Documents/GitHub_Personal/sports_betting_repo/.venv/lib/python3.9/site-packages/pandas/core/internals/managers.py:352\u001b[0m, in \u001b[0;36mBaseBlockManager.apply\u001b[0;34m(self, f, align_keys, **kwargs)\u001b[0m\n\u001b[1;32m    350\u001b[0m         applied \u001b[39m=\u001b[39m b\u001b[39m.\u001b[39mapply(f, \u001b[39m*\u001b[39m\u001b[39m*\u001b[39mkwargs)\n\u001b[1;32m    351\u001b[0m     \u001b[39melse\u001b[39;00m:\n\u001b[0;32m--> 352\u001b[0m         applied \u001b[39m=\u001b[39m \u001b[39mgetattr\u001b[39;49m(b, f)(\u001b[39m*\u001b[39;49m\u001b[39m*\u001b[39;49mkwargs)\n\u001b[1;32m    353\u001b[0m     result_blocks \u001b[39m=\u001b[39m extend_blocks(applied, result_blocks)\n\u001b[1;32m    355\u001b[0m out \u001b[39m=\u001b[39m \u001b[39mtype\u001b[39m(\u001b[39mself\u001b[39m)\u001b[39m.\u001b[39mfrom_blocks(result_blocks, \u001b[39mself\u001b[39m\u001b[39m.\u001b[39maxes)\n",
      "File \u001b[0;32m~/Documents/GitHub_Personal/sports_betting_repo/.venv/lib/python3.9/site-packages/pandas/core/internals/blocks.py:511\u001b[0m, in \u001b[0;36mBlock.astype\u001b[0;34m(self, dtype, copy, errors, using_cow)\u001b[0m\n\u001b[1;32m    491\u001b[0m \u001b[39m\u001b[39m\u001b[39m\"\"\"\u001b[39;00m\n\u001b[1;32m    492\u001b[0m \u001b[39mCoerce to the new dtype.\u001b[39;00m\n\u001b[1;32m    493\u001b[0m \n\u001b[0;32m   (...)\u001b[0m\n\u001b[1;32m    507\u001b[0m \u001b[39mBlock\u001b[39;00m\n\u001b[1;32m    508\u001b[0m \u001b[39m\"\"\"\u001b[39;00m\n\u001b[1;32m    509\u001b[0m values \u001b[39m=\u001b[39m \u001b[39mself\u001b[39m\u001b[39m.\u001b[39mvalues\n\u001b[0;32m--> 511\u001b[0m new_values \u001b[39m=\u001b[39m astype_array_safe(values, dtype, copy\u001b[39m=\u001b[39;49mcopy, errors\u001b[39m=\u001b[39;49merrors)\n\u001b[1;32m    513\u001b[0m new_values \u001b[39m=\u001b[39m maybe_coerce_values(new_values)\n\u001b[1;32m    515\u001b[0m refs \u001b[39m=\u001b[39m \u001b[39mNone\u001b[39;00m\n",
      "File \u001b[0;32m~/Documents/GitHub_Personal/sports_betting_repo/.venv/lib/python3.9/site-packages/pandas/core/dtypes/astype.py:242\u001b[0m, in \u001b[0;36mastype_array_safe\u001b[0;34m(values, dtype, copy, errors)\u001b[0m\n\u001b[1;32m    239\u001b[0m     dtype \u001b[39m=\u001b[39m dtype\u001b[39m.\u001b[39mnumpy_dtype\n\u001b[1;32m    241\u001b[0m \u001b[39mtry\u001b[39;00m:\n\u001b[0;32m--> 242\u001b[0m     new_values \u001b[39m=\u001b[39m astype_array(values, dtype, copy\u001b[39m=\u001b[39;49mcopy)\n\u001b[1;32m    243\u001b[0m \u001b[39mexcept\u001b[39;00m (\u001b[39mValueError\u001b[39;00m, \u001b[39mTypeError\u001b[39;00m):\n\u001b[1;32m    244\u001b[0m     \u001b[39m# e.g. _astype_nansafe can fail on object-dtype of strings\u001b[39;00m\n\u001b[1;32m    245\u001b[0m     \u001b[39m#  trying to convert to float\u001b[39;00m\n\u001b[1;32m    246\u001b[0m     \u001b[39mif\u001b[39;00m errors \u001b[39m==\u001b[39m \u001b[39m\"\u001b[39m\u001b[39mignore\u001b[39m\u001b[39m\"\u001b[39m:\n",
      "File \u001b[0;32m~/Documents/GitHub_Personal/sports_betting_repo/.venv/lib/python3.9/site-packages/pandas/core/dtypes/astype.py:187\u001b[0m, in \u001b[0;36mastype_array\u001b[0;34m(values, dtype, copy)\u001b[0m\n\u001b[1;32m    184\u001b[0m     values \u001b[39m=\u001b[39m values\u001b[39m.\u001b[39mastype(dtype, copy\u001b[39m=\u001b[39mcopy)\n\u001b[1;32m    186\u001b[0m \u001b[39melse\u001b[39;00m:\n\u001b[0;32m--> 187\u001b[0m     values \u001b[39m=\u001b[39m _astype_nansafe(values, dtype, copy\u001b[39m=\u001b[39;49mcopy)\n\u001b[1;32m    189\u001b[0m \u001b[39m# in pandas we don't store numpy str dtypes, so convert to object\u001b[39;00m\n\u001b[1;32m    190\u001b[0m \u001b[39mif\u001b[39;00m \u001b[39misinstance\u001b[39m(dtype, np\u001b[39m.\u001b[39mdtype) \u001b[39mand\u001b[39;00m \u001b[39missubclass\u001b[39m(values\u001b[39m.\u001b[39mdtype\u001b[39m.\u001b[39mtype, \u001b[39mstr\u001b[39m):\n",
      "File \u001b[0;32m~/Documents/GitHub_Personal/sports_betting_repo/.venv/lib/python3.9/site-packages/pandas/core/dtypes/astype.py:138\u001b[0m, in \u001b[0;36m_astype_nansafe\u001b[0;34m(arr, dtype, copy, skipna)\u001b[0m\n\u001b[1;32m    134\u001b[0m     \u001b[39mraise\u001b[39;00m \u001b[39mValueError\u001b[39;00m(msg)\n\u001b[1;32m    136\u001b[0m \u001b[39mif\u001b[39;00m copy \u001b[39mor\u001b[39;00m is_object_dtype(arr\u001b[39m.\u001b[39mdtype) \u001b[39mor\u001b[39;00m is_object_dtype(dtype):\n\u001b[1;32m    137\u001b[0m     \u001b[39m# Explicit copy, or required since NumPy can't view from / to object.\u001b[39;00m\n\u001b[0;32m--> 138\u001b[0m     \u001b[39mreturn\u001b[39;00m arr\u001b[39m.\u001b[39;49mastype(dtype, copy\u001b[39m=\u001b[39;49m\u001b[39mTrue\u001b[39;49;00m)\n\u001b[1;32m    140\u001b[0m \u001b[39mreturn\u001b[39;00m arr\u001b[39m.\u001b[39mastype(dtype, copy\u001b[39m=\u001b[39mcopy)\n",
      "\u001b[0;31mValueError\u001b[0m: cannot convert float NaN to integer: Error while type casting for column 'age'"
     ]
    }
   ],
   "source": [
    "# Rename columns\n",
    "goalie_games.columns = ['rank', 'date', 'game_num', 'age', 'team', 'home_away_status', 'opponent', 'result', \n",
    "                        'decision', 'GA', 'SA', 'SV', 'SV_perc', 'shutout', 'PIM', 'TOI', 'player_id', 'season']\n",
    "\n",
    "# Remove these weird rows... They are not actual data (just repeated column names)\n",
    "goalie_games = goalie_games.loc[goalie_games[('rank')] != 'Rk']\n",
    "\n",
    "# Left join the player_name column to the data frame\n",
    "goalie_games = goalie_games.merge(goalie_ids_names, on = 'player_id', how = 'left')\n",
    "\n",
    "# Reorder the columns \n",
    "goalie_games = goalie_games[['rank', 'player_id', 'player_name', 'age', 'season', 'game_num', 'date', 'team', \n",
    "                            'opponent', 'home_away_status', 'result', 'decision', 'GA', 'SA', 'SV', 'SV_perc', \n",
    "                             'shutout', 'PIM', 'TOI']]\n",
    "\n",
    "# Clean home_away_status column. 1 means the player played a home game. 0 means the game was on the road.\n",
    "goalie_games = goalie_games.replace({'home_away_status': {'@':0, np.nan:1}})\n",
    "\n",
    "# Fix age strings to just reflect age in years. We probably don't care about days since last birthday.\n",
    "goalie_games['age'] = goalie_games.age.str.extract(pat = '(\\d+)')\n",
    "\n",
    "# Convert time on ice (TOI) to minutes using decimal. For example 22:40 should become 22.666667.\n",
    "goalie_games[['min', 'sec']] = goalie_games.TOI.str.split(':', expand = True)\n",
    "goalie_games['TOI'] = goalie_games['min'].astype('float') + goalie_games['sec'].astype('float') / 60\n",
    "\n",
    "# Now drop columns we don't need.\n",
    "goalie_games = goalie_games.drop(columns = ['rank', 'min', 'sec'])\n",
    "\n",
    "# Convert team to 3 letter code\n",
    "goalie_games['team'] = goalie_games['team'].str.lower().replace(team_name_dict)\n",
    "goalie_games['opponent'] = goalie_games['opponent'].str.lower().replace(team_name_dict)\n",
    "\n",
    "# Convert columns to correct types. The proper types are listed below.\n",
    "    # Date --> [date]\n",
    "    # Integer --> [age, season, game_num, home_away_status, GA, SA, SV, shutout, PIM]\n",
    "    # Float --> [SV_perc, TOI]\n",
    "    # String --> [player_id, player_name, team, opponent, result, decision]\n",
    "goalie_games = goalie_games.astype({'date':'datetime64[ns]', 'age':'int', 'season':'int', 'game_num':'int', \n",
    "                                    'home_away_status':'int', 'GA':'int', 'SA':'int', 'SV':'int', \n",
    "                                    'shutout':'int', 'PIM':'int', 'SV_perc':'float', 'TOI':'float', \n",
    "                                    'player_id':'str', 'player_name':'str', 'team':'str', 'opponent':'str', \n",
    "                                    'result':'str', 'decision':'str'})"
   ]
  },
  {
   "cell_type": "markdown",
   "metadata": {},
   "source": [
    "## Sanity checks for skaters"
   ]
  },
  {
   "cell_type": "code",
   "execution_count": 34,
   "metadata": {},
   "outputs": [
    {
     "name": "stdout",
     "output_type": "stream",
     "text": [
      "950\n",
      "0\n",
      "4\n"
     ]
    }
   ],
   "source": [
    "# Number of unique goalies\n",
    "print(len(skater_games.player_id.unique()))\n",
    "\n",
    "# All players should have between 1 and 82 games played (UNLESS THEY WERE TRADED AND NEVER MISSED A GAME)\n",
    "print(sum(skater_games.groupby(['player_id'])['player_id'].count() <= 0))\n",
    "print(sum(skater_games.groupby(['player_id'])['player_id'].count() > 82))"
   ]
  },
  {
   "cell_type": "markdown",
   "metadata": {},
   "source": [
    "## Sanity checks for goalies"
   ]
  },
  {
   "cell_type": "code",
   "execution_count": 74,
   "metadata": {},
   "outputs": [
    {
     "name": "stdout",
     "output_type": "stream",
     "text": [
      "107\n",
      "0\n",
      "0\n"
     ]
    }
   ],
   "source": [
    "# Number of unique goalies\n",
    "print(len(goalie_games.player_id.unique()))\n",
    "\n",
    "# All goalies should have between 1 and 82 games played \n",
    "print(sum(goalie_games.groupby(['player_id'])['player_id'].count() <= 0))\n",
    "print(sum(goalie_games.groupby(['player_id'])['player_id'].count() > 82))"
   ]
  },
  {
   "cell_type": "code",
   "execution_count": 75,
   "metadata": {},
   "outputs": [
    {
     "name": "stdout",
     "output_type": "stream",
     "text": [
      "0\n"
     ]
    }
   ],
   "source": [
    "# Goals against should equal shots against minus saves\n",
    "print(sum(goalie_games.GA != goalie_games.SA - goalie_games.SV))"
   ]
  },
  {
   "cell_type": "markdown",
   "metadata": {},
   "source": [
    "## Write the final data frame to a .csv file"
   ]
  },
  {
   "cell_type": "code",
   "execution_count": 76,
   "metadata": {},
   "outputs": [],
   "source": [
    "# Save skaters\n",
    "directory_to_save_s = '../data/stats/past_seasons/skaters_' + str(season) + '.csv'\n",
    "skater_games.to_csv(directory_to_save_s, index = False)\n",
    "\n",
    "# Save goalies\n",
    "directory_to_save_g = '../data/stats/past_seasons/goalies_' + str(season) + '.csv'\n",
    "goalie_games.to_csv(directory_to_save_g, index = False)"
   ]
  }
 ],
 "metadata": {
  "kernelspec": {
   "display_name": ".venv",
   "language": "python",
   "name": "python3"
  },
  "language_info": {
   "codemirror_mode": {
    "name": "ipython",
    "version": 3
   },
   "file_extension": ".py",
   "mimetype": "text/x-python",
   "name": "python",
   "nbconvert_exporter": "python",
   "pygments_lexer": "ipython3",
   "version": "3.9.6"
  },
  "vscode": {
   "interpreter": {
    "hash": "391b8c8d2d0705169608203ddc59d651a11cac649a7fd2dc02268105b6f9cfe6"
   }
  }
 },
 "nbformat": 4,
 "nbformat_minor": 4
}
