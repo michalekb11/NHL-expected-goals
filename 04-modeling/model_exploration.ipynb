{
 "cells": [
  {
   "cell_type": "markdown",
   "metadata": {},
   "source": [
    "## Train poisson regression model"
   ]
  },
  {
   "cell_type": "code",
   "execution_count": 3,
   "metadata": {},
   "outputs": [],
   "source": [
    "import numpy as np\n",
    "import pandas as pd\n",
    "from sklearn.model_selection import train_test_split\n",
    "from sklearn.linear_model import PoissonRegressor\n",
    "from sklearn.preprocessing import OneHotEncoder\n",
    "from sklearn.metrics import mean_squared_error\n",
    "from sklearn.ensemble import RandomForestRegressor\n",
    "from sklearn.model_selection import GridSearchCV\n",
    "import seaborn as sns"
   ]
  },
  {
   "cell_type": "markdown",
   "metadata": {},
   "source": [
    "### Read in feature set and select x and y"
   ]
  },
  {
   "cell_type": "code",
   "execution_count": 15,
   "metadata": {},
   "outputs": [
    {
     "name": "stdout",
     "output_type": "stream",
     "text": [
      "<class 'pandas.core.frame.DataFrame'>\n",
      "RangeIndex: 125637 entries, 0 to 125636\n",
      "Data columns (total 43 columns):\n",
      " #   Column               Non-Null Count   Dtype  \n",
      "---  ------               --------------   -----  \n",
      " 0   s_player_id          125637 non-null  object \n",
      " 1   s_name               125637 non-null  object \n",
      " 2   s_age                125637 non-null  int64  \n",
      " 3   season               125637 non-null  int64  \n",
      " 4   s_game_num           125637 non-null  int64  \n",
      " 5   date                 125637 non-null  object \n",
      " 6   s_team               125637 non-null  object \n",
      " 7   s_opponent           125637 non-null  object \n",
      " 8   s_home_away_status   125637 non-null  int64  \n",
      " 9   s_result             125637 non-null  object \n",
      " 10  G                    125637 non-null  int64  \n",
      " 11  s_n_completed_games  125637 non-null  int64  \n",
      " 12  G_60                 122771 non-null  float64\n",
      " 13  A_60                 122771 non-null  float64\n",
      " 14  P_60                 122771 non-null  float64\n",
      " 15  rating_60            122771 non-null  float64\n",
      " 16  PIM_60               122771 non-null  float64\n",
      " 17  EVG_60               122771 non-null  float64\n",
      " 18  PPG_60               122771 non-null  float64\n",
      " 19  SHG_60               122771 non-null  float64\n",
      " 20  GWG_60               122771 non-null  float64\n",
      " 21  EVA_60               122771 non-null  float64\n",
      " 22  PPA_60               122771 non-null  float64\n",
      " 23  SHA_60               122771 non-null  float64\n",
      " 24  S_60                 122771 non-null  float64\n",
      " 25  shifts_60            122771 non-null  float64\n",
      " 26  HIT_60               122771 non-null  float64\n",
      " 27  BLK_60               122771 non-null  float64\n",
      " 28  FOW_60               122771 non-null  float64\n",
      " 29  FOL_60               122771 non-null  float64\n",
      " 30  s_avg_TOI            122771 non-null  float64\n",
      " 31  g_player_id          125637 non-null  object \n",
      " 32  g_name               125637 non-null  object \n",
      " 33  g_age                125637 non-null  int64  \n",
      " 34  g_game_num           125637 non-null  int64  \n",
      " 35  decision             123352 non-null  object \n",
      " 36  g_n_completed_games  125637 non-null  int64  \n",
      " 37  GA_60                120725 non-null  float64\n",
      " 38  SA_60                120725 non-null  float64\n",
      " 39  SV_60                120725 non-null  float64\n",
      " 40  total_shutout        125637 non-null  float64\n",
      " 41  SV_perc              120725 non-null  float64\n",
      " 42  g_avg_TOI            120725 non-null  float64\n",
      "dtypes: float64(25), int64(9), object(9)\n",
      "memory usage: 41.2+ MB\n",
      "None\n"
     ]
    }
   ],
   "source": [
    "# Read in data\n",
    "feature_set_2021 = pd.read_csv('../data/stats/past_seasons/combined_per60_roll15_2021.csv')\n",
    "feature_set_2022 = pd.read_csv('../data/stats/past_seasons/combined_per60_roll15_2022.csv')\n",
    "feature_set_2023 = pd.read_csv('../data/stats/past_seasons/combined_per60_roll15_2023.csv')\n",
    "\n",
    "feature_set_all = pd.concat([feature_set_2021, feature_set_2022, feature_set_2023], axis=0).reset_index(drop = True)\n",
    "print(feature_set_all.info())\n",
    "feature_set_all.dropna(inplace=True) # This is technically wrong"
   ]
  },
  {
   "cell_type": "code",
   "execution_count": 16,
   "metadata": {},
   "outputs": [
    {
     "data": {
      "text/plain": [
       "Index(['s_player_id', 's_name', 's_age', 'season', 's_game_num', 'date',\n",
       "       's_team', 's_opponent', 's_home_away_status', 's_result', 'G',\n",
       "       's_n_completed_games', 'G_60', 'A_60', 'P_60', 'rating_60', 'PIM_60',\n",
       "       'EVG_60', 'PPG_60', 'SHG_60', 'GWG_60', 'EVA_60', 'PPA_60', 'SHA_60',\n",
       "       'S_60', 'shifts_60', 'HIT_60', 'BLK_60', 'FOW_60', 'FOL_60',\n",
       "       's_avg_TOI', 'g_player_id', 'g_name', 'g_age', 'g_game_num', 'decision',\n",
       "       'g_n_completed_games', 'GA_60', 'SA_60', 'SV_60', 'total_shutout',\n",
       "       'SV_perc', 'g_avg_TOI'],\n",
       "      dtype='object')"
      ]
     },
     "execution_count": 16,
     "metadata": {},
     "output_type": "execute_result"
    }
   ],
   "source": [
    "feature_set_all.columns"
   ]
  },
  {
   "cell_type": "code",
   "execution_count": 17,
   "metadata": {},
   "outputs": [],
   "source": [
    "x_cols = ['s_home_away_status', 'G_60', 'A_60', 'P_60', 'rating_60', 'PIM_60','EVG_60', 'PPG_60', 'SHG_60', 'GWG_60', 'EVA_60', 'PPA_60', 'SHA_60', 'S_60',\n",
    "    'shifts_60', 'HIT_60', 'BLK_60', 'FOW_60', 'FOL_60', 's_avg_TOI', 'GA_60', 'SA_60', 'SV_60', 'total_shutout', 'SV_perc']"
   ]
  },
  {
   "cell_type": "markdown",
   "metadata": {},
   "source": [
    "### Split data into train/test"
   ]
  },
  {
   "cell_type": "code",
   "execution_count": 18,
   "metadata": {},
   "outputs": [],
   "source": [
    "train, test = train_test_split(feature_set_all, test_size=0.25, random_state=114)"
   ]
  },
  {
   "cell_type": "code",
   "execution_count": 19,
   "metadata": {},
   "outputs": [],
   "source": [
    "x_train = train[x_cols]\n",
    "y_train = train['G']\n",
    "\n",
    "x_test = test[x_cols]\n",
    "y_test = test['G']"
   ]
  },
  {
   "cell_type": "code",
   "execution_count": 20,
   "metadata": {},
   "outputs": [
    {
     "name": "stdout",
     "output_type": "stream",
     "text": [
      "<class 'pandas.core.frame.DataFrame'>\n",
      "Index: 87909 entries, 42942 to 95236\n",
      "Data columns (total 25 columns):\n",
      " #   Column              Non-Null Count  Dtype  \n",
      "---  ------              --------------  -----  \n",
      " 0   s_home_away_status  87909 non-null  int64  \n",
      " 1   G_60                87909 non-null  float64\n",
      " 2   A_60                87909 non-null  float64\n",
      " 3   P_60                87909 non-null  float64\n",
      " 4   rating_60           87909 non-null  float64\n",
      " 5   PIM_60              87909 non-null  float64\n",
      " 6   EVG_60              87909 non-null  float64\n",
      " 7   PPG_60              87909 non-null  float64\n",
      " 8   SHG_60              87909 non-null  float64\n",
      " 9   GWG_60              87909 non-null  float64\n",
      " 10  EVA_60              87909 non-null  float64\n",
      " 11  PPA_60              87909 non-null  float64\n",
      " 12  SHA_60              87909 non-null  float64\n",
      " 13  S_60                87909 non-null  float64\n",
      " 14  shifts_60           87909 non-null  float64\n",
      " 15  HIT_60              87909 non-null  float64\n",
      " 16  BLK_60              87909 non-null  float64\n",
      " 17  FOW_60              87909 non-null  float64\n",
      " 18  FOL_60              87909 non-null  float64\n",
      " 19  s_avg_TOI           87909 non-null  float64\n",
      " 20  GA_60               87909 non-null  float64\n",
      " 21  SA_60               87909 non-null  float64\n",
      " 22  SV_60               87909 non-null  float64\n",
      " 23  total_shutout       87909 non-null  float64\n",
      " 24  SV_perc             87909 non-null  float64\n",
      "dtypes: float64(24), int64(1)\n",
      "memory usage: 17.4 MB\n"
     ]
    }
   ],
   "source": [
    "x_train.info()"
   ]
  },
  {
   "cell_type": "code",
   "execution_count": 21,
   "metadata": {},
   "outputs": [
    {
     "name": "stdout",
     "output_type": "stream",
     "text": [
      "G\n",
      "0    74607\n",
      "1    11823\n",
      "2     1303\n",
      "3      167\n",
      "4        8\n",
      "5        1\n",
      "Name: count, dtype: int64\n",
      "G\n",
      "0    24970\n",
      "1     3864\n",
      "2      410\n",
      "3       57\n",
      "4        2\n",
      "5        1\n",
      "Name: count, dtype: int64\n"
     ]
    }
   ],
   "source": [
    "print(y_train.value_counts())\n",
    "print(y_test.value_counts())"
   ]
  },
  {
   "cell_type": "markdown",
   "metadata": {},
   "source": [
    "### Establish baseline prediction"
   ]
  },
  {
   "cell_type": "code",
   "execution_count": 10,
   "metadata": {},
   "outputs": [],
   "source": [
    "#avg_G_game_test = test.groupby(['s_player_id', 'season'])['G', 's_TOI'].sum().reset_index()\n",
    "#avg_G_game_test.columns = ['s_player_id', 'season', 'avg_G_game']\n",
    "#baseline_pred = pd.merge(feature_set_all, avg_G_game_test, on = ['s_player_id', 'season'])[['G', 'avg_G_game']]\n",
    "#avg_G_game_test"
   ]
  },
  {
   "cell_type": "code",
   "execution_count": 11,
   "metadata": {},
   "outputs": [],
   "source": [
    "#mean_squared_error(baseline_pred['G'], baseline_pred['avg_G_game'])"
   ]
  },
  {
   "cell_type": "markdown",
   "metadata": {},
   "source": [
    "### One hot encoding for home/away status"
   ]
  },
  {
   "cell_type": "code",
   "execution_count": 22,
   "metadata": {},
   "outputs": [],
   "source": [
    "ohe = OneHotEncoder()\n",
    "transformed_train = ohe.fit_transform(x_train[['s_home_away_status']])\n",
    "enc_home_away_train = pd.DataFrame(transformed_train.toarray())\n",
    "enc_home_away_train.columns = ['s_away', 's_home']\n",
    "\n",
    "\n",
    "transformed_test = ohe.transform(x_test[['s_home_away_status']])\n",
    "enc_home_away_test = pd.DataFrame(transformed_test.toarray())\n",
    "enc_home_away_test.columns = ['s_away', 's_home']"
   ]
  },
  {
   "cell_type": "code",
   "execution_count": 23,
   "metadata": {},
   "outputs": [
    {
     "data": {
      "text/html": [
       "<div>\n",
       "<style scoped>\n",
       "    .dataframe tbody tr th:only-of-type {\n",
       "        vertical-align: middle;\n",
       "    }\n",
       "\n",
       "    .dataframe tbody tr th {\n",
       "        vertical-align: top;\n",
       "    }\n",
       "\n",
       "    .dataframe thead th {\n",
       "        text-align: right;\n",
       "    }\n",
       "</style>\n",
       "<table border=\"1\" class=\"dataframe\">\n",
       "  <thead>\n",
       "    <tr style=\"text-align: right;\">\n",
       "      <th></th>\n",
       "      <th>G_60</th>\n",
       "      <th>A_60</th>\n",
       "      <th>P_60</th>\n",
       "      <th>rating_60</th>\n",
       "      <th>PIM_60</th>\n",
       "      <th>EVG_60</th>\n",
       "      <th>PPG_60</th>\n",
       "      <th>SHG_60</th>\n",
       "      <th>GWG_60</th>\n",
       "      <th>EVA_60</th>\n",
       "      <th>...</th>\n",
       "      <th>FOW_60</th>\n",
       "      <th>FOL_60</th>\n",
       "      <th>s_avg_TOI</th>\n",
       "      <th>GA_60</th>\n",
       "      <th>SA_60</th>\n",
       "      <th>SV_60</th>\n",
       "      <th>total_shutout</th>\n",
       "      <th>SV_perc</th>\n",
       "      <th>s_away</th>\n",
       "      <th>s_home</th>\n",
       "    </tr>\n",
       "  </thead>\n",
       "  <tbody>\n",
       "    <tr>\n",
       "      <th>0</th>\n",
       "      <td>0.247831</td>\n",
       "      <td>0.495663</td>\n",
       "      <td>0.743494</td>\n",
       "      <td>-0.743494</td>\n",
       "      <td>0.991326</td>\n",
       "      <td>0.247831</td>\n",
       "      <td>0.000000</td>\n",
       "      <td>0.0</td>\n",
       "      <td>0.000000</td>\n",
       "      <td>0.495663</td>\n",
       "      <td>...</td>\n",
       "      <td>0.000000</td>\n",
       "      <td>0.000000</td>\n",
       "      <td>16.140000</td>\n",
       "      <td>4.232666</td>\n",
       "      <td>40.210327</td>\n",
       "      <td>35.977661</td>\n",
       "      <td>0.0</td>\n",
       "      <td>0.894737</td>\n",
       "      <td>1.0</td>\n",
       "      <td>0.0</td>\n",
       "    </tr>\n",
       "    <tr>\n",
       "      <th>1</th>\n",
       "      <td>0.000000</td>\n",
       "      <td>1.665587</td>\n",
       "      <td>1.665587</td>\n",
       "      <td>-1.665587</td>\n",
       "      <td>0.000000</td>\n",
       "      <td>0.000000</td>\n",
       "      <td>0.000000</td>\n",
       "      <td>0.0</td>\n",
       "      <td>0.000000</td>\n",
       "      <td>1.665587</td>\n",
       "      <td>...</td>\n",
       "      <td>20.986398</td>\n",
       "      <td>21.985750</td>\n",
       "      <td>12.007778</td>\n",
       "      <td>2.484018</td>\n",
       "      <td>32.511416</td>\n",
       "      <td>30.027397</td>\n",
       "      <td>0.0</td>\n",
       "      <td>0.923596</td>\n",
       "      <td>1.0</td>\n",
       "      <td>0.0</td>\n",
       "    </tr>\n",
       "    <tr>\n",
       "      <th>2</th>\n",
       "      <td>0.587563</td>\n",
       "      <td>0.587563</td>\n",
       "      <td>1.175126</td>\n",
       "      <td>0.000000</td>\n",
       "      <td>6.463196</td>\n",
       "      <td>0.587563</td>\n",
       "      <td>0.000000</td>\n",
       "      <td>0.0</td>\n",
       "      <td>0.000000</td>\n",
       "      <td>0.587563</td>\n",
       "      <td>...</td>\n",
       "      <td>30.553289</td>\n",
       "      <td>26.440346</td>\n",
       "      <td>13.615556</td>\n",
       "      <td>3.584765</td>\n",
       "      <td>34.055265</td>\n",
       "      <td>30.470500</td>\n",
       "      <td>0.0</td>\n",
       "      <td>0.894737</td>\n",
       "      <td>0.0</td>\n",
       "      <td>1.0</td>\n",
       "    </tr>\n",
       "    <tr>\n",
       "      <th>3</th>\n",
       "      <td>0.000000</td>\n",
       "      <td>1.117376</td>\n",
       "      <td>1.117376</td>\n",
       "      <td>0.558688</td>\n",
       "      <td>1.862294</td>\n",
       "      <td>0.000000</td>\n",
       "      <td>0.000000</td>\n",
       "      <td>0.0</td>\n",
       "      <td>0.000000</td>\n",
       "      <td>1.117376</td>\n",
       "      <td>...</td>\n",
       "      <td>0.000000</td>\n",
       "      <td>0.000000</td>\n",
       "      <td>21.478889</td>\n",
       "      <td>2.400679</td>\n",
       "      <td>31.354322</td>\n",
       "      <td>28.953643</td>\n",
       "      <td>2.0</td>\n",
       "      <td>0.923434</td>\n",
       "      <td>1.0</td>\n",
       "      <td>0.0</td>\n",
       "    </tr>\n",
       "    <tr>\n",
       "      <th>4</th>\n",
       "      <td>1.041486</td>\n",
       "      <td>1.666377</td>\n",
       "      <td>2.707863</td>\n",
       "      <td>0.624892</td>\n",
       "      <td>0.000000</td>\n",
       "      <td>1.041486</td>\n",
       "      <td>0.000000</td>\n",
       "      <td>0.0</td>\n",
       "      <td>0.208297</td>\n",
       "      <td>0.833189</td>\n",
       "      <td>...</td>\n",
       "      <td>1.249783</td>\n",
       "      <td>0.416594</td>\n",
       "      <td>19.203333</td>\n",
       "      <td>2.655602</td>\n",
       "      <td>31.136929</td>\n",
       "      <td>28.481328</td>\n",
       "      <td>0.0</td>\n",
       "      <td>0.914712</td>\n",
       "      <td>1.0</td>\n",
       "      <td>0.0</td>\n",
       "    </tr>\n",
       "    <tr>\n",
       "      <th>...</th>\n",
       "      <td>...</td>\n",
       "      <td>...</td>\n",
       "      <td>...</td>\n",
       "      <td>...</td>\n",
       "      <td>...</td>\n",
       "      <td>...</td>\n",
       "      <td>...</td>\n",
       "      <td>...</td>\n",
       "      <td>...</td>\n",
       "      <td>...</td>\n",
       "      <td>...</td>\n",
       "      <td>...</td>\n",
       "      <td>...</td>\n",
       "      <td>...</td>\n",
       "      <td>...</td>\n",
       "      <td>...</td>\n",
       "      <td>...</td>\n",
       "      <td>...</td>\n",
       "      <td>...</td>\n",
       "      <td>...</td>\n",
       "      <td>...</td>\n",
       "    </tr>\n",
       "    <tr>\n",
       "      <th>29299</th>\n",
       "      <td>0.249619</td>\n",
       "      <td>0.998475</td>\n",
       "      <td>1.248093</td>\n",
       "      <td>-0.249619</td>\n",
       "      <td>1.497712</td>\n",
       "      <td>0.000000</td>\n",
       "      <td>0.249619</td>\n",
       "      <td>0.0</td>\n",
       "      <td>0.000000</td>\n",
       "      <td>0.748856</td>\n",
       "      <td>...</td>\n",
       "      <td>4.992373</td>\n",
       "      <td>6.240466</td>\n",
       "      <td>16.024444</td>\n",
       "      <td>3.451818</td>\n",
       "      <td>34.518184</td>\n",
       "      <td>31.066365</td>\n",
       "      <td>0.0</td>\n",
       "      <td>0.900000</td>\n",
       "      <td>0.0</td>\n",
       "      <td>1.0</td>\n",
       "    </tr>\n",
       "    <tr>\n",
       "      <th>29300</th>\n",
       "      <td>0.536033</td>\n",
       "      <td>0.268017</td>\n",
       "      <td>0.804050</td>\n",
       "      <td>0.000000</td>\n",
       "      <td>0.000000</td>\n",
       "      <td>0.536033</td>\n",
       "      <td>0.000000</td>\n",
       "      <td>0.0</td>\n",
       "      <td>0.000000</td>\n",
       "      <td>0.268017</td>\n",
       "      <td>...</td>\n",
       "      <td>0.000000</td>\n",
       "      <td>0.000000</td>\n",
       "      <td>18.655556</td>\n",
       "      <td>3.687151</td>\n",
       "      <td>32.178771</td>\n",
       "      <td>28.491620</td>\n",
       "      <td>0.0</td>\n",
       "      <td>0.885417</td>\n",
       "      <td>0.0</td>\n",
       "      <td>1.0</td>\n",
       "    </tr>\n",
       "    <tr>\n",
       "      <th>29301</th>\n",
       "      <td>0.000000</td>\n",
       "      <td>0.340619</td>\n",
       "      <td>0.340619</td>\n",
       "      <td>0.000000</td>\n",
       "      <td>0.681238</td>\n",
       "      <td>0.000000</td>\n",
       "      <td>0.000000</td>\n",
       "      <td>0.0</td>\n",
       "      <td>0.000000</td>\n",
       "      <td>0.340619</td>\n",
       "      <td>...</td>\n",
       "      <td>0.000000</td>\n",
       "      <td>0.000000</td>\n",
       "      <td>11.743333</td>\n",
       "      <td>3.260467</td>\n",
       "      <td>35.272323</td>\n",
       "      <td>32.011856</td>\n",
       "      <td>0.0</td>\n",
       "      <td>0.907563</td>\n",
       "      <td>1.0</td>\n",
       "      <td>0.0</td>\n",
       "    </tr>\n",
       "    <tr>\n",
       "      <th>29302</th>\n",
       "      <td>6.106870</td>\n",
       "      <td>6.106870</td>\n",
       "      <td>12.213740</td>\n",
       "      <td>6.106870</td>\n",
       "      <td>0.000000</td>\n",
       "      <td>0.000000</td>\n",
       "      <td>6.106870</td>\n",
       "      <td>0.0</td>\n",
       "      <td>3.053435</td>\n",
       "      <td>3.053435</td>\n",
       "      <td>...</td>\n",
       "      <td>36.641221</td>\n",
       "      <td>27.480916</td>\n",
       "      <td>19.650000</td>\n",
       "      <td>3.000938</td>\n",
       "      <td>35.261019</td>\n",
       "      <td>32.260081</td>\n",
       "      <td>0.0</td>\n",
       "      <td>0.914894</td>\n",
       "      <td>0.0</td>\n",
       "      <td>1.0</td>\n",
       "    </tr>\n",
       "    <tr>\n",
       "      <th>29303</th>\n",
       "      <td>0.305784</td>\n",
       "      <td>0.305784</td>\n",
       "      <td>0.611569</td>\n",
       "      <td>-1.528922</td>\n",
       "      <td>1.834707</td>\n",
       "      <td>0.305784</td>\n",
       "      <td>0.000000</td>\n",
       "      <td>0.0</td>\n",
       "      <td>0.305784</td>\n",
       "      <td>0.305784</td>\n",
       "      <td>...</td>\n",
       "      <td>13.148730</td>\n",
       "      <td>19.570203</td>\n",
       "      <td>13.081111</td>\n",
       "      <td>3.521019</td>\n",
       "      <td>30.239337</td>\n",
       "      <td>26.718319</td>\n",
       "      <td>0.0</td>\n",
       "      <td>0.883562</td>\n",
       "      <td>1.0</td>\n",
       "      <td>0.0</td>\n",
       "    </tr>\n",
       "  </tbody>\n",
       "</table>\n",
       "<p>29304 rows × 26 columns</p>\n",
       "</div>"
      ],
      "text/plain": [
       "           G_60      A_60       P_60  rating_60    PIM_60    EVG_60    PPG_60   \n",
       "0      0.247831  0.495663   0.743494  -0.743494  0.991326  0.247831  0.000000  \\\n",
       "1      0.000000  1.665587   1.665587  -1.665587  0.000000  0.000000  0.000000   \n",
       "2      0.587563  0.587563   1.175126   0.000000  6.463196  0.587563  0.000000   \n",
       "3      0.000000  1.117376   1.117376   0.558688  1.862294  0.000000  0.000000   \n",
       "4      1.041486  1.666377   2.707863   0.624892  0.000000  1.041486  0.000000   \n",
       "...         ...       ...        ...        ...       ...       ...       ...   \n",
       "29299  0.249619  0.998475   1.248093  -0.249619  1.497712  0.000000  0.249619   \n",
       "29300  0.536033  0.268017   0.804050   0.000000  0.000000  0.536033  0.000000   \n",
       "29301  0.000000  0.340619   0.340619   0.000000  0.681238  0.000000  0.000000   \n",
       "29302  6.106870  6.106870  12.213740   6.106870  0.000000  0.000000  6.106870   \n",
       "29303  0.305784  0.305784   0.611569  -1.528922  1.834707  0.305784  0.000000   \n",
       "\n",
       "       SHG_60    GWG_60    EVA_60  ...     FOW_60     FOL_60  s_avg_TOI   \n",
       "0         0.0  0.000000  0.495663  ...   0.000000   0.000000  16.140000  \\\n",
       "1         0.0  0.000000  1.665587  ...  20.986398  21.985750  12.007778   \n",
       "2         0.0  0.000000  0.587563  ...  30.553289  26.440346  13.615556   \n",
       "3         0.0  0.000000  1.117376  ...   0.000000   0.000000  21.478889   \n",
       "4         0.0  0.208297  0.833189  ...   1.249783   0.416594  19.203333   \n",
       "...       ...       ...       ...  ...        ...        ...        ...   \n",
       "29299     0.0  0.000000  0.748856  ...   4.992373   6.240466  16.024444   \n",
       "29300     0.0  0.000000  0.268017  ...   0.000000   0.000000  18.655556   \n",
       "29301     0.0  0.000000  0.340619  ...   0.000000   0.000000  11.743333   \n",
       "29302     0.0  3.053435  3.053435  ...  36.641221  27.480916  19.650000   \n",
       "29303     0.0  0.305784  0.305784  ...  13.148730  19.570203  13.081111   \n",
       "\n",
       "          GA_60      SA_60      SV_60  total_shutout   SV_perc  s_away  s_home  \n",
       "0      4.232666  40.210327  35.977661            0.0  0.894737     1.0     0.0  \n",
       "1      2.484018  32.511416  30.027397            0.0  0.923596     1.0     0.0  \n",
       "2      3.584765  34.055265  30.470500            0.0  0.894737     0.0     1.0  \n",
       "3      2.400679  31.354322  28.953643            2.0  0.923434     1.0     0.0  \n",
       "4      2.655602  31.136929  28.481328            0.0  0.914712     1.0     0.0  \n",
       "...         ...        ...        ...            ...       ...     ...     ...  \n",
       "29299  3.451818  34.518184  31.066365            0.0  0.900000     0.0     1.0  \n",
       "29300  3.687151  32.178771  28.491620            0.0  0.885417     0.0     1.0  \n",
       "29301  3.260467  35.272323  32.011856            0.0  0.907563     1.0     0.0  \n",
       "29302  3.000938  35.261019  32.260081            0.0  0.914894     0.0     1.0  \n",
       "29303  3.521019  30.239337  26.718319            0.0  0.883562     1.0     0.0  \n",
       "\n",
       "[29304 rows x 26 columns]"
      ]
     },
     "execution_count": 23,
     "metadata": {},
     "output_type": "execute_result"
    }
   ],
   "source": [
    "x_train.reset_index(inplace=True, drop = True)\n",
    "x_train = pd.concat([x_train, enc_home_away_train], axis = 1)\n",
    "x_train.drop(columns = 's_home_away_status')\n",
    "\n",
    "x_test.reset_index(inplace=True, drop = True)\n",
    "x_test = pd.concat([x_test, enc_home_away_test], axis = 1)\n",
    "x_test.drop(columns = 's_home_away_status')"
   ]
  },
  {
   "cell_type": "code",
   "execution_count": 24,
   "metadata": {},
   "outputs": [],
   "source": [
    "subset = ['P_60', 'G_60', 'S_60', 'PPG_60', 'PPA_60', 'BLK_60', 's_avg_TOI']\n",
    "\n",
    "x_train2 = x_train.loc[:, subset]\n",
    "x_test2 = x_test.loc[:, subset]"
   ]
  },
  {
   "cell_type": "markdown",
   "metadata": {},
   "source": [
    "### Poisson regression"
   ]
  },
  {
   "cell_type": "code",
   "execution_count": 25,
   "metadata": {},
   "outputs": [],
   "source": [
    "pois_reg = PoissonRegressor(max_iter=1000)"
   ]
  },
  {
   "cell_type": "code",
   "execution_count": 26,
   "metadata": {},
   "outputs": [
    {
     "data": {
      "text/html": [
       "<style>#sk-container-id-1 {color: black;background-color: white;}#sk-container-id-1 pre{padding: 0;}#sk-container-id-1 div.sk-toggleable {background-color: white;}#sk-container-id-1 label.sk-toggleable__label {cursor: pointer;display: block;width: 100%;margin-bottom: 0;padding: 0.3em;box-sizing: border-box;text-align: center;}#sk-container-id-1 label.sk-toggleable__label-arrow:before {content: \"▸\";float: left;margin-right: 0.25em;color: #696969;}#sk-container-id-1 label.sk-toggleable__label-arrow:hover:before {color: black;}#sk-container-id-1 div.sk-estimator:hover label.sk-toggleable__label-arrow:before {color: black;}#sk-container-id-1 div.sk-toggleable__content {max-height: 0;max-width: 0;overflow: hidden;text-align: left;background-color: #f0f8ff;}#sk-container-id-1 div.sk-toggleable__content pre {margin: 0.2em;color: black;border-radius: 0.25em;background-color: #f0f8ff;}#sk-container-id-1 input.sk-toggleable__control:checked~div.sk-toggleable__content {max-height: 200px;max-width: 100%;overflow: auto;}#sk-container-id-1 input.sk-toggleable__control:checked~label.sk-toggleable__label-arrow:before {content: \"▾\";}#sk-container-id-1 div.sk-estimator input.sk-toggleable__control:checked~label.sk-toggleable__label {background-color: #d4ebff;}#sk-container-id-1 div.sk-label input.sk-toggleable__control:checked~label.sk-toggleable__label {background-color: #d4ebff;}#sk-container-id-1 input.sk-hidden--visually {border: 0;clip: rect(1px 1px 1px 1px);clip: rect(1px, 1px, 1px, 1px);height: 1px;margin: -1px;overflow: hidden;padding: 0;position: absolute;width: 1px;}#sk-container-id-1 div.sk-estimator {font-family: monospace;background-color: #f0f8ff;border: 1px dotted black;border-radius: 0.25em;box-sizing: border-box;margin-bottom: 0.5em;}#sk-container-id-1 div.sk-estimator:hover {background-color: #d4ebff;}#sk-container-id-1 div.sk-parallel-item::after {content: \"\";width: 100%;border-bottom: 1px solid gray;flex-grow: 1;}#sk-container-id-1 div.sk-label:hover label.sk-toggleable__label {background-color: #d4ebff;}#sk-container-id-1 div.sk-serial::before {content: \"\";position: absolute;border-left: 1px solid gray;box-sizing: border-box;top: 0;bottom: 0;left: 50%;z-index: 0;}#sk-container-id-1 div.sk-serial {display: flex;flex-direction: column;align-items: center;background-color: white;padding-right: 0.2em;padding-left: 0.2em;position: relative;}#sk-container-id-1 div.sk-item {position: relative;z-index: 1;}#sk-container-id-1 div.sk-parallel {display: flex;align-items: stretch;justify-content: center;background-color: white;position: relative;}#sk-container-id-1 div.sk-item::before, #sk-container-id-1 div.sk-parallel-item::before {content: \"\";position: absolute;border-left: 1px solid gray;box-sizing: border-box;top: 0;bottom: 0;left: 50%;z-index: -1;}#sk-container-id-1 div.sk-parallel-item {display: flex;flex-direction: column;z-index: 1;position: relative;background-color: white;}#sk-container-id-1 div.sk-parallel-item:first-child::after {align-self: flex-end;width: 50%;}#sk-container-id-1 div.sk-parallel-item:last-child::after {align-self: flex-start;width: 50%;}#sk-container-id-1 div.sk-parallel-item:only-child::after {width: 0;}#sk-container-id-1 div.sk-dashed-wrapped {border: 1px dashed gray;margin: 0 0.4em 0.5em 0.4em;box-sizing: border-box;padding-bottom: 0.4em;background-color: white;}#sk-container-id-1 div.sk-label label {font-family: monospace;font-weight: bold;display: inline-block;line-height: 1.2em;}#sk-container-id-1 div.sk-label-container {text-align: center;}#sk-container-id-1 div.sk-container {/* jupyter's `normalize.less` sets `[hidden] { display: none; }` but bootstrap.min.css set `[hidden] { display: none !important; }` so we also need the `!important` here to be able to override the default hidden behavior on the sphinx rendered scikit-learn.org. See: https://github.com/scikit-learn/scikit-learn/issues/21755 */display: inline-block !important;position: relative;}#sk-container-id-1 div.sk-text-repr-fallback {display: none;}</style><div id=\"sk-container-id-1\" class=\"sk-top-container\"><div class=\"sk-text-repr-fallback\"><pre>PoissonRegressor(max_iter=1000)</pre><b>In a Jupyter environment, please rerun this cell to show the HTML representation or trust the notebook. <br />On GitHub, the HTML representation is unable to render, please try loading this page with nbviewer.org.</b></div><div class=\"sk-container\" hidden><div class=\"sk-item\"><div class=\"sk-estimator sk-toggleable\"><input class=\"sk-toggleable__control sk-hidden--visually\" id=\"sk-estimator-id-1\" type=\"checkbox\" checked><label for=\"sk-estimator-id-1\" class=\"sk-toggleable__label sk-toggleable__label-arrow\">PoissonRegressor</label><div class=\"sk-toggleable__content\"><pre>PoissonRegressor(max_iter=1000)</pre></div></div></div></div></div>"
      ],
      "text/plain": [
       "PoissonRegressor(max_iter=1000)"
      ]
     },
     "execution_count": 26,
     "metadata": {},
     "output_type": "execute_result"
    }
   ],
   "source": [
    "pois_reg.fit(x_train2, y_train)"
   ]
  },
  {
   "cell_type": "code",
   "execution_count": 27,
   "metadata": {},
   "outputs": [],
   "source": [
    "preds = pois_reg.predict(x_test2)"
   ]
  },
  {
   "cell_type": "code",
   "execution_count": 28,
   "metadata": {},
   "outputs": [
    {
     "data": {
      "text/plain": [
       "array([0.10218557, 0.15497366, 0.11944017, ..., 0.10225986, 0.63012658,\n",
       "       0.11393354])"
      ]
     },
     "execution_count": 28,
     "metadata": {},
     "output_type": "execute_result"
    }
   ],
   "source": [
    "preds"
   ]
  },
  {
   "cell_type": "code",
   "execution_count": 29,
   "metadata": {},
   "outputs": [
    {
     "name": "stdout",
     "output_type": "stream",
     "text": [
      "Mean Squared Error: 0.17171149110130296\n"
     ]
    }
   ],
   "source": [
    "mse = mean_squared_error(y_test, preds)\n",
    "print(\"Mean Squared Error:\", mse)"
   ]
  },
  {
   "cell_type": "code",
   "execution_count": 30,
   "metadata": {},
   "outputs": [
    {
     "data": {
      "text/plain": [
       "<Axes: ylabel='Count'>"
      ]
     },
     "execution_count": 30,
     "metadata": {},
     "output_type": "execute_result"
    },
    {
     "data": {
      "image/png": "[encoded data removed]",
      "text/plain": [
       "<Figure size 640x480 with 1 Axes>"
      ]
     },
     "metadata": {},
     "output_type": "display_data"
    }
   ],
   "source": [
    "sns.histplot(x = preds)"
   ]
  },
  {
   "cell_type": "code",
   "execution_count": 31,
   "metadata": {},
   "outputs": [
    {
     "data": {
      "text/plain": [
       "29304"
      ]
     },
     "execution_count": 31,
     "metadata": {},
     "output_type": "execute_result"
    }
   ],
   "source": [
    "len(preds)"
   ]
  },
  {
   "cell_type": "markdown",
   "metadata": {},
   "source": [
    "### RF"
   ]
  },
  {
   "cell_type": "code",
   "execution_count": 32,
   "metadata": {},
   "outputs": [
    {
     "name": "stdout",
     "output_type": "stream",
     "text": [
      "Best parameters:  {'max_depth': 5, 'n_estimators': 250}\n",
      "Best score:  0.06359855297634806\n"
     ]
    }
   ],
   "source": [
    "param_grid = {\n",
    "    'n_estimators': [10, 50, 100, 250],\n",
    "    'max_depth': [None, 5, 10]#,\n",
    "    #'max_features': ['sqrt', 'log2']\n",
    "}\n",
    "\n",
    "# Create the random forest regressor model\n",
    "rf = RandomForestRegressor()\n",
    "\n",
    "# Create the GridSearchCV object\n",
    "grid_search = GridSearchCV(rf, param_grid=param_grid, cv=5)\n",
    "\n",
    "# Fit the model to the data\n",
    "grid_search.fit(x_train2, y_train)\n",
    "\n",
    "# Print the best parameters and best score\n",
    "print(\"Best parameters: \", grid_search.best_params_)\n",
    "print(\"Best score: \", grid_search.best_score_)"
   ]
  },
  {
   "cell_type": "code",
   "execution_count": 4,
   "metadata": {},
   "outputs": [
    {
     "ename": "NameError",
     "evalue": "name 'x_train2' is not defined",
     "output_type": "error",
     "traceback": [
      "\u001b[0;31m---------------------------------------------------------------------------\u001b[0m",
      "\u001b[0;31mNameError\u001b[0m                                 Traceback (most recent call last)",
      "Cell \u001b[0;32mIn[4], line 3\u001b[0m\n\u001b[1;32m      1\u001b[0m rf_best \u001b[39m=\u001b[39m RandomForestRegressor(max_depth\u001b[39m=\u001b[39m\u001b[39m5\u001b[39m, n_estimators\u001b[39m=\u001b[39m\u001b[39m50\u001b[39m)\n\u001b[0;32m----> 3\u001b[0m rf_best\u001b[39m.\u001b[39mfit(x_train2, y_train)\n\u001b[1;32m      5\u001b[0m preds \u001b[39m=\u001b[39m rf_best\u001b[39m.\u001b[39mpredict(x_test2)\n",
      "\u001b[0;31mNameError\u001b[0m: name 'x_train2' is not defined"
     ]
    }
   ],
   "source": [
    "rf_best = RandomForestRegressor(max_depth=5, n_estimators=50)\n",
    "\n",
    "rf_best.fit(x_train2, y_train)\n",
    "\n",
    "preds = rf_best.predict(x_test2)"
   ]
  },
  {
   "cell_type": "code",
   "execution_count": 58,
   "metadata": {},
   "outputs": [
    {
     "data": {
      "text/plain": [
       "0.061698088462337264"
      ]
     },
     "execution_count": 58,
     "metadata": {},
     "output_type": "execute_result"
    }
   ],
   "source": [
    "rf_best.score(x_test2, y_test)"
   ]
  },
  {
   "cell_type": "code",
   "execution_count": 59,
   "metadata": {},
   "outputs": [
    {
     "name": "stdout",
     "output_type": "stream",
     "text": [
      "0.1685935071845463\n"
     ]
    }
   ],
   "source": [
    "print(mean_squared_error(y_test, preds))"
   ]
  },
  {
   "cell_type": "code",
   "execution_count": 1,
   "metadata": {},
   "outputs": [
    {
     "ename": "NameError",
     "evalue": "name 'rf_best' is not defined",
     "output_type": "error",
     "traceback": [
      "\u001b[0;31m---------------------------------------------------------------------------\u001b[0m",
      "\u001b[0;31mNameError\u001b[0m                                 Traceback (most recent call last)",
      "Cell \u001b[0;32mIn[1], line 1\u001b[0m\n\u001b[0;32m----> 1\u001b[0m rf_best\u001b[39m.\u001b[39mfeature_importances_\n",
      "\u001b[0;31mNameError\u001b[0m: name 'rf_best' is not defined"
     ]
    }
   ],
   "source": [
    "rf_best.feature_importances_"
   ]
  },
  {
   "cell_type": "code",
   "execution_count": null,
   "metadata": {},
   "outputs": [],
   "source": []
  }
 ],
 "metadata": {
  "kernelspec": {
   "display_name": ".venv",
   "language": "python",
   "name": "python3"
  },
  "language_info": {
   "codemirror_mode": {
    "name": "ipython",
    "version": 3
   },
   "file_extension": ".py",
   "mimetype": "text/x-python",
   "name": "python",
   "nbconvert_exporter": "python",
   "pygments_lexer": "ipython3",
   "version": "3.9.6"
  },
  "vscode": {
   "interpreter": {
    "hash": "391b8c8d2d0705169608203ddc59d651a11cac649a7fd2dc02268105b6f9cfe6"
   }
  }
 },
 "nbformat": 4,
 "nbformat_minor": 2
}
