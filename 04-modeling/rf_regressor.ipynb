{
 "cells": [
  {
   "cell_type": "code",
   "execution_count": 8,
   "metadata": {},
   "outputs": [],
   "source": [
    "import numpy as np\n",
    "import pandas as pd\n",
    "from sklearn.preprocessing import OneHotEncoder\n",
    "from sklearn.ensemble import RandomForestRegressor\n",
    "import seaborn as sns"
   ]
  },
  {
   "attachments": {},
   "cell_type": "markdown",
   "metadata": {},
   "source": [
    "## Goal: Train RF and make predictions per each player"
   ]
  },
  {
   "cell_type": "code",
   "execution_count": 9,
   "metadata": {},
   "outputs": [
    {
     "data": {
      "text/html": [
       "<div>\n",
       "<style scoped>\n",
       "    .dataframe tbody tr th:only-of-type {\n",
       "        vertical-align: middle;\n",
       "    }\n",
       "\n",
       "    .dataframe tbody tr th {\n",
       "        vertical-align: top;\n",
       "    }\n",
       "\n",
       "    .dataframe thead th {\n",
       "        text-align: right;\n",
       "    }\n",
       "</style>\n",
       "<table border=\"1\" class=\"dataframe\">\n",
       "  <thead>\n",
       "    <tr style=\"text-align: right;\">\n",
       "      <th></th>\n",
       "      <th>s_player_id</th>\n",
       "      <th>s_name</th>\n",
       "      <th>s_age</th>\n",
       "      <th>season</th>\n",
       "      <th>s_game_num</th>\n",
       "      <th>date</th>\n",
       "      <th>s_team</th>\n",
       "      <th>s_opponent</th>\n",
       "      <th>s_home_away_status</th>\n",
       "      <th>s_result</th>\n",
       "      <th>...</th>\n",
       "      <th>g_age</th>\n",
       "      <th>g_game_num</th>\n",
       "      <th>decision</th>\n",
       "      <th>g_n_completed_games</th>\n",
       "      <th>GA_60</th>\n",
       "      <th>SA_60</th>\n",
       "      <th>SV_60</th>\n",
       "      <th>total_shutout</th>\n",
       "      <th>SV_perc</th>\n",
       "      <th>g_avg_TOI</th>\n",
       "    </tr>\n",
       "  </thead>\n",
       "  <tbody>\n",
       "    <tr>\n",
       "      <th>0</th>\n",
       "      <td>/a/abramvi01</td>\n",
       "      <td>Vitaly Abramov</td>\n",
       "      <td>22</td>\n",
       "      <td>2021</td>\n",
       "      <td>1</td>\n",
       "      <td>2021-05-05</td>\n",
       "      <td>OTT</td>\n",
       "      <td>MTL</td>\n",
       "      <td>1</td>\n",
       "      <td>W</td>\n",
       "      <td>...</td>\n",
       "      <td>30</td>\n",
       "      <td>26</td>\n",
       "      <td>L</td>\n",
       "      <td>25</td>\n",
       "      <td>2.737591</td>\n",
       "      <td>27.786544</td>\n",
       "      <td>25.048953</td>\n",
       "      <td>0.0</td>\n",
       "      <td>0.901478</td>\n",
       "      <td>58.445556</td>\n",
       "    </tr>\n",
       "    <tr>\n",
       "      <th>1</th>\n",
       "      <td>/a/abramvi01</td>\n",
       "      <td>Vitaly Abramov</td>\n",
       "      <td>23</td>\n",
       "      <td>2021</td>\n",
       "      <td>2</td>\n",
       "      <td>2021-05-08</td>\n",
       "      <td>OTT</td>\n",
       "      <td>WPG</td>\n",
       "      <td>0</td>\n",
       "      <td>W</td>\n",
       "      <td>...</td>\n",
       "      <td>27</td>\n",
       "      <td>43</td>\n",
       "      <td>L</td>\n",
       "      <td>42</td>\n",
       "      <td>2.688031</td>\n",
       "      <td>30.004238</td>\n",
       "      <td>27.316207</td>\n",
       "      <td>2.0</td>\n",
       "      <td>0.910412</td>\n",
       "      <td>55.058889</td>\n",
       "    </tr>\n",
       "    <tr>\n",
       "      <th>2</th>\n",
       "      <td>/a/acciano01</td>\n",
       "      <td>Noel Acciari</td>\n",
       "      <td>29</td>\n",
       "      <td>2021</td>\n",
       "      <td>1</td>\n",
       "      <td>2021-01-17</td>\n",
       "      <td>FLA</td>\n",
       "      <td>CHI</td>\n",
       "      <td>1</td>\n",
       "      <td>W</td>\n",
       "      <td>...</td>\n",
       "      <td>26</td>\n",
       "      <td>2</td>\n",
       "      <td>L</td>\n",
       "      <td>1</td>\n",
       "      <td>5.000000</td>\n",
       "      <td>37.000000</td>\n",
       "      <td>32.000000</td>\n",
       "      <td>0.0</td>\n",
       "      <td>0.864865</td>\n",
       "      <td>60.000000</td>\n",
       "    </tr>\n",
       "    <tr>\n",
       "      <th>3</th>\n",
       "      <td>/a/acciano01</td>\n",
       "      <td>Noel Acciari</td>\n",
       "      <td>29</td>\n",
       "      <td>2021</td>\n",
       "      <td>2</td>\n",
       "      <td>2021-01-19</td>\n",
       "      <td>FLA</td>\n",
       "      <td>CHI</td>\n",
       "      <td>1</td>\n",
       "      <td>W</td>\n",
       "      <td>...</td>\n",
       "      <td>25</td>\n",
       "      <td>1</td>\n",
       "      <td>O</td>\n",
       "      <td>0</td>\n",
       "      <td>NaN</td>\n",
       "      <td>NaN</td>\n",
       "      <td>NaN</td>\n",
       "      <td>0.0</td>\n",
       "      <td>NaN</td>\n",
       "      <td>NaN</td>\n",
       "    </tr>\n",
       "    <tr>\n",
       "      <th>4</th>\n",
       "      <td>/a/acciano01</td>\n",
       "      <td>Noel Acciari</td>\n",
       "      <td>29</td>\n",
       "      <td>2021</td>\n",
       "      <td>3</td>\n",
       "      <td>2021-01-26</td>\n",
       "      <td>FLA</td>\n",
       "      <td>CBJ</td>\n",
       "      <td>0</td>\n",
       "      <td>W</td>\n",
       "      <td>...</td>\n",
       "      <td>26</td>\n",
       "      <td>4</td>\n",
       "      <td>O</td>\n",
       "      <td>3</td>\n",
       "      <td>2.338313</td>\n",
       "      <td>36.076830</td>\n",
       "      <td>33.738517</td>\n",
       "      <td>0.0</td>\n",
       "      <td>0.935185</td>\n",
       "      <td>59.872222</td>\n",
       "    </tr>\n",
       "  </tbody>\n",
       "</table>\n",
       "<p>5 rows × 43 columns</p>\n",
       "</div>"
      ],
      "text/plain": [
       "    s_player_id          s_name  s_age  season  s_game_num        date s_team   \n",
       "0  /a/abramvi01  Vitaly Abramov     22    2021           1  2021-05-05    OTT  \\\n",
       "1  /a/abramvi01  Vitaly Abramov     23    2021           2  2021-05-08    OTT   \n",
       "2  /a/acciano01    Noel Acciari     29    2021           1  2021-01-17    FLA   \n",
       "3  /a/acciano01    Noel Acciari     29    2021           2  2021-01-19    FLA   \n",
       "4  /a/acciano01    Noel Acciari     29    2021           3  2021-01-26    FLA   \n",
       "\n",
       "  s_opponent  s_home_away_status s_result  ...  g_age  g_game_num  decision   \n",
       "0        MTL                   1        W  ...     30          26         L  \\\n",
       "1        WPG                   0        W  ...     27          43         L   \n",
       "2        CHI                   1        W  ...     26           2         L   \n",
       "3        CHI                   1        W  ...     25           1         O   \n",
       "4        CBJ                   0        W  ...     26           4         O   \n",
       "\n",
       "   g_n_completed_games     GA_60      SA_60      SV_60  total_shutout   \n",
       "0                   25  2.737591  27.786544  25.048953            0.0  \\\n",
       "1                   42  2.688031  30.004238  27.316207            2.0   \n",
       "2                    1  5.000000  37.000000  32.000000            0.0   \n",
       "3                    0       NaN        NaN        NaN            0.0   \n",
       "4                    3  2.338313  36.076830  33.738517            0.0   \n",
       "\n",
       "    SV_perc  g_avg_TOI  \n",
       "0  0.901478  58.445556  \n",
       "1  0.910412  55.058889  \n",
       "2  0.864865  60.000000  \n",
       "3       NaN        NaN  \n",
       "4  0.935185  59.872222  \n",
       "\n",
       "[5 rows x 43 columns]"
      ]
     },
     "execution_count": 9,
     "metadata": {},
     "output_type": "execute_result"
    }
   ],
   "source": [
    "# Read in data\n",
    "feature_set_2021 = pd.read_csv('../data/stats/past_seasons/combined_per60_roll15_2021.csv')\n",
    "feature_set_2022 = pd.read_csv('../data/stats/past_seasons/combined_per60_roll15_2022.csv')\n",
    "feature_set_2023 = pd.read_csv('../data/stats/past_seasons/combined_per60_roll15_2023.csv')\n",
    "\n",
    "feature_set_all = pd.concat([feature_set_2021, feature_set_2022, feature_set_2023], axis=0).reset_index(drop = True)\n",
    "#print(feature_set_all.info())\n",
    "feature_set_all.head()"
   ]
  },
  {
   "cell_type": "code",
   "execution_count": 10,
   "metadata": {},
   "outputs": [
    {
     "data": {
      "text/plain": [
       "'2023-02-13'"
      ]
     },
     "execution_count": 10,
     "metadata": {},
     "output_type": "execute_result"
    }
   ],
   "source": [
    "# First date that we began recording odds. This will be used to split the training and testing data\n",
    "first_date = pd.read_csv('../data/odds/ml_odds.csv')['date_game'].min()\n",
    "first_date"
   ]
  },
  {
   "cell_type": "code",
   "execution_count": 16,
   "metadata": {},
   "outputs": [],
   "source": [
    "# List of all x features in addition to target column\n",
    "x_and_target = ['s_home_away_status', 'G_60', 'A_60', 'P_60', 'rating_60', 'PIM_60','EVG_60', 'PPG_60', 'SHG_60', 'GWG_60', 'EVA_60', 'PPA_60', 'SHA_60', 'S_60', 'shifts_60', 'HIT_60', 'BLK_60', 'FOW_60', 'FOL_60', 's_avg_TOI', 'GA_60', 'SA_60', 'SV_60', 'total_shutout', 'SV_perc', 'G']"
   ]
  },
  {
   "cell_type": "code",
   "execution_count": 17,
   "metadata": {},
   "outputs": [],
   "source": [
    "# Split feature set into train and test\n",
    "feature_set_for_preds = feature_set_all.loc[feature_set_all['date'] >= first_date, ['s_player_id', 's_name', 's_team', 'date', 's_result', 'G']]\n",
    "train = feature_set_all.loc[feature_set_all['date'] < first_date, x_and_target].dropna()\n",
    "test = feature_set_all.loc[feature_set_all['date'] >= first_date, x_and_target].dropna()"
   ]
  },
  {
   "cell_type": "code",
   "execution_count": 18,
   "metadata": {},
   "outputs": [
    {
     "name": "stdout",
     "output_type": "stream",
     "text": [
      "0.1701235550465394\n"
     ]
    }
   ],
   "source": [
    "# Train using everything prior to the test set\n",
    "x_train = train.drop(columns = ['G'])\n",
    "x_test = test.drop(columns = ['G'])\n",
    "\n",
    "y_train = train['G']\n",
    "y_test = test['G']\n",
    "\n",
    "# Find average goals per game that we can use to impute situations where no prediction was made about a player\n",
    "avg_G_per_game = y_train.mean()\n",
    "print(avg_G_per_game)"
   ]
  },
  {
   "attachments": {},
   "cell_type": "markdown",
   "metadata": {},
   "source": [
    "### Try once with all features and look at feature importances"
   ]
  },
  {
   "cell_type": "code",
   "execution_count": 28,
   "metadata": {},
   "outputs": [
    {
     "data": {
      "text/html": [
       "<style>#sk-container-id-1 {color: black;background-color: white;}#sk-container-id-1 pre{padding: 0;}#sk-container-id-1 div.sk-toggleable {background-color: white;}#sk-container-id-1 label.sk-toggleable__label {cursor: pointer;display: block;width: 100%;margin-bottom: 0;padding: 0.3em;box-sizing: border-box;text-align: center;}#sk-container-id-1 label.sk-toggleable__label-arrow:before {content: \"▸\";float: left;margin-right: 0.25em;color: #696969;}#sk-container-id-1 label.sk-toggleable__label-arrow:hover:before {color: black;}#sk-container-id-1 div.sk-estimator:hover label.sk-toggleable__label-arrow:before {color: black;}#sk-container-id-1 div.sk-toggleable__content {max-height: 0;max-width: 0;overflow: hidden;text-align: left;background-color: #f0f8ff;}#sk-container-id-1 div.sk-toggleable__content pre {margin: 0.2em;color: black;border-radius: 0.25em;background-color: #f0f8ff;}#sk-container-id-1 input.sk-toggleable__control:checked~div.sk-toggleable__content {max-height: 200px;max-width: 100%;overflow: auto;}#sk-container-id-1 input.sk-toggleable__control:checked~label.sk-toggleable__label-arrow:before {content: \"▾\";}#sk-container-id-1 div.sk-estimator input.sk-toggleable__control:checked~label.sk-toggleable__label {background-color: #d4ebff;}#sk-container-id-1 div.sk-label input.sk-toggleable__control:checked~label.sk-toggleable__label {background-color: #d4ebff;}#sk-container-id-1 input.sk-hidden--visually {border: 0;clip: rect(1px 1px 1px 1px);clip: rect(1px, 1px, 1px, 1px);height: 1px;margin: -1px;overflow: hidden;padding: 0;position: absolute;width: 1px;}#sk-container-id-1 div.sk-estimator {font-family: monospace;background-color: #f0f8ff;border: 1px dotted black;border-radius: 0.25em;box-sizing: border-box;margin-bottom: 0.5em;}#sk-container-id-1 div.sk-estimator:hover {background-color: #d4ebff;}#sk-container-id-1 div.sk-parallel-item::after {content: \"\";width: 100%;border-bottom: 1px solid gray;flex-grow: 1;}#sk-container-id-1 div.sk-label:hover label.sk-toggleable__label {background-color: #d4ebff;}#sk-container-id-1 div.sk-serial::before {content: \"\";position: absolute;border-left: 1px solid gray;box-sizing: border-box;top: 0;bottom: 0;left: 50%;z-index: 0;}#sk-container-id-1 div.sk-serial {display: flex;flex-direction: column;align-items: center;background-color: white;padding-right: 0.2em;padding-left: 0.2em;position: relative;}#sk-container-id-1 div.sk-item {position: relative;z-index: 1;}#sk-container-id-1 div.sk-parallel {display: flex;align-items: stretch;justify-content: center;background-color: white;position: relative;}#sk-container-id-1 div.sk-item::before, #sk-container-id-1 div.sk-parallel-item::before {content: \"\";position: absolute;border-left: 1px solid gray;box-sizing: border-box;top: 0;bottom: 0;left: 50%;z-index: -1;}#sk-container-id-1 div.sk-parallel-item {display: flex;flex-direction: column;z-index: 1;position: relative;background-color: white;}#sk-container-id-1 div.sk-parallel-item:first-child::after {align-self: flex-end;width: 50%;}#sk-container-id-1 div.sk-parallel-item:last-child::after {align-self: flex-start;width: 50%;}#sk-container-id-1 div.sk-parallel-item:only-child::after {width: 0;}#sk-container-id-1 div.sk-dashed-wrapped {border: 1px dashed gray;margin: 0 0.4em 0.5em 0.4em;box-sizing: border-box;padding-bottom: 0.4em;background-color: white;}#sk-container-id-1 div.sk-label label {font-family: monospace;font-weight: bold;display: inline-block;line-height: 1.2em;}#sk-container-id-1 div.sk-label-container {text-align: center;}#sk-container-id-1 div.sk-container {/* jupyter's `normalize.less` sets `[hidden] { display: none; }` but bootstrap.min.css set `[hidden] { display: none !important; }` so we also need the `!important` here to be able to override the default hidden behavior on the sphinx rendered scikit-learn.org. See: https://github.com/scikit-learn/scikit-learn/issues/21755 */display: inline-block !important;position: relative;}#sk-container-id-1 div.sk-text-repr-fallback {display: none;}</style><div id=\"sk-container-id-1\" class=\"sk-top-container\"><div class=\"sk-text-repr-fallback\"><pre>RandomForestRegressor(max_depth=5, n_estimators=50)</pre><b>In a Jupyter environment, please rerun this cell to show the HTML representation or trust the notebook. <br />On GitHub, the HTML representation is unable to render, please try loading this page with nbviewer.org.</b></div><div class=\"sk-container\" hidden><div class=\"sk-item\"><div class=\"sk-estimator sk-toggleable\"><input class=\"sk-toggleable__control sk-hidden--visually\" id=\"sk-estimator-id-1\" type=\"checkbox\" checked><label for=\"sk-estimator-id-1\" class=\"sk-toggleable__label sk-toggleable__label-arrow\">RandomForestRegressor</label><div class=\"sk-toggleable__content\"><pre>RandomForestRegressor(max_depth=5, n_estimators=50)</pre></div></div></div></div></div>"
      ],
      "text/plain": [
       "RandomForestRegressor(max_depth=5, n_estimators=50)"
      ]
     },
     "execution_count": 28,
     "metadata": {},
     "output_type": "execute_result"
    }
   ],
   "source": [
    "# Train RF using parameters from model exploration notebook\n",
    "rf = RandomForestRegressor(max_depth=5, n_estimators=50)\n",
    "rf.fit(x_train, y_train)"
   ]
  },
  {
   "cell_type": "code",
   "execution_count": 29,
   "metadata": {},
   "outputs": [
    {
     "data": {
      "text/plain": [
       "[Text(0, 0, 'P_60'),\n",
       " Text(1, 0, 's_avg_TOI'),\n",
       " Text(2, 0, 'PPG_60'),\n",
       " Text(3, 0, 'S_60'),\n",
       " Text(4, 0, 'FOL_60'),\n",
       " Text(5, 0, 'G_60'),\n",
       " Text(6, 0, 'BLK_60'),\n",
       " Text(7, 0, 'shifts_60'),\n",
       " Text(8, 0, 'FOW_60'),\n",
       " Text(9, 0, 'SA_60'),\n",
       " Text(10, 0, 'GA_60'),\n",
       " Text(11, 0, 'PPA_60'),\n",
       " Text(12, 0, 'SV_60'),\n",
       " Text(13, 0, 'HIT_60'),\n",
       " Text(14, 0, 'EVA_60'),\n",
       " Text(15, 0, 'EVG_60'),\n",
       " Text(16, 0, 'rating_60'),\n",
       " Text(17, 0, 'PIM_60'),\n",
       " Text(18, 0, 'A_60'),\n",
       " Text(19, 0, 'SV_perc'),\n",
       " Text(20, 0, 'SHG_60'),\n",
       " Text(21, 0, 'GWG_60'),\n",
       " Text(22, 0, 'SHA_60'),\n",
       " Text(23, 0, 's_home_away_status'),\n",
       " Text(24, 0, 'total_shutout')]"
      ]
     },
     "execution_count": 29,
     "metadata": {},
     "output_type": "execute_result"
    },
    {
     "data": {
      "image/png": "[encoded data removed]",
      "text/plain": [
       "<Figure size 640x480 with 1 Axes>"
      ]
     },
     "metadata": {},
     "output_type": "display_data"
    }
   ],
   "source": [
    "# Look at feature importances\n",
    "importances = pd.DataFrame({'features':rf.feature_names_in_, 'importance':rf.feature_importances_})\n",
    "ax = sns.barplot(importances.sort_values('importance', ascending=False), x = 'features', y = 'importance')\n",
    "ax.set_xticklabels(ax.get_xticklabels(), rotation=90)"
   ]
  },
  {
   "attachments": {},
   "cell_type": "markdown",
   "metadata": {},
   "source": [
    "It looks like the following variables are more important than the rest: ['P_60', 's_avg_TOI', 'PPG_60', 'S_60', 'FOL_60', 'G_60', 'BLK_60', 'shifts_60', 'FOW_60', 'SA_60', 'GA_60']\n",
    "* This for the most part lines up well with the EDA section using mean difference between 0/1. \n",
    "* FOW/FOL might not need to be separate. Might just matter that they are a C."
   ]
  },
  {
   "attachments": {},
   "cell_type": "markdown",
   "metadata": {},
   "source": [
    "### Try training RF using only the above subset\n",
    "Based on CV, the best parameters using these variables is the following: \n",
    "* x"
   ]
  },
  {
   "cell_type": "code",
   "execution_count": 30,
   "metadata": {},
   "outputs": [],
   "source": [
    "x_train_subset = x_train[['P_60', 's_avg_TOI', 'PPG_60', 'S_60', 'FOL_60', 'G_60', 'BLK_60', 'shifts_60', 'FOW_60', 'SA_60', 'GA_60']]\n",
    "x_test_subset = x_test[['P_60', 's_avg_TOI', 'PPG_60', 'S_60', 'FOL_60', 'G_60', 'BLK_60', 'shifts_60', 'FOW_60', 'SA_60', 'GA_60']]"
   ]
  },
  {
   "cell_type": "code",
   "execution_count": 31,
   "metadata": {},
   "outputs": [
    {
     "data": {
      "text/html": [
       "<style>#sk-container-id-2 {color: black;background-color: white;}#sk-container-id-2 pre{padding: 0;}#sk-container-id-2 div.sk-toggleable {background-color: white;}#sk-container-id-2 label.sk-toggleable__label {cursor: pointer;display: block;width: 100%;margin-bottom: 0;padding: 0.3em;box-sizing: border-box;text-align: center;}#sk-container-id-2 label.sk-toggleable__label-arrow:before {content: \"▸\";float: left;margin-right: 0.25em;color: #696969;}#sk-container-id-2 label.sk-toggleable__label-arrow:hover:before {color: black;}#sk-container-id-2 div.sk-estimator:hover label.sk-toggleable__label-arrow:before {color: black;}#sk-container-id-2 div.sk-toggleable__content {max-height: 0;max-width: 0;overflow: hidden;text-align: left;background-color: #f0f8ff;}#sk-container-id-2 div.sk-toggleable__content pre {margin: 0.2em;color: black;border-radius: 0.25em;background-color: #f0f8ff;}#sk-container-id-2 input.sk-toggleable__control:checked~div.sk-toggleable__content {max-height: 200px;max-width: 100%;overflow: auto;}#sk-container-id-2 input.sk-toggleable__control:checked~label.sk-toggleable__label-arrow:before {content: \"▾\";}#sk-container-id-2 div.sk-estimator input.sk-toggleable__control:checked~label.sk-toggleable__label {background-color: #d4ebff;}#sk-container-id-2 div.sk-label input.sk-toggleable__control:checked~label.sk-toggleable__label {background-color: #d4ebff;}#sk-container-id-2 input.sk-hidden--visually {border: 0;clip: rect(1px 1px 1px 1px);clip: rect(1px, 1px, 1px, 1px);height: 1px;margin: -1px;overflow: hidden;padding: 0;position: absolute;width: 1px;}#sk-container-id-2 div.sk-estimator {font-family: monospace;background-color: #f0f8ff;border: 1px dotted black;border-radius: 0.25em;box-sizing: border-box;margin-bottom: 0.5em;}#sk-container-id-2 div.sk-estimator:hover {background-color: #d4ebff;}#sk-container-id-2 div.sk-parallel-item::after {content: \"\";width: 100%;border-bottom: 1px solid gray;flex-grow: 1;}#sk-container-id-2 div.sk-label:hover label.sk-toggleable__label {background-color: #d4ebff;}#sk-container-id-2 div.sk-serial::before {content: \"\";position: absolute;border-left: 1px solid gray;box-sizing: border-box;top: 0;bottom: 0;left: 50%;z-index: 0;}#sk-container-id-2 div.sk-serial {display: flex;flex-direction: column;align-items: center;background-color: white;padding-right: 0.2em;padding-left: 0.2em;position: relative;}#sk-container-id-2 div.sk-item {position: relative;z-index: 1;}#sk-container-id-2 div.sk-parallel {display: flex;align-items: stretch;justify-content: center;background-color: white;position: relative;}#sk-container-id-2 div.sk-item::before, #sk-container-id-2 div.sk-parallel-item::before {content: \"\";position: absolute;border-left: 1px solid gray;box-sizing: border-box;top: 0;bottom: 0;left: 50%;z-index: -1;}#sk-container-id-2 div.sk-parallel-item {display: flex;flex-direction: column;z-index: 1;position: relative;background-color: white;}#sk-container-id-2 div.sk-parallel-item:first-child::after {align-self: flex-end;width: 50%;}#sk-container-id-2 div.sk-parallel-item:last-child::after {align-self: flex-start;width: 50%;}#sk-container-id-2 div.sk-parallel-item:only-child::after {width: 0;}#sk-container-id-2 div.sk-dashed-wrapped {border: 1px dashed gray;margin: 0 0.4em 0.5em 0.4em;box-sizing: border-box;padding-bottom: 0.4em;background-color: white;}#sk-container-id-2 div.sk-label label {font-family: monospace;font-weight: bold;display: inline-block;line-height: 1.2em;}#sk-container-id-2 div.sk-label-container {text-align: center;}#sk-container-id-2 div.sk-container {/* jupyter's `normalize.less` sets `[hidden] { display: none; }` but bootstrap.min.css set `[hidden] { display: none !important; }` so we also need the `!important` here to be able to override the default hidden behavior on the sphinx rendered scikit-learn.org. See: https://github.com/scikit-learn/scikit-learn/issues/21755 */display: inline-block !important;position: relative;}#sk-container-id-2 div.sk-text-repr-fallback {display: none;}</style><div id=\"sk-container-id-2\" class=\"sk-top-container\"><div class=\"sk-text-repr-fallback\"><pre>RandomForestRegressor(max_depth=5, n_estimators=50)</pre><b>In a Jupyter environment, please rerun this cell to show the HTML representation or trust the notebook. <br />On GitHub, the HTML representation is unable to render, please try loading this page with nbviewer.org.</b></div><div class=\"sk-container\" hidden><div class=\"sk-item\"><div class=\"sk-estimator sk-toggleable\"><input class=\"sk-toggleable__control sk-hidden--visually\" id=\"sk-estimator-id-2\" type=\"checkbox\" checked><label for=\"sk-estimator-id-2\" class=\"sk-toggleable__label sk-toggleable__label-arrow\">RandomForestRegressor</label><div class=\"sk-toggleable__content\"><pre>RandomForestRegressor(max_depth=5, n_estimators=50)</pre></div></div></div></div></div>"
      ],
      "text/plain": [
       "RandomForestRegressor(max_depth=5, n_estimators=50)"
      ]
     },
     "execution_count": 31,
     "metadata": {},
     "output_type": "execute_result"
    }
   ],
   "source": [
    "# Train RF using parameters from model exploration notebook\n",
    "rf = RandomForestRegressor(max_depth=5, n_estimators=50)\n",
    "rf.fit(x_train_subset, y_train)"
   ]
  },
  {
   "cell_type": "code",
   "execution_count": 32,
   "metadata": {},
   "outputs": [
    {
     "data": {
      "text/plain": [
       "[Text(0, 0, 'P_60'),\n",
       " Text(1, 0, 'PPG_60'),\n",
       " Text(2, 0, 's_avg_TOI'),\n",
       " Text(3, 0, 'S_60'),\n",
       " Text(4, 0, 'FOL_60'),\n",
       " Text(5, 0, 'G_60'),\n",
       " Text(6, 0, 'BLK_60'),\n",
       " Text(7, 0, 'FOW_60'),\n",
       " Text(8, 0, 'shifts_60'),\n",
       " Text(9, 0, 'SA_60'),\n",
       " Text(10, 0, 'GA_60')]"
      ]
     },
     "execution_count": 32,
     "metadata": {},
     "output_type": "execute_result"
    },
    {
     "data": {
      "image/png": "[encoded data removed]",
      "text/plain": [
       "<Figure size 640x480 with 1 Axes>"
      ]
     },
     "metadata": {},
     "output_type": "display_data"
    }
   ],
   "source": [
    "importances = pd.DataFrame({'features':rf.feature_names_in_, 'importance':rf.feature_importances_})\n",
    "ax = sns.barplot(importances.sort_values('importance', ascending=False), x = 'features', y = 'importance')\n",
    "ax.set_xticklabels(ax.get_xticklabels(), rotation=90)"
   ]
  },
  {
   "cell_type": "code",
   "execution_count": 33,
   "metadata": {},
   "outputs": [],
   "source": [
    "# Make predictions about each player's goals per game\n",
    "preds = pd.DataFrame({'preds':rf.predict(x_test_subset)}, index = test.index)"
   ]
  },
  {
   "cell_type": "code",
   "execution_count": 34,
   "metadata": {},
   "outputs": [
    {
     "data": {
      "text/html": [
       "<div>\n",
       "<style scoped>\n",
       "    .dataframe tbody tr th:only-of-type {\n",
       "        vertical-align: middle;\n",
       "    }\n",
       "\n",
       "    .dataframe tbody tr th {\n",
       "        vertical-align: top;\n",
       "    }\n",
       "\n",
       "    .dataframe thead th {\n",
       "        text-align: right;\n",
       "    }\n",
       "</style>\n",
       "<table border=\"1\" class=\"dataframe\">\n",
       "  <thead>\n",
       "    <tr style=\"text-align: right;\">\n",
       "      <th></th>\n",
       "      <th>s_player_id</th>\n",
       "      <th>s_name</th>\n",
       "      <th>s_team</th>\n",
       "      <th>date</th>\n",
       "      <th>s_result</th>\n",
       "      <th>G</th>\n",
       "      <th>preds</th>\n",
       "    </tr>\n",
       "  </thead>\n",
       "  <tbody>\n",
       "    <tr>\n",
       "      <th>78430</th>\n",
       "      <td>/a/abruzni01</td>\n",
       "      <td>Nicholas Abruzzese</td>\n",
       "      <td>TOR</td>\n",
       "      <td>2023-04-02</td>\n",
       "      <td>L</td>\n",
       "      <td>0</td>\n",
       "      <td>0.170124</td>\n",
       "    </tr>\n",
       "    <tr>\n",
       "      <th>78431</th>\n",
       "      <td>/a/abruzni01</td>\n",
       "      <td>Nicholas Abruzzese</td>\n",
       "      <td>TOR</td>\n",
       "      <td>2023-04-04</td>\n",
       "      <td>W</td>\n",
       "      <td>0</td>\n",
       "      <td>0.170124</td>\n",
       "    </tr>\n",
       "    <tr>\n",
       "      <th>78484</th>\n",
       "      <td>/a/acciano01</td>\n",
       "      <td>Noel Acciari</td>\n",
       "      <td>STL</td>\n",
       "      <td>2023-02-14</td>\n",
       "      <td>W</td>\n",
       "      <td>0</td>\n",
       "      <td>0.210189</td>\n",
       "    </tr>\n",
       "    <tr>\n",
       "      <th>78485</th>\n",
       "      <td>/a/acciano01</td>\n",
       "      <td>Noel Acciari</td>\n",
       "      <td>STL</td>\n",
       "      <td>2023-02-16</td>\n",
       "      <td>W</td>\n",
       "      <td>0</td>\n",
       "      <td>0.210620</td>\n",
       "    </tr>\n",
       "    <tr>\n",
       "      <th>78486</th>\n",
       "      <td>/a/acciano01</td>\n",
       "      <td>Noel Acciari</td>\n",
       "      <td>TOR</td>\n",
       "      <td>2023-02-18</td>\n",
       "      <td>W</td>\n",
       "      <td>0</td>\n",
       "      <td>0.213626</td>\n",
       "    </tr>\n",
       "  </tbody>\n",
       "</table>\n",
       "</div>"
      ],
      "text/plain": [
       "        s_player_id              s_name s_team        date s_result  G   \n",
       "78430  /a/abruzni01  Nicholas Abruzzese    TOR  2023-04-02        L  0  \\\n",
       "78431  /a/abruzni01  Nicholas Abruzzese    TOR  2023-04-04        W  0   \n",
       "78484  /a/acciano01        Noel Acciari    STL  2023-02-14        W  0   \n",
       "78485  /a/acciano01        Noel Acciari    STL  2023-02-16        W  0   \n",
       "78486  /a/acciano01        Noel Acciari    TOR  2023-02-18        W  0   \n",
       "\n",
       "          preds  \n",
       "78430  0.170124  \n",
       "78431  0.170124  \n",
       "78484  0.210189  \n",
       "78485  0.210620  \n",
       "78486  0.213626  "
      ]
     },
     "execution_count": 34,
     "metadata": {},
     "output_type": "execute_result"
    }
   ],
   "source": [
    "# For anyone that we did not make a prediction for, fill with the average goals per game\n",
    "player_predictions = pd.merge(feature_set_for_preds, preds, left_index=True, right_index=True, how = 'left').fillna({'preds':avg_G_per_game})\n",
    "player_predictions.head()"
   ]
  },
  {
   "cell_type": "code",
   "execution_count": 35,
   "metadata": {},
   "outputs": [
    {
     "data": {
      "text/html": [
       "<div>\n",
       "<style scoped>\n",
       "    .dataframe tbody tr th:only-of-type {\n",
       "        vertical-align: middle;\n",
       "    }\n",
       "\n",
       "    .dataframe tbody tr th {\n",
       "        vertical-align: top;\n",
       "    }\n",
       "\n",
       "    .dataframe thead th {\n",
       "        text-align: right;\n",
       "    }\n",
       "</style>\n",
       "<table border=\"1\" class=\"dataframe\">\n",
       "  <thead>\n",
       "    <tr style=\"text-align: right;\">\n",
       "      <th></th>\n",
       "      <th>team</th>\n",
       "      <th>date</th>\n",
       "      <th>xG</th>\n",
       "    </tr>\n",
       "  </thead>\n",
       "  <tbody>\n",
       "    <tr>\n",
       "      <th>0</th>\n",
       "      <td>ANA</td>\n",
       "      <td>2023-02-15</td>\n",
       "      <td>2.938656</td>\n",
       "    </tr>\n",
       "    <tr>\n",
       "      <th>1</th>\n",
       "      <td>ANA</td>\n",
       "      <td>2023-02-17</td>\n",
       "      <td>2.833243</td>\n",
       "    </tr>\n",
       "    <tr>\n",
       "      <th>2</th>\n",
       "      <td>ANA</td>\n",
       "      <td>2023-02-20</td>\n",
       "      <td>2.988559</td>\n",
       "    </tr>\n",
       "    <tr>\n",
       "      <th>3</th>\n",
       "      <td>ANA</td>\n",
       "      <td>2023-02-21</td>\n",
       "      <td>2.972012</td>\n",
       "    </tr>\n",
       "    <tr>\n",
       "      <th>4</th>\n",
       "      <td>ANA</td>\n",
       "      <td>2023-02-23</td>\n",
       "      <td>2.903525</td>\n",
       "    </tr>\n",
       "  </tbody>\n",
       "</table>\n",
       "</div>"
      ],
      "text/plain": [
       "  team        date        xG\n",
       "0  ANA  2023-02-15  2.938656\n",
       "1  ANA  2023-02-17  2.833243\n",
       "2  ANA  2023-02-20  2.988559\n",
       "3  ANA  2023-02-21  2.972012\n",
       "4  ANA  2023-02-23  2.903525"
      ]
     },
     "execution_count": 35,
     "metadata": {},
     "output_type": "execute_result"
    }
   ],
   "source": [
    "# Find the expected number of goals for each team for each day\n",
    "# Start by looking at the number of players we have for each team for each day\n",
    "num_players_per_game = player_predictions.groupby(['s_team', 'date'])['s_player_id'].count().reset_index().rename(columns={'s_player_id':'n_players'})\n",
    "#display(num_players_per_game.head())\n",
    "\n",
    "# Sum player predictions to get the expected goals for each team per each game\n",
    "team_xGoals = player_predictions.groupby(['s_team', 'date'])['preds'].sum().reset_index().rename(columns={'preds':'xG'})\n",
    "team_xGoals = pd.merge(team_xGoals, num_players_per_game, how = 'left', on = ['s_team', 'date'])\n",
    "team_xGoals.rename(columns={'s_team':'team'}, inplace=True)\n",
    "\n",
    "# If any team had less than 18 skaters, add the correct multiple of average goals per game to get them back to 18\n",
    "# This assumes a team ALWAYS has 18 skaters. Does a team ever play with less than 18 skaters?\n",
    "team_xGoals['xG'] = (team_xGoals['xG'] + avg_G_per_game * (18 - team_xGoals['n_players']))\n",
    "team_xGoals.drop(columns='n_players', inplace = True)\n",
    "\n",
    "team_xGoals.head()\n"
   ]
  },
  {
   "attachments": {},
   "cell_type": "markdown",
   "metadata": {},
   "source": [
    "## Export predictions"
   ]
  },
  {
   "cell_type": "code",
   "execution_count": 36,
   "metadata": {},
   "outputs": [],
   "source": [
    "team_xGoals.to_csv('../data/evaluation_predictions/rf_test_021323.csv', header=True, index=False)"
   ]
  }
 ],
 "metadata": {
  "kernelspec": {
   "display_name": ".venv",
   "language": "python",
   "name": "python3"
  },
  "language_info": {
   "codemirror_mode": {
    "name": "ipython",
    "version": 3
   },
   "file_extension": ".py",
   "mimetype": "text/x-python",
   "name": "python",
   "nbconvert_exporter": "python",
   "pygments_lexer": "ipython3",
   "version": "3.9.6"
  },
  "orig_nbformat": 4,
  "vscode": {
   "interpreter": {
    "hash": "391b8c8d2d0705169608203ddc59d651a11cac649a7fd2dc02268105b6f9cfe6"
   }
  }
 },
 "nbformat": 4,
 "nbformat_minor": 2
}
