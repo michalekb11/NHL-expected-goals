{
 "cells": [
  {
   "cell_type": "code",
   "execution_count": 53,
   "metadata": {},
   "outputs": [],
   "source": [
    "import torch\n",
    "import pandas as pd\n",
    "from model import NeuralNetwork\n",
    "from torch.utils.data import DataLoader, Dataset"
   ]
  },
  {
   "cell_type": "code",
   "execution_count": 39,
   "metadata": {},
   "outputs": [],
   "source": [
    "from torchvision import datasets\n",
    "from torchvision.transforms import ToTensor\n",
    "\n",
    "training_data = datasets.FashionMNIST(\n",
    "    root=\"data\",\n",
    "    train=True,\n",
    "    download=True,\n",
    "    transform=ToTensor()\n",
    ")"
   ]
  },
  {
   "cell_type": "code",
   "execution_count": 52,
   "metadata": {},
   "outputs": [
    {
     "name": "stderr",
     "output_type": "stream",
     "text": [
      "/Users/bryanmichalek/Documents/GitHub_Personal/sports_betting_repo/.venv/lib/python3.9/site-packages/torchvision/datasets/mnist.py:65: UserWarning: train_labels has been renamed targets\n",
      "  warnings.warn(\"train_labels has been renamed targets\")\n"
     ]
    },
    {
     "data": {
      "text/plain": [
       "tensor([9, 0, 0,  ..., 3, 0, 5])"
      ]
     },
     "execution_count": 52,
     "metadata": {},
     "output_type": "execute_result"
    }
   ],
   "source": [
    "training_data.train_labels"
   ]
  },
  {
   "cell_type": "code",
   "execution_count": 28,
   "metadata": {},
   "outputs": [],
   "source": [
    "X = torch.rand(128, 20, device='cpu')"
   ]
  },
  {
   "cell_type": "code",
   "execution_count": 29,
   "metadata": {},
   "outputs": [
    {
     "data": {
      "text/plain": [
       "tensor([[0.9167, 0.7217, 0.4006,  ..., 0.7056, 0.7602, 0.6686],\n",
       "        [0.0470, 0.1102, 0.9176,  ..., 0.2904, 0.1956, 0.7441],\n",
       "        [0.0036, 0.7638, 0.4292,  ..., 0.8164, 0.3518, 0.8400],\n",
       "        ...,\n",
       "        [0.8844, 0.7043, 0.8252,  ..., 0.9687, 0.5030, 0.6257],\n",
       "        [0.6411, 0.8181, 0.0613,  ..., 0.1937, 0.1187, 0.8945],\n",
       "        [0.8158, 0.8218, 0.6172,  ..., 0.2443, 0.4184, 0.8033]])"
      ]
     },
     "execution_count": 29,
     "metadata": {},
     "output_type": "execute_result"
    }
   ],
   "source": [
    "X"
   ]
  },
  {
   "cell_type": "code",
   "execution_count": 30,
   "metadata": {},
   "outputs": [],
   "source": [
    "train_dataloader = DataLoader(X, batch_size=64)"
   ]
  },
  {
   "cell_type": "code",
   "execution_count": 31,
   "metadata": {},
   "outputs": [],
   "source": [
    "model = NeuralNetwork(n_features=20)"
   ]
  },
  {
   "cell_type": "code",
   "execution_count": 33,
   "metadata": {},
   "outputs": [
    {
     "name": "stdout",
     "output_type": "stream",
     "text": [
      "tensor([[ 0.1620],\n",
      "        [ 0.0852],\n",
      "        [ 0.0765],\n",
      "        [ 0.0625],\n",
      "        [ 0.0978],\n",
      "        [ 0.1248],\n",
      "        [ 0.1567],\n",
      "        [ 0.0977],\n",
      "        [ 0.1411],\n",
      "        [ 0.1918],\n",
      "        [ 0.1430],\n",
      "        [ 0.0652],\n",
      "        [ 0.1310],\n",
      "        [ 0.1604],\n",
      "        [ 0.0734],\n",
      "        [ 0.2279],\n",
      "        [ 0.0385],\n",
      "        [ 0.0802],\n",
      "        [-0.0145],\n",
      "        [ 0.1470],\n",
      "        [ 0.1602],\n",
      "        [ 0.1827],\n",
      "        [ 0.1586],\n",
      "        [ 0.1059],\n",
      "        [ 0.1859],\n",
      "        [ 0.1322],\n",
      "        [ 0.0875],\n",
      "        [ 0.0714],\n",
      "        [ 0.1359],\n",
      "        [ 0.1414],\n",
      "        [ 0.0430],\n",
      "        [ 0.1783],\n",
      "        [ 0.1155],\n",
      "        [ 0.1231],\n",
      "        [ 0.1598],\n",
      "        [ 0.2141],\n",
      "        [ 0.1715],\n",
      "        [ 0.1148],\n",
      "        [ 0.1425],\n",
      "        [ 0.1479],\n",
      "        [ 0.1437],\n",
      "        [ 0.1210],\n",
      "        [ 0.1364],\n",
      "        [ 0.0092],\n",
      "        [ 0.0972],\n",
      "        [ 0.1406],\n",
      "        [ 0.1616],\n",
      "        [ 0.1040],\n",
      "        [ 0.1583],\n",
      "        [ 0.1529],\n",
      "        [ 0.1033],\n",
      "        [ 0.1597],\n",
      "        [ 0.0930],\n",
      "        [ 0.0849],\n",
      "        [ 0.1151],\n",
      "        [ 0.1213],\n",
      "        [ 0.1252],\n",
      "        [ 0.1198],\n",
      "        [ 0.1217],\n",
      "        [ 0.1622],\n",
      "        [ 0.0080],\n",
      "        [ 0.1187],\n",
      "        [ 0.1431],\n",
      "        [ 0.0877]], grad_fn=<AddmmBackward0>)\n",
      "tensor([[ 0.1629],\n",
      "        [ 0.1269],\n",
      "        [ 0.0534],\n",
      "        [-0.0271],\n",
      "        [ 0.0849],\n",
      "        [ 0.1030],\n",
      "        [ 0.1349],\n",
      "        [ 0.0946],\n",
      "        [ 0.1394],\n",
      "        [ 0.1612],\n",
      "        [ 0.1237],\n",
      "        [ 0.1406],\n",
      "        [ 0.1077],\n",
      "        [ 0.0498],\n",
      "        [ 0.1398],\n",
      "        [ 0.1256],\n",
      "        [ 0.1197],\n",
      "        [ 0.0724],\n",
      "        [ 0.0612],\n",
      "        [ 0.0899],\n",
      "        [ 0.1405],\n",
      "        [ 0.1293],\n",
      "        [ 0.0896],\n",
      "        [ 0.1633],\n",
      "        [ 0.1650],\n",
      "        [ 0.2254],\n",
      "        [ 0.1688],\n",
      "        [ 0.1343],\n",
      "        [ 0.1169],\n",
      "        [ 0.1491],\n",
      "        [ 0.1253],\n",
      "        [ 0.1148],\n",
      "        [ 0.0367],\n",
      "        [ 0.1639],\n",
      "        [ 0.1070],\n",
      "        [ 0.0876],\n",
      "        [ 0.1431],\n",
      "        [ 0.1018],\n",
      "        [ 0.1233],\n",
      "        [ 0.0866],\n",
      "        [ 0.1142],\n",
      "        [ 0.1852],\n",
      "        [ 0.0774],\n",
      "        [ 0.1548],\n",
      "        [ 0.1155],\n",
      "        [ 0.1736],\n",
      "        [ 0.0777],\n",
      "        [ 0.0979],\n",
      "        [ 0.0976],\n",
      "        [ 0.1393],\n",
      "        [ 0.0784],\n",
      "        [ 0.1552],\n",
      "        [ 0.1296],\n",
      "        [ 0.1458],\n",
      "        [ 0.1440],\n",
      "        [ 0.1719],\n",
      "        [ 0.0872],\n",
      "        [ 0.0232],\n",
      "        [ 0.1307],\n",
      "        [ 0.1404],\n",
      "        [ 0.1336],\n",
      "        [ 0.1803],\n",
      "        [ 0.1099],\n",
      "        [ 0.0810]], grad_fn=<AddmmBackward0>)\n"
     ]
    }
   ],
   "source": [
    "for batch in train_dataloader:\n",
    "    pred = model(batch)\n",
    "    print(pred)"
   ]
  },
  {
   "cell_type": "code",
   "execution_count": 54,
   "metadata": {},
   "outputs": [],
   "source": [
    "x = Dataset()"
   ]
  },
  {
   "cell_type": "code",
   "execution_count": null,
   "metadata": {},
   "outputs": [],
   "source": []
  }
 ],
 "metadata": {
  "kernelspec": {
   "display_name": ".venv",
   "language": "python",
   "name": "python3"
  },
  "language_info": {
   "codemirror_mode": {
    "name": "ipython",
    "version": 3
   },
   "file_extension": ".py",
   "mimetype": "text/x-python",
   "name": "python",
   "nbconvert_exporter": "python",
   "pygments_lexer": "ipython3",
   "version": "3.9.6"
  }
 },
 "nbformat": 4,
 "nbformat_minor": 2
}
