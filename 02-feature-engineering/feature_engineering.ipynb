{
 "cells": [
  {
   "cell_type": "markdown",
   "metadata": {},
   "source": [
    "# Feature Engineering - Skater + Goalie Data"
   ]
  },
  {
   "cell_type": "code",
   "execution_count": 1,
   "metadata": {},
   "outputs": [],
   "source": [
    "import pandas as pd\n",
    "import numpy as np"
   ]
  },
  {
   "cell_type": "markdown",
   "metadata": {},
   "source": [
    "## Read in data from hockey reference"
   ]
  },
  {
   "cell_type": "code",
   "execution_count": 106,
   "metadata": {},
   "outputs": [],
   "source": [
    "# Skater data\n",
    "skaters_2021 = pd.read_csv(\"../data/stats/skaters_2021.csv\")\n",
    "skaters_2022 = pd.read_csv(\"../data/stats/skaters_2022.csv\")\n",
    "\n",
    "# Goalie data\n",
    "goalies_2021 = pd.read_csv(\"../data/stats/goalies_2021.csv\")\n",
    "goalies_2022 = pd.read_csv(\"../data/stats/goalies_2022.csv\")"
   ]
  },
  {
   "cell_type": "code",
   "execution_count": 4,
   "metadata": {},
   "outputs": [],
   "source": [
    "#skaters_2021.isnull().sum(axis = 0)\n",
    "#skaters_2022.isnull().sum(axis = 0)\n",
    "#goalies_2021.isnull().sum(axis = 0)\n",
    "#goalies_2022.isnull().sum(axis = 0)"
   ]
  },
  {
   "attachments": {},
   "cell_type": "markdown",
   "metadata": {},
   "source": [
    "## Function for creating skaters final data\n",
    "Should create all the cumulative stats for the skaters. We can include all of the same information like player ID, game number, team, etc. But for the features like shots or TOI, we will compute the cumulative sums/averages up to the start of each game and store them here. This way, we can keep separate the raw game by game data from the cumulative data."
   ]
  },
  {
   "cell_type": "code",
   "execution_count": 3,
   "metadata": {},
   "outputs": [],
   "source": [
    "def create_skater_cumulative_stats(indiv_games, r_window = None):\n",
    "    # Make sure data is in correct order\n",
    "    indiv_games = indiv_games.sort_values(['player_id', 'game_num'])\n",
    "    \n",
    "    # Create new data frames containing only certain columns from the old data frames\n",
    "    cumulative_games = indiv_games.loc[:, [\"player_id\", \"player_name\", \"age\", \"season\", \"game_num\", \"date\", \n",
    "                                           \"team\", \"opponent\", \"home_away_status\", \"result\", \"G\"]]\n",
    "    \n",
    "    # Assign the number of completed games as 1 less than game num\n",
    "    cumulative_games['n_completed_games'] = cumulative_games['game_num'] - 1\n",
    "\n",
    "    # For each numerical statistic, compute the sum of that statistic for all games completed by the player prior to the game that is about to start\n",
    "    prior_stats_totals = indiv_games.apply(lambda x: indiv_games[(indiv_games.player_id == x.player_id) & \n",
    "                                                                    (indiv_games.game_num < x.game_num) & \n",
    "                                                                    (indiv_games.game_num >= x.game_num - r_window)][['G', 'A', 'P', 'rating', 'PIM', 'EVG', 'PPG', 'SHG', 'GWG', \n",
    "                                                                                                                      'EVA', 'PPA', 'SHA', 'S', 'shifts', 'TOI', 'HIT', 'BLK', 'FOW', 'FOL']].agg(np.sum), axis=1)\n",
    "    \n",
    "    # Select all columns except TOI. We will compute the stat/60 min for the other columns, but leave the total TOI column unchanged.\n",
    "    cols = [col for col in prior_stats_totals.columns if col != 'TOI']\n",
    "\n",
    "    # Divide to compute the per 60 minute statistics\n",
    "    prior_stats_60 = prior_stats_totals[cols].div(prior_stats_totals['TOI'], axis = 0)\n",
    "    prior_stats_60 = 60 * prior_stats_60\n",
    "    prior_stats_60.columns = [col + '_60' for col in cols]\n",
    "\n",
    "    # Add total TOI back in\n",
    "    prior_stats_final = prior_stats_60.copy()\n",
    "    prior_stats_final['total_TOI'] = prior_stats_totals['TOI']\n",
    "\n",
    "    # Concatenate with cumulative games\n",
    "    cumulative_games = pd.concat([cumulative_games, prior_stats_final], axis = 1)\n",
    "\n",
    "    # Calculate average TOI column\n",
    "    # This gives us a final data set\n",
    "    if(r_window):\n",
    "        cumulative_games.loc[cumulative_games['game_num'] >= r_window, 'avg_TOI'] = cumulative_games['total_TOI'] / r_window\n",
    "        cumulative_games.loc[cumulative_games['game_num'] < r_window, 'avg_TOI'] = cumulative_games['total_TOI'] / cumulative_games['n_completed_games']\n",
    "    else:\n",
    "        cumulative_games['avg_TOI'] = cumulative_games['total_TOI'] / cumulative_games['n_completed_games']\n",
    "\n",
    "    cumulative_games.drop(columns = 'total_TOI', inplace = True)\n",
    "        \n",
    "    return cumulative_games"
   ]
  },
  {
   "cell_type": "code",
   "execution_count": 4,
   "metadata": {},
   "outputs": [],
   "source": [
    "def create_goalie_cumulative_stats(indiv_games, r_window = None):\n",
    "    # Make sure data is in correct order\n",
    "    indiv_games = indiv_games.sort_values(['player_id', 'game_num'])\n",
    "    \n",
    "    # Create new data frames containing only certain columns from the old data frames\n",
    "    cumulative_games = indiv_games.loc[:, [\"player_id\", \"player_name\", \"age\", \"season\", \"game_num\", \"date\", \n",
    "                                           \"team\", \"opponent\", \"home_away_status\", \"result\", \"decision\"]]\n",
    "    \n",
    "    # Assign the number of completed games as 1 less than game num\n",
    "    cumulative_games['n_completed_games'] = cumulative_games['game_num'] - 1\n",
    "\n",
    "    # For each numerical statistic, compute the sum of that statistic for all games completed by the player prior to the game that is about to start\n",
    "    prior_stats_totals = indiv_games.apply(lambda x: indiv_games[(indiv_games.player_id == x.player_id) & \n",
    "                                                                    (indiv_games.game_num < x.game_num) & \n",
    "                                                                    (indiv_games.game_num >= x.game_num - r_window)][['GA', 'SA', 'SV', 'shutout', 'TOI']].agg(np.sum), axis=1)\n",
    "    \n",
    "    # Select all columns except shutout and TOI. We will compute the stat/60 min for the other columns, but leave these columns unchanged.\n",
    "    cols = [col for col in prior_stats_totals.columns if col not in ['shutout', 'TOI']]\n",
    "\n",
    "    # Divide to compute the per 60 minute statistics\n",
    "    prior_stats_60 = prior_stats_totals[cols].div(prior_stats_totals['TOI'], axis = 0)\n",
    "    prior_stats_60 = 60 * prior_stats_60\n",
    "    prior_stats_60.columns = [col + '_60' for col in cols]\n",
    "\n",
    "    # Add total TOI and total shutout back in\n",
    "    prior_stats_final = prior_stats_60.copy()\n",
    "    prior_stats_final['total_shutout'] = prior_stats_totals['shutout']\n",
    "    prior_stats_final['total_TOI'] = prior_stats_totals['TOI']\n",
    "\n",
    "    # Calculate the save percentage in the last 'r_window' games\n",
    "    prior_stats_final['SV_perc'] = prior_stats_final['SV_60'] / prior_stats_final['SA_60']\n",
    "\n",
    "    # Concatenate with cumulative games\n",
    "    cumulative_games = pd.concat([cumulative_games, prior_stats_final], axis = 1)\n",
    "\n",
    "    # Calculate average TOI column\n",
    "    # This gives us a final data set\n",
    "    if(r_window):\n",
    "        cumulative_games.loc[cumulative_games['game_num'] >= r_window, 'avg_TOI'] = cumulative_games['total_TOI'] / r_window\n",
    "        cumulative_games.loc[cumulative_games['game_num'] < r_window, 'avg_TOI'] = cumulative_games['total_TOI'] / cumulative_games['n_completed_games']\n",
    "    else:\n",
    "        cumulative_games['avg_TOI'] = cumulative_games['total_TOI'] / cumulative_games['n_completed_games']\n",
    "\n",
    "    cumulative_games.drop(columns = 'total_TOI', inplace = True)\n",
    "        \n",
    "    return cumulative_games\n",
    "\n"
   ]
  },
  {
   "cell_type": "code",
   "execution_count": 5,
   "metadata": {},
   "outputs": [],
   "source": [
    "# Use function to create final data frames for skaters and goalies\n",
    "skaters_final_2021 = create_skater_cumulative_stats(skaters_2021, r_window = 20)\n",
    "skaters_final_2022 = create_skater_cumulative_stats(skaters_2022, r_window = 20)\n",
    "goalies_final_2021 = create_goalie_cumulative_stats(goalies_2021, r_window = 20)\n",
    "goalies_final_2022 = create_goalie_cumulative_stats(goalies_2022, r_window = 20)"
   ]
  },
  {
   "cell_type": "code",
   "execution_count": 6,
   "metadata": {},
   "outputs": [
    {
     "data": {
      "text/html": [
       "<div>\n",
       "<style scoped>\n",
       "    .dataframe tbody tr th:only-of-type {\n",
       "        vertical-align: middle;\n",
       "    }\n",
       "\n",
       "    .dataframe tbody tr th {\n",
       "        vertical-align: top;\n",
       "    }\n",
       "\n",
       "    .dataframe thead th {\n",
       "        text-align: right;\n",
       "    }\n",
       "</style>\n",
       "<table border=\"1\" class=\"dataframe\">\n",
       "  <thead>\n",
       "    <tr style=\"text-align: right;\">\n",
       "      <th></th>\n",
       "      <th>player_id</th>\n",
       "      <th>player_name</th>\n",
       "      <th>age</th>\n",
       "      <th>season</th>\n",
       "      <th>game_num</th>\n",
       "      <th>date</th>\n",
       "      <th>team</th>\n",
       "      <th>opponent</th>\n",
       "      <th>home_away_status</th>\n",
       "      <th>result</th>\n",
       "      <th>...</th>\n",
       "      <th>EVA_60</th>\n",
       "      <th>PPA_60</th>\n",
       "      <th>SHA_60</th>\n",
       "      <th>S_60</th>\n",
       "      <th>shifts_60</th>\n",
       "      <th>HIT_60</th>\n",
       "      <th>BLK_60</th>\n",
       "      <th>FOW_60</th>\n",
       "      <th>FOL_60</th>\n",
       "      <th>avg_TOI</th>\n",
       "    </tr>\n",
       "  </thead>\n",
       "  <tbody>\n",
       "    <tr>\n",
       "      <th>0</th>\n",
       "      <td>/a/abruzni01</td>\n",
       "      <td>Nicholas Abruzzese</td>\n",
       "      <td>22</td>\n",
       "      <td>2022</td>\n",
       "      <td>1</td>\n",
       "      <td>2022-04-02</td>\n",
       "      <td>TOR</td>\n",
       "      <td>PHI</td>\n",
       "      <td>0</td>\n",
       "      <td>W</td>\n",
       "      <td>...</td>\n",
       "      <td>NaN</td>\n",
       "      <td>NaN</td>\n",
       "      <td>NaN</td>\n",
       "      <td>NaN</td>\n",
       "      <td>NaN</td>\n",
       "      <td>NaN</td>\n",
       "      <td>NaN</td>\n",
       "      <td>NaN</td>\n",
       "      <td>NaN</td>\n",
       "      <td>NaN</td>\n",
       "    </tr>\n",
       "    <tr>\n",
       "      <th>1</th>\n",
       "      <td>/a/abruzni01</td>\n",
       "      <td>Nicholas Abruzzese</td>\n",
       "      <td>22</td>\n",
       "      <td>2022</td>\n",
       "      <td>2</td>\n",
       "      <td>2022-04-04</td>\n",
       "      <td>TOR</td>\n",
       "      <td>TBL</td>\n",
       "      <td>0</td>\n",
       "      <td>W</td>\n",
       "      <td>...</td>\n",
       "      <td>0.0</td>\n",
       "      <td>0.0</td>\n",
       "      <td>0.0</td>\n",
       "      <td>0.000000</td>\n",
       "      <td>99.082569</td>\n",
       "      <td>0.000000</td>\n",
       "      <td>0.000000</td>\n",
       "      <td>0.0</td>\n",
       "      <td>0.0</td>\n",
       "      <td>9.083333</td>\n",
       "    </tr>\n",
       "    <tr>\n",
       "      <th>2</th>\n",
       "      <td>/a/abruzni01</td>\n",
       "      <td>Nicholas Abruzzese</td>\n",
       "      <td>22</td>\n",
       "      <td>2022</td>\n",
       "      <td>3</td>\n",
       "      <td>2022-04-07</td>\n",
       "      <td>TOR</td>\n",
       "      <td>DAL</td>\n",
       "      <td>0</td>\n",
       "      <td>W</td>\n",
       "      <td>...</td>\n",
       "      <td>0.0</td>\n",
       "      <td>0.0</td>\n",
       "      <td>0.0</td>\n",
       "      <td>5.638215</td>\n",
       "      <td>87.392326</td>\n",
       "      <td>5.638215</td>\n",
       "      <td>2.819107</td>\n",
       "      <td>0.0</td>\n",
       "      <td>0.0</td>\n",
       "      <td>10.641667</td>\n",
       "    </tr>\n",
       "  </tbody>\n",
       "</table>\n",
       "<p>3 rows × 31 columns</p>\n",
       "</div>"
      ],
      "text/plain": [
       "      player_id         player_name  age  season  game_num        date team  \\\n",
       "0  /a/abruzni01  Nicholas Abruzzese   22    2022         1  2022-04-02  TOR   \n",
       "1  /a/abruzni01  Nicholas Abruzzese   22    2022         2  2022-04-04  TOR   \n",
       "2  /a/abruzni01  Nicholas Abruzzese   22    2022         3  2022-04-07  TOR   \n",
       "\n",
       "  opponent  home_away_status result  ...  EVA_60  PPA_60  SHA_60      S_60  \\\n",
       "0      PHI                 0      W  ...     NaN     NaN     NaN       NaN   \n",
       "1      TBL                 0      W  ...     0.0     0.0     0.0  0.000000   \n",
       "2      DAL                 0      W  ...     0.0     0.0     0.0  5.638215   \n",
       "\n",
       "   shifts_60    HIT_60    BLK_60  FOW_60  FOL_60    avg_TOI  \n",
       "0        NaN       NaN       NaN     NaN     NaN        NaN  \n",
       "1  99.082569  0.000000  0.000000     0.0     0.0   9.083333  \n",
       "2  87.392326  5.638215  2.819107     0.0     0.0  10.641667  \n",
       "\n",
       "[3 rows x 31 columns]"
      ]
     },
     "metadata": {},
     "output_type": "display_data"
    },
    {
     "data": {
      "text/html": [
       "<div>\n",
       "<style scoped>\n",
       "    .dataframe tbody tr th:only-of-type {\n",
       "        vertical-align: middle;\n",
       "    }\n",
       "\n",
       "    .dataframe tbody tr th {\n",
       "        vertical-align: top;\n",
       "    }\n",
       "\n",
       "    .dataframe thead th {\n",
       "        text-align: right;\n",
       "    }\n",
       "</style>\n",
       "<table border=\"1\" class=\"dataframe\">\n",
       "  <thead>\n",
       "    <tr style=\"text-align: right;\">\n",
       "      <th></th>\n",
       "      <th>player_id</th>\n",
       "      <th>player_name</th>\n",
       "      <th>age</th>\n",
       "      <th>season</th>\n",
       "      <th>game_num</th>\n",
       "      <th>date</th>\n",
       "      <th>team</th>\n",
       "      <th>opponent</th>\n",
       "      <th>home_away_status</th>\n",
       "      <th>result</th>\n",
       "      <th>decision</th>\n",
       "      <th>n_completed_games</th>\n",
       "      <th>GA_60</th>\n",
       "      <th>SA_60</th>\n",
       "      <th>SV_60</th>\n",
       "      <th>total_shutout</th>\n",
       "      <th>SV_perc</th>\n",
       "      <th>avg_TOI</th>\n",
       "    </tr>\n",
       "  </thead>\n",
       "  <tbody>\n",
       "    <tr>\n",
       "      <th>0</th>\n",
       "      <td>/a/allenja01</td>\n",
       "      <td>Jake Allen</td>\n",
       "      <td>31</td>\n",
       "      <td>2022</td>\n",
       "      <td>1</td>\n",
       "      <td>2021-10-13</td>\n",
       "      <td>MTL</td>\n",
       "      <td>TOR</td>\n",
       "      <td>0</td>\n",
       "      <td>L</td>\n",
       "      <td>L</td>\n",
       "      <td>0</td>\n",
       "      <td>NaN</td>\n",
       "      <td>NaN</td>\n",
       "      <td>NaN</td>\n",
       "      <td>0.0</td>\n",
       "      <td>NaN</td>\n",
       "      <td>NaN</td>\n",
       "    </tr>\n",
       "    <tr>\n",
       "      <th>1</th>\n",
       "      <td>/a/allenja01</td>\n",
       "      <td>Jake Allen</td>\n",
       "      <td>31</td>\n",
       "      <td>2022</td>\n",
       "      <td>2</td>\n",
       "      <td>2021-10-16</td>\n",
       "      <td>MTL</td>\n",
       "      <td>NYR</td>\n",
       "      <td>1</td>\n",
       "      <td>L</td>\n",
       "      <td>L</td>\n",
       "      <td>1</td>\n",
       "      <td>2.043713</td>\n",
       "      <td>30.655691</td>\n",
       "      <td>28.611978</td>\n",
       "      <td>0.0</td>\n",
       "      <td>0.933333</td>\n",
       "      <td>58.716667</td>\n",
       "    </tr>\n",
       "    <tr>\n",
       "      <th>2</th>\n",
       "      <td>/a/allenja01</td>\n",
       "      <td>Jake Allen</td>\n",
       "      <td>31</td>\n",
       "      <td>2022</td>\n",
       "      <td>3</td>\n",
       "      <td>2021-10-19</td>\n",
       "      <td>MTL</td>\n",
       "      <td>SJS</td>\n",
       "      <td>1</td>\n",
       "      <td>L</td>\n",
       "      <td>L</td>\n",
       "      <td>2</td>\n",
       "      <td>2.045164</td>\n",
       "      <td>27.098424</td>\n",
       "      <td>25.053259</td>\n",
       "      <td>0.0</td>\n",
       "      <td>0.924528</td>\n",
       "      <td>58.675000</td>\n",
       "    </tr>\n",
       "  </tbody>\n",
       "</table>\n",
       "</div>"
      ],
      "text/plain": [
       "      player_id player_name  age  season  game_num        date team opponent  \\\n",
       "0  /a/allenja01  Jake Allen   31    2022         1  2021-10-13  MTL      TOR   \n",
       "1  /a/allenja01  Jake Allen   31    2022         2  2021-10-16  MTL      NYR   \n",
       "2  /a/allenja01  Jake Allen   31    2022         3  2021-10-19  MTL      SJS   \n",
       "\n",
       "   home_away_status result decision  n_completed_games     GA_60      SA_60  \\\n",
       "0                 0      L        L                  0       NaN        NaN   \n",
       "1                 1      L        L                  1  2.043713  30.655691   \n",
       "2                 1      L        L                  2  2.045164  27.098424   \n",
       "\n",
       "       SV_60  total_shutout   SV_perc    avg_TOI  \n",
       "0        NaN            0.0       NaN        NaN  \n",
       "1  28.611978            0.0  0.933333  58.716667  \n",
       "2  25.053259            0.0  0.924528  58.675000  "
      ]
     },
     "metadata": {},
     "output_type": "display_data"
    }
   ],
   "source": [
    "display(skaters_final_2022.head(3))\n",
    "display(goalies_final_2022.head(3))"
   ]
  },
  {
   "attachments": {},
   "cell_type": "markdown",
   "metadata": {},
   "source": [
    "# Additional processing for goalies"
   ]
  },
  {
   "attachments": {},
   "cell_type": "markdown",
   "metadata": {},
   "source": [
    "## Issue: On some days, a goalie played bad and was pulled from the game\n",
    "This matters because once the 2nd goalie is put in, there are now 2 goalies that have played in the exact same game. Therefore, when we left join the goalie information to the skater information, we will be duplicating a lot of rows in the skater data frame (becuase there will be 2 rows in the goalie data frame that have the same date and team information as 1 row in the skater data. \n",
    "\n",
    "Extending/elaborating on this, we do not know which goalie the skaters scored on during this game. This poses a problem since we want to include the strength of the opposing teams goalie in the training data. If we don't know which goalie was in the game for the times that a player was on the ice, there is some innacuracy here.\n",
    "\n",
    "There are 116 cases of a goalie getting pulled in the 2021 season.\n",
    "\n",
    "Here is an example.\n",
    "\n",
    "To address these situations, I would probably default to picking the goalie that let in the most goals during the game. If 2 goalies gave up the same number of goals, take the goalie that had more TOI?"
   ]
  },
  {
   "cell_type": "code",
   "execution_count": 7,
   "metadata": {},
   "outputs": [
    {
     "data": {
      "text/plain": [
       "date        team\n",
       "2021-01-15  PIT     2\n",
       "            STL     2\n",
       "2021-01-16  SJS     2\n",
       "2021-01-18  PHI     2\n",
       "2021-01-19  BUF     2\n",
       "                   ..\n",
       "2021-05-06  EDM     2\n",
       "            MTL     2\n",
       "2021-05-08  NYR     2\n",
       "2021-05-09  OTT     2\n",
       "2021-05-10  NYI     2\n",
       "Name: player_id, Length: 116, dtype: int64"
      ]
     },
     "execution_count": 7,
     "metadata": {},
     "output_type": "execute_result"
    }
   ],
   "source": [
    "#goalies_final_2021.groupby([\"date\", \"team\"])[\"player_id\"].count()\n",
    "pulled_goalies = goalies_final_2021.groupby([\"date\", \"team\"])[\"player_id\"].nunique()\n",
    "pulled_goalies[pulled_goalies >= 2]"
   ]
  },
  {
   "cell_type": "code",
   "execution_count": 69,
   "metadata": {},
   "outputs": [
    {
     "data": {
      "text/html": [
       "<div>\n",
       "<style scoped>\n",
       "    .dataframe tbody tr th:only-of-type {\n",
       "        vertical-align: middle;\n",
       "    }\n",
       "\n",
       "    .dataframe tbody tr th {\n",
       "        vertical-align: top;\n",
       "    }\n",
       "\n",
       "    .dataframe thead th {\n",
       "        text-align: right;\n",
       "    }\n",
       "</style>\n",
       "<table border=\"1\" class=\"dataframe\">\n",
       "  <thead>\n",
       "    <tr style=\"text-align: right;\">\n",
       "      <th></th>\n",
       "      <th>player_id</th>\n",
       "      <th>player_name</th>\n",
       "      <th>age</th>\n",
       "      <th>season</th>\n",
       "      <th>game_num</th>\n",
       "      <th>date</th>\n",
       "      <th>team</th>\n",
       "      <th>opponent</th>\n",
       "      <th>home_away_status</th>\n",
       "      <th>result</th>\n",
       "      <th>decision</th>\n",
       "      <th>n_completed_games</th>\n",
       "      <th>GA_60</th>\n",
       "      <th>SA_60</th>\n",
       "      <th>SV_60</th>\n",
       "      <th>total_shutout</th>\n",
       "      <th>SV_perc</th>\n",
       "      <th>avg_TOI</th>\n",
       "    </tr>\n",
       "  </thead>\n",
       "  <tbody>\n",
       "    <tr>\n",
       "      <th>349</th>\n",
       "      <td>/e/elliobr01</td>\n",
       "      <td>Brian Elliott</td>\n",
       "      <td>35</td>\n",
       "      <td>2021</td>\n",
       "      <td>1</td>\n",
       "      <td>2021-01-18</td>\n",
       "      <td>PHI</td>\n",
       "      <td>BUF</td>\n",
       "      <td>1</td>\n",
       "      <td>L</td>\n",
       "      <td>NaN</td>\n",
       "      <td>0</td>\n",
       "      <td>NaN</td>\n",
       "      <td>NaN</td>\n",
       "      <td>NaN</td>\n",
       "      <td>0.0</td>\n",
       "      <td>NaN</td>\n",
       "      <td>NaN</td>\n",
       "    </tr>\n",
       "    <tr>\n",
       "      <th>585</th>\n",
       "      <td>/h/hartca01</td>\n",
       "      <td>Carter Hart</td>\n",
       "      <td>22</td>\n",
       "      <td>2021</td>\n",
       "      <td>3</td>\n",
       "      <td>2021-01-18</td>\n",
       "      <td>PHI</td>\n",
       "      <td>BUF</td>\n",
       "      <td>1</td>\n",
       "      <td>L</td>\n",
       "      <td>L</td>\n",
       "      <td>2</td>\n",
       "      <td>2.508711</td>\n",
       "      <td>33.616725</td>\n",
       "      <td>31.108014</td>\n",
       "      <td>0.0</td>\n",
       "      <td>0.925373</td>\n",
       "      <td>59.791667</td>\n",
       "    </tr>\n",
       "  </tbody>\n",
       "</table>\n",
       "</div>"
      ],
      "text/plain": [
       "        player_id    player_name  age  season  game_num        date team  \\\n",
       "349  /e/elliobr01  Brian Elliott   35    2021         1  2021-01-18  PHI   \n",
       "585   /h/hartca01    Carter Hart   22    2021         3  2021-01-18  PHI   \n",
       "\n",
       "    opponent  home_away_status result decision  n_completed_games     GA_60  \\\n",
       "349      BUF                 1      L      NaN                  0       NaN   \n",
       "585      BUF                 1      L        L                  2  2.508711   \n",
       "\n",
       "         SA_60      SV_60  total_shutout   SV_perc    avg_TOI  \n",
       "349        NaN        NaN            0.0       NaN        NaN  \n",
       "585  33.616725  31.108014            0.0  0.925373  59.791667  "
      ]
     },
     "metadata": {},
     "output_type": "display_data"
    },
    {
     "data": {
      "text/html": [
       "<div>\n",
       "<style scoped>\n",
       "    .dataframe tbody tr th:only-of-type {\n",
       "        vertical-align: middle;\n",
       "    }\n",
       "\n",
       "    .dataframe tbody tr th {\n",
       "        vertical-align: top;\n",
       "    }\n",
       "\n",
       "    .dataframe thead th {\n",
       "        text-align: right;\n",
       "    }\n",
       "</style>\n",
       "<table border=\"1\" class=\"dataframe\">\n",
       "  <thead>\n",
       "    <tr style=\"text-align: right;\">\n",
       "      <th></th>\n",
       "      <th>player_id</th>\n",
       "      <th>player_name</th>\n",
       "      <th>age</th>\n",
       "      <th>season</th>\n",
       "      <th>game_num</th>\n",
       "      <th>date</th>\n",
       "      <th>team</th>\n",
       "      <th>opponent</th>\n",
       "      <th>home_away_status</th>\n",
       "      <th>result</th>\n",
       "      <th>decision</th>\n",
       "      <th>GA</th>\n",
       "      <th>SA</th>\n",
       "      <th>SV</th>\n",
       "      <th>SV_perc</th>\n",
       "      <th>shutout</th>\n",
       "      <th>PIM</th>\n",
       "      <th>TOI</th>\n",
       "    </tr>\n",
       "  </thead>\n",
       "  <tbody>\n",
       "    <tr>\n",
       "      <th>585</th>\n",
       "      <td>/h/hartca01</td>\n",
       "      <td>Carter Hart</td>\n",
       "      <td>22</td>\n",
       "      <td>2021</td>\n",
       "      <td>3</td>\n",
       "      <td>2021-01-18</td>\n",
       "      <td>PHI</td>\n",
       "      <td>BUF</td>\n",
       "      <td>1</td>\n",
       "      <td>L</td>\n",
       "      <td>L</td>\n",
       "      <td>4</td>\n",
       "      <td>22</td>\n",
       "      <td>18</td>\n",
       "      <td>0.818</td>\n",
       "      <td>0</td>\n",
       "      <td>2</td>\n",
       "      <td>28.15</td>\n",
       "    </tr>\n",
       "  </tbody>\n",
       "</table>\n",
       "</div>"
      ],
      "text/plain": [
       "       player_id  player_name  age  season  game_num        date team  \\\n",
       "585  /h/hartca01  Carter Hart   22    2021         3  2021-01-18  PHI   \n",
       "\n",
       "    opponent  home_away_status result decision  GA  SA  SV  SV_perc  shutout  \\\n",
       "585      BUF                 1      L        L   4  22  18    0.818        0   \n",
       "\n",
       "     PIM    TOI  \n",
       "585    2  28.15  "
      ]
     },
     "execution_count": 69,
     "metadata": {},
     "output_type": "execute_result"
    }
   ],
   "source": [
    "display(goalies_2021.loc[(goalies_final_2021.team == \"PHI\") & (goalies_final_2021.date == \"2021-01-18\"), :])\n",
    "goalies_to_keep_2021.loc[(goalies_final_2021.team == \"PHI\") & (goalies_final_2021.date == \"2021-01-18\"), :]"
   ]
  },
  {
   "attachments": {},
   "cell_type": "markdown",
   "metadata": {},
   "source": [
    "## Choose goalie that gave up the most goals\n",
    "If they gave up equal goals, select the one that had the most time on ice for the game."
   ]
  },
  {
   "cell_type": "code",
   "execution_count": 107,
   "metadata": {},
   "outputs": [],
   "source": [
    "# Make a copy of goalies data frame\n",
    "goalies_to_keep_2021 = goalies_2021.loc[:, ['player_id', 'player_name', 'date', 'team', 'GA', 'TOI']]\n",
    "goalies_to_keep_2021['keep_flag'] = 1\n",
    "\n",
    "# Keep goalies that let in the most goals\n",
    "ind_for_max_GA = goalies_to_keep_2021.groupby(['date', 'team'])['GA'].transform(max) == goalies_to_keep_2021['GA']\n",
    "goalies_to_keep_2021 =  goalies_to_keep_2021[ind_for_max_GA]\n",
    "\n",
    "# As a tiebreaker, keep goalies that had the highest time on ice\n",
    "ind_for_max_TOI = goalies_to_keep_2021.groupby(['date', 'team'])['TOI'].transform(max) == goalies_to_keep_2021['TOI']\n",
    "goalies_to_keep_2021 =  goalies_to_keep_2021[ind_for_max_TOI]"
   ]
  },
  {
   "cell_type": "code",
   "execution_count": 102,
   "metadata": {},
   "outputs": [
    {
     "name": "stdout",
     "output_type": "stream",
     "text": [
      "(1852, 18)\n",
      "(1736, 7)\n"
     ]
    }
   ],
   "source": [
    "# See the number of rows that were dropped for the join\n",
    "print(goalies_2021.shape)\n",
    "print(goalies_to_keep_2021.shape)"
   ]
  },
  {
   "cell_type": "code",
   "execution_count": 103,
   "metadata": {},
   "outputs": [
    {
     "data": {
      "text/plain": [
       "0"
      ]
     },
     "execution_count": 103,
     "metadata": {},
     "output_type": "execute_result"
    }
   ],
   "source": [
    "# Sanity check\n",
    "sum(goalies_to_keep_2021.groupby([\"date\", \"team\"])[\"player_id\"].nunique() >= 2)"
   ]
  },
  {
   "cell_type": "code",
   "execution_count": 111,
   "metadata": {},
   "outputs": [],
   "source": [
    "# Get rid  of GA and TOI columns to prepare for join\n",
    "goalies_to_keep_2021.drop(columns = ['GA', 'TOI'],  inplace=True)\n",
    "\n",
    "# Join to the cumulative goalie statistics data frame\n",
    "goalies_final_2021 = goalies_final_2021.merge(goalies_to_keep_2021, how =  'left', on = ['player_id', 'player_name', 'date', 'team'])\n",
    "\n",
    "# Only keep rows where keep_flag == 1. Drop the other rows\n",
    "goalies_final_2021 = goalies_final_2021.loc[goalies_final_2021['keep_flag'] ==  1, :]\n",
    "\n",
    "# Drop the keep flag column\n",
    "goalies_final_2021.drop(columns='keep_flag', inplace=True)"
   ]
  },
  {
   "cell_type": "code",
   "execution_count": 90,
   "metadata": {},
   "outputs": [
    {
     "data": {
      "text/plain": [
       "(1736, 21)"
      ]
     },
     "execution_count": 90,
     "metadata": {},
     "output_type": "execute_result"
    }
   ],
   "source": [
    "# Make sure number of rows match the above again \n",
    "goalies_final_2021.shape"
   ]
  },
  {
   "attachments": {},
   "cell_type": "markdown",
   "metadata": {},
   "source": [
    "## Join the goalie data to the skater data for each skater/game combination"
   ]
  },
  {
   "cell_type": "code",
   "execution_count": 98,
   "metadata": {},
   "outputs": [
    {
     "data": {
      "text/plain": [
       "(31226, 31)"
      ]
     },
     "execution_count": 98,
     "metadata": {},
     "output_type": "execute_result"
    }
   ],
   "source": [
    "# See the initial number of rows that we should expect the final df to also be\n",
    "skaters_final_2021.shape"
   ]
  },
  {
   "cell_type": "code",
   "execution_count": 99,
   "metadata": {},
   "outputs": [
    {
     "data": {
      "text/plain": [
       "Index(['player_id_x', 'player_name_x', 'age_x', 'season_x', 'game_num_x',\n",
       "       'date', 'team_x', 'opponent_x', 'home_away_status_x', 'result_x', 'G',\n",
       "       'n_completed_games_x', 'G_60', 'A_60', 'P_60', 'rating_60', 'PIM_60',\n",
       "       'EVG_60', 'PPG_60', 'SHG_60', 'GWG_60', 'EVA_60', 'PPA_60', 'SHA_60',\n",
       "       'S_60', 'shifts_60', 'HIT_60', 'BLK_60', 'FOW_60', 'FOL_60',\n",
       "       'avg_TOI_x', 'player_id_y', 'player_name_y', 'age_y', 'season_y',\n",
       "       'game_num_y', 'team_y', 'opponent_y', 'home_away_status_y', 'result_y',\n",
       "       'decision', 'n_completed_games_y', 'GA_60', 'SA_60', 'SV_60',\n",
       "       'total_shutout', 'SV_perc', 'avg_TOI_y', 'keep_flag_x', 'keep_flag_y',\n",
       "       'keep_flag'],\n",
       "      dtype='object')"
      ]
     },
     "execution_count": 99,
     "metadata": {},
     "output_type": "execute_result"
    }
   ],
   "source": [
    "pd.merge(skaters_final_2021, goalies_final_2021, how = 'left', left_on = ['date', 'team', 'opponent'], right_on = ['date', 'opponent', 'team']).columns"
   ]
  },
  {
   "cell_type": "markdown",
   "metadata": {},
   "source": []
  }
 ],
 "metadata": {
  "kernelspec": {
   "display_name": "Python 3",
   "language": "python",
   "name": "python3"
  },
  "language_info": {
   "codemirror_mode": {
    "name": "ipython",
    "version": 3
   },
   "file_extension": ".py",
   "mimetype": "text/x-python",
   "name": "python",
   "nbconvert_exporter": "python",
   "pygments_lexer": "ipython3",
   "version": "3.9.6"
  },
  "vscode": {
   "interpreter": {
    "hash": "31f2aee4e71d21fbe5cf8b01ff0e069b9275f58929596ceb00d14d90e3e16cd6"
   }
  }
 },
 "nbformat": 4,
 "nbformat_minor": 4
}
