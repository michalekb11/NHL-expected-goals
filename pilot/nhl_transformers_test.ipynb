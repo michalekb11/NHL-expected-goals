{
 "cells": [
  {
   "cell_type": "markdown",
   "metadata": {},
   "source": [
    "### Classification"
   ]
  },
  {
   "cell_type": "code",
   "execution_count": 5,
   "metadata": {},
   "outputs": [],
   "source": [
    "from transformers import pipeline\n",
    "\n",
    "# create pipeline for sentiment analysis\n",
    "classification = pipeline('sentiment-analysis', model='distilbert-base-uncased-finetuned-sst-2-english')"
   ]
  },
  {
   "cell_type": "code",
   "execution_count": 8,
   "metadata": {},
   "outputs": [
    {
     "name": "stdout",
     "output_type": "stream",
     "text": [
      "[{'label': 'NEGATIVE', 'score': 0.9990156888961792}, {'label': 'NEGATIVE', 'score': 0.9969248175621033}, {'label': 'POSITIVE', 'score': 0.9939888715744019}, {'label': 'NEGATIVE', 'score': 0.995771586894989}]\n"
     ]
    }
   ],
   "source": [
    "print(classification(['Connor McDavid suffered an ankle injury and will miss 3 games.',\n",
    "                      'Connor McDavid suffered an ankle injury. It is unsure whether he will play in the next game.',\n",
    "                      'Connor McDavid suffered an ankle injury. However, he will still be able to play in the next game.',\n",
    "                      'Connor McDavid suffered an ankle injury. He will still play in the next game, but he may not be at his usual speed']))"
   ]
  },
  {
   "cell_type": "code",
   "execution_count": 9,
   "metadata": {},
   "outputs": [
    {
     "data": {
      "text/plain": [
       "[{'label': 'POSITIVE', 'score': 0.9950733780860901}]"
      ]
     },
     "execution_count": 9,
     "metadata": {},
     "output_type": "execute_result"
    }
   ],
   "source": [
    "classification(\"The Detroit Red Wings made some changes this off-season. They have added in some pieces and lost others. It’s been a busy off-season for the Red Wings trying to figure things out. While they were able to pick up Alex DeBrincat in a blockbuster trade, he will have to bring some offense of his own. For the Detroit Red Wings, the team has to be hoping that they can find some offense in other areas. Some of that will come from the returning players; one of them is veteran David Perron, who needs to find the back of the net again in 2023-24. Before the 2022-23 season, Perron was brought in during free agency and has become a fan-favorite while also being more than serviceable for the Red Wings. He’s performed well offensively and has been worth the money.\")"
   ]
  },
  {
   "cell_type": "markdown",
   "metadata": {},
   "source": [
    "### Question answering?"
   ]
  },
  {
   "cell_type": "code",
   "execution_count": 11,
   "metadata": {},
   "outputs": [],
   "source": [
    "question_answerer = pipeline(\"question-answering\", model='distilbert-base-cased-distilled-squad')"
   ]
  },
  {
   "cell_type": "code",
   "execution_count": 12,
   "metadata": {},
   "outputs": [
    {
     "name": "stdout",
     "output_type": "stream",
     "text": [
      "{'score': 0.5125861167907715, 'start': 1006, 'end': 1010, 'answer': 'more'}\n"
     ]
    }
   ],
   "source": [
    "context = 'Since the Carolina Hurricanes drafted Sebastian Aho in the second round of the 2015 NHL Draft, he has blossomed into a franchise piece for the team. He is consistently breaking franchise records at only 25 years old. Aho is making a push for the face of the organization and will be a cornerstone for Carolina’s success for years to come. While the Hurricanes have had many notable players, there are a few who rise to the level of being the face of the franchise. Ron Francis, Rod Brind’Amour, and Eric Staal have each arguably served in that role at various times. Following Eric Staal’s departure, the Carolina Hurricanes have not truly had a face of the organization. Jeff Skinner’s electrifying rookie year had the looks that he may have been next, but he eventually was traded to the Buffalo Sabres in 2018. Aho’s recent hot streak of goals in six straight games and 12 goals and 18 points since January 1, 2023 is just a small flash of what he has brought to the Hurricanes’ organization. But it is more than the points that make him the next face of the Hurricanes.'\n",
    "\n",
    "result = question_answerer(question=\"Is Sebastian Aho likely to perform better than his average or worse than his average in his next game?\",\n",
    "                           context=context)\n",
    "\n",
    "print(result)"
   ]
  },
  {
   "cell_type": "markdown",
   "metadata": {},
   "source": [
    "### Zero-shot classification"
   ]
  },
  {
   "cell_type": "code",
   "execution_count": 14,
   "metadata": {},
   "outputs": [],
   "source": [
    "classifier = pipeline(\"zero-shot-classification\",\n",
    "                      model=\"facebook/bart-large-mnli\")"
   ]
  },
  {
   "cell_type": "code",
   "execution_count": 15,
   "metadata": {},
   "outputs": [
    {
     "data": {
      "text/plain": [
       "{'sequence': 'Since the Carolina Hurricanes drafted Sebastian Aho in the second round of the 2015 NHL Draft, he has blossomed into a franchise piece for the team. He is consistently breaking franchise records at only 25 years old. Aho is making a push for the face of the organization and will be a cornerstone for Carolina’s success for years to come. While the Hurricanes have had many notable players, there are a few who rise to the level of being the face of the franchise. Ron Francis, Rod Brind’Amour, and Eric Staal have each arguably served in that role at various times. Following Eric Staal’s departure, the Carolina Hurricanes have not truly had a face of the organization. Jeff Skinner’s electrifying rookie year had the looks that he may have been next, but he eventually was traded to the Buffalo Sabres in 2018. Aho’s recent hot streak of goals in six straight games and 12 goals and 18 points since January 1, 2023 is just a small flash of what he has brought to the Hurricanes’ organization. But it is more than the points that make him the next face of the Hurricanes.',\n",
       " 'labels': ['playing above average', 'playing below average'],\n",
       " 'scores': [0.9581645727157593, 0.04183545336127281]}"
      ]
     },
     "execution_count": 15,
     "metadata": {},
     "output_type": "execute_result"
    }
   ],
   "source": [
    "sequence_to_classify = \"Since the Carolina Hurricanes drafted Sebastian Aho in the second round of the 2015 NHL Draft, he has blossomed into a franchise piece for the team. He is consistently breaking franchise records at only 25 years old. Aho is making a push for the face of the organization and will be a cornerstone for Carolina’s success for years to come. While the Hurricanes have had many notable players, there are a few who rise to the level of being the face of the franchise. Ron Francis, Rod Brind’Amour, and Eric Staal have each arguably served in that role at various times. Following Eric Staal’s departure, the Carolina Hurricanes have not truly had a face of the organization. Jeff Skinner’s electrifying rookie year had the looks that he may have been next, but he eventually was traded to the Buffalo Sabres in 2018. Aho’s recent hot streak of goals in six straight games and 12 goals and 18 points since January 1, 2023 is just a small flash of what he has brought to the Hurricanes’ organization. But it is more than the points that make him the next face of the Hurricanes.\"\n",
    "\n",
    "candidate_labels = ['playing above average', 'playing below average']\n",
    "\n",
    "classifier(sequence_to_classify, candidate_labels)"
   ]
  },
  {
   "cell_type": "code",
   "execution_count": 16,
   "metadata": {},
   "outputs": [
    {
     "data": {
      "text/plain": [
       "{'sequence': 'Hurricanes coach Rod Brind’Amour said that forward Sebastian Aho didn’t practice yesterday because of a lower-body injury. However, he will play in the next game.',\n",
       " 'labels': ['playing below average', 'playing above average'],\n",
       " 'scores': [0.6937297582626343, 0.3062702715396881]}"
      ]
     },
     "execution_count": 16,
     "metadata": {},
     "output_type": "execute_result"
    }
   ],
   "source": [
    "sequence_to_classify = \"Hurricanes coach Rod Brind’Amour said that forward Sebastian Aho didn’t practice yesterday because of a lower-body injury. However, he will play in the next game.\"\n",
    "\n",
    "classifier(sequence_to_classify, candidate_labels)"
   ]
  },
  {
   "cell_type": "code",
   "execution_count": null,
   "metadata": {},
   "outputs": [],
   "source": []
  }
 ],
 "metadata": {
  "kernelspec": {
   "display_name": ".venv",
   "language": "python",
   "name": "python3"
  },
  "language_info": {
   "codemirror_mode": {
    "name": "ipython",
    "version": 3
   },
   "file_extension": ".py",
   "mimetype": "text/x-python",
   "name": "python",
   "nbconvert_exporter": "python",
   "pygments_lexer": "ipython3",
   "version": "3.9.6"
  },
  "orig_nbformat": 4
 },
 "nbformat": 4,
 "nbformat_minor": 2
}
