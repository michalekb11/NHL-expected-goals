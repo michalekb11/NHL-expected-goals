{
 "cells": [
  {
   "cell_type": "markdown",
   "metadata": {},
   "source": [
    "## Time Zone Correction\n",
    "Need to correct time zone issue when web scraping odds from DK. Should try to always read things in a specific time zone, and store in a specific time zone. Should never have to manually convert depending on the time of year."
   ]
  },
  {
   "cell_type": "code",
   "execution_count": 245,
   "metadata": {},
   "outputs": [],
   "source": [
    "# Libraries\n",
    "import numpy as np\n",
    "import pandas as pd\n",
    "import datetime as dt\n",
    "from dateutil import tz\n",
    "import requests\n",
    "from bs4 import BeautifulSoup\n",
    "import json\n",
    "import pytz"
   ]
  },
  {
   "cell_type": "code",
   "execution_count": 246,
   "metadata": {},
   "outputs": [],
   "source": [
    "# Read in team name to 3 letter code dictionary\n",
    "# Read in team name dictionary for cleaning\n",
    "with open('../data/team_name_dictionary.txt', 'r') as f:\n",
    "    # Load the dictionary from the file\n",
    "    team_name_dict = json.load(f)"
   ]
  },
  {
   "cell_type": "code",
   "execution_count": 301,
   "metadata": {},
   "outputs": [],
   "source": [
    "url = 'https://sportsbook.draftkings.com/leagues/hockey/nhl?category=game-lines&subcategory=game'"
   ]
  },
  {
   "cell_type": "code",
   "execution_count": 302,
   "metadata": {},
   "outputs": [],
   "source": [
    "def get_total_odds(sportsbook_recording, today_only=True):\n",
    "    # Call in the dictionary for team names\n",
    "    global team_name_dict\n",
    "\n",
    "    # List of home teams\n",
    "    home_teams = sportsbook_recording['teams'][1::2]\n",
    "    home_teams = np.repeat(home_teams, 2)\n",
    "\n",
    "    # List of away teams\n",
    "    away_teams = sportsbook_recording['teams'][::2]\n",
    "    away_teams = np.repeat(away_teams, 2)\n",
    "\n",
    "    # List of O/U lines (ex: 6.5, 6.5, 5.5, 5.5, 6, 6, etc...)\n",
    "    ou_lines = sportsbook_recording['lines'][1::2]\n",
    "\n",
    "    # List of O/U bet types (O then U repeated)\n",
    "    ou_bet_type = ['O', 'U'] * int(len(ou_lines) / 2)\n",
    "\n",
    "    # List of today's O/U odds\n",
    "    ou_odds = sportsbook_recording['odds'][1::3]\n",
    "        \n",
    "    df_total = pd.DataFrame({\n",
    "        'date_recorded':sportsbook_recording['datetime'].date(),\n",
    "        'time_recorded':sportsbook_recording['datetime'].strftime('%H:%M:%S'),\n",
    "        'game_id':np.nan,\n",
    "        'date_game':sportsbook_recording['game_dates'],\n",
    "        'time_game':sportsbook_recording['game_times'],\n",
    "        'home':home_teams,\n",
    "        'away':away_teams,\n",
    "        'bet_type':ou_bet_type,\n",
    "        'total_line':ou_lines,\n",
    "        'total_odds':ou_odds\n",
    "    })\n",
    "\n",
    "    # Convert team names to 3 letter code\n",
    "    df_total['home'] = df_total['home'].str.lower().replace(team_name_dict)\n",
    "    df_total['away'] = df_total['away'].str.lower().replace(team_name_dict)\n",
    "    \n",
    "    # Return df of odds\n",
    "    if today_only:\n",
    "        return df_total[df_total['date_game'] == dt.date.today()]\n",
    "    else:\n",
    "        return df_total"
   ]
  },
  {
   "cell_type": "code",
   "execution_count": 303,
   "metadata": {},
   "outputs": [],
   "source": [
    "# Function to return data frames from DK containing the cleaned odds information for 1) Moneyline/Puckline and 2) O/U's\n",
    "def retrieve_sportsbook_info(url):\n",
    "\n",
    "    # Record the current date and time so we know when the recording occured\n",
    "    dt_now = dt.datetime.now()\n",
    "\n",
    "    # Record the HTML code from url as bs4 object\n",
    "    response = requests.get(url)\n",
    "    soup = BeautifulSoup(response.content, 'html.parser')\n",
    "    print(soup.find('title').text.strip().lower())\n",
    "\n",
    "    # Each sportsbook table on the page separated in a list\n",
    "    # We need them as separate items in list because each one is a different date.\n",
    "    # This is the only way to correctly assign a date to each game.\n",
    "    sportsbook_tables = soup.find_all(class_ = 'sportsbook-table')\n",
    "\n",
    "    # Establish time zones. DK stores in UTC. We will need to convert this to Central Time (taking into account whether currently in DST, etc.)\n",
    "    central_tz = pytz.timezone('America/Chicago')\n",
    "    utc_tz = pytz.timezone('UTC')\n",
    "\n",
    "    # Create empty spaces to store each set of datetimes, teams, lines, and odds\n",
    "    # We will extend these lists for each DK table we come across\n",
    "    games_dt = []\n",
    "    teams = []\n",
    "    lines = []\n",
    "    odds = []\n",
    "\n",
    "    # For each sportsbook table on DK, collect the odds information\n",
    "    for table in sportsbook_tables:\n",
    "        # Get the DK date label\n",
    "        date_label = table.find(class_ = 'always-left column-header').text.strip().lower()\n",
    "\n",
    "        # If label is not 'today' or 'tomorrow', just go to the next table. This is because even with the time zone issues, games occuring today should never appear in a table not labeled 'today' or 'tomorrow'.\n",
    "        # Set the date variable to attach to the game times\n",
    "        if date_label == 'tue oct 10th': # in production, use 'today'\n",
    "            date = dt.date.today()\n",
    "        elif date_label == 'wed oct 11th': # in production use 'tommorrow'\n",
    "            date = dt.date.today() + dt.timedelta(days = 1)\n",
    "        else:\n",
    "            continue\n",
    "\n",
    "        # Gather DK version of time information\n",
    "        dk_times = [time.text for time in table.find_all(class_ = 'event-cell__start-time')]\n",
    "        dk_times = [dt.datetime.strptime(time, '%I:%M%p').time() for time in dk_times]\n",
    "\n",
    "        # Create the DK version of the game's date and time\n",
    "        tbl_games_dt = [dt.datetime.combine(date, time) for time in dk_times]\n",
    "\n",
    "        # Perform the time zone change to central time\n",
    "        tbl_games_dt = [gametime.replace(tzinfo = utc_tz).astimezone(central_tz).replace(tzinfo = None) for gametime in tbl_games_dt]\n",
    "        games_dt.extend(tbl_games_dt)\n",
    "        \n",
    "        # Get the list of teams playing\n",
    "        tbl_teams = [team.text.strip() for team in table.find_all(class_ = 'event-cell__name-text')]\n",
    "        teams.extend(tbl_teams)\n",
    "\n",
    "        # Gathers puck line and O/U lines (ex: -1.5, 6.5, +1.5, 6.5, etc...)\n",
    "        tbl_lines = [line.text for line in table.find_all(class_ = 'sportsbook-outcome-cell__line')]\n",
    "        lines.extend(tbl_lines)\n",
    "        \n",
    "        # List of odds \n",
    "        # Had to add replace statement for special character\n",
    "        tbl_odds = [odd.text.replace(\"−\", \"-\") for odd in table.find_all(class_ = 'sportsbook-outcome-cell__elements')]  \n",
    "        odds.extend(tbl_odds)\n",
    "\n",
    "     # END For Loop\n",
    "\n",
    "    # Create dictionary of information regarding the tables DK.\n",
    "    # Later, we will filter this to only include todays games.\n",
    "    combined_info = {\n",
    "        'datetime':dt_now,\n",
    "        'game_dates':[game.date() for game in games_dt],\n",
    "        'game_times':[game.time() for game in games_dt],\n",
    "        'teams':teams,\n",
    "        'lines':lines,\n",
    "        'odds':odds\n",
    "    }\n",
    "\n",
    "    return combined_info"
   ]
  },
  {
   "cell_type": "markdown",
   "metadata": {},
   "source": [
    "### End"
   ]
  },
  {
   "cell_type": "markdown",
   "metadata": {},
   "source": [
    "Need to do the following:\n",
    "* Only request the website once\n",
    "* If possible, not call the ML/PL/Total functions within the sportsbook recording function. "
   ]
  },
  {
   "cell_type": "code",
   "execution_count": 304,
   "metadata": {},
   "outputs": [
    {
     "name": "stdout",
     "output_type": "stream",
     "text": [
      "nhl betting odds & lines: game lines - game | draftkings sportsbook\n"
     ]
    }
   ],
   "source": [
    "test = retrieve_sportsbook_info(url)"
   ]
  },
  {
   "cell_type": "code",
   "execution_count": 281,
   "metadata": {},
   "outputs": [
    {
     "name": "stdout",
     "output_type": "stream",
     "text": [
      "True\n"
     ]
    }
   ],
   "source": [
    "a = [0]\n",
    "print(bool(a))"
   ]
  },
  {
   "cell_type": "code",
   "execution_count": 277,
   "metadata": {},
   "outputs": [
    {
     "name": "stdout",
     "output_type": "stream",
     "text": [
      "{'datetime': datetime.datetime(2023, 8, 10, 13, 29, 49, 510214), 'game_dates': [], 'game_times': [], 'teams': [], 'lines': [], 'odds': []}\n"
     ]
    }
   ],
   "source": [
    "print(test)"
   ]
  },
  {
   "cell_type": "code",
   "execution_count": 274,
   "metadata": {},
   "outputs": [
    {
     "data": {
      "text/html": [
       "<div>\n",
       "<style scoped>\n",
       "    .dataframe tbody tr th:only-of-type {\n",
       "        vertical-align: middle;\n",
       "    }\n",
       "\n",
       "    .dataframe tbody tr th {\n",
       "        vertical-align: top;\n",
       "    }\n",
       "\n",
       "    .dataframe thead th {\n",
       "        text-align: right;\n",
       "    }\n",
       "</style>\n",
       "<table border=\"1\" class=\"dataframe\">\n",
       "  <thead>\n",
       "    <tr style=\"text-align: right;\">\n",
       "      <th></th>\n",
       "      <th>date_recorded</th>\n",
       "      <th>time_recorded</th>\n",
       "      <th>game_id</th>\n",
       "      <th>date_game</th>\n",
       "      <th>time_game</th>\n",
       "      <th>home</th>\n",
       "      <th>away</th>\n",
       "      <th>bet_type</th>\n",
       "      <th>total_line</th>\n",
       "      <th>total_odds</th>\n",
       "    </tr>\n",
       "  </thead>\n",
       "  <tbody>\n",
       "    <tr>\n",
       "      <th>0</th>\n",
       "      <td>2023-08-10</td>\n",
       "      <td>13:01:03</td>\n",
       "      <td>NaN</td>\n",
       "      <td>2023-08-10</td>\n",
       "      <td>16:30:00</td>\n",
       "      <td>TBL</td>\n",
       "      <td>NSH</td>\n",
       "      <td>O</td>\n",
       "      <td>6</td>\n",
       "      <td>-115</td>\n",
       "    </tr>\n",
       "    <tr>\n",
       "      <th>1</th>\n",
       "      <td>2023-08-10</td>\n",
       "      <td>13:01:03</td>\n",
       "      <td>NaN</td>\n",
       "      <td>2023-08-10</td>\n",
       "      <td>16:30:00</td>\n",
       "      <td>TBL</td>\n",
       "      <td>NSH</td>\n",
       "      <td>U</td>\n",
       "      <td>6</td>\n",
       "      <td>-105</td>\n",
       "    </tr>\n",
       "    <tr>\n",
       "      <th>2</th>\n",
       "      <td>2023-08-10</td>\n",
       "      <td>13:01:03</td>\n",
       "      <td>NaN</td>\n",
       "      <td>2023-08-10</td>\n",
       "      <td>19:00:00</td>\n",
       "      <td>PIT</td>\n",
       "      <td>CHI</td>\n",
       "      <td>O</td>\n",
       "      <td>6.5</td>\n",
       "      <td>-120</td>\n",
       "    </tr>\n",
       "    <tr>\n",
       "      <th>3</th>\n",
       "      <td>2023-08-10</td>\n",
       "      <td>13:01:03</td>\n",
       "      <td>NaN</td>\n",
       "      <td>2023-08-10</td>\n",
       "      <td>19:00:00</td>\n",
       "      <td>PIT</td>\n",
       "      <td>CHI</td>\n",
       "      <td>U</td>\n",
       "      <td>6.5</td>\n",
       "      <td>+100</td>\n",
       "    </tr>\n",
       "    <tr>\n",
       "      <th>4</th>\n",
       "      <td>2023-08-10</td>\n",
       "      <td>13:01:03</td>\n",
       "      <td>NaN</td>\n",
       "      <td>2023-08-10</td>\n",
       "      <td>21:30:00</td>\n",
       "      <td>VGK</td>\n",
       "      <td>SEA</td>\n",
       "      <td>O</td>\n",
       "      <td>6</td>\n",
       "      <td>-120</td>\n",
       "    </tr>\n",
       "    <tr>\n",
       "      <th>5</th>\n",
       "      <td>2023-08-10</td>\n",
       "      <td>13:01:03</td>\n",
       "      <td>NaN</td>\n",
       "      <td>2023-08-10</td>\n",
       "      <td>21:30:00</td>\n",
       "      <td>VGK</td>\n",
       "      <td>SEA</td>\n",
       "      <td>U</td>\n",
       "      <td>6</td>\n",
       "      <td>+100</td>\n",
       "    </tr>\n",
       "  </tbody>\n",
       "</table>\n",
       "</div>"
      ],
      "text/plain": [
       "  date_recorded time_recorded  game_id   date_game time_game home away   \n",
       "0    2023-08-10      13:01:03      NaN  2023-08-10  16:30:00  TBL  NSH  \\\n",
       "1    2023-08-10      13:01:03      NaN  2023-08-10  16:30:00  TBL  NSH   \n",
       "2    2023-08-10      13:01:03      NaN  2023-08-10  19:00:00  PIT  CHI   \n",
       "3    2023-08-10      13:01:03      NaN  2023-08-10  19:00:00  PIT  CHI   \n",
       "4    2023-08-10      13:01:03      NaN  2023-08-10  21:30:00  VGK  SEA   \n",
       "5    2023-08-10      13:01:03      NaN  2023-08-10  21:30:00  VGK  SEA   \n",
       "\n",
       "  bet_type total_line total_odds  \n",
       "0        O          6       -115  \n",
       "1        U          6       -105  \n",
       "2        O        6.5       -120  \n",
       "3        U        6.5       +100  \n",
       "4        O          6       -120  \n",
       "5        U          6       +100  "
      ]
     },
     "metadata": {},
     "output_type": "display_data"
    }
   ],
   "source": [
    "display(get_total_odds(test, today_only=True))"
   ]
  },
  {
   "cell_type": "code",
   "execution_count": 305,
   "metadata": {},
   "outputs": [
    {
     "name": "stdout",
     "output_type": "stream",
     "text": [
      "length is 2\n"
     ]
    }
   ],
   "source": [
    "a = [1, 2]\n",
    "print(f'length is {len(a)}')"
   ]
  },
  {
   "cell_type": "code",
   "execution_count": null,
   "metadata": {},
   "outputs": [],
   "source": []
  }
 ],
 "metadata": {
  "kernelspec": {
   "display_name": ".venv",
   "language": "python",
   "name": "python3"
  },
  "language_info": {
   "codemirror_mode": {
    "name": "ipython",
    "version": 3
   },
   "file_extension": ".py",
   "mimetype": "text/x-python",
   "name": "python",
   "nbconvert_exporter": "python",
   "pygments_lexer": "ipython3",
   "version": "3.9.6"
  },
  "orig_nbformat": 4
 },
 "nbformat": 4,
 "nbformat_minor": 2
}
