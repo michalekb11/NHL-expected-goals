{
 "cells": [
  {
   "attachments": {},
   "cell_type": "markdown",
   "metadata": {},
   "source": [
    "## Calculate EV for each bet\n",
    "Should use\n",
    "1. Odds given by the sportsbook\n",
    "2. Probability of the event occuring based on our predictions"
   ]
  },
  {
   "cell_type": "code",
   "execution_count": 1,
   "metadata": {},
   "outputs": [],
   "source": [
    "import pandas as pd"
   ]
  },
  {
   "cell_type": "code",
   "execution_count": 2,
   "metadata": {},
   "outputs": [],
   "source": [
    "# Function to convert odds (ex: -125, +200) to a profit in units assuming it wins\n",
    "def odds_to_profit(odds):\n",
    "    odds = int(odds)\n",
    "    if odds > 0:\n",
    "        payout = (odds / 100) # + 1 if you want odds to payout\n",
    "    else:\n",
    "        payout = (100 / abs(odds)) # + 1\n",
    "    return payout"
   ]
  },
  {
   "cell_type": "code",
   "execution_count": 12,
   "metadata": {},
   "outputs": [],
   "source": [
    "# Function to get the expected value of each bet\n",
    "def get_bet_EV(odds, prob):\n",
    "    profit = odds_to_profit(odds)\n",
    "    return (prob) * (profit) - (1 - prob)"
   ]
  },
  {
   "attachments": {},
   "cell_type": "markdown",
   "metadata": {},
   "source": [
    "### Test function"
   ]
  },
  {
   "cell_type": "code",
   "execution_count": 14,
   "metadata": {},
   "outputs": [
    {
     "data": {
      "text/plain": [
       "0.27749999999999997"
      ]
     },
     "execution_count": 14,
     "metadata": {},
     "output_type": "execute_result"
    }
   ],
   "source": [
    "# Test with single value\n",
    "get_bet_EV('+250', 0.365)"
   ]
  },
  {
   "cell_type": "code",
   "execution_count": 22,
   "metadata": {},
   "outputs": [
    {
     "data": {
      "text/html": [
       "<div>\n",
       "<style scoped>\n",
       "    .dataframe tbody tr th:only-of-type {\n",
       "        vertical-align: middle;\n",
       "    }\n",
       "\n",
       "    .dataframe tbody tr th {\n",
       "        vertical-align: top;\n",
       "    }\n",
       "\n",
       "    .dataframe thead th {\n",
       "        text-align: right;\n",
       "    }\n",
       "</style>\n",
       "<table border=\"1\" class=\"dataframe\">\n",
       "  <thead>\n",
       "    <tr style=\"text-align: right;\">\n",
       "      <th></th>\n",
       "      <th>team</th>\n",
       "      <th>odds</th>\n",
       "      <th>prob</th>\n",
       "      <th>EV</th>\n",
       "      <th>make_bet</th>\n",
       "    </tr>\n",
       "  </thead>\n",
       "  <tbody>\n",
       "    <tr>\n",
       "      <th>3</th>\n",
       "      <td>ARI</td>\n",
       "      <td>+300</td>\n",
       "      <td>0.34</td>\n",
       "      <td>0.360000</td>\n",
       "      <td>1</td>\n",
       "    </tr>\n",
       "    <tr>\n",
       "      <th>1</th>\n",
       "      <td>PIT</td>\n",
       "      <td>-210</td>\n",
       "      <td>0.80</td>\n",
       "      <td>0.180952</td>\n",
       "      <td>0</td>\n",
       "    </tr>\n",
       "    <tr>\n",
       "      <th>0</th>\n",
       "      <td>DET</td>\n",
       "      <td>+145</td>\n",
       "      <td>0.43</td>\n",
       "      <td>0.053500</td>\n",
       "      <td>0</td>\n",
       "    </tr>\n",
       "    <tr>\n",
       "      <th>2</th>\n",
       "      <td>WPG</td>\n",
       "      <td>+100</td>\n",
       "      <td>0.46</td>\n",
       "      <td>-0.080000</td>\n",
       "      <td>0</td>\n",
       "    </tr>\n",
       "  </tbody>\n",
       "</table>\n",
       "</div>"
      ],
      "text/plain": [
       "  team  odds  prob        EV  make_bet\n",
       "3  ARI  +300  0.34  0.360000         1\n",
       "1  PIT  -210  0.80  0.180952         0\n",
       "0  DET  +145  0.43  0.053500         0\n",
       "2  WPG  +100  0.46 -0.080000         0"
      ]
     },
     "metadata": {},
     "output_type": "display_data"
    }
   ],
   "source": [
    "# Test with df\n",
    "test = pd.DataFrame({\n",
    "    'team':['DET', 'PIT', 'WPG', 'ARI'],\n",
    "    'odds':['+145', '-210', '+100', '+300'],\n",
    "    'prob':[0.43, 0.80, 0.46, 0.34]\n",
    "})\n",
    "test['EV'] = test.apply(lambda row: get_bet_EV(row['odds'], row['prob']), axis = 1)\n",
    "\n",
    "# Assuming I set a cutoff value (depends on the distribution of EV)\n",
    "test['make_bet'] = 0\n",
    "test.loc[test['EV'] >= 0.30, 'make_bet'] = 1\n",
    "\n",
    "display(test.sort_values('EV', ascending=False))"
   ]
  }
 ],
 "metadata": {
  "kernelspec": {
   "display_name": ".venv",
   "language": "python",
   "name": "python3"
  },
  "language_info": {
   "codemirror_mode": {
    "name": "ipython",
    "version": 3
   },
   "file_extension": ".py",
   "mimetype": "text/x-python",
   "name": "python",
   "nbconvert_exporter": "python",
   "pygments_lexer": "ipython3",
   "version": "3.9.6 (default, Oct 18 2022, 12:41:40) \n[Clang 14.0.0 (clang-1400.0.29.202)]"
  },
  "orig_nbformat": 4,
  "vscode": {
   "interpreter": {
    "hash": "391b8c8d2d0705169608203ddc59d651a11cac649a7fd2dc02268105b6f9cfe6"
   }
  }
 },
 "nbformat": 4,
 "nbformat_minor": 2
}
