{
 "cells": [
  {
   "attachments": {},
   "cell_type": "markdown",
   "metadata": {},
   "source": [
    "## Probability that team A wins over team B assuming xGoals is Poisson distributed"
   ]
  },
  {
   "cell_type": "code",
   "execution_count": 77,
   "metadata": {},
   "outputs": [],
   "source": [
    "import numpy as np\n",
    "import pandas as pd\n",
    "from scipy.stats import poisson"
   ]
  },
  {
   "cell_type": "code",
   "execution_count": 78,
   "metadata": {},
   "outputs": [],
   "source": [
    "def get_poisson_win_rate(xgA, xgB):\n",
    "    # Assume that  NHL teams score between 0 and 25 goals per game\n",
    "    num_goals = [n for n in range(25)]\n",
    "\n",
    "    # Get probabilities of scoring 0-20 from poisson distribution with mean xGoals\n",
    "    pois_probsA = poisson.pmf(k = num_goals, mu = xgA)\n",
    "    pois_probsB = poisson.pmf(k = num_goals, mu = xgB)\n",
    "\n",
    "    # Set up df to store probabilities\n",
    "    poisA = pd.DataFrame(zip(num_goals, pois_probsA), columns = ['goalsA', 'probA'])\n",
    "    poisA['temp_key'] = 1\n",
    "\n",
    "    poisB = pd.DataFrame(zip(num_goals, pois_probsB), columns = ['goalsB', 'probB'])\n",
    "    poisB['temp_key'] = 1\n",
    "\n",
    "    # Join on temporary key to get cross join\n",
    "    all_outcomes = pd.merge(poisA, poisB, how = 'inner', on = 'temp_key').drop(columns = 'temp_key')\n",
    "\n",
    "    # Calculate probability of each possible outcome\n",
    "    all_outcomes['outcome_prob'] = all_outcomes['probA'] * all_outcomes['probB']\n",
    "\n",
    "    # Get probability that team A wins. Pr(A win) = SUM(A > B) + 0.5 * SUM(A = B)\n",
    "    prob_A_win = all_outcomes.loc[all_outcomes['goalsA'] > all_outcomes['goalsB'], 'outcome_prob'].sum() + 0.5 * all_outcomes.loc[all_outcomes['goalsA'] == all_outcomes['goalsB'], 'outcome_prob'].sum()\n",
    "\n",
    "    return prob_A_win"
   ]
  },
  {
   "attachments": {},
   "cell_type": "markdown",
   "metadata": {},
   "source": [
    "### Test function"
   ]
  },
  {
   "cell_type": "code",
   "execution_count": 79,
   "metadata": {},
   "outputs": [
    {
     "data": {
      "text/plain": [
       "0.5860340625506661"
      ]
     },
     "execution_count": 79,
     "metadata": {},
     "output_type": "execute_result"
    }
   ],
   "source": [
    "# Test using 2 values\n",
    "get_poisson_win_rate(4.53, 3.89)"
   ]
  },
  {
   "cell_type": "code",
   "execution_count": 80,
   "metadata": {},
   "outputs": [
    {
     "data": {
      "text/html": [
       "<div>\n",
       "<style scoped>\n",
       "    .dataframe tbody tr th:only-of-type {\n",
       "        vertical-align: middle;\n",
       "    }\n",
       "\n",
       "    .dataframe tbody tr th {\n",
       "        vertical-align: top;\n",
       "    }\n",
       "\n",
       "    .dataframe thead th {\n",
       "        text-align: right;\n",
       "    }\n",
       "</style>\n",
       "<table border=\"1\" class=\"dataframe\">\n",
       "  <thead>\n",
       "    <tr style=\"text-align: right;\">\n",
       "      <th></th>\n",
       "      <th>teamA</th>\n",
       "      <th>xgA</th>\n",
       "      <th>teamB</th>\n",
       "      <th>xgB</th>\n",
       "      <th>prob_teamA</th>\n",
       "      <th>prob_teamB</th>\n",
       "    </tr>\n",
       "  </thead>\n",
       "  <tbody>\n",
       "    <tr>\n",
       "      <th>0</th>\n",
       "      <td>DET</td>\n",
       "      <td>3.17</td>\n",
       "      <td>PIT</td>\n",
       "      <td>4.32</td>\n",
       "      <td>0.339379</td>\n",
       "      <td>0.660621</td>\n",
       "    </tr>\n",
       "    <tr>\n",
       "      <th>1</th>\n",
       "      <td>WPG</td>\n",
       "      <td>5.45</td>\n",
       "      <td>NYR</td>\n",
       "      <td>3.33</td>\n",
       "      <td>0.761170</td>\n",
       "      <td>0.238830</td>\n",
       "    </tr>\n",
       "    <tr>\n",
       "      <th>2</th>\n",
       "      <td>VGK</td>\n",
       "      <td>2.58</td>\n",
       "      <td>COL</td>\n",
       "      <td>2.81</td>\n",
       "      <td>0.461483</td>\n",
       "      <td>0.538517</td>\n",
       "    </tr>\n",
       "  </tbody>\n",
       "</table>\n",
       "</div>"
      ],
      "text/plain": [
       "  teamA   xgA teamB   xgB  prob_teamA  prob_teamB\n",
       "0   DET  3.17   PIT  4.32    0.339379    0.660621\n",
       "1   WPG  5.45   NYR  3.33    0.761170    0.238830\n",
       "2   VGK  2.58   COL  2.81    0.461483    0.538517"
      ]
     },
     "metadata": {},
     "output_type": "display_data"
    }
   ],
   "source": [
    "# Test using df of values\n",
    "test = pd.DataFrame({'teamA':['DET', 'WPG', 'VGK'],\n",
    "                     'xgA':[3.17, 5.45, 2.58],\n",
    "                     'teamB':['PIT', 'NYR', 'COL'],\n",
    "                     'xgB':[4.32, 3.33, 2.81]\n",
    "                     })\n",
    "\n",
    "test['prob_teamA'] = test.apply(lambda row: get_poisson_win_rate(row['xgA'], row['xgB']), axis = 1)\n",
    "\n",
    "test['prob_teamB'] = 1 - test['prob_teamA']\n",
    "\n",
    "display(test)"
   ]
  },
  {
   "cell_type": "code",
   "execution_count": null,
   "metadata": {},
   "outputs": [],
   "source": []
  }
 ],
 "metadata": {
  "kernelspec": {
   "display_name": ".venv",
   "language": "python",
   "name": "python3"
  },
  "language_info": {
   "codemirror_mode": {
    "name": "ipython",
    "version": 3
   },
   "file_extension": ".py",
   "mimetype": "text/x-python",
   "name": "python",
   "nbconvert_exporter": "python",
   "pygments_lexer": "ipython3",
   "version": "3.9.6"
  },
  "orig_nbformat": 4,
  "vscode": {
   "interpreter": {
    "hash": "391b8c8d2d0705169608203ddc59d651a11cac649a7fd2dc02268105b6f9cfe6"
   }
  }
 },
 "nbformat": 4,
 "nbformat_minor": 2
}
