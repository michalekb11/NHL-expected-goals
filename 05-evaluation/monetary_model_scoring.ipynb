{
 "cells": [
  {
   "attachments": {},
   "cell_type": "markdown",
   "metadata": {},
   "source": [
    "## Use the xG predictions to score the model in terms of money gained or lost\n",
    "Components needed:\n",
    "1. Model xG predictions aggregated to the team/game level\n",
    "2. ML odds of each particular team/game\n",
    "3. Score/result of each game\n",
    "\n",
    "Restrictions that we will put in place to help choose what bets to place:\n",
    "1. Only wager on bets that have greater than +0.30 unit expected value\n",
    "2. OPTIONAL: (Only wager on bets that have odds between [-250, +300])\n",
    "\n",
    "Steps to accomplish this:\n",
    "1. Assign each row in the teams xG df the correct game ID located in the season scores df\n",
    "2. Group the teams xG df by the game ID and calculate the probability of winning (using poisson function)\n",
    "3. Join the probabilities to the odds data frame\n",
    "4. Get the EV of each bet using the odds and the probability of each team winning\n",
    "5. Decide which wagers to place using the restrictions above\n",
    "6. Join which bets won using the scores of each game\n",
    "7. Create column containing the gain/loss in terms of units of each bet. If we did not place a bet, the value is 0\n",
    "8. Sum the profit column to determine the total gain/loss over the betting period\n"
   ]
  },
  {
   "cell_type": "code",
   "execution_count": 154,
   "metadata": {},
   "outputs": [],
   "source": [
    "# Libraries\n",
    "import pandas as pd\n",
    "from scipy.stats import poisson\n",
    "import seaborn as sns"
   ]
  },
  {
   "cell_type": "code",
   "execution_count": 155,
   "metadata": {},
   "outputs": [],
   "source": [
    "# Poisson win rate function\n",
    "def get_poisson_win_rate(df_group):\n",
    "    # Gather the expected goals for each team in the group\n",
    "    xg = df_group['xG'].tolist()\n",
    "    xgA = xg[0]\n",
    "    xgB = xg[1]\n",
    "\n",
    "    # Assume that  NHL teams score between 0 and 25 goals per game\n",
    "    num_goals = [n for n in range(25)]\n",
    "\n",
    "    # Get probabilities of scoring 0-20 from poisson distribution with mean xGoals\n",
    "    pois_probsA = poisson.pmf(k = num_goals, mu = xgA)\n",
    "    pois_probsB = poisson.pmf(k = num_goals, mu = xgB)\n",
    "\n",
    "    # Set up df to store probabilities\n",
    "    poisA = pd.DataFrame(zip(num_goals, pois_probsA), columns = ['goalsA', 'probA'])\n",
    "    poisA['temp_key'] = 1\n",
    "\n",
    "    poisB = pd.DataFrame(zip(num_goals, pois_probsB), columns = ['goalsB', 'probB'])\n",
    "    poisB['temp_key'] = 1\n",
    "\n",
    "    # Join on temporary key to get cross join\n",
    "    all_outcomes = pd.merge(poisA, poisB, how = 'inner', on = 'temp_key').drop(columns = 'temp_key')\n",
    "\n",
    "    # Calculate probability of each possible outcome\n",
    "    all_outcomes['outcome_prob'] = all_outcomes['probA'] * all_outcomes['probB']\n",
    "\n",
    "    # Get probability that team A wins. Pr(A win) = SUM(A > B) + 0.5 * SUM(A = B)\n",
    "    prob_A_win = all_outcomes.loc[all_outcomes['goalsA'] > all_outcomes['goalsB'], 'outcome_prob'].sum() + 0.5 * all_outcomes.loc[all_outcomes['goalsA'] == all_outcomes['goalsB'], 'outcome_prob'].sum()\n",
    "\n",
    "    # Get probability that team B wins\n",
    "    prob_B_win = 1-prob_A_win\n",
    "\n",
    "    # Assign these probabilities to a new column in the data frame\n",
    "    df_group['win_prob'] = [prob_A_win, prob_B_win]\n",
    " \n",
    "    # Return the result for each group\n",
    "    return df_group"
   ]
  },
  {
   "cell_type": "code",
   "execution_count": 156,
   "metadata": {},
   "outputs": [],
   "source": [
    "# EV functions\n",
    "# Function to convert odds (ex: -125, +200) to a profit in units assuming it wins\n",
    "def odds_to_profit(odds):\n",
    "    odds = int(odds)\n",
    "    if odds > 0:\n",
    "        payout = (odds / 100) # + 1 if you want odds to payout\n",
    "    else:\n",
    "        payout = (100 / abs(odds)) # + 1\n",
    "    return payout\n",
    "\n",
    "# Function to get the expected value of each bet\n",
    "def get_bet_EV(odds, prob):\n",
    "    profit = odds_to_profit(odds)\n",
    "    return (prob) * (profit) - (1 - prob)"
   ]
  },
  {
   "cell_type": "code",
   "execution_count": 157,
   "metadata": {},
   "outputs": [],
   "source": [
    "# Determines profit of a bet depending on whether we placed the bet and whether it was a winner\n",
    "def determine_bet_profit(odds, place_bet_flag, win_flag):\n",
    "    if place_bet_flag == 0:\n",
    "        return 0\n",
    "    elif win_flag == 0:\n",
    "        return -1\n",
    "    else:\n",
    "        return odds_to_profit(odds)"
   ]
  },
  {
   "cell_type": "code",
   "execution_count": 158,
   "metadata": {},
   "outputs": [],
   "source": [
    "# 3 data files we need\n",
    "team_xG = pd.read_csv('../data/evaluation_predictions/rf_test_021323.csv')\n",
    "scores_2023 = pd.read_csv('../data/season_scores/scores_2023')\n",
    "odds = pd.read_csv('../data/odds/ml_odds.csv').drop(columns='game_id') # Need to remove this column if the join works correctly"
   ]
  },
  {
   "attachments": {},
   "cell_type": "markdown",
   "metadata": {},
   "source": [
    "### Step 1-3: Assign win game id's and calculate win rates"
   ]
  },
  {
   "cell_type": "code",
   "execution_count": 159,
   "metadata": {},
   "outputs": [],
   "source": [
    "# Assign game IDs to each row\n",
    "team_xG = pd.merge(team_xG, scores_2023, how = 'left', on = ['date', 'team'])[['date', 'team', 'game_id', 'xG']]"
   ]
  },
  {
   "cell_type": "code",
   "execution_count": 160,
   "metadata": {},
   "outputs": [
    {
     "data": {
      "text/html": [
       "<div>\n",
       "<style scoped>\n",
       "    .dataframe tbody tr th:only-of-type {\n",
       "        vertical-align: middle;\n",
       "    }\n",
       "\n",
       "    .dataframe tbody tr th {\n",
       "        vertical-align: top;\n",
       "    }\n",
       "\n",
       "    .dataframe thead th {\n",
       "        text-align: right;\n",
       "    }\n",
       "</style>\n",
       "<table border=\"1\" class=\"dataframe\">\n",
       "  <thead>\n",
       "    <tr style=\"text-align: right;\">\n",
       "      <th></th>\n",
       "      <th>date</th>\n",
       "      <th>team</th>\n",
       "      <th>game_id</th>\n",
       "      <th>xG</th>\n",
       "      <th>win_prob</th>\n",
       "    </tr>\n",
       "  </thead>\n",
       "  <tbody>\n",
       "    <tr>\n",
       "      <th>0</th>\n",
       "      <td>2023-02-13</td>\n",
       "      <td>BUF</td>\n",
       "      <td>23847</td>\n",
       "      <td>3.209667</td>\n",
       "      <td>0.493800</td>\n",
       "    </tr>\n",
       "    <tr>\n",
       "      <th>1</th>\n",
       "      <td>2023-02-13</td>\n",
       "      <td>LAK</td>\n",
       "      <td>23847</td>\n",
       "      <td>3.249974</td>\n",
       "      <td>0.506200</td>\n",
       "    </tr>\n",
       "    <tr>\n",
       "      <th>2</th>\n",
       "      <td>2023-02-13</td>\n",
       "      <td>FLA</td>\n",
       "      <td>23848</td>\n",
       "      <td>3.762575</td>\n",
       "      <td>0.621435</td>\n",
       "    </tr>\n",
       "    <tr>\n",
       "      <th>3</th>\n",
       "      <td>2023-02-13</td>\n",
       "      <td>MIN</td>\n",
       "      <td>23848</td>\n",
       "      <td>2.947244</td>\n",
       "      <td>0.378565</td>\n",
       "    </tr>\n",
       "    <tr>\n",
       "      <th>4</th>\n",
       "      <td>2023-02-13</td>\n",
       "      <td>ARI</td>\n",
       "      <td>23849</td>\n",
       "      <td>2.624547</td>\n",
       "      <td>0.477271</td>\n",
       "    </tr>\n",
       "  </tbody>\n",
       "</table>\n",
       "</div>"
      ],
      "text/plain": [
       "         date team  game_id        xG  win_prob\n",
       "0  2023-02-13  BUF    23847  3.209667  0.493800\n",
       "1  2023-02-13  LAK    23847  3.249974  0.506200\n",
       "2  2023-02-13  FLA    23848  3.762575  0.621435\n",
       "3  2023-02-13  MIN    23848  2.947244  0.378565\n",
       "4  2023-02-13  ARI    23849  2.624547  0.477271"
      ]
     },
     "execution_count": 160,
     "metadata": {},
     "output_type": "execute_result"
    }
   ],
   "source": [
    "# Calculate poisson win rate for each team within each game\n",
    "team_win_rates = team_xG.groupby('game_id').apply(get_poisson_win_rate).reset_index(drop=True)\n",
    "team_win_rates.head()"
   ]
  },
  {
   "cell_type": "code",
   "execution_count": 221,
   "metadata": {},
   "outputs": [
    {
     "data": {
      "text/html": [
       "<div>\n",
       "<style scoped>\n",
       "    .dataframe tbody tr th:only-of-type {\n",
       "        vertical-align: middle;\n",
       "    }\n",
       "\n",
       "    .dataframe tbody tr th {\n",
       "        vertical-align: top;\n",
       "    }\n",
       "\n",
       "    .dataframe thead th {\n",
       "        text-align: right;\n",
       "    }\n",
       "</style>\n",
       "<table border=\"1\" class=\"dataframe\">\n",
       "  <thead>\n",
       "    <tr style=\"text-align: right;\">\n",
       "      <th></th>\n",
       "      <th>game_id</th>\n",
       "      <th>date_game</th>\n",
       "      <th>team</th>\n",
       "      <th>ml_odds</th>\n",
       "      <th>win_prob</th>\n",
       "    </tr>\n",
       "  </thead>\n",
       "  <tbody>\n",
       "    <tr>\n",
       "      <th>0</th>\n",
       "      <td>23850</td>\n",
       "      <td>2023-02-13</td>\n",
       "      <td>CGY</td>\n",
       "      <td>-165</td>\n",
       "      <td>0.488991</td>\n",
       "    </tr>\n",
       "    <tr>\n",
       "      <th>1</th>\n",
       "      <td>23850</td>\n",
       "      <td>2023-02-13</td>\n",
       "      <td>OTT</td>\n",
       "      <td>140</td>\n",
       "      <td>0.511009</td>\n",
       "    </tr>\n",
       "    <tr>\n",
       "      <th>2</th>\n",
       "      <td>23849</td>\n",
       "      <td>2023-02-13</td>\n",
       "      <td>ARI</td>\n",
       "      <td>200</td>\n",
       "      <td>0.477271</td>\n",
       "    </tr>\n",
       "    <tr>\n",
       "      <th>3</th>\n",
       "      <td>23849</td>\n",
       "      <td>2023-02-13</td>\n",
       "      <td>NSH</td>\n",
       "      <td>-240</td>\n",
       "      <td>0.522729</td>\n",
       "    </tr>\n",
       "    <tr>\n",
       "      <th>4</th>\n",
       "      <td>23848</td>\n",
       "      <td>2023-02-13</td>\n",
       "      <td>FLA</td>\n",
       "      <td>-110</td>\n",
       "      <td>0.621435</td>\n",
       "    </tr>\n",
       "  </tbody>\n",
       "</table>\n",
       "</div>"
      ],
      "text/plain": [
       "   game_id   date_game team  ml_odds  win_prob\n",
       "0    23850  2023-02-13  CGY     -165  0.488991\n",
       "1    23850  2023-02-13  OTT      140  0.511009\n",
       "2    23849  2023-02-13  ARI      200  0.477271\n",
       "3    23849  2023-02-13  NSH     -240  0.522729\n",
       "4    23848  2023-02-13  FLA     -110  0.621435"
      ]
     },
     "execution_count": 221,
     "metadata": {},
     "output_type": "execute_result"
    }
   ],
   "source": [
    "# Join the win probabilities to the odds data\n",
    "bet_analysis = pd.merge(odds, team_win_rates, how = 'left', left_on = ['date_game', 'team'], right_on = ['date', 'team'])[['game_id', 'date_game', 'team', 'ml_odds', 'win_prob']]\n",
    "bet_analysis.head()"
   ]
  },
  {
   "cell_type": "code",
   "execution_count": 222,
   "metadata": {},
   "outputs": [
    {
     "name": "stdout",
     "output_type": "stream",
     "text": [
      "<class 'pandas.core.frame.DataFrame'>\n",
      "RangeIndex: 932 entries, 0 to 931\n",
      "Data columns (total 5 columns):\n",
      " #   Column     Non-Null Count  Dtype  \n",
      "---  ------     --------------  -----  \n",
      " 0   game_id    932 non-null    int64  \n",
      " 1   date_game  932 non-null    object \n",
      " 2   team       932 non-null    object \n",
      " 3   ml_odds    932 non-null    int64  \n",
      " 4   win_prob   932 non-null    float64\n",
      "dtypes: float64(1), int64(2), object(2)\n",
      "memory usage: 36.5+ KB\n"
     ]
    }
   ],
   "source": [
    "bet_analysis.info()"
   ]
  },
  {
   "attachments": {},
   "cell_type": "markdown",
   "metadata": {},
   "source": [
    "### Step 4-5: Get EV of each bet. Decide what wagers to place"
   ]
  },
  {
   "cell_type": "code",
   "execution_count": 223,
   "metadata": {},
   "outputs": [],
   "source": [
    "# Assign EV to each bet\n",
    "bet_analysis['EV'] = bet_analysis.apply(lambda row: get_bet_EV(row['ml_odds'], row['win_prob']), axis = 1)\n",
    "\n",
    "# Decide which wagers to place\n",
    "bet_analysis['place_bet_flag'] = 0\n",
    "bet_analysis.loc[bet_analysis['EV'] >= 0.30, 'place_bet_flag'] = 1"
   ]
  },
  {
   "cell_type": "code",
   "execution_count": 224,
   "metadata": {},
   "outputs": [
    {
     "name": "stdout",
     "output_type": "stream",
     "text": [
      "122\n"
     ]
    },
    {
     "data": {
      "text/html": [
       "<div>\n",
       "<style scoped>\n",
       "    .dataframe tbody tr th:only-of-type {\n",
       "        vertical-align: middle;\n",
       "    }\n",
       "\n",
       "    .dataframe tbody tr th {\n",
       "        vertical-align: top;\n",
       "    }\n",
       "\n",
       "    .dataframe thead th {\n",
       "        text-align: right;\n",
       "    }\n",
       "</style>\n",
       "<table border=\"1\" class=\"dataframe\">\n",
       "  <thead>\n",
       "    <tr style=\"text-align: right;\">\n",
       "      <th></th>\n",
       "      <th>game_id</th>\n",
       "      <th>date_game</th>\n",
       "      <th>team</th>\n",
       "      <th>ml_odds</th>\n",
       "      <th>win_prob</th>\n",
       "      <th>EV</th>\n",
       "      <th>place_bet_flag</th>\n",
       "    </tr>\n",
       "  </thead>\n",
       "  <tbody>\n",
       "    <tr>\n",
       "      <th>116</th>\n",
       "      <td>23912</td>\n",
       "      <td>2023-02-21</td>\n",
       "      <td>ANA</td>\n",
       "      <td>430</td>\n",
       "      <td>0.449417</td>\n",
       "      <td>1.381912</td>\n",
       "      <td>1</td>\n",
       "    </tr>\n",
       "    <tr>\n",
       "      <th>600</th>\n",
       "      <td>231147</td>\n",
       "      <td>2023-03-24</td>\n",
       "      <td>ARI</td>\n",
       "      <td>360</td>\n",
       "      <td>0.500899</td>\n",
       "      <td>1.304135</td>\n",
       "      <td>1</td>\n",
       "    </tr>\n",
       "    <tr>\n",
       "      <th>28</th>\n",
       "      <td>23865</td>\n",
       "      <td>2023-02-15</td>\n",
       "      <td>CHI</td>\n",
       "      <td>450</td>\n",
       "      <td>0.382467</td>\n",
       "      <td>1.103567</td>\n",
       "      <td>1</td>\n",
       "    </tr>\n",
       "    <tr>\n",
       "      <th>136</th>\n",
       "      <td>23915</td>\n",
       "      <td>2023-02-22</td>\n",
       "      <td>CHI</td>\n",
       "      <td>340</td>\n",
       "      <td>0.475442</td>\n",
       "      <td>1.091946</td>\n",
       "      <td>1</td>\n",
       "    </tr>\n",
       "    <tr>\n",
       "      <th>680</th>\n",
       "      <td>231187</td>\n",
       "      <td>2023-03-30</td>\n",
       "      <td>CBJ</td>\n",
       "      <td>360</td>\n",
       "      <td>0.441736</td>\n",
       "      <td>1.031987</td>\n",
       "      <td>1</td>\n",
       "    </tr>\n",
       "    <tr>\n",
       "      <th>104</th>\n",
       "      <td>23899</td>\n",
       "      <td>2023-02-20</td>\n",
       "      <td>OTT</td>\n",
       "      <td>280</td>\n",
       "      <td>0.532543</td>\n",
       "      <td>1.023663</td>\n",
       "      <td>1</td>\n",
       "    </tr>\n",
       "    <tr>\n",
       "      <th>882</th>\n",
       "      <td>231290</td>\n",
       "      <td>2023-04-11</td>\n",
       "      <td>CHI</td>\n",
       "      <td>400</td>\n",
       "      <td>0.398842</td>\n",
       "      <td>0.994209</td>\n",
       "      <td>1</td>\n",
       "    </tr>\n",
       "    <tr>\n",
       "      <th>656</th>\n",
       "      <td>231179</td>\n",
       "      <td>2023-03-28</td>\n",
       "      <td>CBJ</td>\n",
       "      <td>320</td>\n",
       "      <td>0.467583</td>\n",
       "      <td>0.963850</td>\n",
       "      <td>1</td>\n",
       "    </tr>\n",
       "    <tr>\n",
       "      <th>384</th>\n",
       "      <td>231040</td>\n",
       "      <td>2023-03-11</td>\n",
       "      <td>ARI</td>\n",
       "      <td>330</td>\n",
       "      <td>0.449611</td>\n",
       "      <td>0.933327</td>\n",
       "      <td>1</td>\n",
       "    </tr>\n",
       "    <tr>\n",
       "      <th>196</th>\n",
       "      <td>23946</td>\n",
       "      <td>2023-02-26</td>\n",
       "      <td>CBJ</td>\n",
       "      <td>245</td>\n",
       "      <td>0.547170</td>\n",
       "      <td>0.887737</td>\n",
       "      <td>1</td>\n",
       "    </tr>\n",
       "    <tr>\n",
       "      <th>522</th>\n",
       "      <td>231112</td>\n",
       "      <td>2023-03-19</td>\n",
       "      <td>CBJ</td>\n",
       "      <td>250</td>\n",
       "      <td>0.539134</td>\n",
       "      <td>0.886969</td>\n",
       "      <td>1</td>\n",
       "    </tr>\n",
       "    <tr>\n",
       "      <th>178</th>\n",
       "      <td>23933</td>\n",
       "      <td>2023-02-25</td>\n",
       "      <td>ANA</td>\n",
       "      <td>380</td>\n",
       "      <td>0.392897</td>\n",
       "      <td>0.885908</td>\n",
       "      <td>1</td>\n",
       "    </tr>\n",
       "    <tr>\n",
       "      <th>106</th>\n",
       "      <td>23901</td>\n",
       "      <td>2023-02-20</td>\n",
       "      <td>ANA</td>\n",
       "      <td>330</td>\n",
       "      <td>0.429320</td>\n",
       "      <td>0.846077</td>\n",
       "      <td>1</td>\n",
       "    </tr>\n",
       "    <tr>\n",
       "      <th>242</th>\n",
       "      <td>23968</td>\n",
       "      <td>2023-03-01</td>\n",
       "      <td>ARI</td>\n",
       "      <td>300</td>\n",
       "      <td>0.460429</td>\n",
       "      <td>0.841717</td>\n",
       "      <td>1</td>\n",
       "    </tr>\n",
       "    <tr>\n",
       "      <th>750</th>\n",
       "      <td>231217</td>\n",
       "      <td>2023-04-02</td>\n",
       "      <td>ANA</td>\n",
       "      <td>410</td>\n",
       "      <td>0.355456</td>\n",
       "      <td>0.812825</td>\n",
       "      <td>1</td>\n",
       "    </tr>\n",
       "  </tbody>\n",
       "</table>\n",
       "</div>"
      ],
      "text/plain": [
       "     game_id   date_game team  ml_odds  win_prob        EV  place_bet_flag\n",
       "116    23912  2023-02-21  ANA      430  0.449417  1.381912               1\n",
       "600   231147  2023-03-24  ARI      360  0.500899  1.304135               1\n",
       "28     23865  2023-02-15  CHI      450  0.382467  1.103567               1\n",
       "136    23915  2023-02-22  CHI      340  0.475442  1.091946               1\n",
       "680   231187  2023-03-30  CBJ      360  0.441736  1.031987               1\n",
       "104    23899  2023-02-20  OTT      280  0.532543  1.023663               1\n",
       "882   231290  2023-04-11  CHI      400  0.398842  0.994209               1\n",
       "656   231179  2023-03-28  CBJ      320  0.467583  0.963850               1\n",
       "384   231040  2023-03-11  ARI      330  0.449611  0.933327               1\n",
       "196    23946  2023-02-26  CBJ      245  0.547170  0.887737               1\n",
       "522   231112  2023-03-19  CBJ      250  0.539134  0.886969               1\n",
       "178    23933  2023-02-25  ANA      380  0.392897  0.885908               1\n",
       "106    23901  2023-02-20  ANA      330  0.429320  0.846077               1\n",
       "242    23968  2023-03-01  ARI      300  0.460429  0.841717               1\n",
       "750   231217  2023-04-02  ANA      410  0.355456  0.812825               1"
      ]
     },
     "metadata": {},
     "output_type": "display_data"
    }
   ],
   "source": [
    "print(bet_analysis['place_bet_flag'].sum())\n",
    "display(bet_analysis.sort_values('EV', ascending = False).head(15))"
   ]
  },
  {
   "attachments": {},
   "cell_type": "markdown",
   "metadata": {},
   "source": [
    "### Step 6: Join which bets won using scores of each game"
   ]
  },
  {
   "cell_type": "code",
   "execution_count": 225,
   "metadata": {},
   "outputs": [
    {
     "data": {
      "text/html": [
       "<div>\n",
       "<style scoped>\n",
       "    .dataframe tbody tr th:only-of-type {\n",
       "        vertical-align: middle;\n",
       "    }\n",
       "\n",
       "    .dataframe tbody tr th {\n",
       "        vertical-align: top;\n",
       "    }\n",
       "\n",
       "    .dataframe thead th {\n",
       "        text-align: right;\n",
       "    }\n",
       "</style>\n",
       "<table border=\"1\" class=\"dataframe\">\n",
       "  <thead>\n",
       "    <tr style=\"text-align: right;\">\n",
       "      <th></th>\n",
       "      <th>game_id</th>\n",
       "      <th>date_game</th>\n",
       "      <th>team</th>\n",
       "      <th>ml_odds</th>\n",
       "      <th>win_prob</th>\n",
       "      <th>EV</th>\n",
       "      <th>place_bet_flag</th>\n",
       "      <th>win_flag</th>\n",
       "    </tr>\n",
       "  </thead>\n",
       "  <tbody>\n",
       "    <tr>\n",
       "      <th>0</th>\n",
       "      <td>23850</td>\n",
       "      <td>2023-02-13</td>\n",
       "      <td>CGY</td>\n",
       "      <td>-165</td>\n",
       "      <td>0.488991</td>\n",
       "      <td>-0.214651</td>\n",
       "      <td>0</td>\n",
       "      <td>0</td>\n",
       "    </tr>\n",
       "    <tr>\n",
       "      <th>1</th>\n",
       "      <td>23850</td>\n",
       "      <td>2023-02-13</td>\n",
       "      <td>OTT</td>\n",
       "      <td>140</td>\n",
       "      <td>0.511009</td>\n",
       "      <td>0.226423</td>\n",
       "      <td>0</td>\n",
       "      <td>1</td>\n",
       "    </tr>\n",
       "    <tr>\n",
       "      <th>2</th>\n",
       "      <td>23849</td>\n",
       "      <td>2023-02-13</td>\n",
       "      <td>ARI</td>\n",
       "      <td>200</td>\n",
       "      <td>0.477271</td>\n",
       "      <td>0.431814</td>\n",
       "      <td>1</td>\n",
       "      <td>1</td>\n",
       "    </tr>\n",
       "    <tr>\n",
       "      <th>3</th>\n",
       "      <td>23849</td>\n",
       "      <td>2023-02-13</td>\n",
       "      <td>NSH</td>\n",
       "      <td>-240</td>\n",
       "      <td>0.522729</td>\n",
       "      <td>-0.259468</td>\n",
       "      <td>0</td>\n",
       "      <td>0</td>\n",
       "    </tr>\n",
       "    <tr>\n",
       "      <th>4</th>\n",
       "      <td>23848</td>\n",
       "      <td>2023-02-13</td>\n",
       "      <td>FLA</td>\n",
       "      <td>-110</td>\n",
       "      <td>0.621435</td>\n",
       "      <td>0.186375</td>\n",
       "      <td>0</td>\n",
       "      <td>1</td>\n",
       "    </tr>\n",
       "  </tbody>\n",
       "</table>\n",
       "</div>"
      ],
      "text/plain": [
       "   game_id   date_game team  ml_odds  win_prob        EV  place_bet_flag   \n",
       "0    23850  2023-02-13  CGY     -165  0.488991 -0.214651               0  \\\n",
       "1    23850  2023-02-13  OTT      140  0.511009  0.226423               0   \n",
       "2    23849  2023-02-13  ARI      200  0.477271  0.431814               1   \n",
       "3    23849  2023-02-13  NSH     -240  0.522729 -0.259468               0   \n",
       "4    23848  2023-02-13  FLA     -110  0.621435  0.186375               0   \n",
       "\n",
       "   win_flag  \n",
       "0         0  \n",
       "1         1  \n",
       "2         1  \n",
       "3         0  \n",
       "4         1  "
      ]
     },
     "execution_count": 225,
     "metadata": {},
     "output_type": "execute_result"
    }
   ],
   "source": [
    "# Append column containing the outcome of each bet\n",
    "bet_analysis = pd.merge(bet_analysis, scores_2023, how = 'left', on = ['game_id', 'team'])[['game_id', 'date_game', 'team', 'ml_odds', 'win_prob', 'EV', 'place_bet_flag', 'win_flag']]\n",
    "bet_analysis.head()"
   ]
  },
  {
   "attachments": {},
   "cell_type": "markdown",
   "metadata": {},
   "source": [
    "### Step 7: Create column containing the unit gain or loss of each bet. \n",
    "If we did not place a bet, the value is 0."
   ]
  },
  {
   "cell_type": "code",
   "execution_count": 226,
   "metadata": {},
   "outputs": [],
   "source": [
    "# Create profit column\n",
    "bet_analysis['profit'] = bet_analysis.apply(lambda row: determine_bet_profit(row['ml_odds'], row['place_bet_flag'], row['win_flag']), axis = 1)"
   ]
  },
  {
   "attachments": {},
   "cell_type": "markdown",
   "metadata": {},
   "source": [
    "### Step 8: Sum profit to determine total gain/loss over the betting period"
   ]
  },
  {
   "cell_type": "code",
   "execution_count": 227,
   "metadata": {},
   "outputs": [
    {
     "data": {
      "text/plain": [
       "-11.05"
      ]
     },
     "execution_count": 227,
     "metadata": {},
     "output_type": "execute_result"
    }
   ],
   "source": [
    "# Total number of units gained or lost over the betting period\n",
    "bet_analysis['profit'].sum()"
   ]
  },
  {
   "attachments": {},
   "cell_type": "markdown",
   "metadata": {},
   "source": [
    "### Step 9: Extra analysis"
   ]
  },
  {
   "cell_type": "code",
   "execution_count": 228,
   "metadata": {},
   "outputs": [],
   "source": [
    "# Df of only bets placed\n",
    "bets_placed = bet_analysis[bet_analysis['place_bet_flag'] == 1]"
   ]
  },
  {
   "cell_type": "code",
   "execution_count": 229,
   "metadata": {},
   "outputs": [
    {
     "data": {
      "text/plain": [
       "win_flag\n",
       "0    88\n",
       "1    34\n",
       "Name: win_flag, dtype: int64"
      ]
     },
     "execution_count": 229,
     "metadata": {},
     "output_type": "execute_result"
    }
   ],
   "source": [
    "# Number of bets won and lost\n",
    "bets_placed.groupby('win_flag')['win_flag'].count()"
   ]
  },
  {
   "cell_type": "code",
   "execution_count": 230,
   "metadata": {},
   "outputs": [
    {
     "name": "stderr",
     "output_type": "stream",
     "text": [
      "/var/folders/yk/qhxv13m50bl7fyrpnntydjgh0000gn/T/ipykernel_13599/423348626.py:2: SettingWithCopyWarning: \n",
      "A value is trying to be set on a copy of a slice from a DataFrame.\n",
      "Try using .loc[row_indexer,col_indexer] = value instead\n",
      "\n",
      "See the caveats in the documentation: https://pandas.pydata.org/pandas-docs/stable/user_guide/indexing.html#returning-a-view-versus-a-copy\n",
      "  bets_placed['ml_odds_int'] = bets_placed['ml_odds'].astype(int)\n"
     ]
    },
    {
     "data": {
      "text/plain": [
       "<Axes: xlabel='win_flag', ylabel='ml_odds_int'>"
      ]
     },
     "execution_count": 230,
     "metadata": {},
     "output_type": "execute_result"
    },
    {
     "data": {
      "image/png": "[encoded data removed]",
      "text/plain": [
       "<Figure size 640x480 with 1 Axes>"
      ]
     },
     "metadata": {},
     "output_type": "display_data"
    }
   ],
   "source": [
    "# Distribution of odds of the bets places\n",
    "bets_placed['ml_odds_int'] = bets_placed['ml_odds'].astype(int)\n",
    "sns.boxplot(data = bets_placed, x = 'win_flag', y = 'ml_odds_int')"
   ]
  },
  {
   "cell_type": "code",
   "execution_count": 231,
   "metadata": {},
   "outputs": [
    {
     "data": {
      "text/plain": [
       "<Axes: xlabel='ml_odds_int', ylabel='Count'>"
      ]
     },
     "execution_count": 231,
     "metadata": {},
     "output_type": "execute_result"
    },
    {
     "data": {
      "image/png": "[encoded data removed]",
      "text/plain": [
       "<Figure size 640x480 with 1 Axes>"
      ]
     },
     "metadata": {},
     "output_type": "display_data"
    }
   ],
   "source": [
    "sns.histplot(data = bets_placed, x = 'ml_odds_int', hue = 'win_flag')"
   ]
  },
  {
   "cell_type": "code",
   "execution_count": 232,
   "metadata": {},
   "outputs": [
    {
     "data": {
      "text/plain": [
       "<Axes: xlabel='xG', ylabel='Count'>"
      ]
     },
     "execution_count": 232,
     "metadata": {},
     "output_type": "execute_result"
    },
    {
     "data": {
      "image/png": "[encoded data removed]",
      "text/plain": [
       "<Figure size 640x480 with 1 Axes>"
      ]
     },
     "metadata": {},
     "output_type": "display_data"
    }
   ],
   "source": [
    "sns.histplot(team_xG, x = 'xG')"
   ]
  },
  {
   "cell_type": "code",
   "execution_count": null,
   "metadata": {},
   "outputs": [],
   "source": []
  }
 ],
 "metadata": {
  "kernelspec": {
   "display_name": ".venv",
   "language": "python",
   "name": "python3"
  },
  "language_info": {
   "codemirror_mode": {
    "name": "ipython",
    "version": 3
   },
   "file_extension": ".py",
   "mimetype": "text/x-python",
   "name": "python",
   "nbconvert_exporter": "python",
   "pygments_lexer": "ipython3",
   "version": "3.9.6"
  },
  "orig_nbformat": 4,
  "vscode": {
   "interpreter": {
    "hash": "391b8c8d2d0705169608203ddc59d651a11cac649a7fd2dc02268105b6f9cfe6"
   }
  }
 },
 "nbformat": 4,
 "nbformat_minor": 2
}
