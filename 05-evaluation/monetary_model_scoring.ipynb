{
 "cells": [
  {
   "attachments": {},
   "cell_type": "markdown",
   "metadata": {},
   "source": [
    "## Use the xG predictions to score the model in terms of money gained or lost\n",
    "Components needed:\n",
    "1. Model xG predictions aggregated to the team/game level\n",
    "2. ML odds of each particular team/game\n",
    "3. Score/result of each game\n",
    "\n",
    "Steps to accomplish this:\n",
    "1. Assign each row in the teams xG df the correct game ID located in the season scores df\n",
    "2. Group the teams xG df by the game ID and calculate the probability of winning (using poisson function)\n",
    "3. Join the probabilities to the odds data frame\n",
    "4. Get the EV of each bet using the odds and the probability of each team winning\n",
    "5. Join which bets won using scores of each game\n",
    "\n",
    "--\n",
    "\n",
    "6. Decide which wagers to place using the various combinations of bet restrictions. For each combination... \n",
    "7. Create column containing the gain/loss in terms of units of each bet. If we did not place a bet, the value is 0\n",
    "8. Sum the profit column to determine the total gain/loss over the betting period\n",
    "\n",
    "--\n",
    "\n",
    "9. Choose the best set of restrictions that maximizes profit, etc.\n",
    "10. Redo computations using best restriction set\n",
    "11. Visualize various aspects of the results\n"
   ]
  },
  {
   "cell_type": "code",
   "execution_count": 1,
   "metadata": {},
   "outputs": [],
   "source": [
    "# Libraries\n",
    "import pandas as pd\n",
    "from scipy.stats import poisson\n",
    "import seaborn as sns\n",
    "import matplotlib.pyplot as plt\n",
    "import numpy as np\n",
    "from datetime import datetime"
   ]
  },
  {
   "cell_type": "code",
   "execution_count": 2,
   "metadata": {},
   "outputs": [],
   "source": [
    "# Poisson win rate function\n",
    "def get_poisson_win_rate(df_group):\n",
    "    # Gather the expected goals for each team in the group\n",
    "    xg = df_group['xG'].tolist()\n",
    "    xgA = xg[0]\n",
    "    xgB = xg[1]\n",
    "\n",
    "    # Assume that  NHL teams score between 0 and 25 goals per game\n",
    "    num_goals = [n for n in range(25)]\n",
    "\n",
    "    # Get probabilities of scoring 0-20 from poisson distribution with mean xGoals\n",
    "    pois_probsA = poisson.pmf(k = num_goals, mu = xgA)\n",
    "    pois_probsB = poisson.pmf(k = num_goals, mu = xgB)\n",
    "\n",
    "    # Set up df to store probabilities\n",
    "    poisA = pd.DataFrame(zip(num_goals, pois_probsA), columns = ['goalsA', 'probA'])\n",
    "    poisA['temp_key'] = 1\n",
    "\n",
    "    poisB = pd.DataFrame(zip(num_goals, pois_probsB), columns = ['goalsB', 'probB'])\n",
    "    poisB['temp_key'] = 1\n",
    "\n",
    "    # Join on temporary key to get cross join\n",
    "    all_outcomes = pd.merge(poisA, poisB, how = 'inner', on = 'temp_key').drop(columns = 'temp_key')\n",
    "\n",
    "    # Calculate probability of each possible outcome\n",
    "    all_outcomes['outcome_prob'] = all_outcomes['probA'] * all_outcomes['probB']\n",
    "\n",
    "    # Get probability that team A wins. Pr(A win) = SUM(A > B) + 0.5 * SUM(A = B)\n",
    "    prob_A_win = all_outcomes.loc[all_outcomes['goalsA'] > all_outcomes['goalsB'], 'outcome_prob'].sum() + 0.5 * all_outcomes.loc[all_outcomes['goalsA'] == all_outcomes['goalsB'], 'outcome_prob'].sum()\n",
    "\n",
    "    # Get probability that team B wins\n",
    "    prob_B_win = 1-prob_A_win\n",
    "\n",
    "    # Assign these probabilities to a new column in the data frame\n",
    "    df_group['win_prob'] = [prob_A_win, prob_B_win]\n",
    " \n",
    "    # Return the result for each group\n",
    "    return df_group"
   ]
  },
  {
   "cell_type": "code",
   "execution_count": 3,
   "metadata": {},
   "outputs": [],
   "source": [
    "# EV functions\n",
    "# Function to convert odds (ex: -125, +200) to a profit in units assuming it wins\n",
    "def odds_to_profit(odds):\n",
    "    odds = int(odds)\n",
    "    if odds > 0:\n",
    "        payout = (odds / 100) # + 1 if you want odds to payout\n",
    "    else:\n",
    "        payout = (100 / abs(odds)) # + 1\n",
    "    return payout\n",
    "\n",
    "# Function to get the expected value of each bet\n",
    "def get_bet_EV(odds, prob):\n",
    "    profit = odds_to_profit(odds)\n",
    "    return (prob) * (profit) - (1 - prob)"
   ]
  },
  {
   "cell_type": "code",
   "execution_count": 4,
   "metadata": {},
   "outputs": [],
   "source": [
    "# Determines profit of a bet depending on whether we placed the bet and whether it was a winner\n",
    "def determine_bet_profit(odds, place_bet_flag, win_flag):\n",
    "    if place_bet_flag == 0:\n",
    "        return 0\n",
    "    elif win_flag == 0:\n",
    "        return -1\n",
    "    else:\n",
    "        return odds_to_profit(odds)"
   ]
  },
  {
   "cell_type": "code",
   "execution_count": 5,
   "metadata": {},
   "outputs": [],
   "source": [
    "# 3 data files we need\n",
    "team_xG = pd.read_csv('../data/evaluation_predictions/rf_test_021323.csv')\n",
    "scores_2023 = pd.read_csv('../data/season_scores/scores_2023')\n",
    "odds = pd.read_csv('../data/odds/ml_odds.csv').drop(columns='game_id') # Need to remove this column if the join works correctly"
   ]
  },
  {
   "attachments": {},
   "cell_type": "markdown",
   "metadata": {},
   "source": [
    "### Step 1-3: Assign win game id's and calculate win rates"
   ]
  },
  {
   "cell_type": "code",
   "execution_count": 6,
   "metadata": {},
   "outputs": [],
   "source": [
    "# Assign game IDs to each row\n",
    "team_xG = pd.merge(team_xG, scores_2023, how = 'left', on = ['date', 'team'])[['date', 'team', 'game_id', 'xG']]"
   ]
  },
  {
   "cell_type": "code",
   "execution_count": 7,
   "metadata": {},
   "outputs": [
    {
     "data": {
      "text/html": [
       "<div>\n",
       "<style scoped>\n",
       "    .dataframe tbody tr th:only-of-type {\n",
       "        vertical-align: middle;\n",
       "    }\n",
       "\n",
       "    .dataframe tbody tr th {\n",
       "        vertical-align: top;\n",
       "    }\n",
       "\n",
       "    .dataframe thead th {\n",
       "        text-align: right;\n",
       "    }\n",
       "</style>\n",
       "<table border=\"1\" class=\"dataframe\">\n",
       "  <thead>\n",
       "    <tr style=\"text-align: right;\">\n",
       "      <th></th>\n",
       "      <th>date</th>\n",
       "      <th>team</th>\n",
       "      <th>game_id</th>\n",
       "      <th>xG</th>\n",
       "      <th>win_prob</th>\n",
       "    </tr>\n",
       "  </thead>\n",
       "  <tbody>\n",
       "    <tr>\n",
       "      <th>0</th>\n",
       "      <td>2023-02-13</td>\n",
       "      <td>BUF</td>\n",
       "      <td>23847</td>\n",
       "      <td>3.102259</td>\n",
       "      <td>0.449803</td>\n",
       "    </tr>\n",
       "    <tr>\n",
       "      <th>1</th>\n",
       "      <td>2023-02-13</td>\n",
       "      <td>LAK</td>\n",
       "      <td>23847</td>\n",
       "      <td>3.431125</td>\n",
       "      <td>0.550197</td>\n",
       "    </tr>\n",
       "    <tr>\n",
       "      <th>2</th>\n",
       "      <td>2023-02-13</td>\n",
       "      <td>FLA</td>\n",
       "      <td>23848</td>\n",
       "      <td>3.778146</td>\n",
       "      <td>0.582580</td>\n",
       "    </tr>\n",
       "    <tr>\n",
       "      <th>3</th>\n",
       "      <td>2023-02-13</td>\n",
       "      <td>MIN</td>\n",
       "      <td>23848</td>\n",
       "      <td>3.216799</td>\n",
       "      <td>0.417420</td>\n",
       "    </tr>\n",
       "    <tr>\n",
       "      <th>4</th>\n",
       "      <td>2023-02-13</td>\n",
       "      <td>ARI</td>\n",
       "      <td>23849</td>\n",
       "      <td>2.695284</td>\n",
       "      <td>0.485718</td>\n",
       "    </tr>\n",
       "  </tbody>\n",
       "</table>\n",
       "</div>"
      ],
      "text/plain": [
       "         date team  game_id        xG  win_prob\n",
       "0  2023-02-13  BUF    23847  3.102259  0.449803\n",
       "1  2023-02-13  LAK    23847  3.431125  0.550197\n",
       "2  2023-02-13  FLA    23848  3.778146  0.582580\n",
       "3  2023-02-13  MIN    23848  3.216799  0.417420\n",
       "4  2023-02-13  ARI    23849  2.695284  0.485718"
      ]
     },
     "execution_count": 7,
     "metadata": {},
     "output_type": "execute_result"
    }
   ],
   "source": [
    "# Calculate poisson win rate for each team within each game\n",
    "team_win_rates = team_xG.groupby('game_id').apply(get_poisson_win_rate).reset_index(drop=True)\n",
    "team_win_rates.head()"
   ]
  },
  {
   "cell_type": "code",
   "execution_count": 8,
   "metadata": {},
   "outputs": [
    {
     "data": {
      "text/html": [
       "<div>\n",
       "<style scoped>\n",
       "    .dataframe tbody tr th:only-of-type {\n",
       "        vertical-align: middle;\n",
       "    }\n",
       "\n",
       "    .dataframe tbody tr th {\n",
       "        vertical-align: top;\n",
       "    }\n",
       "\n",
       "    .dataframe thead th {\n",
       "        text-align: right;\n",
       "    }\n",
       "</style>\n",
       "<table border=\"1\" class=\"dataframe\">\n",
       "  <thead>\n",
       "    <tr style=\"text-align: right;\">\n",
       "      <th></th>\n",
       "      <th>game_id</th>\n",
       "      <th>date_game</th>\n",
       "      <th>team</th>\n",
       "      <th>ml_odds</th>\n",
       "      <th>win_prob</th>\n",
       "    </tr>\n",
       "  </thead>\n",
       "  <tbody>\n",
       "    <tr>\n",
       "      <th>0</th>\n",
       "      <td>23850</td>\n",
       "      <td>2023-02-13</td>\n",
       "      <td>CGY</td>\n",
       "      <td>-165</td>\n",
       "      <td>0.488800</td>\n",
       "    </tr>\n",
       "    <tr>\n",
       "      <th>1</th>\n",
       "      <td>23850</td>\n",
       "      <td>2023-02-13</td>\n",
       "      <td>OTT</td>\n",
       "      <td>140</td>\n",
       "      <td>0.511200</td>\n",
       "    </tr>\n",
       "    <tr>\n",
       "      <th>2</th>\n",
       "      <td>23849</td>\n",
       "      <td>2023-02-13</td>\n",
       "      <td>ARI</td>\n",
       "      <td>200</td>\n",
       "      <td>0.485718</td>\n",
       "    </tr>\n",
       "    <tr>\n",
       "      <th>3</th>\n",
       "      <td>23849</td>\n",
       "      <td>2023-02-13</td>\n",
       "      <td>NSH</td>\n",
       "      <td>-240</td>\n",
       "      <td>0.514282</td>\n",
       "    </tr>\n",
       "    <tr>\n",
       "      <th>4</th>\n",
       "      <td>23848</td>\n",
       "      <td>2023-02-13</td>\n",
       "      <td>FLA</td>\n",
       "      <td>-110</td>\n",
       "      <td>0.582580</td>\n",
       "    </tr>\n",
       "  </tbody>\n",
       "</table>\n",
       "</div>"
      ],
      "text/plain": [
       "   game_id   date_game team  ml_odds  win_prob\n",
       "0    23850  2023-02-13  CGY     -165  0.488800\n",
       "1    23850  2023-02-13  OTT      140  0.511200\n",
       "2    23849  2023-02-13  ARI      200  0.485718\n",
       "3    23849  2023-02-13  NSH     -240  0.514282\n",
       "4    23848  2023-02-13  FLA     -110  0.582580"
      ]
     },
     "execution_count": 8,
     "metadata": {},
     "output_type": "execute_result"
    }
   ],
   "source": [
    "# Join the win probabilities to the odds data\n",
    "odds_and_win_rate = pd.merge(odds, team_win_rates, how = 'left', left_on = ['date_game', 'team'], right_on = ['date', 'team'])[['game_id', 'date_game', 'team', 'ml_odds', 'win_prob']]\n",
    "odds_and_win_rate.head()"
   ]
  },
  {
   "cell_type": "code",
   "execution_count": 9,
   "metadata": {},
   "outputs": [
    {
     "name": "stdout",
     "output_type": "stream",
     "text": [
      "<class 'pandas.core.frame.DataFrame'>\n",
      "RangeIndex: 932 entries, 0 to 931\n",
      "Data columns (total 5 columns):\n",
      " #   Column     Non-Null Count  Dtype  \n",
      "---  ------     --------------  -----  \n",
      " 0   game_id    932 non-null    int64  \n",
      " 1   date_game  932 non-null    object \n",
      " 2   team       932 non-null    object \n",
      " 3   ml_odds    932 non-null    int64  \n",
      " 4   win_prob   932 non-null    float64\n",
      "dtypes: float64(1), int64(2), object(2)\n",
      "memory usage: 36.5+ KB\n"
     ]
    }
   ],
   "source": [
    "odds_and_win_rate.info()"
   ]
  },
  {
   "attachments": {},
   "cell_type": "markdown",
   "metadata": {},
   "source": [
    "### Step 4-5: Get EV of each bet. Join which bets won using scores of each game"
   ]
  },
  {
   "cell_type": "code",
   "execution_count": 10,
   "metadata": {},
   "outputs": [],
   "source": [
    "# Assign EV to each bet\n",
    "bet_analysis = odds_and_win_rate.copy()\n",
    "bet_analysis['EV'] = odds_and_win_rate.apply(lambda row: get_bet_EV(row['ml_odds'], row['win_prob']), axis = 1)\n",
    "\n",
    "# Append column containing the outcome of each bet\n",
    "bet_analysis = pd.merge(bet_analysis, scores_2023, how = 'left', on = ['game_id', 'team'])[['game_id', 'date_game', 'team', 'ml_odds', 'win_prob', 'EV', 'win_flag']]"
   ]
  },
  {
   "attachments": {},
   "cell_type": "markdown",
   "metadata": {},
   "source": [
    "### Steps 6-8: \n",
    "Create function to try various bet restrictions"
   ]
  },
  {
   "cell_type": "code",
   "execution_count": 11,
   "metadata": {},
   "outputs": [],
   "source": [
    "def evaluate_wagers(df_bets, EV_lower = 0.30, odds_lower = -200, odds_upper = 250):\n",
    "    # Copy of original df\n",
    "    df_bets_copy = df_bets.copy()\n",
    "\n",
    "    # Decide which wagers to place\n",
    "    df_bets_copy['place_bet_flag'] = 0\n",
    "    df_bets_copy.loc[(df_bets_copy['EV'] >= EV_lower) & (df_bets_copy['ml_odds'] >= odds_lower) & (df_bets_copy['ml_odds'] <= odds_upper), 'place_bet_flag'] = 1\n",
    "\n",
    "    # Create profit column\n",
    "    df_bets_copy['profit'] = df_bets_copy.apply(lambda row: determine_bet_profit(row['ml_odds'], row['place_bet_flag'], row['win_flag']), axis = 1)\n",
    "\n",
    "    # Save the toal profit\n",
    "    profit = df_bets_copy['profit'].sum()\n",
    "\n",
    "    # Df of only bets placed\n",
    "    df_bets_placed = df_bets_copy[df_bets_copy['place_bet_flag'] == 1]\n",
    "\n",
    "    # Total number of bets\n",
    "    n_bets_placed = len(df_bets_placed)\n",
    "\n",
    "    # Average gain/loss per bet\n",
    "    avg_profit = df_bets_copy['profit'].sum() / n_bets_placed\n",
    "\n",
    "    return profit, n_bets_placed, avg_profit"
   ]
  },
  {
   "attachments": {},
   "cell_type": "markdown",
   "metadata": {},
   "source": [
    "### Apply function on a variety of different combinations of restrictions"
   ]
  },
  {
   "cell_type": "code",
   "execution_count": 12,
   "metadata": {},
   "outputs": [],
   "source": [
    "# Set up data frame to log results of bet choices\n",
    "restriction_list = pd.DataFrame({\n",
    "    'EV_lower':np.repeat([0.10, 0.20, 0.30, 0.40], 4),\n",
    "    'odds_lower':-200,\n",
    "    'odds_upper':(4 * [125, 150, 200, 250]),\n",
    "    'profit':np.nan,\n",
    "    'n_bets_placed':np.nan,\n",
    "    'avg_profit':np.nan\n",
    "})"
   ]
  },
  {
   "cell_type": "code",
   "execution_count": 13,
   "metadata": {},
   "outputs": [
    {
     "name": "stderr",
     "output_type": "stream",
     "text": [
      "/var/folders/yk/qhxv13m50bl7fyrpnntydjgh0000gn/T/ipykernel_17944/1442551287.py:22: RuntimeWarning: invalid value encountered in scalar divide\n",
      "  avg_profit = df_bets_copy['profit'].sum() / n_bets_placed\n",
      "/var/folders/yk/qhxv13m50bl7fyrpnntydjgh0000gn/T/ipykernel_17944/1442551287.py:22: RuntimeWarning: invalid value encountered in scalar divide\n",
      "  avg_profit = df_bets_copy['profit'].sum() / n_bets_placed\n"
     ]
    }
   ],
   "source": [
    "# Run function on the list of different restrictions\n",
    "restriction_list[['profit', 'n_bets_placed', 'avg_profit']] = restriction_list.apply(lambda row: pd.Series(evaluate_wagers(bet_analysis, row['EV_lower'], row['odds_lower'], row['odds_upper'])), axis = 1)"
   ]
  },
  {
   "cell_type": "code",
   "execution_count": 14,
   "metadata": {},
   "outputs": [
    {
     "data": {
      "text/html": [
       "<div>\n",
       "<style scoped>\n",
       "    .dataframe tbody tr th:only-of-type {\n",
       "        vertical-align: middle;\n",
       "    }\n",
       "\n",
       "    .dataframe tbody tr th {\n",
       "        vertical-align: top;\n",
       "    }\n",
       "\n",
       "    .dataframe thead th {\n",
       "        text-align: right;\n",
       "    }\n",
       "</style>\n",
       "<table border=\"1\" class=\"dataframe\">\n",
       "  <thead>\n",
       "    <tr style=\"text-align: right;\">\n",
       "      <th></th>\n",
       "      <th>EV_lower</th>\n",
       "      <th>odds_lower</th>\n",
       "      <th>odds_upper</th>\n",
       "      <th>profit</th>\n",
       "      <th>n_bets_placed</th>\n",
       "      <th>avg_profit</th>\n",
       "    </tr>\n",
       "  </thead>\n",
       "  <tbody>\n",
       "    <tr>\n",
       "      <th>1</th>\n",
       "      <td>0.1</td>\n",
       "      <td>-200</td>\n",
       "      <td>150</td>\n",
       "      <td>11.409091</td>\n",
       "      <td>91.0</td>\n",
       "      <td>0.125375</td>\n",
       "    </tr>\n",
       "    <tr>\n",
       "      <th>5</th>\n",
       "      <td>0.2</td>\n",
       "      <td>-200</td>\n",
       "      <td>150</td>\n",
       "      <td>11.250000</td>\n",
       "      <td>36.0</td>\n",
       "      <td>0.312500</td>\n",
       "    </tr>\n",
       "    <tr>\n",
       "      <th>9</th>\n",
       "      <td>0.3</td>\n",
       "      <td>-200</td>\n",
       "      <td>150</td>\n",
       "      <td>3.050000</td>\n",
       "      <td>4.0</td>\n",
       "      <td>0.762500</td>\n",
       "    </tr>\n",
       "    <tr>\n",
       "      <th>10</th>\n",
       "      <td>0.3</td>\n",
       "      <td>-200</td>\n",
       "      <td>200</td>\n",
       "      <td>2.050000</td>\n",
       "      <td>33.0</td>\n",
       "      <td>0.062121</td>\n",
       "    </tr>\n",
       "    <tr>\n",
       "      <th>7</th>\n",
       "      <td>0.2</td>\n",
       "      <td>-200</td>\n",
       "      <td>250</td>\n",
       "      <td>1.900000</td>\n",
       "      <td>135.0</td>\n",
       "      <td>0.014074</td>\n",
       "    </tr>\n",
       "    <tr>\n",
       "      <th>8</th>\n",
       "      <td>0.3</td>\n",
       "      <td>-200</td>\n",
       "      <td>125</td>\n",
       "      <td>1.250000</td>\n",
       "      <td>1.0</td>\n",
       "      <td>1.250000</td>\n",
       "    </tr>\n",
       "    <tr>\n",
       "      <th>12</th>\n",
       "      <td>0.4</td>\n",
       "      <td>-200</td>\n",
       "      <td>125</td>\n",
       "      <td>0.000000</td>\n",
       "      <td>0.0</td>\n",
       "      <td>NaN</td>\n",
       "    </tr>\n",
       "    <tr>\n",
       "      <th>13</th>\n",
       "      <td>0.4</td>\n",
       "      <td>-200</td>\n",
       "      <td>150</td>\n",
       "      <td>0.000000</td>\n",
       "      <td>0.0</td>\n",
       "      <td>NaN</td>\n",
       "    </tr>\n",
       "    <tr>\n",
       "      <th>4</th>\n",
       "      <td>0.2</td>\n",
       "      <td>-200</td>\n",
       "      <td>125</td>\n",
       "      <td>-0.300000</td>\n",
       "      <td>9.0</td>\n",
       "      <td>-0.033333</td>\n",
       "    </tr>\n",
       "    <tr>\n",
       "      <th>6</th>\n",
       "      <td>0.2</td>\n",
       "      <td>-200</td>\n",
       "      <td>200</td>\n",
       "      <td>-0.350000</td>\n",
       "      <td>89.0</td>\n",
       "      <td>-0.003933</td>\n",
       "    </tr>\n",
       "    <tr>\n",
       "      <th>11</th>\n",
       "      <td>0.3</td>\n",
       "      <td>-200</td>\n",
       "      <td>250</td>\n",
       "      <td>-1.600000</td>\n",
       "      <td>69.0</td>\n",
       "      <td>-0.023188</td>\n",
       "    </tr>\n",
       "    <tr>\n",
       "      <th>14</th>\n",
       "      <td>0.4</td>\n",
       "      <td>-200</td>\n",
       "      <td>200</td>\n",
       "      <td>-5.000000</td>\n",
       "      <td>8.0</td>\n",
       "      <td>-0.625000</td>\n",
       "    </tr>\n",
       "    <tr>\n",
       "      <th>3</th>\n",
       "      <td>0.1</td>\n",
       "      <td>-200</td>\n",
       "      <td>250</td>\n",
       "      <td>-5.540909</td>\n",
       "      <td>217.0</td>\n",
       "      <td>-0.025534</td>\n",
       "    </tr>\n",
       "    <tr>\n",
       "      <th>2</th>\n",
       "      <td>0.1</td>\n",
       "      <td>-200</td>\n",
       "      <td>200</td>\n",
       "      <td>-5.840909</td>\n",
       "      <td>166.0</td>\n",
       "      <td>-0.035186</td>\n",
       "    </tr>\n",
       "    <tr>\n",
       "      <th>0</th>\n",
       "      <td>0.1</td>\n",
       "      <td>-200</td>\n",
       "      <td>125</td>\n",
       "      <td>-9.390909</td>\n",
       "      <td>37.0</td>\n",
       "      <td>-0.253808</td>\n",
       "    </tr>\n",
       "    <tr>\n",
       "      <th>15</th>\n",
       "      <td>0.4</td>\n",
       "      <td>-200</td>\n",
       "      <td>250</td>\n",
       "      <td>-10.200000</td>\n",
       "      <td>36.0</td>\n",
       "      <td>-0.283333</td>\n",
       "    </tr>\n",
       "  </tbody>\n",
       "</table>\n",
       "</div>"
      ],
      "text/plain": [
       "    EV_lower  odds_lower  odds_upper     profit  n_bets_placed  avg_profit\n",
       "1        0.1        -200         150  11.409091           91.0    0.125375\n",
       "5        0.2        -200         150  11.250000           36.0    0.312500\n",
       "9        0.3        -200         150   3.050000            4.0    0.762500\n",
       "10       0.3        -200         200   2.050000           33.0    0.062121\n",
       "7        0.2        -200         250   1.900000          135.0    0.014074\n",
       "8        0.3        -200         125   1.250000            1.0    1.250000\n",
       "12       0.4        -200         125   0.000000            0.0         NaN\n",
       "13       0.4        -200         150   0.000000            0.0         NaN\n",
       "4        0.2        -200         125  -0.300000            9.0   -0.033333\n",
       "6        0.2        -200         200  -0.350000           89.0   -0.003933\n",
       "11       0.3        -200         250  -1.600000           69.0   -0.023188\n",
       "14       0.4        -200         200  -5.000000            8.0   -0.625000\n",
       "3        0.1        -200         250  -5.540909          217.0   -0.025534\n",
       "2        0.1        -200         200  -5.840909          166.0   -0.035186\n",
       "0        0.1        -200         125  -9.390909           37.0   -0.253808\n",
       "15       0.4        -200         250 -10.200000           36.0   -0.283333"
      ]
     },
     "execution_count": 14,
     "metadata": {},
     "output_type": "execute_result"
    }
   ],
   "source": [
    "# View which restrictions gave the most profit\n",
    "restriction_list.sort_values('profit', ascending=False)"
   ]
  },
  {
   "attachments": {},
   "cell_type": "markdown",
   "metadata": {},
   "source": [
    "### Step 9: Choose the best restrictions under the following conditions\n",
    "* The total profit must be within 10% of the best profit in terms of units (10% is subjective)\n",
    "* There must be at least ~ 2 bets placed per week\n",
    "* Choose the set with the highest average profit"
   ]
  },
  {
   "cell_type": "code",
   "execution_count": 15,
   "metadata": {},
   "outputs": [
    {
     "data": {
      "text/html": [
       "<div>\n",
       "<style scoped>\n",
       "    .dataframe tbody tr th:only-of-type {\n",
       "        vertical-align: middle;\n",
       "    }\n",
       "\n",
       "    .dataframe tbody tr th {\n",
       "        vertical-align: top;\n",
       "    }\n",
       "\n",
       "    .dataframe thead th {\n",
       "        text-align: right;\n",
       "    }\n",
       "</style>\n",
       "<table border=\"1\" class=\"dataframe\">\n",
       "  <thead>\n",
       "    <tr style=\"text-align: right;\">\n",
       "      <th></th>\n",
       "      <th>EV_lower</th>\n",
       "      <th>odds_lower</th>\n",
       "      <th>odds_upper</th>\n",
       "      <th>profit</th>\n",
       "      <th>n_bets_placed</th>\n",
       "      <th>avg_profit</th>\n",
       "    </tr>\n",
       "  </thead>\n",
       "  <tbody>\n",
       "    <tr>\n",
       "      <th>1</th>\n",
       "      <td>0.1</td>\n",
       "      <td>-200</td>\n",
       "      <td>150</td>\n",
       "      <td>11.409091</td>\n",
       "      <td>91.0</td>\n",
       "      <td>0.125375</td>\n",
       "    </tr>\n",
       "    <tr>\n",
       "      <th>5</th>\n",
       "      <td>0.2</td>\n",
       "      <td>-200</td>\n",
       "      <td>150</td>\n",
       "      <td>11.250000</td>\n",
       "      <td>36.0</td>\n",
       "      <td>0.312500</td>\n",
       "    </tr>\n",
       "  </tbody>\n",
       "</table>\n",
       "</div>"
      ],
      "text/plain": [
       "   EV_lower  odds_lower  odds_upper     profit  n_bets_placed  avg_profit\n",
       "1       0.1        -200         150  11.409091           91.0    0.125375\n",
       "5       0.2        -200         150  11.250000           36.0    0.312500"
      ]
     },
     "metadata": {},
     "output_type": "display_data"
    },
    {
     "name": "stderr",
     "output_type": "stream",
     "text": [
      "/var/folders/yk/qhxv13m50bl7fyrpnntydjgh0000gn/T/ipykernel_17944/222671803.py:20: FutureWarning: Calling float on a single element Series is deprecated and will raise a TypeError in the future. Use float(ser.iloc[0]) instead\n",
      "  best_EV_lower = float(best_row['EV_lower'])\n",
      "/var/folders/yk/qhxv13m50bl7fyrpnntydjgh0000gn/T/ipykernel_17944/222671803.py:21: FutureWarning: Calling int on a single element Series is deprecated and will raise a TypeError in the future. Use int(ser.iloc[0]) instead\n",
      "  best_odds_lower = int(best_row['odds_lower'])\n",
      "/var/folders/yk/qhxv13m50bl7fyrpnntydjgh0000gn/T/ipykernel_17944/222671803.py:22: FutureWarning: Calling int on a single element Series is deprecated and will raise a TypeError in the future. Use int(ser.iloc[0]) instead\n",
      "  best_odds_upper  = int(best_row['odds_upper'])\n"
     ]
    }
   ],
   "source": [
    "# Find the best set of restrictions\n",
    "# Total profit condition\n",
    "profit_threshold = restriction_list['profit'].max() - 0.10 * restriction_list['profit'].max()\n",
    "\n",
    "# Bet frequency condition (using 0.25 bets per day)\n",
    "min_date = bet_analysis['date_game'].min()\n",
    "max_date = bet_analysis['date_game'].max()\n",
    "\n",
    "min_date = datetime.strptime(min_date, '%Y-%m-%d')\n",
    "max_date = datetime.strptime(max_date, '%Y-%m-%d')\n",
    "dayspan = (max_date - min_date).days\n",
    "n_bets_threshold = 0.25 * dayspan\n",
    "\n",
    "# Filter for the eligible restrictions\n",
    "eligible_restrictions = restriction_list[(restriction_list['profit'] >= profit_threshold) & (restriction_list['n_bets_placed'] >= n_bets_threshold)]\n",
    "display(eligible_restrictions)\n",
    "\n",
    "# Gather the best set of restrictions by choosing max avg_profit\n",
    "best_row = eligible_restrictions.loc[eligible_restrictions['avg_profit'] == eligible_restrictions['avg_profit'].max(), ['EV_lower', 'odds_lower', 'odds_upper']]\n",
    "best_EV_lower = float(best_row['EV_lower'])\n",
    "best_odds_lower = int(best_row['odds_lower'])\n",
    "best_odds_upper  = int(best_row['odds_upper'])"
   ]
  },
  {
   "cell_type": "code",
   "execution_count": 16,
   "metadata": {},
   "outputs": [
    {
     "name": "stdout",
     "output_type": "stream",
     "text": [
      "EV lower: 0.2\n",
      "Odds lower: -200\n",
      "Odds upper: 150\n"
     ]
    }
   ],
   "source": [
    "# Print the best restrictions\n",
    "print('EV lower:', best_EV_lower)\n",
    "print('Odds lower:', best_odds_lower)\n",
    "print('Odds upper:', best_odds_upper)"
   ]
  },
  {
   "attachments": {},
   "cell_type": "markdown",
   "metadata": {},
   "source": [
    "### Step 10: Redo computations using best restriction set"
   ]
  },
  {
   "cell_type": "code",
   "execution_count": 32,
   "metadata": {},
   "outputs": [],
   "source": [
    "# Decide which wagers to place\n",
    "bet_analysis['place_bet_flag'] = 0\n",
    "#bet_analysis.loc[(bet_analysis['EV'] >= best_EV_lower) & (bet_analysis['ml_odds'] >= best_odds_lower) & (bet_analysis['ml_odds'] <= best_odds_upper), 'place_bet_flag'] = 1\n",
    "\n",
    "bet_analysis.loc[(bet_analysis['EV'] >= 0.1) & (bet_analysis['ml_odds'] >= -200) & (bet_analysis['ml_odds'] <= 150), 'place_bet_flag'] = 1"
   ]
  },
  {
   "cell_type": "code",
   "execution_count": 33,
   "metadata": {},
   "outputs": [
    {
     "name": "stdout",
     "output_type": "stream",
     "text": [
      "91\n"
     ]
    },
    {
     "data": {
      "text/html": [
       "<div>\n",
       "<style scoped>\n",
       "    .dataframe tbody tr th:only-of-type {\n",
       "        vertical-align: middle;\n",
       "    }\n",
       "\n",
       "    .dataframe tbody tr th {\n",
       "        vertical-align: top;\n",
       "    }\n",
       "\n",
       "    .dataframe thead th {\n",
       "        text-align: right;\n",
       "    }\n",
       "</style>\n",
       "<table border=\"1\" class=\"dataframe\">\n",
       "  <thead>\n",
       "    <tr style=\"text-align: right;\">\n",
       "      <th></th>\n",
       "      <th>game_id</th>\n",
       "      <th>date_game</th>\n",
       "      <th>team</th>\n",
       "      <th>ml_odds</th>\n",
       "      <th>win_prob</th>\n",
       "      <th>EV</th>\n",
       "      <th>win_flag</th>\n",
       "      <th>place_bet_flag</th>\n",
       "      <th>profit</th>\n",
       "    </tr>\n",
       "  </thead>\n",
       "  <tbody>\n",
       "    <tr>\n",
       "      <th>674</th>\n",
       "      <td>231185</td>\n",
       "      <td>2023-03-29</td>\n",
       "      <td>FLA</td>\n",
       "      <td>125</td>\n",
       "      <td>0.607419</td>\n",
       "      <td>0.366692</td>\n",
       "      <td>1</td>\n",
       "      <td>1</td>\n",
       "      <td>1.25</td>\n",
       "    </tr>\n",
       "    <tr>\n",
       "      <th>364</th>\n",
       "      <td>231024</td>\n",
       "      <td>2023-03-09</td>\n",
       "      <td>EDM</td>\n",
       "      <td>140</td>\n",
       "      <td>0.567859</td>\n",
       "      <td>0.362863</td>\n",
       "      <td>1</td>\n",
       "      <td>1</td>\n",
       "      <td>1.40</td>\n",
       "    </tr>\n",
       "    <tr>\n",
       "      <th>568</th>\n",
       "      <td>231131</td>\n",
       "      <td>2023-03-22</td>\n",
       "      <td>PIT</td>\n",
       "      <td>140</td>\n",
       "      <td>0.556729</td>\n",
       "      <td>0.336150</td>\n",
       "      <td>1</td>\n",
       "      <td>1</td>\n",
       "      <td>1.40</td>\n",
       "    </tr>\n",
       "    <tr>\n",
       "      <th>207</th>\n",
       "      <td>23944</td>\n",
       "      <td>2023-02-26</td>\n",
       "      <td>ARI</td>\n",
       "      <td>145</td>\n",
       "      <td>0.533358</td>\n",
       "      <td>0.306728</td>\n",
       "      <td>0</td>\n",
       "      <td>1</td>\n",
       "      <td>-1.00</td>\n",
       "    </tr>\n",
       "    <tr>\n",
       "      <th>220</th>\n",
       "      <td>23964</td>\n",
       "      <td>2023-02-28</td>\n",
       "      <td>FLA</td>\n",
       "      <td>140</td>\n",
       "      <td>0.539072</td>\n",
       "      <td>0.293773</td>\n",
       "      <td>1</td>\n",
       "      <td>1</td>\n",
       "      <td>1.40</td>\n",
       "    </tr>\n",
       "    <tr>\n",
       "      <th>126</th>\n",
       "      <td>23911</td>\n",
       "      <td>2023-02-21</td>\n",
       "      <td>VAN</td>\n",
       "      <td>140</td>\n",
       "      <td>0.539015</td>\n",
       "      <td>0.293636</td>\n",
       "      <td>0</td>\n",
       "      <td>1</td>\n",
       "      <td>-1.00</td>\n",
       "    </tr>\n",
       "    <tr>\n",
       "      <th>236</th>\n",
       "      <td>23962</td>\n",
       "      <td>2023-02-28</td>\n",
       "      <td>MTL</td>\n",
       "      <td>140</td>\n",
       "      <td>0.538910</td>\n",
       "      <td>0.293385</td>\n",
       "      <td>1</td>\n",
       "      <td>1</td>\n",
       "      <td>1.40</td>\n",
       "    </tr>\n",
       "    <tr>\n",
       "      <th>805</th>\n",
       "      <td>231252</td>\n",
       "      <td>2023-04-06</td>\n",
       "      <td>STL</td>\n",
       "      <td>145</td>\n",
       "      <td>0.526456</td>\n",
       "      <td>0.289817</td>\n",
       "      <td>1</td>\n",
       "      <td>1</td>\n",
       "      <td>1.45</td>\n",
       "    </tr>\n",
       "    <tr>\n",
       "      <th>230</th>\n",
       "      <td>23965</td>\n",
       "      <td>2023-02-28</td>\n",
       "      <td>LAK</td>\n",
       "      <td>115</td>\n",
       "      <td>0.595409</td>\n",
       "      <td>0.280130</td>\n",
       "      <td>1</td>\n",
       "      <td>1</td>\n",
       "      <td>1.15</td>\n",
       "    </tr>\n",
       "    <tr>\n",
       "      <th>742</th>\n",
       "      <td>231215</td>\n",
       "      <td>2023-04-02</td>\n",
       "      <td>NYI</td>\n",
       "      <td>150</td>\n",
       "      <td>0.511069</td>\n",
       "      <td>0.277673</td>\n",
       "      <td>0</td>\n",
       "      <td>1</td>\n",
       "      <td>-1.00</td>\n",
       "    </tr>\n",
       "    <tr>\n",
       "      <th>817</th>\n",
       "      <td>231257</td>\n",
       "      <td>2023-04-08</td>\n",
       "      <td>BUF</td>\n",
       "      <td>145</td>\n",
       "      <td>0.515044</td>\n",
       "      <td>0.261858</td>\n",
       "      <td>1</td>\n",
       "      <td>1</td>\n",
       "      <td>1.45</td>\n",
       "    </tr>\n",
       "    <tr>\n",
       "      <th>723</th>\n",
       "      <td>231209</td>\n",
       "      <td>2023-04-01</td>\n",
       "      <td>OTT</td>\n",
       "      <td>135</td>\n",
       "      <td>0.536918</td>\n",
       "      <td>0.261757</td>\n",
       "      <td>0</td>\n",
       "      <td>1</td>\n",
       "      <td>-1.00</td>\n",
       "    </tr>\n",
       "    <tr>\n",
       "      <th>895</th>\n",
       "      <td>231295</td>\n",
       "      <td>2023-04-12</td>\n",
       "      <td>STL</td>\n",
       "      <td>140</td>\n",
       "      <td>0.525005</td>\n",
       "      <td>0.260012</td>\n",
       "      <td>0</td>\n",
       "      <td>1</td>\n",
       "      <td>-1.00</td>\n",
       "    </tr>\n",
       "    <tr>\n",
       "      <th>534</th>\n",
       "      <td>231117</td>\n",
       "      <td>2023-03-20</td>\n",
       "      <td>OTT</td>\n",
       "      <td>140</td>\n",
       "      <td>0.523988</td>\n",
       "      <td>0.257570</td>\n",
       "      <td>1</td>\n",
       "      <td>1</td>\n",
       "      <td>1.40</td>\n",
       "    </tr>\n",
       "    <tr>\n",
       "      <th>796</th>\n",
       "      <td>231241</td>\n",
       "      <td>2023-04-06</td>\n",
       "      <td>TOR</td>\n",
       "      <td>130</td>\n",
       "      <td>0.540908</td>\n",
       "      <td>0.244089</td>\n",
       "      <td>0</td>\n",
       "      <td>1</td>\n",
       "      <td>-1.00</td>\n",
       "    </tr>\n",
       "  </tbody>\n",
       "</table>\n",
       "</div>"
      ],
      "text/plain": [
       "     game_id   date_game team  ml_odds  win_prob        EV  win_flag   \n",
       "674   231185  2023-03-29  FLA      125  0.607419  0.366692         1  \\\n",
       "364   231024  2023-03-09  EDM      140  0.567859  0.362863         1   \n",
       "568   231131  2023-03-22  PIT      140  0.556729  0.336150         1   \n",
       "207    23944  2023-02-26  ARI      145  0.533358  0.306728         0   \n",
       "220    23964  2023-02-28  FLA      140  0.539072  0.293773         1   \n",
       "126    23911  2023-02-21  VAN      140  0.539015  0.293636         0   \n",
       "236    23962  2023-02-28  MTL      140  0.538910  0.293385         1   \n",
       "805   231252  2023-04-06  STL      145  0.526456  0.289817         1   \n",
       "230    23965  2023-02-28  LAK      115  0.595409  0.280130         1   \n",
       "742   231215  2023-04-02  NYI      150  0.511069  0.277673         0   \n",
       "817   231257  2023-04-08  BUF      145  0.515044  0.261858         1   \n",
       "723   231209  2023-04-01  OTT      135  0.536918  0.261757         0   \n",
       "895   231295  2023-04-12  STL      140  0.525005  0.260012         0   \n",
       "534   231117  2023-03-20  OTT      140  0.523988  0.257570         1   \n",
       "796   231241  2023-04-06  TOR      130  0.540908  0.244089         0   \n",
       "\n",
       "     place_bet_flag  profit  \n",
       "674               1    1.25  \n",
       "364               1    1.40  \n",
       "568               1    1.40  \n",
       "207               1   -1.00  \n",
       "220               1    1.40  \n",
       "126               1   -1.00  \n",
       "236               1    1.40  \n",
       "805               1    1.45  \n",
       "230               1    1.15  \n",
       "742               1   -1.00  \n",
       "817               1    1.45  \n",
       "723               1   -1.00  \n",
       "895               1   -1.00  \n",
       "534               1    1.40  \n",
       "796               1   -1.00  "
      ]
     },
     "metadata": {},
     "output_type": "display_data"
    }
   ],
   "source": [
    "print(bet_analysis['place_bet_flag'].sum())\n",
    "display(bet_analysis.sort_values(['place_bet_flag', 'EV'], ascending = False).head(15))"
   ]
  },
  {
   "attachments": {},
   "cell_type": "markdown",
   "metadata": {},
   "source": [
    "### Step 10.1: Create column containing the unit gain or loss of each bet. \n",
    "If we did not place a bet, the value is 0."
   ]
  },
  {
   "cell_type": "code",
   "execution_count": 34,
   "metadata": {},
   "outputs": [],
   "source": [
    "# Create profit column\n",
    "bet_analysis['profit'] = bet_analysis.apply(lambda row: determine_bet_profit(row['ml_odds'], row['place_bet_flag'], row['win_flag']), axis = 1)"
   ]
  },
  {
   "attachments": {},
   "cell_type": "markdown",
   "metadata": {},
   "source": [
    "### Step 11: Visualization"
   ]
  },
  {
   "cell_type": "code",
   "execution_count": 35,
   "metadata": {},
   "outputs": [],
   "source": [
    "# Df of only bets placed\n",
    "bets_placed = bet_analysis[bet_analysis['place_bet_flag'] == 1]"
   ]
  },
  {
   "cell_type": "code",
   "execution_count": 36,
   "metadata": {},
   "outputs": [
    {
     "data": {
      "text/plain": [
       "win_flag\n",
       "0    47\n",
       "1    44\n",
       "Name: win_flag, dtype: int64"
      ]
     },
     "execution_count": 36,
     "metadata": {},
     "output_type": "execute_result"
    }
   ],
   "source": [
    "# Number of bets won and lost\n",
    "bets_placed.groupby('win_flag')['win_flag'].count()"
   ]
  },
  {
   "cell_type": "code",
   "execution_count": 37,
   "metadata": {},
   "outputs": [
    {
     "data": {
      "text/plain": [
       "<Axes: xlabel='win_flag', ylabel='ml_odds'>"
      ]
     },
     "execution_count": 37,
     "metadata": {},
     "output_type": "execute_result"
    },
    {
     "data": {
      "image/png": "[encoded data removed]",
      "text/plain": [
       "<Figure size 640x480 with 1 Axes>"
      ]
     },
     "metadata": {},
     "output_type": "display_data"
    }
   ],
   "source": [
    "# Distribution of odds of the bets places\n",
    "sns.boxplot(data = bets_placed, x = 'win_flag', y = 'ml_odds')"
   ]
  },
  {
   "cell_type": "code",
   "execution_count": 38,
   "metadata": {},
   "outputs": [
    {
     "data": {
      "image/png": "[encoded data removed]",
      "text/plain": [
       "<Figure size 640x480 with 1 Axes>"
      ]
     },
     "metadata": {},
     "output_type": "display_data"
    }
   ],
   "source": [
    "# How often do I place a bet\n",
    "bets_placed_per_day = bet_analysis.groupby('date_game')['place_bet_flag'].sum().reset_index()\n",
    "ax = sns.barplot(data = bets_placed_per_day, x = 'date_game', y = 'place_bet_flag');\n",
    "ax.set_xticklabels(ax.get_xticklabels(), rotation=90, size = 6.5);"
   ]
  },
  {
   "cell_type": "code",
   "execution_count": 39,
   "metadata": {},
   "outputs": [
    {
     "name": "stderr",
     "output_type": "stream",
     "text": [
      "/var/folders/yk/qhxv13m50bl7fyrpnntydjgh0000gn/T/ipykernel_17944/3758619868.py:17: UserWarning: FixedFormatter should only be used together with FixedLocator\n",
      "  ax.set_xticklabels(ax.get_xticklabels(), rotation=90, size = 6.5);\n"
     ]
    },
    {
     "data": {
      "text/plain": [
       "<matplotlib.lines.Line2D at 0x13db14910>"
      ]
     },
     "execution_count": 39,
     "metadata": {},
     "output_type": "execute_result"
    },
    {
     "data": {
      "image/png": "[encoded data removed]",
      "text/plain": [
       "<Figure size 640x480 with 1 Axes>"
      ]
     },
     "metadata": {},
     "output_type": "display_data"
    }
   ],
   "source": [
    "# What was my profit over time\n",
    "# Create column that is the cumulative sum of profit\n",
    "cumulative_profit = bets_placed.groupby('date_game')['profit'].sum().sort_index().cumsum().reset_index().rename(columns = {'profit':'cumsum_profit'})\n",
    "\n",
    "# Plot\n",
    "ax = sns.lineplot(data=cumulative_profit, x=\"date_game\", y=\"cumsum_profit\", color='black')\n",
    "x = cumulative_profit['date_game']\n",
    "y = cumulative_profit['cumsum_profit']\n",
    "\n",
    "# Shade everything below 0 in red\n",
    "ax.fill_between(x, y, where=(y < 0), interpolate=True, color='red', alpha=0.3)\n",
    "\n",
    "# Shade everything above 0 in green\n",
    "ax.fill_between(x, y, where=(y >= 0), interpolate=True, color='#3CB371', alpha=0.3)\n",
    "\n",
    "# Axis ticks\n",
    "ax.set_xticklabels(ax.get_xticklabels(), rotation=90, size = 6.5);\n",
    "plt.axhline(y=0, linestyle='--', color='gray')"
   ]
  },
  {
   "cell_type": "code",
   "execution_count": 54,
   "metadata": {},
   "outputs": [
    {
     "data": {
      "image/png": "[encoded data removed]",
      "text/plain": [
       "<Figure size 640x480 with 1 Axes>"
      ]
     },
     "metadata": {},
     "output_type": "display_data"
    }
   ],
   "source": [
    "# What teams did I bet on the most?\n",
    "ax = sns.countplot(x='team', hue='win_flag', data=bets_placed, palette={1: 'green', 0: 'red'},\n",
    "              order=bets_placed['team'].value_counts().index,\n",
    "              alpha = 0.8)\n",
    "ax.set_xticklabels(ax.get_xticklabels(), rotation=70, size = 8);"
   ]
  },
  {
   "cell_type": "code",
   "execution_count": 69,
   "metadata": {},
   "outputs": [
    {
     "data": {
      "image/png": "[encoded data removed]",
      "text/plain": [
       "<Figure size 640x480 with 1 Axes>"
      ]
     },
     "metadata": {},
     "output_type": "display_data"
    }
   ],
   "source": [
    "# How much profit was made per team\n",
    "team_wise_profits = bets_placed.groupby('team').agg({'place_bet_flag':'count', 'profit':'sum'}).reset_index().rename(columns = {'place_bet_flag':'n_bets', 'profit':'total_profit'}).sort_values('total_profit', ascending=False)\n",
    "\n",
    "ax = sns.barplot(data = team_wise_profits, x = 'team', y = 'total_profit', palette=np.where(team_wise_profits['total_profit'] >= 0, 'green', 'red'), alpha = 0.8)\n",
    "ax.set_xticklabels(ax.get_xticklabels(), rotation=70, size = 8);"
   ]
  },
  {
   "cell_type": "code",
   "execution_count": null,
   "metadata": {},
   "outputs": [],
   "source": [
    "# What was the average profit per team?\n",
    "# What was the average odds per team?"
   ]
  }
 ],
 "metadata": {
  "kernelspec": {
   "display_name": ".venv",
   "language": "python",
   "name": "python3"
  },
  "language_info": {
   "codemirror_mode": {
    "name": "ipython",
    "version": 3
   },
   "file_extension": ".py",
   "mimetype": "text/x-python",
   "name": "python",
   "nbconvert_exporter": "python",
   "pygments_lexer": "ipython3",
   "version": "3.9.6"
  },
  "orig_nbformat": 4,
  "vscode": {
   "interpreter": {
    "hash": "391b8c8d2d0705169608203ddc59d651a11cac649a7fd2dc02268105b6f9cfe6"
   }
  }
 },
 "nbformat": 4,
 "nbformat_minor": 2
}
